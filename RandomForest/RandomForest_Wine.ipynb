{
  "nbformat": 4,
  "nbformat_minor": 0,
  "metadata": {
    "colab": {
      "name": "RandomForest_Wine.ipynb",
      "provenance": [],
      "include_colab_link": true
    },
    "kernelspec": {
      "name": "python3",
      "display_name": "Python 3"
    }
  },
  "cells": [
    {
      "cell_type": "markdown",
      "metadata": {
        "id": "view-in-github",
        "colab_type": "text"
      },
      "source": [
        "<a href=\"https://colab.research.google.com/github/yeb2Binfang/sklearn_learning/blob/main/RandomForest/RandomForest_Wine.ipynb\" target=\"_parent\"><img src=\"https://colab.research.google.com/assets/colab-badge.svg\" alt=\"Open In Colab\"/></a>"
      ]
    },
    {
      "cell_type": "markdown",
      "metadata": {
        "id": "vDNC4JA60XBT"
      },
      "source": [
        "导包"
      ]
    },
    {
      "cell_type": "code",
      "metadata": {
        "id": "sI_tAUzhZWRR"
      },
      "source": [
        "%matplotlib inline\r\n",
        "from sklearn.tree import DecisionTreeClassifier\r\n",
        "from sklearn.datasets import load_wine\r\n",
        "from sklearn.ensemble import RandomForestClassifier\r\n",
        "from sklearn.model_selection import train_test_split"
      ],
      "execution_count": 1,
      "outputs": []
    },
    {
      "cell_type": "markdown",
      "metadata": {
        "id": "ybnPZ4Gk0Z-_"
      },
      "source": [
        "还是wine的数据集，这里就不做过多的展示了"
      ]
    },
    {
      "cell_type": "code",
      "metadata": {
        "id": "RWUnc35ezkig",
        "colab": {
          "base_uri": "https://localhost:8080/"
        },
        "outputId": "421054c6-0435-4b2c-e2b3-eca20d96eb4c"
      },
      "source": [
        "wine = load_wine() #load wine\r\n",
        "y = wine.target #the labels, there are three labels\r\n",
        "X = wine.data #the dataset\r\n",
        "print(X[0:5])\r\n",
        "print(y[0:5])"
      ],
      "execution_count": 2,
      "outputs": [
        {
          "output_type": "stream",
          "text": [
            "[[1.423e+01 1.710e+00 2.430e+00 1.560e+01 1.270e+02 2.800e+00 3.060e+00\n",
            "  2.800e-01 2.290e+00 5.640e+00 1.040e+00 3.920e+00 1.065e+03]\n",
            " [1.320e+01 1.780e+00 2.140e+00 1.120e+01 1.000e+02 2.650e+00 2.760e+00\n",
            "  2.600e-01 1.280e+00 4.380e+00 1.050e+00 3.400e+00 1.050e+03]\n",
            " [1.316e+01 2.360e+00 2.670e+00 1.860e+01 1.010e+02 2.800e+00 3.240e+00\n",
            "  3.000e-01 2.810e+00 5.680e+00 1.030e+00 3.170e+00 1.185e+03]\n",
            " [1.437e+01 1.950e+00 2.500e+00 1.680e+01 1.130e+02 3.850e+00 3.490e+00\n",
            "  2.400e-01 2.180e+00 7.800e+00 8.600e-01 3.450e+00 1.480e+03]\n",
            " [1.324e+01 2.590e+00 2.870e+00 2.100e+01 1.180e+02 2.800e+00 2.690e+00\n",
            "  3.900e-01 1.820e+00 4.320e+00 1.040e+00 2.930e+00 7.350e+02]]\n",
            "[0 0 0 0 0]\n"
          ],
          "name": "stdout"
        }
      ]
    },
    {
      "cell_type": "markdown",
      "metadata": {
        "id": "_dd8AGtJ01VR"
      },
      "source": [
        "分训练集，测试集等.\r\n",
        "\r\n",
        "我们在这里测试一下decision tree model和Random forest model的精确度"
      ]
    },
    {
      "cell_type": "code",
      "metadata": {
        "id": "_ec8GcEGzyvY",
        "colab": {
          "base_uri": "https://localhost:8080/"
        },
        "outputId": "87414ea9-984e-40c3-f3fe-2df21692ffce"
      },
      "source": [
        "X_train, X_test, y_train, y_test = train_test_split(X,y,test_size = 0.3)\r\n",
        "clf = DecisionTreeClassifier(random_state=1)\r\n",
        "rfc = RandomForestClassifier(random_state=1)\r\n",
        "\r\n",
        "clf.fit(X_train, y_train)\r\n",
        "rfc.fit(X_train, y_train)\r\n",
        "\r\n",
        "score_dec = clf.score(X_test, y_test)\r\n",
        "score_ran = rfc.score(X_test, y_test)\r\n",
        "\r\n",
        "print(\"the decison tree model acc is: {}\".format(score_dec),\"Random forest model acc is: {}\".format(score_ran))"
      ],
      "execution_count": null,
      "outputs": [
        {
          "output_type": "stream",
          "text": [
            "the decison tree model acc is: 0.8888888888888888 Random forest model acc is: 0.9814814814814815\n"
          ],
          "name": "stdout"
        }
      ]
    },
    {
      "cell_type": "markdown",
      "metadata": {
        "id": "mjJhw8TV2NkT"
      },
      "source": [
        "画出random forest和decision tree在一组交叉验证下的效果对比"
      ]
    },
    {
      "cell_type": "code",
      "metadata": {
        "id": "ECfWDOEo12S4"
      },
      "source": [
        "from sklearn.model_selection import cross_val_score\r\n",
        "import matplotlib.pyplot as plt\r\n",
        "\r\n",
        "#random forest\r\n",
        "rfc = RandomForestClassifier(n_estimators=25)\r\n",
        "rfc_s = cross_val_score(rfc, X,y,cv=10)\r\n",
        "\r\n",
        "#decision tree\r\n",
        "clf = DecisionTreeClassifier()\r\n",
        "clf_s = cross_val_score(clf, X,y,cv=10)"
      ],
      "execution_count": null,
      "outputs": []
    },
    {
      "cell_type": "markdown",
      "metadata": {
        "id": "VOktTCXh3DCh"
      },
      "source": [
        "visualize"
      ]
    },
    {
      "cell_type": "code",
      "metadata": {
        "id": "gTJcld_z294u",
        "colab": {
          "base_uri": "https://localhost:8080/",
          "height": 282
        },
        "outputId": "0375d3c8-d1e5-4734-a9ad-445609d3a1a2"
      },
      "source": [
        "plt.plot(range(1,11),rfc_s,label=\"RandomForest\")\r\n",
        "plt.plot(range(1,11),clf_s,label=\"decision Tree\")\r\n",
        "plt.legend()\r\n",
        "plt.show"
      ],
      "execution_count": null,
      "outputs": [
        {
          "output_type": "execute_result",
          "data": {
            "text/plain": [
              "<function matplotlib.pyplot.show>"
            ]
          },
          "metadata": {
            "tags": []
          },
          "execution_count": 10
        },
        {
          "output_type": "display_data",
          "data": {
            "image/png": "[encoded data removed]",
            "text/plain": [
              "<Figure size 432x288 with 1 Axes>"
            ]
          },
          "metadata": {
            "tags": [],
            "needs_background": "light"
          }
        }
      ]
    },
    {
      "cell_type": "markdown",
      "metadata": {
        "id": "EcSxJ6Gf3hH2"
      },
      "source": [
        "图中，我们可以注意到，决策树和random forest有同上同下的趋势。单个决策树的准确率越高，random forest的准确率也会越高"
      ]
    },
    {
      "cell_type": "markdown",
      "metadata": {
        "id": "aa7hbAV433d1"
      },
      "source": [
        "接下来，我们再看看n_estimators对模型精确度的影响"
      ]
    },
    {
      "cell_type": "code",
      "metadata": {
        "id": "f19hSaaR3VtW",
        "colab": {
          "base_uri": "https://localhost:8080/",
          "height": 354
        },
        "outputId": "8e2ff86b-5676-4e48-916d-3fdc610a295f"
      },
      "source": [
        "acc = []\r\n",
        "for i in range(200):\r\n",
        "  rfc = RandomForestClassifier(n_estimators=i+1,n_jobs=-1)\r\n",
        "  rfc_s = cross_val_score(rfc, X, y, cv=10).mean()\r\n",
        "  acc.append(rfc_s)\r\n",
        "print(max(acc),acc.index(max(acc)))\r\n",
        "plt.figure(figsize=[20,5])\r\n",
        "plt.plot(range(1,201),acc)\r\n",
        "plt.show"
      ],
      "execution_count": null,
      "outputs": [
        {
          "output_type": "stream",
          "text": [
            "0.9888888888888889 14\n"
          ],
          "name": "stdout"
        },
        {
          "output_type": "execute_result",
          "data": {
            "text/plain": [
              "<function matplotlib.pyplot.show>"
            ]
          },
          "metadata": {
            "tags": []
          },
          "execution_count": 13
        },
        {
          "output_type": "display_data",
          "data": {
            "image/png": "[encoded data removed]",
            "text/plain": [
              "<Figure size 1440x360 with 1 Axes>"
            ]
          },
          "metadata": {
            "tags": [],
            "needs_background": "light"
          }
        }
      ]
    },
    {
      "cell_type": "markdown",
      "metadata": {
        "id": "kyka6BDs_FNB"
      },
      "source": [
        "现在，我们来理解一下random forest 中random_state参数\r\n",
        "\r\n",
        "这个random state跟决策树不太一样。在决策树中是保证树是一样的。这里是保证森林是一样的，但是森林里面的决策树还是各不相同的。\r\n"
      ]
    },
    {
      "cell_type": "code",
      "metadata": {
        "id": "OQPmqj934lPJ",
        "colab": {
          "base_uri": "https://localhost:8080/"
        },
        "outputId": "522d44b4-70e1-4388-8c31-ef7f7c93b3ef"
      },
      "source": [
        "rfc = RandomForestClassifier(n_estimators=10, random_state=2)\r\n",
        "rfc.fit(X_train, y_train)\r\n",
        "\r\n",
        "#随机森林的重要属性之一：estimators，可以查看里面决策树的状况\r\n",
        "rfc.estimators_[0]"
      ],
      "execution_count": null,
      "outputs": [
        {
          "output_type": "execute_result",
          "data": {
            "text/plain": [
              "DecisionTreeClassifier(ccp_alpha=0.0, class_weight=None, criterion='gini',\n",
              "                       max_depth=None, max_features='auto', max_leaf_nodes=None,\n",
              "                       min_impurity_decrease=0.0, min_impurity_split=None,\n",
              "                       min_samples_leaf=1, min_samples_split=2,\n",
              "                       min_weight_fraction_leaf=0.0, presort='deprecated',\n",
              "                       random_state=1872583848, splitter='best')"
            ]
          },
          "metadata": {
            "tags": []
          },
          "execution_count": 15
        }
      ]
    },
    {
      "cell_type": "markdown",
      "metadata": {
        "id": "ir26AhJNAros"
      },
      "source": [
        "这样就可以查看每一棵树的状况"
      ]
    },
    {
      "cell_type": "code",
      "metadata": {
        "id": "PIwo9OOIAVeF",
        "colab": {
          "base_uri": "https://localhost:8080/"
        },
        "outputId": "0b278c15-5b2b-4dc5-9f29-c3273cd37342"
      },
      "source": [
        "for i in range(len(rfc.estimators_)):\r\n",
        "  print(rfc.estimators_[i])"
      ],
      "execution_count": null,
      "outputs": [
        {
          "output_type": "stream",
          "text": [
            "DecisionTreeClassifier(ccp_alpha=0.0, class_weight=None, criterion='gini',\n",
            "                       max_depth=None, max_features='auto', max_leaf_nodes=None,\n",
            "                       min_impurity_decrease=0.0, min_impurity_split=None,\n",
            "                       min_samples_leaf=1, min_samples_split=2,\n",
            "                       min_weight_fraction_leaf=0.0, presort='deprecated',\n",
            "                       random_state=1872583848, splitter='best')\n",
            "DecisionTreeClassifier(ccp_alpha=0.0, class_weight=None, criterion='gini',\n",
            "                       max_depth=None, max_features='auto', max_leaf_nodes=None,\n",
            "                       min_impurity_decrease=0.0, min_impurity_split=None,\n",
            "                       min_samples_leaf=1, min_samples_split=2,\n",
            "                       min_weight_fraction_leaf=0.0, presort='deprecated',\n",
            "                       random_state=794921487, splitter='best')\n",
            "DecisionTreeClassifier(ccp_alpha=0.0, class_weight=None, criterion='gini',\n",
            "                       max_depth=None, max_features='auto', max_leaf_nodes=None,\n",
            "                       min_impurity_decrease=0.0, min_impurity_split=None,\n",
            "                       min_samples_leaf=1, min_samples_split=2,\n",
            "                       min_weight_fraction_leaf=0.0, presort='deprecated',\n",
            "                       random_state=111352301, splitter='best')\n",
            "DecisionTreeClassifier(ccp_alpha=0.0, class_weight=None, criterion='gini',\n",
            "                       max_depth=None, max_features='auto', max_leaf_nodes=None,\n",
            "                       min_impurity_decrease=0.0, min_impurity_split=None,\n",
            "                       min_samples_leaf=1, min_samples_split=2,\n",
            "                       min_weight_fraction_leaf=0.0, presort='deprecated',\n",
            "                       random_state=1853453896, splitter='best')\n",
            "DecisionTreeClassifier(ccp_alpha=0.0, class_weight=None, criterion='gini',\n",
            "                       max_depth=None, max_features='auto', max_leaf_nodes=None,\n",
            "                       min_impurity_decrease=0.0, min_impurity_split=None,\n",
            "                       min_samples_leaf=1, min_samples_split=2,\n",
            "                       min_weight_fraction_leaf=0.0, presort='deprecated',\n",
            "                       random_state=213298710, splitter='best')\n",
            "DecisionTreeClassifier(ccp_alpha=0.0, class_weight=None, criterion='gini',\n",
            "                       max_depth=None, max_features='auto', max_leaf_nodes=None,\n",
            "                       min_impurity_decrease=0.0, min_impurity_split=None,\n",
            "                       min_samples_leaf=1, min_samples_split=2,\n",
            "                       min_weight_fraction_leaf=0.0, presort='deprecated',\n",
            "                       random_state=1922988331, splitter='best')\n",
            "DecisionTreeClassifier(ccp_alpha=0.0, class_weight=None, criterion='gini',\n",
            "                       max_depth=None, max_features='auto', max_leaf_nodes=None,\n",
            "                       min_impurity_decrease=0.0, min_impurity_split=None,\n",
            "                       min_samples_leaf=1, min_samples_split=2,\n",
            "                       min_weight_fraction_leaf=0.0, presort='deprecated',\n",
            "                       random_state=1869695442, splitter='best')\n",
            "DecisionTreeClassifier(ccp_alpha=0.0, class_weight=None, criterion='gini',\n",
            "                       max_depth=None, max_features='auto', max_leaf_nodes=None,\n",
            "                       min_impurity_decrease=0.0, min_impurity_split=None,\n",
            "                       min_samples_leaf=1, min_samples_split=2,\n",
            "                       min_weight_fraction_leaf=0.0, presort='deprecated',\n",
            "                       random_state=2081981515, splitter='best')\n",
            "DecisionTreeClassifier(ccp_alpha=0.0, class_weight=None, criterion='gini',\n",
            "                       max_depth=None, max_features='auto', max_leaf_nodes=None,\n",
            "                       min_impurity_decrease=0.0, min_impurity_split=None,\n",
            "                       min_samples_leaf=1, min_samples_split=2,\n",
            "                       min_weight_fraction_leaf=0.0, presort='deprecated',\n",
            "                       random_state=1805465960, splitter='best')\n",
            "DecisionTreeClassifier(ccp_alpha=0.0, class_weight=None, criterion='gini',\n",
            "                       max_depth=None, max_features='auto', max_leaf_nodes=None,\n",
            "                       min_impurity_decrease=0.0, min_impurity_split=None,\n",
            "                       min_samples_leaf=1, min_samples_split=2,\n",
            "                       min_weight_fraction_leaf=0.0, presort='deprecated',\n",
            "                       random_state=1376693511, splitter='best')\n"
          ],
          "name": "stdout"
        }
      ]
    },
    {
      "cell_type": "code",
      "metadata": {
        "id": "AzlcAdE3AmWq",
        "colab": {
          "base_uri": "https://localhost:8080/"
        },
        "outputId": "d55a7b30-fa26-4113-9b01-1196476d1ba3"
      },
      "source": [
        "rfc.base_estimator_"
      ],
      "execution_count": null,
      "outputs": [
        {
          "output_type": "execute_result",
          "data": {
            "text/plain": [
              "DecisionTreeClassifier(ccp_alpha=0.0, class_weight=None, criterion='gini',\n",
              "                       max_depth=None, max_features=None, max_leaf_nodes=None,\n",
              "                       min_impurity_decrease=0.0, min_impurity_split=None,\n",
              "                       min_samples_leaf=1, min_samples_split=2,\n",
              "                       min_weight_fraction_leaf=0.0, presort='deprecated',\n",
              "                       random_state=None, splitter='best')"
            ]
          },
          "metadata": {
            "tags": []
          },
          "execution_count": 19
        }
      ]
    },
    {
      "cell_type": "markdown",
      "metadata": {
        "id": "RYcMbZc7anNq"
      },
      "source": [
        "使用oob_score_参数"
      ]
    },
    {
      "cell_type": "code",
      "metadata": {
        "id": "5ya-t78lDJMG",
        "outputId": "f664ac00-68e1-4b05-f5fa-d1b0745b850a",
        "colab": {
          "base_uri": "https://localhost:8080/"
        }
      },
      "source": [
        "rfc = RandomForestClassifier(n_estimators=25,oob_score=True)\r\n",
        "X_train, X_test, y_train, y_test = train_test_split(X,y,test_size = 0.3)\r\n",
        "rfc.fit(X_train,y_train)\r\n",
        "print(rfc.predict(X_test))\r\n",
        "print(rfc.predict_proba(X_test))\r\n",
        "print(rfc.oob_score_)"
      ],
      "execution_count": 11,
      "outputs": [
        {
          "output_type": "stream",
          "text": [
            "[1 1 2 2 0 0 1 0 0 1 2 0 1 0 1 1 2 2 1 1 1 1 2 1 1 0 0 1 2 1 1 1 0 1 0 2 0\n",
            " 2 0 1 1 1 1 0 0 1 0 2 0 0 0 0 1 1]\n",
            "[[0.04 0.96 0.  ]\n",
            " [0.   0.88 0.12]\n",
            " [0.   0.08 0.92]\n",
            " [0.   0.08 0.92]\n",
            " [1.   0.   0.  ]\n",
            " [0.92 0.04 0.04]\n",
            " [0.12 0.84 0.04]\n",
            " [0.52 0.48 0.  ]\n",
            " [1.   0.   0.  ]\n",
            " [0.12 0.76 0.12]\n",
            " [0.08 0.08 0.84]\n",
            " [1.   0.   0.  ]\n",
            " [0.04 0.48 0.48]\n",
            " [1.   0.   0.  ]\n",
            " [0.32 0.68 0.  ]\n",
            " [0.   0.96 0.04]\n",
            " [0.04 0.   0.96]\n",
            " [0.04 0.08 0.88]\n",
            " [0.4  0.44 0.16]\n",
            " [0.04 0.84 0.12]\n",
            " [0.08 0.88 0.04]\n",
            " [0.   1.   0.  ]\n",
            " [0.04 0.04 0.92]\n",
            " [0.   1.   0.  ]\n",
            " [0.36 0.64 0.  ]\n",
            " [0.92 0.   0.08]\n",
            " [0.92 0.04 0.04]\n",
            " [0.04 0.96 0.  ]\n",
            " [0.08 0.12 0.8 ]\n",
            " [0.   0.96 0.04]\n",
            " [0.   0.96 0.04]\n",
            " [0.16 0.72 0.12]\n",
            " [0.88 0.08 0.04]\n",
            " [0.   0.96 0.04]\n",
            " [0.92 0.   0.08]\n",
            " [0.   0.24 0.76]\n",
            " [1.   0.   0.  ]\n",
            " [0.   0.   1.  ]\n",
            " [0.92 0.04 0.04]\n",
            " [0.12 0.68 0.2 ]\n",
            " [0.32 0.64 0.04]\n",
            " [0.08 0.92 0.  ]\n",
            " [0.04 0.88 0.08]\n",
            " [1.   0.   0.  ]\n",
            " [0.8  0.08 0.12]\n",
            " [0.   0.96 0.04]\n",
            " [0.92 0.08 0.  ]\n",
            " [0.   0.   1.  ]\n",
            " [0.88 0.08 0.04]\n",
            " [0.92 0.08 0.  ]\n",
            " [0.96 0.04 0.  ]\n",
            " [1.   0.   0.  ]\n",
            " [0.2  0.76 0.04]\n",
            " [0.   0.96 0.04]]\n",
            "0.967741935483871\n"
          ],
          "name": "stdout"
        }
      ]
    },
    {
      "cell_type": "code",
      "metadata": {
        "id": "HQfOmZNwaz2v",
        "outputId": "e297985b-1aac-40f1-c2a7-3fb75b1dda49",
        "colab": {
          "base_uri": "https://localhost:8080/"
        }
      },
      "source": [
        "rfc.apply(X_test)"
      ],
      "execution_count": 10,
      "outputs": [
        {
          "output_type": "execute_result",
          "data": {
            "text/plain": [
              "array([[ 2, 12,  5, ...,  7, 14, 10],\n",
              "       [ 7,  3,  4, ...,  5,  5, 15],\n",
              "       [ 2,  9, 10, ..., 11, 18, 10],\n",
              "       ...,\n",
              "       [ 7,  3,  9, ...,  9,  5, 15],\n",
              "       [10,  9, 10, ..., 12, 18, 20],\n",
              "       [ 2,  6,  3, ...,  3, 11, 10]])"
            ]
          },
          "metadata": {
            "tags": []
          },
          "execution_count": 10
        }
      ]
    },
    {
      "cell_type": "markdown",
      "metadata": {
        "id": "cjqsB27XgioK"
      },
      "source": [
        "对于bagging中每一棵decision tree的准确率一定要大于50%，要不然random forest的表现会很差"
      ]
    },
    {
      "cell_type": "code",
      "metadata": {
        "id": "S4EpR3YZfHiN",
        "outputId": "9d0c272f-4e46-4b91-9886-40b5fd4d825d",
        "colab": {
          "base_uri": "https://localhost:8080/",
          "height": 279
        }
      },
      "source": [
        "import numpy as np\r\n",
        "from scipy.special import comb\r\n",
        "import matplotlib.pyplot as plt\r\n",
        "\r\n",
        "x = np.linspace(0,1,20)\r\n",
        "y = []\r\n",
        "\r\n",
        "for epsilon in x:\r\n",
        "  E = np.array([comb(25,i)*(epsilon**i)*((1-epsilon)**(25-i))\r\n",
        "                 for i in range(13,26)]).sum()\r\n",
        "  y.append(E)\r\n",
        "\r\n",
        "plt.plot(x,x,label=\"all estimators are same\")\r\n",
        "plt.plot(x,y,label=\"not same\")\r\n",
        "plt.xlabel(\"individual tree error\")\r\n",
        "plt.ylabel(\"random forrest error\")\r\n",
        "plt.legend()\r\n",
        "plt.show()\r\n"
      ],
      "execution_count": 16,
      "outputs": [
        {
          "output_type": "display_data",
          "data": {
            "image/png": "[encoded data removed]",
            "text/plain": [
              "<Figure size 432x288 with 1 Axes>"
            ]
          },
          "metadata": {
            "tags": [],
            "needs_background": "light"
          }
        }
      ]
    },
    {
      "cell_type": "markdown",
      "metadata": {
        "id": "VslsdFxkjGv8"
      },
      "source": [
        "上面这张图也就表明，如果单个decision tree的预测正确率低于50%，那么，random forest的错误率就会非常大"
      ]
    },
    {
      "cell_type": "code",
      "metadata": {
        "id": "u6qLxwreiGu2"
      },
      "source": [
        ""
      ],
      "execution_count": null,
      "outputs": []
    }
  ]
}
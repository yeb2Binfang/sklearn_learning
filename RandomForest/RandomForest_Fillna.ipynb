{
  "nbformat": 4,
  "nbformat_minor": 0,
  "metadata": {
    "colab": {
      "name": "RandomForest_Fillna.ipynb",
      "provenance": [],
      "authorship_tag": "ABX9TyPNpTtgK++44EvwcLPcuizc",
      "include_colab_link": true
    },
    "kernelspec": {
      "name": "python3",
      "display_name": "Python 3"
    }
  },
  "cells": [
    {
      "cell_type": "markdown",
      "metadata": {
        "id": "view-in-github",
        "colab_type": "text"
      },
      "source": [
        "<a href=\"https://colab.research.google.com/github/yeb2Binfang/sklearn_learning/blob/main/RandomForest/RandomForest_Fillna.ipynb\" target=\"_parent\"><img src=\"https://colab.research.google.com/assets/colab-badge.svg\" alt=\"Open In Colab\"/></a>"
      ]
    },
    {
      "cell_type": "markdown",
      "metadata": {
        "id": "9oWq3of6nHQF"
      },
      "source": [
        "我们现实生活中的数据，总是会有一些缺失值，这时，random forest是一个好方法来填补这些缺失值。\r\n",
        "\r\n",
        "我们一般的做法有时就删掉，有时就补0，有时就补均值等。\r\n",
        "\r\n",
        "在sklearn中，我们可以使用sklearn.impute.SimpleInputer来轻松地将均值，中值，或者其他最常用的数值填补到数据中。\r\n",
        "\r\n",
        "在这个案例中，我们将使用均值，0，和随机森林回归来填补缺失值，并验证下拟合状况，来找出对使用的数据集的最佳填补缺失值的办法"
      ]
    },
    {
      "cell_type": "markdown",
      "metadata": {
        "id": "xEPOg_sMoep1"
      },
      "source": [
        "##导包"
      ]
    },
    {
      "cell_type": "code",
      "metadata": {
        "id": "CkElDOLnnArU"
      },
      "source": [
        ""
      ],
      "execution_count": null,
      "outputs": []
    }
  ]
}
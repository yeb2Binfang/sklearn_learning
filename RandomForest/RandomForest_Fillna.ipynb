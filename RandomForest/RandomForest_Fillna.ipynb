{
  "nbformat": 4,
  "nbformat_minor": 0,
  "metadata": {
    "colab": {
      "name": "RandomForest_Fillna.ipynb",
      "provenance": [],
      "authorship_tag": "ABX9TyPSlqoCdpyrGhm7/+/TqwPP",
      "include_colab_link": true
    },
    "kernelspec": {
      "name": "python3",
      "display_name": "Python 3"
    }
  },
  "cells": [
    {
      "cell_type": "markdown",
      "metadata": {
        "id": "view-in-github",
        "colab_type": "text"
      },
      "source": [
        "<a href=\"https://colab.research.google.com/github/yeb2Binfang/sklearn_learning/blob/main/RandomForest/RandomForest_Fillna.ipynb\" target=\"_parent\"><img src=\"https://colab.research.google.com/assets/colab-badge.svg\" alt=\"Open In Colab\"/></a>"
      ]
    },
    {
      "cell_type": "markdown",
      "metadata": {
        "id": "9oWq3of6nHQF"
      },
      "source": [
        "我们现实生活中的数据，总是会有一些缺失值，这时，random forest是一个好方法来填补这些缺失值。\r\n",
        "\r\n",
        "我们一般的做法有时就删掉，有时就补0，有时就补均值等。\r\n",
        "\r\n",
        "在sklearn中，我们可以使用sklearn.impute.SimpleInputer来轻松地将均值，中值，或者其他最常用的数值填补到数据中。\r\n",
        "\r\n",
        "在这个案例中，我们将使用均值，0，和随机森林回归来填补缺失值，并验证下拟合状况，来找出对使用的数据集的最佳填补缺失值的办法"
      ]
    },
    {
      "cell_type": "markdown",
      "metadata": {
        "id": "xEPOg_sMoep1"
      },
      "source": [
        "##导包"
      ]
    },
    {
      "cell_type": "code",
      "metadata": {
        "id": "CkElDOLnnArU"
      },
      "source": [
        "import numpy as np\r\n",
        "import pandas as pd\r\n",
        "import matplotlib.pyplot as plt\r\n",
        "from sklearn.datasets import load_boston\r\n",
        "from sklearn.impute import SimpleImputer\r\n",
        "from sklearn.ensemble import RandomForestRegressor\r\n",
        "from sklearn.model_selection import cross_val_score\r\n"
      ],
      "execution_count": 1,
      "outputs": []
    },
    {
      "cell_type": "markdown",
      "metadata": {
        "id": "R2pViCreF5W-"
      },
      "source": [
        "##导入数据，看看数据有什么"
      ]
    },
    {
      "cell_type": "code",
      "metadata": {
        "id": "NQDVNJl8FVCD",
        "outputId": "94307b33-33cb-46ab-d387-cbc1243a1e4c",
        "colab": {
          "base_uri": "https://localhost:8080/"
        }
      },
      "source": [
        "boston_data = load_boston().data\r\n",
        "print(boston_data.shape)\r\n",
        "\r\n",
        "X, y = boston_data, load_boston().target\r\n",
        "print(X[:5])\r\n",
        "print(y[:5])"
      ],
      "execution_count": 5,
      "outputs": [
        {
          "output_type": "stream",
          "text": [
            "(506, 13)\n",
            "[[6.3200e-03 1.8000e+01 2.3100e+00 0.0000e+00 5.3800e-01 6.5750e+00\n",
            "  6.5200e+01 4.0900e+00 1.0000e+00 2.9600e+02 1.5300e+01 3.9690e+02\n",
            "  4.9800e+00]\n",
            " [2.7310e-02 0.0000e+00 7.0700e+00 0.0000e+00 4.6900e-01 6.4210e+00\n",
            "  7.8900e+01 4.9671e+00 2.0000e+00 2.4200e+02 1.7800e+01 3.9690e+02\n",
            "  9.1400e+00]\n",
            " [2.7290e-02 0.0000e+00 7.0700e+00 0.0000e+00 4.6900e-01 7.1850e+00\n",
            "  6.1100e+01 4.9671e+00 2.0000e+00 2.4200e+02 1.7800e+01 3.9283e+02\n",
            "  4.0300e+00]\n",
            " [3.2370e-02 0.0000e+00 2.1800e+00 0.0000e+00 4.5800e-01 6.9980e+00\n",
            "  4.5800e+01 6.0622e+00 3.0000e+00 2.2200e+02 1.8700e+01 3.9463e+02\n",
            "  2.9400e+00]\n",
            " [6.9050e-02 0.0000e+00 2.1800e+00 0.0000e+00 4.5800e-01 7.1470e+00\n",
            "  5.4200e+01 6.0622e+00 3.0000e+00 2.2200e+02 1.8700e+01 3.9690e+02\n",
            "  5.3300e+00]]\n",
            "[24.  21.6 34.7 33.4 36.2]\n"
          ],
          "name": "stdout"
        }
      ]
    },
    {
      "cell_type": "code",
      "metadata": {
        "id": "ckLL5YZsFj8K"
      },
      "source": [
        "n_samples = X.shape[0]\r\n",
        "n_features = X.shape[1]\r\n"
      ],
      "execution_count": 6,
      "outputs": []
    },
    {
      "cell_type": "markdown",
      "metadata": {
        "id": "yscGce7ZG9eN"
      },
      "source": [
        "##为完整数据集放入缺失值"
      ]
    },
    {
      "cell_type": "code",
      "metadata": {
        "id": "YcL77eDSHDOb",
        "outputId": "85fcddd1-1ea4-4624-cc37-9a8f0471be87",
        "colab": {
          "base_uri": "https://localhost:8080/"
        }
      },
      "source": [
        "#首先，我们得先去确定下我们希望放入的缺失值的比例，在这里，我们假设是50%，原先我们有506*13 = 6578个数据，我们假设是50%，那么，就会有50%的数据进行替换补缺\r\n",
        "\r\n",
        "rng = np.random.RandomState(0) #就是random state\r\n",
        "missing_rate = 0.5\r\n",
        "n_missing_samples = int(np.floor(n_samples * n_features * missing_rate))\r\n",
        "print(n_missing_samples)"
      ],
      "execution_count": 9,
      "outputs": [
        {
          "output_type": "stream",
          "text": [
            "3289\n"
          ],
          "name": "stdout"
        }
      ]
    },
    {
      "cell_type": "code",
      "metadata": {
        "id": "7VRzQkIsHtgK",
        "outputId": "6b3583b2-7038-43b9-959d-ac25a18d2150",
        "colab": {
          "base_uri": "https://localhost:8080/"
        }
      },
      "source": [
        "#所有数据要随机遍布在数据集的各行各列中，而一个缺失的数据需要行列索引，然后在这个索引中填值\r\n",
        "#如果能够创造一个数组，包含3289个分布在0~506中间的行索引，和3289个分布在0~13之间的索引，那么我们就可以利用索引来为数据中的任意3289个位置赋空值\r\n",
        "#然后，我们用0， 均值，随机森林来填写这些缺失值，然后查看回归的结果如何\r\n",
        "\r\n",
        "#产生3289个[0~13)的数值\r\n",
        "missing_features = rng.randint(0,n_features,n_missing_samples)\r\n",
        "print(missing_features)\r\n",
        "missing_samples - rng.randint(0,n_samples,n_missing_samples)\r\n",
        "\r\n",
        "#我们现在采样了3289个数据，远远超过我们的样本量506，所以我们使用随机抽取的函数randint。但如果我们需要\r\n",
        "#的数据量小于我们的样本量506，那我们可以采用np.random.choice来抽样，choice会随机抽取不重复的随机数，\r\n",
        "#因此可以帮助我们让数据更加分散，确保数据不会集中在一些行中\r\n",
        "#missing_samples = rng.choice(dataset.data.shape[0],n_missing_samples,replace=False)\r\n"
      ],
      "execution_count": 10,
      "outputs": [
        {
          "output_type": "stream",
          "text": [
            "[12  5  0 ... 11  0  2]\n"
          ],
          "name": "stdout"
        }
      ]
    },
    {
      "cell_type": "code",
      "metadata": {
        "id": "MqmyXrobI7SD"
      },
      "source": [
        ""
      ],
      "execution_count": null,
      "outputs": []
    }
  ]
}
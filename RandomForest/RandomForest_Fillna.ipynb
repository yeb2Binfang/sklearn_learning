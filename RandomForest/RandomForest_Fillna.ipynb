{
  "nbformat": 4,
  "nbformat_minor": 0,
  "metadata": {
    "colab": {
      "name": "RandomForest_Fillna.ipynb",
      "provenance": [],
      "authorship_tag": "ABX9TyNWxIMIH9Jy0TBLT6rG3bR8",
      "include_colab_link": true
    },
    "kernelspec": {
      "name": "python3",
      "display_name": "Python 3"
    }
  },
  "cells": [
    {
      "cell_type": "markdown",
      "metadata": {
        "id": "view-in-github",
        "colab_type": "text"
      },
      "source": [
        "<a href=\"https://colab.research.google.com/github/yeb2Binfang/sklearn_learning/blob/main/RandomForest/RandomForest_Fillna.ipynb\" target=\"_parent\"><img src=\"https://colab.research.google.com/assets/colab-badge.svg\" alt=\"Open In Colab\"/></a>"
      ]
    },
    {
      "cell_type": "markdown",
      "metadata": {
        "id": "9oWq3of6nHQF"
      },
      "source": [
        "我们现实生活中的数据，总是会有一些缺失值，这时，random forest是一个好方法来填补这些缺失值。\r\n",
        "\r\n",
        "我们一般的做法有时就删掉，有时就补0，有时就补均值等。\r\n",
        "\r\n",
        "在sklearn中，我们可以使用sklearn.impute.SimpleInputer来轻松地将均值，中值，或者其他最常用的数值填补到数据中。\r\n",
        "\r\n",
        "在这个案例中，我们将使用均值，0，和随机森林回归来填补缺失值，并验证下拟合状况，来找出对使用的数据集的最佳填补缺失值的办法"
      ]
    },
    {
      "cell_type": "markdown",
      "metadata": {
        "id": "xEPOg_sMoep1"
      },
      "source": [
        "##导包"
      ]
    },
    {
      "cell_type": "code",
      "metadata": {
        "id": "CkElDOLnnArU"
      },
      "source": [
        "import numpy as np\r\n",
        "import pandas as pd\r\n",
        "import matplotlib.pyplot as plt\r\n",
        "from sklearn.datasets import load_boston\r\n",
        "from sklearn.impute import SimpleImputer\r\n",
        "from sklearn.ensemble import RandomForestRegressor\r\n",
        "from sklearn.model_selection import cross_val_score\r\n"
      ],
      "execution_count": 21,
      "outputs": []
    },
    {
      "cell_type": "markdown",
      "metadata": {
        "id": "R2pViCreF5W-"
      },
      "source": [
        "##导入数据，看看数据有什么"
      ]
    },
    {
      "cell_type": "code",
      "metadata": {
        "id": "NQDVNJl8FVCD",
        "colab": {
          "base_uri": "https://localhost:8080/"
        },
        "outputId": "326df026-3883-4985-e712-16c6e90b8f5b"
      },
      "source": [
        "boston_data = load_boston().data\r\n",
        "print(boston_data.shape)\r\n",
        "\r\n",
        "X, y = boston_data, load_boston().target\r\n",
        "print(X[:5])\r\n",
        "print(y[:5])"
      ],
      "execution_count": 22,
      "outputs": [
        {
          "output_type": "stream",
          "text": [
            "(506, 13)\n",
            "[[6.3200e-03 1.8000e+01 2.3100e+00 0.0000e+00 5.3800e-01 6.5750e+00\n",
            "  6.5200e+01 4.0900e+00 1.0000e+00 2.9600e+02 1.5300e+01 3.9690e+02\n",
            "  4.9800e+00]\n",
            " [2.7310e-02 0.0000e+00 7.0700e+00 0.0000e+00 4.6900e-01 6.4210e+00\n",
            "  7.8900e+01 4.9671e+00 2.0000e+00 2.4200e+02 1.7800e+01 3.9690e+02\n",
            "  9.1400e+00]\n",
            " [2.7290e-02 0.0000e+00 7.0700e+00 0.0000e+00 4.6900e-01 7.1850e+00\n",
            "  6.1100e+01 4.9671e+00 2.0000e+00 2.4200e+02 1.7800e+01 3.9283e+02\n",
            "  4.0300e+00]\n",
            " [3.2370e-02 0.0000e+00 2.1800e+00 0.0000e+00 4.5800e-01 6.9980e+00\n",
            "  4.5800e+01 6.0622e+00 3.0000e+00 2.2200e+02 1.8700e+01 3.9463e+02\n",
            "  2.9400e+00]\n",
            " [6.9050e-02 0.0000e+00 2.1800e+00 0.0000e+00 4.5800e-01 7.1470e+00\n",
            "  5.4200e+01 6.0622e+00 3.0000e+00 2.2200e+02 1.8700e+01 3.9690e+02\n",
            "  5.3300e+00]]\n",
            "[24.  21.6 34.7 33.4 36.2]\n"
          ],
          "name": "stdout"
        }
      ]
    },
    {
      "cell_type": "code",
      "metadata": {
        "id": "ckLL5YZsFj8K"
      },
      "source": [
        "n_samples = X.shape[0]\r\n",
        "n_features = X.shape[1]\r\n"
      ],
      "execution_count": 23,
      "outputs": []
    },
    {
      "cell_type": "markdown",
      "metadata": {
        "id": "yscGce7ZG9eN"
      },
      "source": [
        "##为完整数据集放入缺失值"
      ]
    },
    {
      "cell_type": "code",
      "metadata": {
        "id": "YcL77eDSHDOb",
        "colab": {
          "base_uri": "https://localhost:8080/"
        },
        "outputId": "ac43847e-b2e2-44e7-e603-22f46f3dae38"
      },
      "source": [
        "#首先，我们得先去确定下我们希望放入的缺失值的比例，在这里，我们假设是50%，原先我们有506*13 = 6578个数据，我们假设是50%，那么，就会有50%的数据进行替换补缺\r\n",
        "\r\n",
        "rng = np.random.RandomState(0) #就是random state\r\n",
        "missing_rate = 0.5\r\n",
        "n_missing_samples = int(np.floor(n_samples * n_features * missing_rate))\r\n",
        "print(n_missing_samples)"
      ],
      "execution_count": 24,
      "outputs": [
        {
          "output_type": "stream",
          "text": [
            "3289\n"
          ],
          "name": "stdout"
        }
      ]
    },
    {
      "cell_type": "code",
      "metadata": {
        "id": "7VRzQkIsHtgK",
        "colab": {
          "base_uri": "https://localhost:8080/"
        },
        "outputId": "e4145deb-5c27-4ce3-ad64-67f08b6ddadf"
      },
      "source": [
        "#所有数据要随机遍布在数据集的各行各列中，而一个缺失的数据需要行列索引，然后在这个索引中填值\r\n",
        "#如果能够创造一个数组，包含3289个分布在0~506中间的行索引，和3289个分布在0~13之间的索引，那么我们就可以利用索引来为数据中的任意3289个位置赋空值\r\n",
        "#然后，我们用0， 均值，随机森林来填写这些缺失值，然后查看回归的结果如何\r\n",
        "\r\n",
        "#产生3289个[0~13)的数值\r\n",
        "missing_features = rng.randint(0,n_features,n_missing_samples)\r\n",
        "print(missing_features)\r\n",
        "missing_samples = rng.randint(0,n_samples,n_missing_samples)\r\n",
        "\r\n",
        "#我们现在采样了3289个数据，远远超过我们的样本量506，所以我们使用随机抽取的函数randint。但如果我们需要\r\n",
        "#的数据量小于我们的样本量506，那我们可以采用np.random.choice来抽样，choice会随机抽取不重复的随机数，\r\n",
        "#因此可以帮助我们让数据更加分散，确保数据不会集中在一些行中\r\n",
        "#missing_samples = rng.choice(dataset.data.shape[0],n_missing_samples,replace=False)\r\n"
      ],
      "execution_count": 25,
      "outputs": [
        {
          "output_type": "stream",
          "text": [
            "[12  5  0 ... 11  0  2]\n"
          ],
          "name": "stdout"
        }
      ]
    },
    {
      "cell_type": "code",
      "metadata": {
        "id": "MqmyXrobI7SD"
      },
      "source": [
        "#我们重新复制一份data，这样就不会破坏原来的数据\r\n",
        "X_missing = X.copy()\r\n",
        "y_missing = y.copy()\r\n",
        "\r\n",
        "#missing_samples, missing_features 是我们上面生成的\r\n",
        "#现在，我们把这些位置的值变为nan\r\n",
        "X_missing[missing_samples, missing_features] = np.nan\r\n"
      ],
      "execution_count": 26,
      "outputs": []
    },
    {
      "cell_type": "markdown",
      "metadata": {
        "id": "GoPMBYDp-dse"
      },
      "source": [
        "我们把X_missing转换成dataframe，方便索引。其次，我们也看到，我们在特定位置生成了nan value"
      ]
    },
    {
      "cell_type": "code",
      "metadata": {
        "id": "Csf570cd-Vf5",
        "outputId": "4f06adb8-898a-4399-cec1-9cf373311a4f",
        "colab": {
          "base_uri": "https://localhost:8080/",
          "height": 402
        }
      },
      "source": [
        "X_missing = pd.DataFrame(X_missing)\r\n",
        "X_missing"
      ],
      "execution_count": 27,
      "outputs": [
        {
          "output_type": "execute_result",
          "data": {
            "text/html": [
              "<div>\n",
              "<style scoped>\n",
              "    .dataframe tbody tr th:only-of-type {\n",
              "        vertical-align: middle;\n",
              "    }\n",
              "\n",
              "    .dataframe tbody tr th {\n",
              "        vertical-align: top;\n",
              "    }\n",
              "\n",
              "    .dataframe thead th {\n",
              "        text-align: right;\n",
              "    }\n",
              "</style>\n",
              "<table border=\"1\" class=\"dataframe\">\n",
              "  <thead>\n",
              "    <tr style=\"text-align: right;\">\n",
              "      <th></th>\n",
              "      <th>0</th>\n",
              "      <th>1</th>\n",
              "      <th>2</th>\n",
              "      <th>3</th>\n",
              "      <th>4</th>\n",
              "      <th>5</th>\n",
              "      <th>6</th>\n",
              "      <th>7</th>\n",
              "      <th>8</th>\n",
              "      <th>9</th>\n",
              "      <th>10</th>\n",
              "      <th>11</th>\n",
              "      <th>12</th>\n",
              "    </tr>\n",
              "  </thead>\n",
              "  <tbody>\n",
              "    <tr>\n",
              "      <th>0</th>\n",
              "      <td>NaN</td>\n",
              "      <td>18.0</td>\n",
              "      <td>NaN</td>\n",
              "      <td>NaN</td>\n",
              "      <td>0.538</td>\n",
              "      <td>NaN</td>\n",
              "      <td>65.2</td>\n",
              "      <td>4.0900</td>\n",
              "      <td>1.0</td>\n",
              "      <td>296.0</td>\n",
              "      <td>NaN</td>\n",
              "      <td>NaN</td>\n",
              "      <td>4.98</td>\n",
              "    </tr>\n",
              "    <tr>\n",
              "      <th>1</th>\n",
              "      <td>0.02731</td>\n",
              "      <td>0.0</td>\n",
              "      <td>NaN</td>\n",
              "      <td>0.0</td>\n",
              "      <td>0.469</td>\n",
              "      <td>NaN</td>\n",
              "      <td>78.9</td>\n",
              "      <td>4.9671</td>\n",
              "      <td>2.0</td>\n",
              "      <td>NaN</td>\n",
              "      <td>NaN</td>\n",
              "      <td>396.90</td>\n",
              "      <td>9.14</td>\n",
              "    </tr>\n",
              "    <tr>\n",
              "      <th>2</th>\n",
              "      <td>0.02729</td>\n",
              "      <td>NaN</td>\n",
              "      <td>7.07</td>\n",
              "      <td>0.0</td>\n",
              "      <td>NaN</td>\n",
              "      <td>7.185</td>\n",
              "      <td>61.1</td>\n",
              "      <td>NaN</td>\n",
              "      <td>2.0</td>\n",
              "      <td>242.0</td>\n",
              "      <td>NaN</td>\n",
              "      <td>NaN</td>\n",
              "      <td>NaN</td>\n",
              "    </tr>\n",
              "    <tr>\n",
              "      <th>3</th>\n",
              "      <td>NaN</td>\n",
              "      <td>NaN</td>\n",
              "      <td>NaN</td>\n",
              "      <td>0.0</td>\n",
              "      <td>0.458</td>\n",
              "      <td>NaN</td>\n",
              "      <td>45.8</td>\n",
              "      <td>NaN</td>\n",
              "      <td>NaN</td>\n",
              "      <td>222.0</td>\n",
              "      <td>18.7</td>\n",
              "      <td>NaN</td>\n",
              "      <td>NaN</td>\n",
              "    </tr>\n",
              "    <tr>\n",
              "      <th>4</th>\n",
              "      <td>NaN</td>\n",
              "      <td>0.0</td>\n",
              "      <td>2.18</td>\n",
              "      <td>0.0</td>\n",
              "      <td>NaN</td>\n",
              "      <td>7.147</td>\n",
              "      <td>NaN</td>\n",
              "      <td>NaN</td>\n",
              "      <td>NaN</td>\n",
              "      <td>NaN</td>\n",
              "      <td>18.7</td>\n",
              "      <td>NaN</td>\n",
              "      <td>5.33</td>\n",
              "    </tr>\n",
              "    <tr>\n",
              "      <th>...</th>\n",
              "      <td>...</td>\n",
              "      <td>...</td>\n",
              "      <td>...</td>\n",
              "      <td>...</td>\n",
              "      <td>...</td>\n",
              "      <td>...</td>\n",
              "      <td>...</td>\n",
              "      <td>...</td>\n",
              "      <td>...</td>\n",
              "      <td>...</td>\n",
              "      <td>...</td>\n",
              "      <td>...</td>\n",
              "      <td>...</td>\n",
              "    </tr>\n",
              "    <tr>\n",
              "      <th>501</th>\n",
              "      <td>NaN</td>\n",
              "      <td>NaN</td>\n",
              "      <td>NaN</td>\n",
              "      <td>0.0</td>\n",
              "      <td>0.573</td>\n",
              "      <td>NaN</td>\n",
              "      <td>69.1</td>\n",
              "      <td>NaN</td>\n",
              "      <td>1.0</td>\n",
              "      <td>NaN</td>\n",
              "      <td>21.0</td>\n",
              "      <td>NaN</td>\n",
              "      <td>9.67</td>\n",
              "    </tr>\n",
              "    <tr>\n",
              "      <th>502</th>\n",
              "      <td>0.04527</td>\n",
              "      <td>0.0</td>\n",
              "      <td>11.93</td>\n",
              "      <td>0.0</td>\n",
              "      <td>0.573</td>\n",
              "      <td>6.120</td>\n",
              "      <td>76.7</td>\n",
              "      <td>2.2875</td>\n",
              "      <td>1.0</td>\n",
              "      <td>273.0</td>\n",
              "      <td>NaN</td>\n",
              "      <td>396.90</td>\n",
              "      <td>9.08</td>\n",
              "    </tr>\n",
              "    <tr>\n",
              "      <th>503</th>\n",
              "      <td>NaN</td>\n",
              "      <td>NaN</td>\n",
              "      <td>11.93</td>\n",
              "      <td>NaN</td>\n",
              "      <td>0.573</td>\n",
              "      <td>6.976</td>\n",
              "      <td>91.0</td>\n",
              "      <td>NaN</td>\n",
              "      <td>NaN</td>\n",
              "      <td>NaN</td>\n",
              "      <td>21.0</td>\n",
              "      <td>NaN</td>\n",
              "      <td>5.64</td>\n",
              "    </tr>\n",
              "    <tr>\n",
              "      <th>504</th>\n",
              "      <td>0.10959</td>\n",
              "      <td>0.0</td>\n",
              "      <td>11.93</td>\n",
              "      <td>NaN</td>\n",
              "      <td>0.573</td>\n",
              "      <td>NaN</td>\n",
              "      <td>89.3</td>\n",
              "      <td>NaN</td>\n",
              "      <td>1.0</td>\n",
              "      <td>NaN</td>\n",
              "      <td>21.0</td>\n",
              "      <td>393.45</td>\n",
              "      <td>6.48</td>\n",
              "    </tr>\n",
              "    <tr>\n",
              "      <th>505</th>\n",
              "      <td>0.04741</td>\n",
              "      <td>0.0</td>\n",
              "      <td>11.93</td>\n",
              "      <td>0.0</td>\n",
              "      <td>0.573</td>\n",
              "      <td>6.030</td>\n",
              "      <td>NaN</td>\n",
              "      <td>NaN</td>\n",
              "      <td>1.0</td>\n",
              "      <td>NaN</td>\n",
              "      <td>NaN</td>\n",
              "      <td>396.90</td>\n",
              "      <td>7.88</td>\n",
              "    </tr>\n",
              "  </tbody>\n",
              "</table>\n",
              "<p>506 rows × 13 columns</p>\n",
              "</div>"
            ],
            "text/plain": [
              "          0     1      2    3      4   ...   8      9     10      11    12\n",
              "0        NaN  18.0    NaN  NaN  0.538  ...  1.0  296.0   NaN     NaN  4.98\n",
              "1    0.02731   0.0    NaN  0.0  0.469  ...  2.0    NaN   NaN  396.90  9.14\n",
              "2    0.02729   NaN   7.07  0.0    NaN  ...  2.0  242.0   NaN     NaN   NaN\n",
              "3        NaN   NaN    NaN  0.0  0.458  ...  NaN  222.0  18.7     NaN   NaN\n",
              "4        NaN   0.0   2.18  0.0    NaN  ...  NaN    NaN  18.7     NaN  5.33\n",
              "..       ...   ...    ...  ...    ...  ...  ...    ...   ...     ...   ...\n",
              "501      NaN   NaN    NaN  0.0  0.573  ...  1.0    NaN  21.0     NaN  9.67\n",
              "502  0.04527   0.0  11.93  0.0  0.573  ...  1.0  273.0   NaN  396.90  9.08\n",
              "503      NaN   NaN  11.93  NaN  0.573  ...  NaN    NaN  21.0     NaN  5.64\n",
              "504  0.10959   0.0  11.93  NaN  0.573  ...  1.0    NaN  21.0  393.45  6.48\n",
              "505  0.04741   0.0  11.93  0.0  0.573  ...  1.0    NaN   NaN  396.90  7.88\n",
              "\n",
              "[506 rows x 13 columns]"
            ]
          },
          "metadata": {
            "tags": []
          },
          "execution_count": 27
        }
      ]
    },
    {
      "cell_type": "markdown",
      "metadata": {
        "id": "NOpPEDsS-sA8"
      },
      "source": [
        "##用0和均值补缺失值"
      ]
    },
    {
      "cell_type": "markdown",
      "metadata": {
        "id": "EWC3qn1__Yj2"
      },
      "source": [
        "使用均值填补"
      ]
    },
    {
      "cell_type": "code",
      "metadata": {
        "id": "cBAkInv7-a-s",
        "outputId": "10c70d00-2c9f-443a-dd00-99ce49f6420e",
        "colab": {
          "base_uri": "https://localhost:8080/",
          "height": 402
        }
      },
      "source": [
        "#使用均值进行填补\r\n",
        "imp_mean = SimpleImputer(missing_values=np.nan,strategy='mean')\r\n",
        "X_missing_mean = imp_mean.fit_transform(X_missing)\r\n",
        "X_missing_mean = pd.DataFrame(X_missing_mean)\r\n",
        "X_missing_mean"
      ],
      "execution_count": 28,
      "outputs": [
        {
          "output_type": "execute_result",
          "data": {
            "text/html": [
              "<div>\n",
              "<style scoped>\n",
              "    .dataframe tbody tr th:only-of-type {\n",
              "        vertical-align: middle;\n",
              "    }\n",
              "\n",
              "    .dataframe tbody tr th {\n",
              "        vertical-align: top;\n",
              "    }\n",
              "\n",
              "    .dataframe thead th {\n",
              "        text-align: right;\n",
              "    }\n",
              "</style>\n",
              "<table border=\"1\" class=\"dataframe\">\n",
              "  <thead>\n",
              "    <tr style=\"text-align: right;\">\n",
              "      <th></th>\n",
              "      <th>0</th>\n",
              "      <th>1</th>\n",
              "      <th>2</th>\n",
              "      <th>3</th>\n",
              "      <th>4</th>\n",
              "      <th>5</th>\n",
              "      <th>6</th>\n",
              "      <th>7</th>\n",
              "      <th>8</th>\n",
              "      <th>9</th>\n",
              "      <th>10</th>\n",
              "      <th>11</th>\n",
              "      <th>12</th>\n",
              "    </tr>\n",
              "  </thead>\n",
              "  <tbody>\n",
              "    <tr>\n",
              "      <th>0</th>\n",
              "      <td>3.627579</td>\n",
              "      <td>18.000000</td>\n",
              "      <td>11.163464</td>\n",
              "      <td>0.066007</td>\n",
              "      <td>0.538000</td>\n",
              "      <td>6.305921</td>\n",
              "      <td>65.2</td>\n",
              "      <td>4.090000</td>\n",
              "      <td>1.000000</td>\n",
              "      <td>296.000000</td>\n",
              "      <td>18.521192</td>\n",
              "      <td>352.741952</td>\n",
              "      <td>4.980000</td>\n",
              "    </tr>\n",
              "    <tr>\n",
              "      <th>1</th>\n",
              "      <td>0.027310</td>\n",
              "      <td>0.000000</td>\n",
              "      <td>11.163464</td>\n",
              "      <td>0.000000</td>\n",
              "      <td>0.469000</td>\n",
              "      <td>6.305921</td>\n",
              "      <td>78.9</td>\n",
              "      <td>4.967100</td>\n",
              "      <td>2.000000</td>\n",
              "      <td>405.935275</td>\n",
              "      <td>18.521192</td>\n",
              "      <td>396.900000</td>\n",
              "      <td>9.140000</td>\n",
              "    </tr>\n",
              "    <tr>\n",
              "      <th>2</th>\n",
              "      <td>0.027290</td>\n",
              "      <td>10.722951</td>\n",
              "      <td>7.070000</td>\n",
              "      <td>0.000000</td>\n",
              "      <td>0.564128</td>\n",
              "      <td>7.185000</td>\n",
              "      <td>61.1</td>\n",
              "      <td>3.856371</td>\n",
              "      <td>2.000000</td>\n",
              "      <td>242.000000</td>\n",
              "      <td>18.521192</td>\n",
              "      <td>352.741952</td>\n",
              "      <td>12.991767</td>\n",
              "    </tr>\n",
              "    <tr>\n",
              "      <th>3</th>\n",
              "      <td>3.627579</td>\n",
              "      <td>10.722951</td>\n",
              "      <td>11.163464</td>\n",
              "      <td>0.000000</td>\n",
              "      <td>0.458000</td>\n",
              "      <td>6.305921</td>\n",
              "      <td>45.8</td>\n",
              "      <td>3.856371</td>\n",
              "      <td>9.383871</td>\n",
              "      <td>222.000000</td>\n",
              "      <td>18.700000</td>\n",
              "      <td>352.741952</td>\n",
              "      <td>12.991767</td>\n",
              "    </tr>\n",
              "    <tr>\n",
              "      <th>4</th>\n",
              "      <td>3.627579</td>\n",
              "      <td>0.000000</td>\n",
              "      <td>2.180000</td>\n",
              "      <td>0.000000</td>\n",
              "      <td>0.564128</td>\n",
              "      <td>7.147000</td>\n",
              "      <td>67.4</td>\n",
              "      <td>3.856371</td>\n",
              "      <td>9.383871</td>\n",
              "      <td>405.935275</td>\n",
              "      <td>18.700000</td>\n",
              "      <td>352.741952</td>\n",
              "      <td>5.330000</td>\n",
              "    </tr>\n",
              "    <tr>\n",
              "      <th>...</th>\n",
              "      <td>...</td>\n",
              "      <td>...</td>\n",
              "      <td>...</td>\n",
              "      <td>...</td>\n",
              "      <td>...</td>\n",
              "      <td>...</td>\n",
              "      <td>...</td>\n",
              "      <td>...</td>\n",
              "      <td>...</td>\n",
              "      <td>...</td>\n",
              "      <td>...</td>\n",
              "      <td>...</td>\n",
              "      <td>...</td>\n",
              "    </tr>\n",
              "    <tr>\n",
              "      <th>501</th>\n",
              "      <td>3.627579</td>\n",
              "      <td>10.722951</td>\n",
              "      <td>11.163464</td>\n",
              "      <td>0.000000</td>\n",
              "      <td>0.573000</td>\n",
              "      <td>6.305921</td>\n",
              "      <td>69.1</td>\n",
              "      <td>3.856371</td>\n",
              "      <td>1.000000</td>\n",
              "      <td>405.935275</td>\n",
              "      <td>21.000000</td>\n",
              "      <td>352.741952</td>\n",
              "      <td>9.670000</td>\n",
              "    </tr>\n",
              "    <tr>\n",
              "      <th>502</th>\n",
              "      <td>0.045270</td>\n",
              "      <td>0.000000</td>\n",
              "      <td>11.930000</td>\n",
              "      <td>0.000000</td>\n",
              "      <td>0.573000</td>\n",
              "      <td>6.120000</td>\n",
              "      <td>76.7</td>\n",
              "      <td>2.287500</td>\n",
              "      <td>1.000000</td>\n",
              "      <td>273.000000</td>\n",
              "      <td>18.521192</td>\n",
              "      <td>396.900000</td>\n",
              "      <td>9.080000</td>\n",
              "    </tr>\n",
              "    <tr>\n",
              "      <th>503</th>\n",
              "      <td>3.627579</td>\n",
              "      <td>10.722951</td>\n",
              "      <td>11.930000</td>\n",
              "      <td>0.066007</td>\n",
              "      <td>0.573000</td>\n",
              "      <td>6.976000</td>\n",
              "      <td>91.0</td>\n",
              "      <td>3.856371</td>\n",
              "      <td>9.383871</td>\n",
              "      <td>405.935275</td>\n",
              "      <td>21.000000</td>\n",
              "      <td>352.741952</td>\n",
              "      <td>5.640000</td>\n",
              "    </tr>\n",
              "    <tr>\n",
              "      <th>504</th>\n",
              "      <td>0.109590</td>\n",
              "      <td>0.000000</td>\n",
              "      <td>11.930000</td>\n",
              "      <td>0.066007</td>\n",
              "      <td>0.573000</td>\n",
              "      <td>6.305921</td>\n",
              "      <td>89.3</td>\n",
              "      <td>3.856371</td>\n",
              "      <td>1.000000</td>\n",
              "      <td>405.935275</td>\n",
              "      <td>21.000000</td>\n",
              "      <td>393.450000</td>\n",
              "      <td>6.480000</td>\n",
              "    </tr>\n",
              "    <tr>\n",
              "      <th>505</th>\n",
              "      <td>0.047410</td>\n",
              "      <td>0.000000</td>\n",
              "      <td>11.930000</td>\n",
              "      <td>0.000000</td>\n",
              "      <td>0.573000</td>\n",
              "      <td>6.030000</td>\n",
              "      <td>67.4</td>\n",
              "      <td>3.856371</td>\n",
              "      <td>1.000000</td>\n",
              "      <td>405.935275</td>\n",
              "      <td>18.521192</td>\n",
              "      <td>396.900000</td>\n",
              "      <td>7.880000</td>\n",
              "    </tr>\n",
              "  </tbody>\n",
              "</table>\n",
              "<p>506 rows × 13 columns</p>\n",
              "</div>"
            ],
            "text/plain": [
              "           0          1          2   ...         10          11         12\n",
              "0    3.627579  18.000000  11.163464  ...  18.521192  352.741952   4.980000\n",
              "1    0.027310   0.000000  11.163464  ...  18.521192  396.900000   9.140000\n",
              "2    0.027290  10.722951   7.070000  ...  18.521192  352.741952  12.991767\n",
              "3    3.627579  10.722951  11.163464  ...  18.700000  352.741952  12.991767\n",
              "4    3.627579   0.000000   2.180000  ...  18.700000  352.741952   5.330000\n",
              "..        ...        ...        ...  ...        ...         ...        ...\n",
              "501  3.627579  10.722951  11.163464  ...  21.000000  352.741952   9.670000\n",
              "502  0.045270   0.000000  11.930000  ...  18.521192  396.900000   9.080000\n",
              "503  3.627579  10.722951  11.930000  ...  21.000000  352.741952   5.640000\n",
              "504  0.109590   0.000000  11.930000  ...  21.000000  393.450000   6.480000\n",
              "505  0.047410   0.000000  11.930000  ...  18.521192  396.900000   7.880000\n",
              "\n",
              "[506 rows x 13 columns]"
            ]
          },
          "metadata": {
            "tags": []
          },
          "execution_count": 28
        }
      ]
    },
    {
      "cell_type": "code",
      "metadata": {
        "id": "47XrRrIjAEBd",
        "outputId": "e652d063-e681-481e-814f-06159bc44737",
        "colab": {
          "base_uri": "https://localhost:8080/"
        }
      },
      "source": [
        "#check下是有还有控制\r\n",
        "#false = 0, true = 1, 所以就每一个column的值都返回0\r\n",
        "X_missing_mean.isnull().sum()"
      ],
      "execution_count": 29,
      "outputs": [
        {
          "output_type": "execute_result",
          "data": {
            "text/plain": [
              "0     0\n",
              "1     0\n",
              "2     0\n",
              "3     0\n",
              "4     0\n",
              "5     0\n",
              "6     0\n",
              "7     0\n",
              "8     0\n",
              "9     0\n",
              "10    0\n",
              "11    0\n",
              "12    0\n",
              "dtype: int64"
            ]
          },
          "metadata": {
            "tags": []
          },
          "execution_count": 29
        }
      ]
    },
    {
      "cell_type": "markdown",
      "metadata": {
        "id": "FkbXKzy0_7Da"
      },
      "source": [
        "使用0进行填补"
      ]
    },
    {
      "cell_type": "code",
      "metadata": {
        "id": "83q1pYSh_K82",
        "outputId": "31fab6b5-8d5b-4b32-c9a0-e6a4d4ddcff5",
        "colab": {
          "base_uri": "https://localhost:8080/",
          "height": 402
        }
      },
      "source": [
        "imp_0 = SimpleImputer(missing_values=np.nan,strategy='constant',fill_value=0)\r\n",
        "X_missing_0 = imp_0.fit_transform(X_missing)\r\n",
        "X_missing_0 = pd.DataFrame(X_missing_0)\r\n",
        "X_missing_0"
      ],
      "execution_count": 30,
      "outputs": [
        {
          "output_type": "execute_result",
          "data": {
            "text/html": [
              "<div>\n",
              "<style scoped>\n",
              "    .dataframe tbody tr th:only-of-type {\n",
              "        vertical-align: middle;\n",
              "    }\n",
              "\n",
              "    .dataframe tbody tr th {\n",
              "        vertical-align: top;\n",
              "    }\n",
              "\n",
              "    .dataframe thead th {\n",
              "        text-align: right;\n",
              "    }\n",
              "</style>\n",
              "<table border=\"1\" class=\"dataframe\">\n",
              "  <thead>\n",
              "    <tr style=\"text-align: right;\">\n",
              "      <th></th>\n",
              "      <th>0</th>\n",
              "      <th>1</th>\n",
              "      <th>2</th>\n",
              "      <th>3</th>\n",
              "      <th>4</th>\n",
              "      <th>5</th>\n",
              "      <th>6</th>\n",
              "      <th>7</th>\n",
              "      <th>8</th>\n",
              "      <th>9</th>\n",
              "      <th>10</th>\n",
              "      <th>11</th>\n",
              "      <th>12</th>\n",
              "    </tr>\n",
              "  </thead>\n",
              "  <tbody>\n",
              "    <tr>\n",
              "      <th>0</th>\n",
              "      <td>0.00000</td>\n",
              "      <td>18.0</td>\n",
              "      <td>0.00</td>\n",
              "      <td>0.0</td>\n",
              "      <td>0.538</td>\n",
              "      <td>0.000</td>\n",
              "      <td>65.2</td>\n",
              "      <td>4.0900</td>\n",
              "      <td>1.0</td>\n",
              "      <td>296.0</td>\n",
              "      <td>0.0</td>\n",
              "      <td>0.00</td>\n",
              "      <td>4.98</td>\n",
              "    </tr>\n",
              "    <tr>\n",
              "      <th>1</th>\n",
              "      <td>0.02731</td>\n",
              "      <td>0.0</td>\n",
              "      <td>0.00</td>\n",
              "      <td>0.0</td>\n",
              "      <td>0.469</td>\n",
              "      <td>0.000</td>\n",
              "      <td>78.9</td>\n",
              "      <td>4.9671</td>\n",
              "      <td>2.0</td>\n",
              "      <td>0.0</td>\n",
              "      <td>0.0</td>\n",
              "      <td>396.90</td>\n",
              "      <td>9.14</td>\n",
              "    </tr>\n",
              "    <tr>\n",
              "      <th>2</th>\n",
              "      <td>0.02729</td>\n",
              "      <td>0.0</td>\n",
              "      <td>7.07</td>\n",
              "      <td>0.0</td>\n",
              "      <td>0.000</td>\n",
              "      <td>7.185</td>\n",
              "      <td>61.1</td>\n",
              "      <td>0.0000</td>\n",
              "      <td>2.0</td>\n",
              "      <td>242.0</td>\n",
              "      <td>0.0</td>\n",
              "      <td>0.00</td>\n",
              "      <td>0.00</td>\n",
              "    </tr>\n",
              "    <tr>\n",
              "      <th>3</th>\n",
              "      <td>0.00000</td>\n",
              "      <td>0.0</td>\n",
              "      <td>0.00</td>\n",
              "      <td>0.0</td>\n",
              "      <td>0.458</td>\n",
              "      <td>0.000</td>\n",
              "      <td>45.8</td>\n",
              "      <td>0.0000</td>\n",
              "      <td>0.0</td>\n",
              "      <td>222.0</td>\n",
              "      <td>18.7</td>\n",
              "      <td>0.00</td>\n",
              "      <td>0.00</td>\n",
              "    </tr>\n",
              "    <tr>\n",
              "      <th>4</th>\n",
              "      <td>0.00000</td>\n",
              "      <td>0.0</td>\n",
              "      <td>2.18</td>\n",
              "      <td>0.0</td>\n",
              "      <td>0.000</td>\n",
              "      <td>7.147</td>\n",
              "      <td>0.0</td>\n",
              "      <td>0.0000</td>\n",
              "      <td>0.0</td>\n",
              "      <td>0.0</td>\n",
              "      <td>18.7</td>\n",
              "      <td>0.00</td>\n",
              "      <td>5.33</td>\n",
              "    </tr>\n",
              "    <tr>\n",
              "      <th>...</th>\n",
              "      <td>...</td>\n",
              "      <td>...</td>\n",
              "      <td>...</td>\n",
              "      <td>...</td>\n",
              "      <td>...</td>\n",
              "      <td>...</td>\n",
              "      <td>...</td>\n",
              "      <td>...</td>\n",
              "      <td>...</td>\n",
              "      <td>...</td>\n",
              "      <td>...</td>\n",
              "      <td>...</td>\n",
              "      <td>...</td>\n",
              "    </tr>\n",
              "    <tr>\n",
              "      <th>501</th>\n",
              "      <td>0.00000</td>\n",
              "      <td>0.0</td>\n",
              "      <td>0.00</td>\n",
              "      <td>0.0</td>\n",
              "      <td>0.573</td>\n",
              "      <td>0.000</td>\n",
              "      <td>69.1</td>\n",
              "      <td>0.0000</td>\n",
              "      <td>1.0</td>\n",
              "      <td>0.0</td>\n",
              "      <td>21.0</td>\n",
              "      <td>0.00</td>\n",
              "      <td>9.67</td>\n",
              "    </tr>\n",
              "    <tr>\n",
              "      <th>502</th>\n",
              "      <td>0.04527</td>\n",
              "      <td>0.0</td>\n",
              "      <td>11.93</td>\n",
              "      <td>0.0</td>\n",
              "      <td>0.573</td>\n",
              "      <td>6.120</td>\n",
              "      <td>76.7</td>\n",
              "      <td>2.2875</td>\n",
              "      <td>1.0</td>\n",
              "      <td>273.0</td>\n",
              "      <td>0.0</td>\n",
              "      <td>396.90</td>\n",
              "      <td>9.08</td>\n",
              "    </tr>\n",
              "    <tr>\n",
              "      <th>503</th>\n",
              "      <td>0.00000</td>\n",
              "      <td>0.0</td>\n",
              "      <td>11.93</td>\n",
              "      <td>0.0</td>\n",
              "      <td>0.573</td>\n",
              "      <td>6.976</td>\n",
              "      <td>91.0</td>\n",
              "      <td>0.0000</td>\n",
              "      <td>0.0</td>\n",
              "      <td>0.0</td>\n",
              "      <td>21.0</td>\n",
              "      <td>0.00</td>\n",
              "      <td>5.64</td>\n",
              "    </tr>\n",
              "    <tr>\n",
              "      <th>504</th>\n",
              "      <td>0.10959</td>\n",
              "      <td>0.0</td>\n",
              "      <td>11.93</td>\n",
              "      <td>0.0</td>\n",
              "      <td>0.573</td>\n",
              "      <td>0.000</td>\n",
              "      <td>89.3</td>\n",
              "      <td>0.0000</td>\n",
              "      <td>1.0</td>\n",
              "      <td>0.0</td>\n",
              "      <td>21.0</td>\n",
              "      <td>393.45</td>\n",
              "      <td>6.48</td>\n",
              "    </tr>\n",
              "    <tr>\n",
              "      <th>505</th>\n",
              "      <td>0.04741</td>\n",
              "      <td>0.0</td>\n",
              "      <td>11.93</td>\n",
              "      <td>0.0</td>\n",
              "      <td>0.573</td>\n",
              "      <td>6.030</td>\n",
              "      <td>0.0</td>\n",
              "      <td>0.0000</td>\n",
              "      <td>1.0</td>\n",
              "      <td>0.0</td>\n",
              "      <td>0.0</td>\n",
              "      <td>396.90</td>\n",
              "      <td>7.88</td>\n",
              "    </tr>\n",
              "  </tbody>\n",
              "</table>\n",
              "<p>506 rows × 13 columns</p>\n",
              "</div>"
            ],
            "text/plain": [
              "          0     1      2    3      4   ...   8      9     10      11    12\n",
              "0    0.00000  18.0   0.00  0.0  0.538  ...  1.0  296.0   0.0    0.00  4.98\n",
              "1    0.02731   0.0   0.00  0.0  0.469  ...  2.0    0.0   0.0  396.90  9.14\n",
              "2    0.02729   0.0   7.07  0.0  0.000  ...  2.0  242.0   0.0    0.00  0.00\n",
              "3    0.00000   0.0   0.00  0.0  0.458  ...  0.0  222.0  18.7    0.00  0.00\n",
              "4    0.00000   0.0   2.18  0.0  0.000  ...  0.0    0.0  18.7    0.00  5.33\n",
              "..       ...   ...    ...  ...    ...  ...  ...    ...   ...     ...   ...\n",
              "501  0.00000   0.0   0.00  0.0  0.573  ...  1.0    0.0  21.0    0.00  9.67\n",
              "502  0.04527   0.0  11.93  0.0  0.573  ...  1.0  273.0   0.0  396.90  9.08\n",
              "503  0.00000   0.0  11.93  0.0  0.573  ...  0.0    0.0  21.0    0.00  5.64\n",
              "504  0.10959   0.0  11.93  0.0  0.573  ...  1.0    0.0  21.0  393.45  6.48\n",
              "505  0.04741   0.0  11.93  0.0  0.573  ...  1.0    0.0   0.0  396.90  7.88\n",
              "\n",
              "[506 rows x 13 columns]"
            ]
          },
          "metadata": {
            "tags": []
          },
          "execution_count": 30
        }
      ]
    },
    {
      "cell_type": "code",
      "metadata": {
        "id": "SS587uHaAuxG",
        "outputId": "1ef9ec38-364d-44d9-ec41-a5cc9a7131f3",
        "colab": {
          "base_uri": "https://localhost:8080/"
        }
      },
      "source": [
        "#check下是有还有控制\r\n",
        "#false = 0, true = 1, 所以就每一个column的值都返回0\r\n",
        "X_missing_0.isnull().sum()"
      ],
      "execution_count": 31,
      "outputs": [
        {
          "output_type": "execute_result",
          "data": {
            "text/plain": [
              "0     0\n",
              "1     0\n",
              "2     0\n",
              "3     0\n",
              "4     0\n",
              "5     0\n",
              "6     0\n",
              "7     0\n",
              "8     0\n",
              "9     0\n",
              "10    0\n",
              "11    0\n",
              "12    0\n",
              "dtype: int64"
            ]
          },
          "metadata": {
            "tags": []
          },
          "execution_count": 31
        }
      ]
    },
    {
      "cell_type": "markdown",
      "metadata": {
        "id": "feHOsVH_A07L"
      },
      "source": [
        "##使用随机森林来填补缺失值"
      ]
    },
    {
      "cell_type": "markdown",
      "metadata": {
        "id": "ogF2Bm1jCyeJ"
      },
      "source": [
        "使用随机森林回归来填补缺失值。\r\n",
        "\r\n",
        "任何回归都是从特征矩阵中学习，然后求解连续型标签y的过程，之所以能实现这个过程，是因为回归算法认为，特征矩阵和标签之间存在着某种关系。实际上，标签和特征是可以相互转换的，比如说，在一个“用地区，环境，附近学校数量”来预测“房价”的问题中，我们既可以用“地区，环境，学校数量”来预测“房价”，也可以反过来，用“环境”，“附近学校数量”，和“房价”来预测“地区”。而回归填补缺失值，正是利用了这个思想。\r\n",
        "\r\n",
        "对于一个有n个特征的数据来说，其中特征T有缺失值，我们就把特征T当做标签，其他的n-1个特征和原本的标签组成新的特征矩阵。那对于T来说，它没有缺失的部分，就是我们的y_train，而缺失的部分，就是我们的y_test。\r\n",
        "\r\n",
        "特征T不缺失的值对应的其他n-1个特征 + 本来标签：X_train\r\n",
        "特征T不缺失的值：y_train\r\n",
        "\r\n",
        "特征T不缺失的值对应的其他n-1个特征 + 本来标签：X_test\r\n",
        "特征T缺失的值：y_test\r\n",
        "\r\n",
        "这种做法，对于某一个特征大量缺失，其他特征却很完整的情况，非常适用。\r\n",
        "\r\n",
        "那如果数据中除了特征T之外，其他特征也有缺失值怎么办？\r\n",
        "\r\n",
        "那么就遍历所有的特征，从缺失最少的开始进行填补（因为填补缺失最少的特征所需要的准确信息最少）。\r\n",
        "\r\n",
        "填补一个特征时，先将其他特征的缺失值用0代替，每完成一次回归预测，就将预测值放到原本的特征矩阵中，再继续填补下一个特征。每一次填补完毕，有缺失值的特征就会少一个，所以每次循环后，需要用0来填补的特征就会越来越少当进行到最后一个特征时（这个特征时缺失值最多的），已经没有任何其他特征需要用0来进行填补了。\r\n"
      ]
    },
    {
      "cell_type": "code",
      "metadata": {
        "id": "u_irbQqzAyjp",
        "outputId": "919f5a7a-125d-4b67-8850-ee83ca0794c2",
        "colab": {
          "base_uri": "https://localhost:8080/"
        }
      },
      "source": [
        "X_missing_Ranreg = X_missing.copy()\r\n",
        "#我们要按缺失值的数量从小到大进行排列，但我们需要返回index\r\n",
        "sortindex = np.argsort(X_missing_Ranreg.isnull().sum()).values\r\n",
        "print(sortindex)\r\n"
      ],
      "execution_count": 32,
      "outputs": [
        {
          "output_type": "stream",
          "text": [
            "[ 6 12  8  7  9  0  2  1  5  4  3 10 11]\n"
          ],
          "name": "stdout"
        }
      ]
    },
    {
      "cell_type": "code",
      "metadata": {
        "id": "Ev0YtKbzJo-y",
        "outputId": "e54b8634-1de4-49f3-f0a5-66b17350eec4",
        "colab": {
          "base_uri": "https://localhost:8080/",
          "height": 402
        }
      },
      "source": [
        "X_missing_Ranreg = pd.DataFrame(X_missing_Ranreg)\r\n",
        "X_missing_Ranreg"
      ],
      "execution_count": 33,
      "outputs": [
        {
          "output_type": "execute_result",
          "data": {
            "text/html": [
              "<div>\n",
              "<style scoped>\n",
              "    .dataframe tbody tr th:only-of-type {\n",
              "        vertical-align: middle;\n",
              "    }\n",
              "\n",
              "    .dataframe tbody tr th {\n",
              "        vertical-align: top;\n",
              "    }\n",
              "\n",
              "    .dataframe thead th {\n",
              "        text-align: right;\n",
              "    }\n",
              "</style>\n",
              "<table border=\"1\" class=\"dataframe\">\n",
              "  <thead>\n",
              "    <tr style=\"text-align: right;\">\n",
              "      <th></th>\n",
              "      <th>0</th>\n",
              "      <th>1</th>\n",
              "      <th>2</th>\n",
              "      <th>3</th>\n",
              "      <th>4</th>\n",
              "      <th>5</th>\n",
              "      <th>6</th>\n",
              "      <th>7</th>\n",
              "      <th>8</th>\n",
              "      <th>9</th>\n",
              "      <th>10</th>\n",
              "      <th>11</th>\n",
              "      <th>12</th>\n",
              "    </tr>\n",
              "  </thead>\n",
              "  <tbody>\n",
              "    <tr>\n",
              "      <th>0</th>\n",
              "      <td>NaN</td>\n",
              "      <td>18.0</td>\n",
              "      <td>NaN</td>\n",
              "      <td>NaN</td>\n",
              "      <td>0.538</td>\n",
              "      <td>NaN</td>\n",
              "      <td>65.2</td>\n",
              "      <td>4.0900</td>\n",
              "      <td>1.0</td>\n",
              "      <td>296.0</td>\n",
              "      <td>NaN</td>\n",
              "      <td>NaN</td>\n",
              "      <td>4.98</td>\n",
              "    </tr>\n",
              "    <tr>\n",
              "      <th>1</th>\n",
              "      <td>0.02731</td>\n",
              "      <td>0.0</td>\n",
              "      <td>NaN</td>\n",
              "      <td>0.0</td>\n",
              "      <td>0.469</td>\n",
              "      <td>NaN</td>\n",
              "      <td>78.9</td>\n",
              "      <td>4.9671</td>\n",
              "      <td>2.0</td>\n",
              "      <td>NaN</td>\n",
              "      <td>NaN</td>\n",
              "      <td>396.90</td>\n",
              "      <td>9.14</td>\n",
              "    </tr>\n",
              "    <tr>\n",
              "      <th>2</th>\n",
              "      <td>0.02729</td>\n",
              "      <td>NaN</td>\n",
              "      <td>7.07</td>\n",
              "      <td>0.0</td>\n",
              "      <td>NaN</td>\n",
              "      <td>7.185</td>\n",
              "      <td>61.1</td>\n",
              "      <td>NaN</td>\n",
              "      <td>2.0</td>\n",
              "      <td>242.0</td>\n",
              "      <td>NaN</td>\n",
              "      <td>NaN</td>\n",
              "      <td>NaN</td>\n",
              "    </tr>\n",
              "    <tr>\n",
              "      <th>3</th>\n",
              "      <td>NaN</td>\n",
              "      <td>NaN</td>\n",
              "      <td>NaN</td>\n",
              "      <td>0.0</td>\n",
              "      <td>0.458</td>\n",
              "      <td>NaN</td>\n",
              "      <td>45.8</td>\n",
              "      <td>NaN</td>\n",
              "      <td>NaN</td>\n",
              "      <td>222.0</td>\n",
              "      <td>18.7</td>\n",
              "      <td>NaN</td>\n",
              "      <td>NaN</td>\n",
              "    </tr>\n",
              "    <tr>\n",
              "      <th>4</th>\n",
              "      <td>NaN</td>\n",
              "      <td>0.0</td>\n",
              "      <td>2.18</td>\n",
              "      <td>0.0</td>\n",
              "      <td>NaN</td>\n",
              "      <td>7.147</td>\n",
              "      <td>NaN</td>\n",
              "      <td>NaN</td>\n",
              "      <td>NaN</td>\n",
              "      <td>NaN</td>\n",
              "      <td>18.7</td>\n",
              "      <td>NaN</td>\n",
              "      <td>5.33</td>\n",
              "    </tr>\n",
              "    <tr>\n",
              "      <th>...</th>\n",
              "      <td>...</td>\n",
              "      <td>...</td>\n",
              "      <td>...</td>\n",
              "      <td>...</td>\n",
              "      <td>...</td>\n",
              "      <td>...</td>\n",
              "      <td>...</td>\n",
              "      <td>...</td>\n",
              "      <td>...</td>\n",
              "      <td>...</td>\n",
              "      <td>...</td>\n",
              "      <td>...</td>\n",
              "      <td>...</td>\n",
              "    </tr>\n",
              "    <tr>\n",
              "      <th>501</th>\n",
              "      <td>NaN</td>\n",
              "      <td>NaN</td>\n",
              "      <td>NaN</td>\n",
              "      <td>0.0</td>\n",
              "      <td>0.573</td>\n",
              "      <td>NaN</td>\n",
              "      <td>69.1</td>\n",
              "      <td>NaN</td>\n",
              "      <td>1.0</td>\n",
              "      <td>NaN</td>\n",
              "      <td>21.0</td>\n",
              "      <td>NaN</td>\n",
              "      <td>9.67</td>\n",
              "    </tr>\n",
              "    <tr>\n",
              "      <th>502</th>\n",
              "      <td>0.04527</td>\n",
              "      <td>0.0</td>\n",
              "      <td>11.93</td>\n",
              "      <td>0.0</td>\n",
              "      <td>0.573</td>\n",
              "      <td>6.120</td>\n",
              "      <td>76.7</td>\n",
              "      <td>2.2875</td>\n",
              "      <td>1.0</td>\n",
              "      <td>273.0</td>\n",
              "      <td>NaN</td>\n",
              "      <td>396.90</td>\n",
              "      <td>9.08</td>\n",
              "    </tr>\n",
              "    <tr>\n",
              "      <th>503</th>\n",
              "      <td>NaN</td>\n",
              "      <td>NaN</td>\n",
              "      <td>11.93</td>\n",
              "      <td>NaN</td>\n",
              "      <td>0.573</td>\n",
              "      <td>6.976</td>\n",
              "      <td>91.0</td>\n",
              "      <td>NaN</td>\n",
              "      <td>NaN</td>\n",
              "      <td>NaN</td>\n",
              "      <td>21.0</td>\n",
              "      <td>NaN</td>\n",
              "      <td>5.64</td>\n",
              "    </tr>\n",
              "    <tr>\n",
              "      <th>504</th>\n",
              "      <td>0.10959</td>\n",
              "      <td>0.0</td>\n",
              "      <td>11.93</td>\n",
              "      <td>NaN</td>\n",
              "      <td>0.573</td>\n",
              "      <td>NaN</td>\n",
              "      <td>89.3</td>\n",
              "      <td>NaN</td>\n",
              "      <td>1.0</td>\n",
              "      <td>NaN</td>\n",
              "      <td>21.0</td>\n",
              "      <td>393.45</td>\n",
              "      <td>6.48</td>\n",
              "    </tr>\n",
              "    <tr>\n",
              "      <th>505</th>\n",
              "      <td>0.04741</td>\n",
              "      <td>0.0</td>\n",
              "      <td>11.93</td>\n",
              "      <td>0.0</td>\n",
              "      <td>0.573</td>\n",
              "      <td>6.030</td>\n",
              "      <td>NaN</td>\n",
              "      <td>NaN</td>\n",
              "      <td>1.0</td>\n",
              "      <td>NaN</td>\n",
              "      <td>NaN</td>\n",
              "      <td>396.90</td>\n",
              "      <td>7.88</td>\n",
              "    </tr>\n",
              "  </tbody>\n",
              "</table>\n",
              "<p>506 rows × 13 columns</p>\n",
              "</div>"
            ],
            "text/plain": [
              "          0     1      2    3      4   ...   8      9     10      11    12\n",
              "0        NaN  18.0    NaN  NaN  0.538  ...  1.0  296.0   NaN     NaN  4.98\n",
              "1    0.02731   0.0    NaN  0.0  0.469  ...  2.0    NaN   NaN  396.90  9.14\n",
              "2    0.02729   NaN   7.07  0.0    NaN  ...  2.0  242.0   NaN     NaN   NaN\n",
              "3        NaN   NaN    NaN  0.0  0.458  ...  NaN  222.0  18.7     NaN   NaN\n",
              "4        NaN   0.0   2.18  0.0    NaN  ...  NaN    NaN  18.7     NaN  5.33\n",
              "..       ...   ...    ...  ...    ...  ...  ...    ...   ...     ...   ...\n",
              "501      NaN   NaN    NaN  0.0  0.573  ...  1.0    NaN  21.0     NaN  9.67\n",
              "502  0.04527   0.0  11.93  0.0  0.573  ...  1.0  273.0   NaN  396.90  9.08\n",
              "503      NaN   NaN  11.93  NaN  0.573  ...  NaN    NaN  21.0     NaN  5.64\n",
              "504  0.10959   0.0  11.93  NaN  0.573  ...  1.0    NaN  21.0  393.45  6.48\n",
              "505  0.04741   0.0  11.93  0.0  0.573  ...  1.0    NaN   NaN  396.90  7.88\n",
              "\n",
              "[506 rows x 13 columns]"
            ]
          },
          "metadata": {
            "tags": []
          },
          "execution_count": 33
        }
      ]
    },
    {
      "cell_type": "code",
      "metadata": {
        "id": "xgEX0RiQKsF2"
      },
      "source": [
        "#对已经排序好的每一列进行补值\r\n",
        "\r\n",
        "for i in sortindex:\r\n",
        "  #构建新特征矩阵和新标签\r\n",
        "  #我们最终是要在X_missing_Ranreg这里填补数据的，所以，X_missing_Ranreg不能乱改\r\n",
        "  #每次都要update新的数据\r\n",
        "  df = X_missing_Ranreg\r\n",
        "  #进行切片，我们需要提取的那一列给提取出来\r\n",
        "  fillc = df.iloc[:,i]\r\n",
        "\r\n",
        "  #把target和其他特征给连接起来\r\n",
        "  df = pd.concat([df.iloc[:,df.columns != i], pd.DataFrame(y)],axis=1)\r\n",
        "\r\n",
        "  #在新特征矩阵中，对缺失值进行填补,我们在这里补0\r\n",
        "  df_0 = SimpleImputer(missing_values=np.nan,strategy='constant',fill_value=0)\r\n",
        "  df_0 = df_0.fit_transform(df)\r\n",
        "\r\n",
        "  #找出训练集和测试集\r\n",
        "  #我们得知道有缺失值的index\r\n",
        "  y_train = fillc[fillc.notnull()]\r\n",
        "  y_test = fillc[fillc.isnull()]\r\n",
        "  X_train = df_0[y_train.index,:]\r\n",
        "  X_test = df_0[y_test.index,:]\r\n",
        "\r\n",
        "  #用随机森林来填补缺失值\r\n",
        "  rfc = RandomForestRegressor(n_estimators=100)\r\n",
        "  rfc.fit(X_train, y_train)\r\n",
        "  y_pred = rfc.predict(X_test)\r\n",
        "\r\n",
        "  #将填补好的缺失值放回去\r\n",
        "  #定位到具体某一列\r\n",
        "  #这样进行下一轮时，我们就可以使用这个预测数据\r\n",
        "  X_missing_Ranreg.loc[X_missing_Ranreg.iloc[:,i].isnull(),i] = y_pred\r\n",
        "\r\n",
        "\r\n"
      ],
      "execution_count": 37,
      "outputs": []
    },
    {
      "cell_type": "code",
      "metadata": {
        "id": "iLB6g6lp0qxU",
        "outputId": "3988c6b1-e5fe-4c7d-8a31-40029a93f1fc",
        "colab": {
          "base_uri": "https://localhost:8080/"
        }
      },
      "source": [
        "#这样就把所有的缺失值给补上了\r\n",
        "print(X_missing_Ranreg.isnull().sum())"
      ],
      "execution_count": 38,
      "outputs": [
        {
          "output_type": "stream",
          "text": [
            "0     0\n",
            "1     0\n",
            "2     0\n",
            "3     0\n",
            "4     0\n",
            "5     0\n",
            "6     0\n",
            "7     0\n",
            "8     0\n",
            "9     0\n",
            "10    0\n",
            "11    0\n",
            "12    0\n",
            "dtype: int64\n"
          ],
          "name": "stdout"
        }
      ]
    },
    {
      "cell_type": "markdown",
      "metadata": {
        "id": "5Itfhyto2psA"
      },
      "source": [
        "##对填补好的数据进行评估"
      ]
    },
    {
      "cell_type": "code",
      "metadata": {
        "id": "K7Gs1BHk1sDr"
      },
      "source": [
        "#进行建模，然后取得MSE结果\r\n",
        "x_all = [X, X_missing_mean, X_missing_0, X_missing_Ranreg]\r\n",
        "mse = []\r\n",
        "std = []\r\n",
        "\r\n",
        "for x in x_all:\r\n",
        "  estimator = RandomForestRegressor(n_estimators=100, random_state=0)\r\n",
        "  scores = cross_val_score(estimator, x, y,scoring=\"neg_mean_squared_error\",cv=5).mean()\r\n",
        "  mse.append(scores*(-1))\r\n",
        "  "
      ],
      "execution_count": 39,
      "outputs": []
    },
    {
      "cell_type": "markdown",
      "metadata": {
        "id": "sz1-2Xfi3dbn"
      },
      "source": [
        "输出结果,我们看到使用随机森林来填补缺失值会降低MSE，证明还不错"
      ]
    },
    {
      "cell_type": "code",
      "metadata": {
        "id": "rd7Gzrfm3cUO",
        "outputId": "b78c66db-c090-4586-957b-77727113ba81",
        "colab": {
          "base_uri": "https://localhost:8080/"
        }
      },
      "source": [
        "[*zip([\"X_full\",\"X_missing_mean\",\"X_missing_0\",\"X_missing_Ranreg\"],mse)]"
      ],
      "execution_count": 41,
      "outputs": [
        {
          "output_type": "execute_result",
          "data": {
            "text/plain": [
              "[('X_full', 21.62860460743544),\n",
              " ('X_missing_mean', 40.84405476955929),\n",
              " ('X_missing_0', 49.50657028893417),\n",
              " ('X_missing_Ranreg', 18.830708107746055)]"
            ]
          },
          "metadata": {
            "tags": []
          },
          "execution_count": 41
        }
      ]
    },
    {
      "cell_type": "markdown",
      "metadata": {
        "id": "xKCM7Qid4C14"
      },
      "source": [
        "##Visualize the result"
      ]
    },
    {
      "cell_type": "code",
      "metadata": {
        "id": "k2sU7lXl3wC0",
        "outputId": "f28d924e-61ac-472d-b11a-34789ef0bef5",
        "colab": {
          "base_uri": "https://localhost:8080/",
          "height": 404
        }
      },
      "source": [
        "x_labels = ['full data','zero imputation','mean imputation','regressor imputation']\r\n",
        "colors = ['r','g','b','orange']\r\n",
        "plt.figure(figsize=(12,6))\r\n",
        "ax = plt.subplot(111)\r\n",
        "for i in np.arange(len(mse)):\r\n",
        "  ax.barh(i,mse[i],color = colors[i], alpha=0.6,align='center') #alpha表示粗度\r\n",
        "ax.set_title(\"Imputation techniques with boston data\")\r\n",
        "ax.set_xlim(left = np.min(mse)*0.9,right = np.max(mse)*1.1) \r\n",
        "ax.set_yticks(np.arange(len(mse)))\r\n",
        "ax.set_xlabel('MSE')\r\n",
        "ax.set_yticklabels(x_labels)\r\n",
        "plt.show()"
      ],
      "execution_count": 45,
      "outputs": [
        {
          "output_type": "display_data",
          "data": {
            "image/png": "[encoded data removed]",
            "text/plain": [
              "<Figure size 864x432 with 1 Axes>"
            ]
          },
          "metadata": {
            "tags": [],
            "needs_background": "light"
          }
        }
      ]
    },
    {
      "cell_type": "markdown",
      "metadata": {
        "id": "TxZEk2we77nc"
      },
      "source": [
        "从上图可以看出regressor 来填补缺失值效果不错，但是要注意过拟合的风险"
      ]
    },
    {
      "cell_type": "code",
      "metadata": {
        "id": "AyyULu_F7W9-"
      },
      "source": [
        ""
      ],
      "execution_count": null,
      "outputs": []
    }
  ]
}
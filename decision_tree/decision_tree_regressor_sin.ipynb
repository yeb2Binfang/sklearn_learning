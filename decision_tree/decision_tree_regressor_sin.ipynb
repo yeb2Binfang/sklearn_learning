{
  "nbformat": 4,
  "nbformat_minor": 0,
  "metadata": {
    "colab": {
      "name": "decision_tree_regressor_sin.ipynb",
      "provenance": [],
      "authorship_tag": "ABX9TyNtkNJZyHyW9DB10z+bvDDz",
      "include_colab_link": true
    },
    "kernelspec": {
      "name": "python3",
      "display_name": "Python 3"
    }
  },
  "cells": [
    {
      "cell_type": "markdown",
      "metadata": {
        "id": "view-in-github",
        "colab_type": "text"
      },
      "source": [
        "<a href=\"https://colab.research.google.com/github/yeb2Binfang/sklearn_learning/blob/main/decision_tree/decision_tree_regressor_sin.ipynb\" target=\"_parent\"><img src=\"https://colab.research.google.com/assets/colab-badge.svg\" alt=\"Open In Colab\"/></a>"
      ]
    },
    {
      "cell_type": "code",
      "metadata": {
        "id": "4UT9tY-VXDEH"
      },
      "source": [
        "import numpy as np\r\n",
        "from sklearn.tree import DecisionTreeRegressor\r\n",
        "import matplotlib.pyplot as plt"
      ],
      "execution_count": 1,
      "outputs": []
    },
    {
      "cell_type": "markdown",
      "metadata": {
        "id": "mXmQD6DcYJtp"
      },
      "source": [
        "##创造一条含有噪声的正弦曲线\r\n",
        "在这一步，我们的基本思路就是先创建一组随机的，分布在0-5上的横坐标轴的取值(x), 然后将这一组值放到sin函数这里去生成纵坐标y的值，接着给y添加噪声"
      ]
    },
    {
      "cell_type": "code",
      "metadata": {
        "id": "wxdfxnKTYPDP"
      },
      "source": [
        "#让每次生成的随机数都一样\r\n",
        "rng = np.random.RandomState(1)\r\n",
        "X = np.sort(5*rng.rand(80,1),axis = 0)\r\n",
        "y = np.sin(X).ravel()\r\n",
        "#y[::5]的意思是每隔5个取一个点，对这点进行计算\r\n",
        "y[::4] += 3 * (0.5 - rng.rand(20)) \r\n"
      ],
      "execution_count": 14,
      "outputs": []
    },
    {
      "cell_type": "markdown",
      "metadata": {
        "id": "UwuzvY7UcPHk"
      },
      "source": [
        "visualize the plot"
      ]
    },
    {
      "cell_type": "code",
      "metadata": {
        "colab": {
          "base_uri": "https://localhost:8080/",
          "height": 296
        },
        "id": "tgamLTKfaXPL",
        "outputId": "04ba4303-1963-4267-b257-ec91084387ba"
      },
      "source": [
        "plt.scatter(X,y)\r\n",
        "plt.xlabel(\"X\")\r\n",
        "plt.ylabel(\"y\")"
      ],
      "execution_count": 15,
      "outputs": [
        {
          "output_type": "execute_result",
          "data": {
            "text/plain": [
              "Text(0, 0.5, 'y')"
            ]
          },
          "metadata": {
            "tags": []
          },
          "execution_count": 15
        },
        {
          "output_type": "display_data",
          "data": {
            "image/png": "[encoded data removed]",
            "text/plain": [
              "<Figure size 432x288 with 1 Axes>"
            ]
          },
          "metadata": {
            "tags": [],
            "needs_background": "light"
          }
        }
      ]
    },
    {
      "cell_type": "markdown",
      "metadata": {
        "id": "Rzpby58Uctoo"
      },
      "source": [
        "##train the model"
      ]
    },
    {
      "cell_type": "code",
      "metadata": {
        "colab": {
          "base_uri": "https://localhost:8080/"
        },
        "id": "FoeMo6y8aZuh",
        "outputId": "a42f73ae-639d-4985-aebe-a1b1b27b1373"
      },
      "source": [
        "regr_1 = DecisionTreeRegressor(max_depth=2)\r\n",
        "regr_2 = DecisionTreeRegressor(max_depth=5)\r\n",
        "regr_1.fit(X,y)\r\n",
        "regr_2.fit(X,y)"
      ],
      "execution_count": 19,
      "outputs": [
        {
          "output_type": "execute_result",
          "data": {
            "text/plain": [
              "DecisionTreeRegressor(ccp_alpha=0.0, criterion='mse', max_depth=5,\n",
              "                      max_features=None, max_leaf_nodes=None,\n",
              "                      min_impurity_decrease=0.0, min_impurity_split=None,\n",
              "                      min_samples_leaf=1, min_samples_split=2,\n",
              "                      min_weight_fraction_leaf=0.0, presort='deprecated',\n",
              "                      random_state=None, splitter='best')"
            ]
          },
          "metadata": {
            "tags": []
          },
          "execution_count": 19
        }
      ]
    },
    {
      "cell_type": "markdown",
      "metadata": {
        "id": "H6JYx-GwcwcL"
      },
      "source": [
        "##test the model\r\n",
        "np.arange(start,end, step)"
      ]
    },
    {
      "cell_type": "code",
      "metadata": {
        "colab": {
          "base_uri": "https://localhost:8080/"
        },
        "id": "JMXJVbvHcqA-",
        "outputId": "22ede14c-499b-409f-8271-340bc944bef3"
      },
      "source": [
        "X_test = np.arange(0.0,5.0,0.01)[:,np.newaxis] #因为要放进回归树，不能是一维的数据，所以要增维\r\n",
        "y_1 = regr_1.predict(X_test)\r\n",
        "y_2 = regr_2.predict(X_test)\r\n",
        "\r\n",
        "print(X_test.shape)"
      ],
      "execution_count": 22,
      "outputs": [
        {
          "output_type": "stream",
          "text": [
            "(500, 1)\n"
          ],
          "name": "stdout"
        }
      ]
    },
    {
      "cell_type": "markdown",
      "metadata": {
        "id": "V7DrppnqdY24"
      },
      "source": [
        "##Visualize the test data\r\n"
      ]
    },
    {
      "cell_type": "code",
      "metadata": {
        "colab": {
          "base_uri": "https://localhost:8080/",
          "height": 295
        },
        "id": "qQe_hDVVdX9V",
        "outputId": "6d36cb21-fefb-4013-80cc-5db61d028117"
      },
      "source": [
        "plt.figure()\r\n",
        "plt.scatter(X,y,s=20,edgecolors=\"black\", c=\"darkorange\", label = \"data\")\r\n",
        "plt.plot(X_test,y_1, color=\"cornflowerblue\", label = \"max_depth=2\",linewidth = 2)\r\n",
        "plt.plot(X_test,y_2, color = \"yellowgreen\", label = \"max_depth=5\", linewidth = 2)\r\n",
        "plt.xlabel(\"data\")\r\n",
        "plt.ylabel(\"target\")\r\n",
        "plt.title(\"Decision Tree regression\")\r\n",
        "plt.legend()\r\n",
        "plt.show()"
      ],
      "execution_count": 21,
      "outputs": [
        {
          "output_type": "display_data",
          "data": {
            "image/png": "[encoded data removed]",
            "text/plain": [
              "<Figure size 432x288 with 1 Axes>"
            ]
          },
          "metadata": {
            "tags": [],
            "needs_background": "light"
          }
        }
      ]
    },
    {
      "cell_type": "markdown",
      "metadata": {
        "id": "4aC1KrOifZgJ"
      },
      "source": [
        "我们可以看到当max_depth=5时，会把噪声也拟合上去，这就是过拟合"
      ]
    },
    {
      "cell_type": "code",
      "metadata": {
        "id": "pwJZr4kWeZtJ"
      },
      "source": [
        ""
      ],
      "execution_count": null,
      "outputs": []
    }
  ]
}
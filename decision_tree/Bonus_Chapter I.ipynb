{
  "nbformat": 4,
  "nbformat_minor": 0,
  "metadata": {
    "colab": {
      "name": "Bonus Chapter I.ipynb",
      "provenance": [],
      "authorship_tag": "ABX9TyMpsATzbEytwSb6f4Q8Iusd",
      "include_colab_link": true
    },
    "kernelspec": {
      "name": "python3",
      "display_name": "Python 3"
    }
  },
  "cells": [
    {
      "cell_type": "markdown",
      "metadata": {
        "id": "view-in-github",
        "colab_type": "text"
      },
      "source": [
        "<a href=\"https://colab.research.google.com/github/yeb2Binfang/sklearn_learning/blob/main/decision_tree/Bonus_Chapter%20I.ipynb\" target=\"_parent\"><img src=\"https://colab.research.google.com/assets/colab-badge.svg\" alt=\"Open In Colab\"/></a>"
      ]
    },
    {
      "cell_type": "markdown",
      "metadata": {
        "id": "g_kIzWs-0VpL"
      },
      "source": [
        "我们将在不同结构的数据集上测试决策树的效果，更好地去理解决策树"
      ]
    },
    {
      "cell_type": "markdown",
      "metadata": {
        "id": "Ca-w4DyN1FgJ"
      },
      "source": [
        "##import some necessary packages"
      ]
    },
    {
      "cell_type": "code",
      "metadata": {
        "id": "uKRTaLtw0Fc2"
      },
      "source": [
        "import numpy as np\r\n",
        "import matplotlib.pyplot as plt\r\n",
        "from matplotlib.colors import ListedColormap\r\n",
        "from sklearn.model_selection import train_test_split\r\n",
        "from sklearn.preprocessing import StandardScaler\r\n",
        "from sklearn.datasets import make_moons, make_circles, make_classification\r\n",
        "from sklearn.tree import DecisionTreeClassifier"
      ],
      "execution_count": 21,
      "outputs": []
    },
    {
      "cell_type": "markdown",
      "metadata": {
        "id": "KZ-Rj_QS1MUW"
      },
      "source": [
        "##Generate three different datasets\r\n",
        "we will use sklearn build_in database to generate three datasets which are moon shape, circle shape, and binary shape\r\n"
      ]
    },
    {
      "cell_type": "markdown",
      "metadata": {
        "id": "VMkfpvSU2ePZ"
      },
      "source": [
        "###二分型数据\r\n",
        "Randomly generate 100 samples with two labels"
      ]
    },
    {
      "cell_type": "code",
      "metadata": {
        "colab": {
          "base_uri": "https://localhost:8080/"
        },
        "id": "u9PMkBpV1CXi",
        "outputId": "efeb9d18-2599-43d1-9585-8022611f0b70"
      },
      "source": [
        "#make_classification database to generate 二分型数据\r\n",
        "X, y = make_classification(n_samples = 100 #100 samples\r\n",
        "                           ,n_features = 2  #2 features,\r\n",
        "                           ,n_redundant = 0\r\n",
        "                           ,n_informative = 2\r\n",
        "                           ,random_state = 1\r\n",
        "                           ,n_clusters_per_class = 1\r\n",
        "                          )\r\n",
        "print(X[0:5])\r\n",
        "print(y[0:5])"
      ],
      "execution_count": 72,
      "outputs": [
        {
          "output_type": "stream",
          "text": [
            "[[-1.04948638  0.8786438 ]\n",
            " [ 0.8780991   0.89551051]\n",
            " [ 0.95928819  1.03967316]\n",
            " [-1.18013412  1.12062155]\n",
            " [-0.90731836  1.06040861]]\n",
            "[1 0 0 1 1]\n"
          ],
          "name": "stdout"
        }
      ]
    },
    {
      "cell_type": "markdown",
      "metadata": {
        "id": "p-0Rt1_Y3S9Z"
      },
      "source": [
        "we can plot the data to see what it looks like\r\n",
        "\r\n",
        "我们从图中可以看出，两个分类还是很明显的，这样不利于我们测试分类器的效果"
      ]
    },
    {
      "cell_type": "code",
      "metadata": {
        "colab": {
          "base_uri": "https://localhost:8080/",
          "height": 296
        },
        "id": "rpDO34qZ2OzE",
        "outputId": "840f623f-5198-4f25-b4bf-423a42112e1f"
      },
      "source": [
        "for i in range(len(y)):\r\n",
        "  if y[i] == 0:\r\n",
        "    s1 = plt.scatter(X[i,0],X[i,1],c='r')\r\n",
        "  else:\r\n",
        "    s2 = plt.scatter(X[i,0],X[i,1],c='g',marker='^')\r\n",
        "plt.xlabel(\"X[:,0]\")\r\n",
        "plt.ylabel(\"X[:,1]\")\r\n",
        "plt.legend((s1,s2),('0','1'),loc='best')"
      ],
      "execution_count": 43,
      "outputs": [
        {
          "output_type": "execute_result",
          "data": {
            "text/plain": [
              "<matplotlib.legend.Legend at 0x7fa73656ae10>"
            ]
          },
          "metadata": {
            "tags": []
          },
          "execution_count": 43
        },
        {
          "output_type": "display_data",
          "data": {
            "image/png": "[encoded data removed]",
            "text/plain": [
              "<Figure size 432x288 with 1 Axes>"
            ]
          },
          "metadata": {
            "tags": [],
            "needs_background": "light"
          }
        }
      ]
    },
    {
      "cell_type": "markdown",
      "metadata": {
        "id": "d8uoXDCTMrsM"
      },
      "source": [
        "所以，我们可以用np生成随机数组，让这些数据点可以加减0~1之间的随机数。但是不能运行多次"
      ]
    },
    {
      "cell_type": "code",
      "metadata": {
        "id": "MPneqwj92s-S"
      },
      "source": [
        "rng = np.random.RandomState(2) #random mode\r\n",
        "X += 2*rng.uniform(size=X.shape)\r\n"
      ],
      "execution_count": 73,
      "outputs": []
    },
    {
      "cell_type": "code",
      "metadata": {
        "id": "gaOeHXb-PAdR"
      },
      "source": [
        "linearly_separable = (X,y)#把二分数据给保存起来"
      ],
      "execution_count": 74,
      "outputs": []
    },
    {
      "cell_type": "markdown",
      "metadata": {
        "id": "CHP1_VP-OuwR"
      },
      "source": [
        "我们把新数据用图来展示，看看是什么样子的"
      ]
    },
    {
      "cell_type": "code",
      "metadata": {
        "colab": {
          "base_uri": "https://localhost:8080/",
          "height": 297
        },
        "id": "ELqyy9pZNmbF",
        "outputId": "51b2db3a-3818-4869-993f-499d402ebd62"
      },
      "source": [
        "for i in range(len(y)):\r\n",
        "  if y[i] == 0:\r\n",
        "    s1 = plt.scatter(X[i,0],X[i,1],c='r')\r\n",
        "  else:\r\n",
        "    s2 = plt.scatter(X[i,0],X[i,1],c='g',marker='^')\r\n",
        "plt.xlabel(\"X[:,0]\")\r\n",
        "plt.ylabel(\"X[:,1]\")\r\n",
        "plt.legend((s1,s2),('0','1'),loc='best')"
      ],
      "execution_count": 45,
      "outputs": [
        {
          "output_type": "execute_result",
          "data": {
            "text/plain": [
              "<matplotlib.legend.Legend at 0x7fa7363fd6a0>"
            ]
          },
          "metadata": {
            "tags": []
          },
          "execution_count": 45
        },
        {
          "output_type": "display_data",
          "data": {
            "image/png": "[encoded data removed]",
            "text/plain": [
              "<Figure size 432x288 with 1 Axes>"
            ]
          },
          "metadata": {
            "tags": [],
            "needs_background": "light"
          }
        }
      ]
    },
    {
      "cell_type": "markdown",
      "metadata": {
        "id": "auNGg6DTO3Ln"
      },
      "source": [
        "###generate moon dataset"
      ]
    },
    {
      "cell_type": "code",
      "metadata": {
        "colab": {
          "base_uri": "https://localhost:8080/"
        },
        "id": "HU0FEVexOlVC",
        "outputId": "adfb50ec-7c76-43e0-e924-acdfa883ad24"
      },
      "source": [
        "X_moon, y_moon = make_moons(n_samples=100,noise=0.3,random_state=0)\r\n",
        "print(X[0:5])\r\n",
        "print(y[0:5])"
      ],
      "execution_count": 77,
      "outputs": [
        {
          "output_type": "stream",
          "text": [
            "[[-0.17749658  0.93049627]\n",
            " [ 1.97742406  1.76615529]\n",
            " [ 1.80002379  1.7003428 ]\n",
            " [-0.77083686  2.35916348]\n",
            " [-0.30800901  1.59406316]]\n",
            "[1 0 0 1 1]\n"
          ],
          "name": "stdout"
        }
      ]
    },
    {
      "cell_type": "code",
      "metadata": {
        "id": "mZvlWHrARPSA"
      },
      "source": [
        "moon_shape_data = (X_moon, y_moon) #store the moon dataset"
      ],
      "execution_count": 78,
      "outputs": []
    },
    {
      "cell_type": "markdown",
      "metadata": {
        "id": "ESBJAvjSQMsA"
      },
      "source": [
        "visualize the moon shape dataset"
      ]
    },
    {
      "cell_type": "code",
      "metadata": {
        "colab": {
          "base_uri": "https://localhost:8080/",
          "height": 297
        },
        "id": "rdQIfG7jPd0q",
        "outputId": "5a14afde-b5c7-48df-e2d1-4032771f4b2d"
      },
      "source": [
        "for i in range(len(y_moon)):\r\n",
        "  if y[i] == 0:\r\n",
        "    s1 = plt.scatter(X_moon[i,0],X_moon[i,1],c='b')\r\n",
        "  else:\r\n",
        "    s2 = plt.scatter(X_moon[i,0],X_moon[i,1],c='y',marker='^')\r\n",
        "plt.xlabel(\"X_moon[:,0]\")\r\n",
        "plt.ylabel(\"X_moon[:,1]\")\r\n",
        "plt.legend((s1,s2),('0','1'),loc='best')"
      ],
      "execution_count": 79,
      "outputs": [
        {
          "output_type": "execute_result",
          "data": {
            "text/plain": [
              "<matplotlib.legend.Legend at 0x7fa735a15748>"
            ]
          },
          "metadata": {
            "tags": []
          },
          "execution_count": 79
        },
        {
          "output_type": "display_data",
          "data": {
            "image/png": "[encoded data removed]",
            "text/plain": [
              "<Figure size 432x288 with 1 Axes>"
            ]
          },
          "metadata": {
            "tags": [],
            "needs_background": "light"
          }
        }
      ]
    },
    {
      "cell_type": "markdown",
      "metadata": {
        "id": "3Z4mXAx8QV08"
      },
      "source": [
        "###generate circles dataset"
      ]
    },
    {
      "cell_type": "code",
      "metadata": {
        "colab": {
          "base_uri": "https://localhost:8080/"
        },
        "id": "URSGoPGUPuKs",
        "outputId": "4f24fc23-5e91-4b92-8f09-1c812ea84e02"
      },
      "source": [
        "X_circles, y_circles = make_circles(n_samples=100,noise = 0.2, factor = 0.5, random_state=1)\r\n",
        "print(X[0:5])\r\n",
        "print(y[0:5])"
      ],
      "execution_count": 81,
      "outputs": [
        {
          "output_type": "stream",
          "text": [
            "[[-0.17749658  0.93049627]\n",
            " [ 1.97742406  1.76615529]\n",
            " [ 1.80002379  1.7003428 ]\n",
            " [-0.77083686  2.35916348]\n",
            " [-0.30800901  1.59406316]]\n",
            "[1 0 0 1 1]\n"
          ],
          "name": "stdout"
        }
      ]
    },
    {
      "cell_type": "code",
      "metadata": {
        "id": "qhJmZ2_RRkKn"
      },
      "source": [
        "circle_shape_data = (X_circles,y_circles)#保存circle data"
      ],
      "execution_count": 82,
      "outputs": []
    },
    {
      "cell_type": "markdown",
      "metadata": {
        "id": "rr82ZQZEREk6"
      },
      "source": [
        "visualize circle dataset"
      ]
    },
    {
      "cell_type": "code",
      "metadata": {
        "colab": {
          "base_uri": "https://localhost:8080/",
          "height": 297
        },
        "id": "UeanMBATQlC3",
        "outputId": "c8027917-fe99-4cf9-e064-112663fd5350"
      },
      "source": [
        "for i in range(len(y_circles)):\r\n",
        "  if y[i] == 0:\r\n",
        "    s1 = plt.scatter(X_circles[i,0],X_circles[i,1],c='g')\r\n",
        "  else:\r\n",
        "    s2 = plt.scatter(X_circles[i,0],X_circles[i,1],c='r',marker='^')\r\n",
        "plt.xlabel(\"X_circles[:,0]\")\r\n",
        "plt.ylabel(\"X_circles[:,1]\")\r\n",
        "plt.legend((s1,s2),('0','1'),loc='best')"
      ],
      "execution_count": 71,
      "outputs": [
        {
          "output_type": "execute_result",
          "data": {
            "text/plain": [
              "<matplotlib.legend.Legend at 0x7fa7351a35c0>"
            ]
          },
          "metadata": {
            "tags": []
          },
          "execution_count": 71
        },
        {
          "output_type": "display_data",
          "data": {
            "image/png": "[encoded data removed]",
            "text/plain": [
              "<Figure size 432x288 with 1 Axes>"
            ]
          },
          "metadata": {
            "tags": [],
            "needs_background": "light"
          }
        }
      ]
    },
    {
      "cell_type": "markdown",
      "metadata": {
        "id": "tTZT7xj9Rvbt"
      },
      "source": [
        "将三组数据打包起来放进datasets中"
      ]
    },
    {
      "cell_type": "code",
      "metadata": {
        "id": "iTlhm_hrQycZ"
      },
      "source": [
        "datasets = [moon_shape_data,circle_shape_data,linearly_separable]"
      ],
      "execution_count": 83,
      "outputs": []
    },
    {
      "cell_type": "markdown",
      "metadata": {
        "id": "16srcwctR9V8"
      },
      "source": [
        "##画出三种数据集合三棵决策树的分类效应图像"
      ]
    },
    {
      "cell_type": "code",
      "metadata": {
        "id": "IRmSpW1URuvh"
      },
      "source": [
        "#create figure the size is 6*9\r\n",
        "figure = plt.figure(figsize=(6,9))\r\n",
        "\r\n",
        "#the global variable which uses to indicate the graph position\r\n",
        "i = 1\r\n",
        "\r\n"
      ],
      "execution_count": null,
      "outputs": []
    }
  ]
}
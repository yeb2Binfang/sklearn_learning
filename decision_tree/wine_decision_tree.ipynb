{
  "nbformat": 4,
  "nbformat_minor": 0,
  "metadata": {
    "colab": {
      "name": "wine_decision_tree.ipynb",
      "provenance": [],
      "include_colab_link": true
    },
    "kernelspec": {
      "name": "python3",
      "display_name": "Python 3"
    }
  },
  "cells": [
    {
      "cell_type": "markdown",
      "metadata": {
        "id": "view-in-github",
        "colab_type": "text"
      },
      "source": [
        "<a href=\"https://colab.research.google.com/github/yeb2Binfang/sklearn_learning/blob/main/decision_tree/wine_decision_tree.ipynb\" target=\"_parent\"><img src=\"https://colab.research.google.com/assets/colab-badge.svg\" alt=\"Open In Colab\"/></a>"
      ]
    },
    {
      "cell_type": "markdown",
      "metadata": {
        "id": "fZOgbBE_wHlX"
      },
      "source": [
        "import necessary packages\r\n",
        "\r\n"
      ]
    },
    {
      "cell_type": "code",
      "metadata": {
        "id": "diXj3M_tl--L"
      },
      "source": [
        "from sklearn import tree\r\n",
        "from sklearn.datasets import load_wine\r\n",
        "from sklearn.model_selection import train_test_split"
      ],
      "execution_count": 1,
      "outputs": []
    },
    {
      "cell_type": "markdown",
      "metadata": {
        "id": "ZOEM46fLp8D5"
      },
      "source": [
        "##show the data\r\n",
        "so, from the data, we can know that there are three different labels whicha are \"class_0\",\"class_1\", and \"class_2\""
      ]
    },
    {
      "cell_type": "code",
      "metadata": {
        "colab": {
          "base_uri": "https://localhost:8080/"
        },
        "id": "KMFrTaK7mNX0",
        "outputId": "4dd41a25-1d56-4be2-a436-c924e18954e4"
      },
      "source": [
        "wine = load_wine() #load wine\r\n",
        "y = wine.target #the labels, there are three labels\r\n",
        "X = wine.data #the dataset\r\n",
        "\r\n",
        "##TODO\r\n",
        "#print out data shape\r\n",
        "print(\"the data shape is: \")\r\n",
        "print(X.shape)\r\n",
        "print()\r\n",
        "#print out target names\r\n",
        "print(\"the target names: \")\r\n",
        "print(wine.target_names)\r\n",
        "print()\r\n",
        "\r\n",
        "#print the counts for each labels\r\n",
        "unique, counts = np.unique(y, return_counts=True)\r\n",
        "print(dict(zip(unique, counts)))\r\n",
        "print()\r\n",
        "#print out features names\r\n",
        "print(\"the feature names: \")\r\n",
        "print(wine.feature_names)\r\n",
        "print()\r\n",
        "#print out the first 5 lines of labels\r\n",
        "print(\"the data\")\r\n",
        "print(X[:5])\r\n",
        "\r\n",
        "#print out the first 5 lines of data\r\n",
        "print()\r\n",
        "print(\"the labels' coulmn\")\r\n",
        "print(y[:5])\r\n"
      ],
      "execution_count": 34,
      "outputs": [
        {
          "output_type": "stream",
          "text": [
            "the data shape is: \n",
            "(178, 13)\n",
            "\n",
            "the target names: \n",
            "['class_0' 'class_1' 'class_2']\n",
            "\n",
            "{0: 59, 1: 71, 2: 48}\n",
            "\n",
            "the feature names: \n",
            "['alcohol', 'malic_acid', 'ash', 'alcalinity_of_ash', 'magnesium', 'total_phenols', 'flavanoids', 'nonflavanoid_phenols', 'proanthocyanins', 'color_intensity', 'hue', 'od280/od315_of_diluted_wines', 'proline']\n",
            "\n",
            "the data\n",
            "[[1.423e+01 1.710e+00 2.430e+00 1.560e+01 1.270e+02 2.800e+00 3.060e+00\n",
            "  2.800e-01 2.290e+00 5.640e+00 1.040e+00 3.920e+00 1.065e+03]\n",
            " [1.320e+01 1.780e+00 2.140e+00 1.120e+01 1.000e+02 2.650e+00 2.760e+00\n",
            "  2.600e-01 1.280e+00 4.380e+00 1.050e+00 3.400e+00 1.050e+03]\n",
            " [1.316e+01 2.360e+00 2.670e+00 1.860e+01 1.010e+02 2.800e+00 3.240e+00\n",
            "  3.000e-01 2.810e+00 5.680e+00 1.030e+00 3.170e+00 1.185e+03]\n",
            " [1.437e+01 1.950e+00 2.500e+00 1.680e+01 1.130e+02 3.850e+00 3.490e+00\n",
            "  2.400e-01 2.180e+00 7.800e+00 8.600e-01 3.450e+00 1.480e+03]\n",
            " [1.324e+01 2.590e+00 2.870e+00 2.100e+01 1.180e+02 2.800e+00 2.690e+00\n",
            "  3.900e-01 1.820e+00 4.320e+00 1.040e+00 2.930e+00 7.350e+02]]\n",
            "\n",
            "the labels' coulmn\n",
            "[0 0 0 0 0]\n"
          ],
          "name": "stdout"
        }
      ]
    },
    {
      "cell_type": "markdown",
      "metadata": {
        "id": "B8khuzm9qflO"
      },
      "source": [
        "##Visualize the data\r\n",
        "we can use \"panda\" to concat the features and targets to a full table,and change the columns names. It is very easy to visualize the data"
      ]
    },
    {
      "cell_type": "code",
      "metadata": {
        "colab": {
          "base_uri": "https://localhost:8080/",
          "height": 215
        },
        "id": "FZC7Wmftmd_Y",
        "outputId": "c0078060-18ab-4cb7-b274-294957201b60"
      },
      "source": [
        "import pandas as pd\r\n",
        "df = pd.concat([pd.DataFrame(X),pd.DataFrame(y)],axis=1)\r\n",
        "feature_names = wine.feature_names[:13]\r\n",
        "feature_names.append(\"classes\")\r\n",
        "df.columns=feature_names\r\n",
        "df[0:5]"
      ],
      "execution_count": 3,
      "outputs": [
        {
          "output_type": "execute_result",
          "data": {
            "text/html": [
              "<div>\n",
              "<style scoped>\n",
              "    .dataframe tbody tr th:only-of-type {\n",
              "        vertical-align: middle;\n",
              "    }\n",
              "\n",
              "    .dataframe tbody tr th {\n",
              "        vertical-align: top;\n",
              "    }\n",
              "\n",
              "    .dataframe thead th {\n",
              "        text-align: right;\n",
              "    }\n",
              "</style>\n",
              "<table border=\"1\" class=\"dataframe\">\n",
              "  <thead>\n",
              "    <tr style=\"text-align: right;\">\n",
              "      <th></th>\n",
              "      <th>alcohol</th>\n",
              "      <th>malic_acid</th>\n",
              "      <th>ash</th>\n",
              "      <th>alcalinity_of_ash</th>\n",
              "      <th>magnesium</th>\n",
              "      <th>total_phenols</th>\n",
              "      <th>flavanoids</th>\n",
              "      <th>nonflavanoid_phenols</th>\n",
              "      <th>proanthocyanins</th>\n",
              "      <th>color_intensity</th>\n",
              "      <th>hue</th>\n",
              "      <th>od280/od315_of_diluted_wines</th>\n",
              "      <th>proline</th>\n",
              "      <th>classes</th>\n",
              "    </tr>\n",
              "  </thead>\n",
              "  <tbody>\n",
              "    <tr>\n",
              "      <th>0</th>\n",
              "      <td>14.23</td>\n",
              "      <td>1.71</td>\n",
              "      <td>2.43</td>\n",
              "      <td>15.6</td>\n",
              "      <td>127.0</td>\n",
              "      <td>2.80</td>\n",
              "      <td>3.06</td>\n",
              "      <td>0.28</td>\n",
              "      <td>2.29</td>\n",
              "      <td>5.64</td>\n",
              "      <td>1.04</td>\n",
              "      <td>3.92</td>\n",
              "      <td>1065.0</td>\n",
              "      <td>0</td>\n",
              "    </tr>\n",
              "    <tr>\n",
              "      <th>1</th>\n",
              "      <td>13.20</td>\n",
              "      <td>1.78</td>\n",
              "      <td>2.14</td>\n",
              "      <td>11.2</td>\n",
              "      <td>100.0</td>\n",
              "      <td>2.65</td>\n",
              "      <td>2.76</td>\n",
              "      <td>0.26</td>\n",
              "      <td>1.28</td>\n",
              "      <td>4.38</td>\n",
              "      <td>1.05</td>\n",
              "      <td>3.40</td>\n",
              "      <td>1050.0</td>\n",
              "      <td>0</td>\n",
              "    </tr>\n",
              "    <tr>\n",
              "      <th>2</th>\n",
              "      <td>13.16</td>\n",
              "      <td>2.36</td>\n",
              "      <td>2.67</td>\n",
              "      <td>18.6</td>\n",
              "      <td>101.0</td>\n",
              "      <td>2.80</td>\n",
              "      <td>3.24</td>\n",
              "      <td>0.30</td>\n",
              "      <td>2.81</td>\n",
              "      <td>5.68</td>\n",
              "      <td>1.03</td>\n",
              "      <td>3.17</td>\n",
              "      <td>1185.0</td>\n",
              "      <td>0</td>\n",
              "    </tr>\n",
              "    <tr>\n",
              "      <th>3</th>\n",
              "      <td>14.37</td>\n",
              "      <td>1.95</td>\n",
              "      <td>2.50</td>\n",
              "      <td>16.8</td>\n",
              "      <td>113.0</td>\n",
              "      <td>3.85</td>\n",
              "      <td>3.49</td>\n",
              "      <td>0.24</td>\n",
              "      <td>2.18</td>\n",
              "      <td>7.80</td>\n",
              "      <td>0.86</td>\n",
              "      <td>3.45</td>\n",
              "      <td>1480.0</td>\n",
              "      <td>0</td>\n",
              "    </tr>\n",
              "    <tr>\n",
              "      <th>4</th>\n",
              "      <td>13.24</td>\n",
              "      <td>2.59</td>\n",
              "      <td>2.87</td>\n",
              "      <td>21.0</td>\n",
              "      <td>118.0</td>\n",
              "      <td>2.80</td>\n",
              "      <td>2.69</td>\n",
              "      <td>0.39</td>\n",
              "      <td>1.82</td>\n",
              "      <td>4.32</td>\n",
              "      <td>1.04</td>\n",
              "      <td>2.93</td>\n",
              "      <td>735.0</td>\n",
              "      <td>0</td>\n",
              "    </tr>\n",
              "  </tbody>\n",
              "</table>\n",
              "</div>"
            ],
            "text/plain": [
              "   alcohol  malic_acid   ash  ...  od280/od315_of_diluted_wines  proline  classes\n",
              "0    14.23        1.71  2.43  ...                          3.92   1065.0        0\n",
              "1    13.20        1.78  2.14  ...                          3.40   1050.0        0\n",
              "2    13.16        2.36  2.67  ...                          3.17   1185.0        0\n",
              "3    14.37        1.95  2.50  ...                          3.45   1480.0        0\n",
              "4    13.24        2.59  2.87  ...                          2.93    735.0        0\n",
              "\n",
              "[5 rows x 14 columns]"
            ]
          },
          "metadata": {
            "tags": []
          },
          "execution_count": 3
        }
      ]
    },
    {
      "cell_type": "markdown",
      "metadata": {
        "id": "kcWJU7c8wDJG"
      },
      "source": [
        "##split the data\r\n",
        "split data into test and traing data. The test data size is 0.3\r\n"
      ]
    },
    {
      "cell_type": "code",
      "metadata": {
        "colab": {
          "base_uri": "https://localhost:8080/"
        },
        "id": "IoqoETFnq2NJ",
        "outputId": "0af57e01-5c31-49f0-8e75-bfb664454032"
      },
      "source": [
        "Xtrain, Xtest, ytrain, ytest = train_test_split(X,y,test_size = 0.3)\r\n",
        "print(Xtrain.shape)\r\n",
        "print(Xtest.shape)"
      ],
      "execution_count": 4,
      "outputs": [
        {
          "output_type": "stream",
          "text": [
            "(124, 13)\n",
            "(54, 13)\n"
          ],
          "name": "stdout"
        }
      ]
    },
    {
      "cell_type": "markdown",
      "metadata": {
        "id": "msJTgl2YxE3Z"
      },
      "source": [
        "##train the data\r\n",
        "now, we need to build the decision tree model"
      ]
    },
    {
      "cell_type": "code",
      "metadata": {
        "colab": {
          "base_uri": "https://localhost:8080/"
        },
        "id": "q0GHZl-ow1df",
        "outputId": "6177f122-4ef2-4c66-db05-9518752242c8"
      },
      "source": [
        "#use entropy as criterion\r\n",
        "clf = tree.DecisionTreeClassifier(criterion='entropy')\r\n",
        "#fit the data\r\n",
        "clf.fit(Xtrain, ytrain)\r\n",
        "#check the accuracy\r\n",
        "score = clf.score(Xtest, ytest)\r\n",
        "print(\"The accuracy is: {0:2.5f}\".format(score))"
      ],
      "execution_count": 5,
      "outputs": [
        {
          "output_type": "stream",
          "text": [
            "The accuracy is: 0.87037\n"
          ],
          "name": "stdout"
        }
      ]
    },
    {
      "cell_type": "markdown",
      "metadata": {
        "id": "vwe4WSbmyLZG"
      },
      "source": [
        "##draw the decision tree"
      ]
    },
    {
      "cell_type": "code",
      "metadata": {
        "colab": {
          "base_uri": "https://localhost:8080/"
        },
        "id": "hrPtIbXhyp1C",
        "outputId": "81c5281f-9077-4c18-864a-7d3dff486954"
      },
      "source": [
        "wine.target_names"
      ],
      "execution_count": 6,
      "outputs": [
        {
          "output_type": "execute_result",
          "data": {
            "text/plain": [
              "array(['class_0', 'class_1', 'class_2'], dtype='<U7')"
            ]
          },
          "metadata": {
            "tags": []
          },
          "execution_count": 6
        }
      ]
    },
    {
      "cell_type": "code",
      "metadata": {
        "colab": {
          "base_uri": "https://localhost:8080/",
          "height": 757
        },
        "id": "J78gTrQpxuNd",
        "outputId": "fe00ee2f-0fd6-467c-bf3e-8c33f285a167"
      },
      "source": [
        "feature_names = wine.feature_names[:13]\r\n",
        "class_names = wine.target_names\r\n",
        "import graphviz\r\n",
        "#\"filled = true\", it means fill in the color\r\n",
        "#\"rounded = true\", it means rounded retangle\r\n",
        "dot_data = tree.export_graphviz( clf\r\n",
        "                                ,out_file=None\r\n",
        "                                ,feature_names=feature_names\r\n",
        "                                ,class_names=class_names\r\n",
        "                                ,filled=True\r\n",
        "                                ,rounded=True\r\n",
        "                               )\r\n",
        "graph = graphviz.Source(dot_data)\r\n",
        "graph"
      ],
      "execution_count": 7,
      "outputs": [
        {
          "output_type": "execute_result",
          "data": {
            "text/plain": [
              "<graphviz.files.Source at 0x7f69951c74e0>"
            ],
            "image/svg+xml": "<?xml version=\"1.0\" encoding=\"UTF-8\" standalone=\"no\"?>\n<!DOCTYPE svg PUBLIC \"-//W3C//DTD SVG 1.1//EN\"\n \"http://www.w3.org/Graphics/SVG/1.1/DTD/svg11.dtd\">\n<!-- Generated by graphviz version 2.40.1 (20161225.0304)\n -->\n<!-- Title: Tree Pages: 1 -->\n<svg width=\"844pt\" height=\"552pt\"\n viewBox=\"0.00 0.00 843.50 552.00\" xmlns=\"http://www.w3.org/2000/svg\" xmlns:xlink=\"http://www.w3.org/1999/xlink\">\n<g id=\"graph0\" class=\"graph\" transform=\"scale(1 1) rotate(0) translate(4 548)\">\n<title>Tree</title>\n<polygon fill=\"#ffffff\" stroke=\"transparent\" points=\"-4,4 -4,-548 839.5,-548 839.5,4 -4,4\"/>\n<!-- 0 -->\n<g id=\"node1\" class=\"node\">\n<title>0</title>\n<path fill=\"#defbea\" stroke=\"#000000\" d=\"M549,-544C549,-544 292,-544 292,-544 286,-544 280,-538 280,-532 280,-532 280,-473 280,-473 280,-467 286,-461 292,-461 292,-461 549,-461 549,-461 555,-461 561,-467 561,-473 561,-473 561,-532 561,-532 561,-538 555,-544 549,-544\"/>\n<text text-anchor=\"middle\" x=\"420.5\" y=\"-528.8\" font-family=\"Helvetica,sans-Serif\" font-size=\"14.00\" fill=\"#000000\">od280/od315_of_diluted_wines &lt;= 2.375</text>\n<text text-anchor=\"middle\" x=\"420.5\" y=\"-513.8\" font-family=\"Helvetica,sans-Serif\" font-size=\"14.00\" fill=\"#000000\">entropy = 1.553</text>\n<text text-anchor=\"middle\" x=\"420.5\" y=\"-498.8\" font-family=\"Helvetica,sans-Serif\" font-size=\"14.00\" fill=\"#000000\">samples = 124</text>\n<text text-anchor=\"middle\" x=\"420.5\" y=\"-483.8\" font-family=\"Helvetica,sans-Serif\" font-size=\"14.00\" fill=\"#000000\">value = [39, 53, 32]</text>\n<text text-anchor=\"middle\" x=\"420.5\" y=\"-468.8\" font-family=\"Helvetica,sans-Serif\" font-size=\"14.00\" fill=\"#000000\">class = class_1</text>\n</g>\n<!-- 1 -->\n<g id=\"node2\" class=\"node\">\n<title>1</title>\n<path fill=\"#b083ef\" stroke=\"#000000\" d=\"M400,-425C400,-425 293,-425 293,-425 287,-425 281,-419 281,-413 281,-413 281,-354 281,-354 281,-348 287,-342 293,-342 293,-342 400,-342 400,-342 406,-342 412,-348 412,-354 412,-354 412,-413 412,-413 412,-419 406,-425 400,-425\"/>\n<text text-anchor=\"middle\" x=\"346.5\" y=\"-409.8\" font-family=\"Helvetica,sans-Serif\" font-size=\"14.00\" fill=\"#000000\">hue &lt;= 0.93</text>\n<text text-anchor=\"middle\" x=\"346.5\" y=\"-394.8\" font-family=\"Helvetica,sans-Serif\" font-size=\"14.00\" fill=\"#000000\">entropy = 0.845</text>\n<text text-anchor=\"middle\" x=\"346.5\" y=\"-379.8\" font-family=\"Helvetica,sans-Serif\" font-size=\"14.00\" fill=\"#000000\">samples = 44</text>\n<text text-anchor=\"middle\" x=\"346.5\" y=\"-364.8\" font-family=\"Helvetica,sans-Serif\" font-size=\"14.00\" fill=\"#000000\">value = [0, 12, 32]</text>\n<text text-anchor=\"middle\" x=\"346.5\" y=\"-349.8\" font-family=\"Helvetica,sans-Serif\" font-size=\"14.00\" fill=\"#000000\">class = class_2</text>\n</g>\n<!-- 0&#45;&gt;1 -->\n<g id=\"edge1\" class=\"edge\">\n<title>0&#45;&gt;1</title>\n<path fill=\"none\" stroke=\"#000000\" d=\"M394.6184,-460.8796C389.1858,-452.1434 383.4008,-442.8404 377.7947,-433.8253\"/>\n<polygon fill=\"#000000\" stroke=\"#000000\" points=\"380.7451,-431.9418 372.4921,-425.2981 374.8007,-435.6383 380.7451,-431.9418\"/>\n<text text-anchor=\"middle\" x=\"366.8153\" y=\"-445.945\" font-family=\"Helvetica,sans-Serif\" font-size=\"14.00\" fill=\"#000000\">True</text>\n</g>\n<!-- 8 -->\n<g id=\"node9\" class=\"node\">\n<title>8</title>\n<path fill=\"#f5fef9\" stroke=\"#000000\" d=\"M549,-425C549,-425 442,-425 442,-425 436,-425 430,-419 430,-413 430,-413 430,-354 430,-354 430,-348 436,-342 442,-342 442,-342 549,-342 549,-342 555,-342 561,-348 561,-354 561,-354 561,-413 561,-413 561,-419 555,-425 549,-425\"/>\n<text text-anchor=\"middle\" x=\"495.5\" y=\"-409.8\" font-family=\"Helvetica,sans-Serif\" font-size=\"14.00\" fill=\"#000000\">proline &lt;= 726.5</text>\n<text text-anchor=\"middle\" x=\"495.5\" y=\"-394.8\" font-family=\"Helvetica,sans-Serif\" font-size=\"14.00\" fill=\"#000000\">entropy = 1.0</text>\n<text text-anchor=\"middle\" x=\"495.5\" y=\"-379.8\" font-family=\"Helvetica,sans-Serif\" font-size=\"14.00\" fill=\"#000000\">samples = 80</text>\n<text text-anchor=\"middle\" x=\"495.5\" y=\"-364.8\" font-family=\"Helvetica,sans-Serif\" font-size=\"14.00\" fill=\"#000000\">value = [39, 41, 0]</text>\n<text text-anchor=\"middle\" x=\"495.5\" y=\"-349.8\" font-family=\"Helvetica,sans-Serif\" font-size=\"14.00\" fill=\"#000000\">class = class_1</text>\n</g>\n<!-- 0&#45;&gt;8 -->\n<g id=\"edge8\" class=\"edge\">\n<title>0&#45;&gt;8</title>\n<path fill=\"none\" stroke=\"#000000\" d=\"M446.7314,-460.8796C452.2373,-452.1434 458.1006,-442.8404 463.7824,-433.8253\"/>\n<polygon fill=\"#000000\" stroke=\"#000000\" points=\"466.7857,-435.6242 469.1567,-425.2981 460.8637,-431.8919 466.7857,-435.6242\"/>\n<text text-anchor=\"middle\" x=\"474.6863\" y=\"-445.9789\" font-family=\"Helvetica,sans-Serif\" font-size=\"14.00\" fill=\"#000000\">False</text>\n</g>\n<!-- 2 -->\n<g id=\"node3\" class=\"node\">\n<title>2</title>\n<path fill=\"#8945e7\" stroke=\"#000000\" d=\"M256,-306C256,-306 157,-306 157,-306 151,-306 145,-300 145,-294 145,-294 145,-235 145,-235 145,-229 151,-223 157,-223 157,-223 256,-223 256,-223 262,-223 268,-229 268,-235 268,-235 268,-294 268,-294 268,-300 262,-306 256,-306\"/>\n<text text-anchor=\"middle\" x=\"206.5\" y=\"-290.8\" font-family=\"Helvetica,sans-Serif\" font-size=\"14.00\" fill=\"#000000\">hue &lt;= 0.825</text>\n<text text-anchor=\"middle\" x=\"206.5\" y=\"-275.8\" font-family=\"Helvetica,sans-Serif\" font-size=\"14.00\" fill=\"#000000\">entropy = 0.323</text>\n<text text-anchor=\"middle\" x=\"206.5\" y=\"-260.8\" font-family=\"Helvetica,sans-Serif\" font-size=\"14.00\" fill=\"#000000\">samples = 34</text>\n<text text-anchor=\"middle\" x=\"206.5\" y=\"-245.8\" font-family=\"Helvetica,sans-Serif\" font-size=\"14.00\" fill=\"#000000\">value = [0, 2, 32]</text>\n<text text-anchor=\"middle\" x=\"206.5\" y=\"-230.8\" font-family=\"Helvetica,sans-Serif\" font-size=\"14.00\" fill=\"#000000\">class = class_2</text>\n</g>\n<!-- 1&#45;&gt;2 -->\n<g id=\"edge2\" class=\"edge\">\n<title>1&#45;&gt;2</title>\n<path fill=\"none\" stroke=\"#000000\" d=\"M297.5348,-341.8796C286.5153,-332.513 274.7291,-322.4948 263.4158,-312.8784\"/>\n<polygon fill=\"#000000\" stroke=\"#000000\" points=\"265.5604,-310.1078 255.6742,-306.2981 261.0268,-315.4414 265.5604,-310.1078\"/>\n</g>\n<!-- 7 -->\n<g id=\"node8\" class=\"node\">\n<title>7</title>\n<path fill=\"#39e581\" stroke=\"#000000\" d=\"M397,-298.5C397,-298.5 298,-298.5 298,-298.5 292,-298.5 286,-292.5 286,-286.5 286,-286.5 286,-242.5 286,-242.5 286,-236.5 292,-230.5 298,-230.5 298,-230.5 397,-230.5 397,-230.5 403,-230.5 409,-236.5 409,-242.5 409,-242.5 409,-286.5 409,-286.5 409,-292.5 403,-298.5 397,-298.5\"/>\n<text text-anchor=\"middle\" x=\"347.5\" y=\"-283.3\" font-family=\"Helvetica,sans-Serif\" font-size=\"14.00\" fill=\"#000000\">entropy = 0.0</text>\n<text text-anchor=\"middle\" x=\"347.5\" y=\"-268.3\" font-family=\"Helvetica,sans-Serif\" font-size=\"14.00\" fill=\"#000000\">samples = 10</text>\n<text text-anchor=\"middle\" x=\"347.5\" y=\"-253.3\" font-family=\"Helvetica,sans-Serif\" font-size=\"14.00\" fill=\"#000000\">value = [0, 10, 0]</text>\n<text text-anchor=\"middle\" x=\"347.5\" y=\"-238.3\" font-family=\"Helvetica,sans-Serif\" font-size=\"14.00\" fill=\"#000000\">class = class_1</text>\n</g>\n<!-- 1&#45;&gt;7 -->\n<g id=\"edge7\" class=\"edge\">\n<title>1&#45;&gt;7</title>\n<path fill=\"none\" stroke=\"#000000\" d=\"M346.8498,-341.8796C346.9394,-331.2134 347.0361,-319.7021 347.1269,-308.9015\"/>\n<polygon fill=\"#000000\" stroke=\"#000000\" points=\"350.6274,-308.844 347.2116,-298.8149 343.6276,-308.7851 350.6274,-308.844\"/>\n</g>\n<!-- 3 -->\n<g id=\"node4\" class=\"node\">\n<title>3</title>\n<path fill=\"#8139e5\" stroke=\"#000000\" d=\"M111,-179.5C111,-179.5 12,-179.5 12,-179.5 6,-179.5 0,-173.5 0,-167.5 0,-167.5 0,-123.5 0,-123.5 0,-117.5 6,-111.5 12,-111.5 12,-111.5 111,-111.5 111,-111.5 117,-111.5 123,-117.5 123,-123.5 123,-123.5 123,-167.5 123,-167.5 123,-173.5 117,-179.5 111,-179.5\"/>\n<text text-anchor=\"middle\" x=\"61.5\" y=\"-164.3\" font-family=\"Helvetica,sans-Serif\" font-size=\"14.00\" fill=\"#000000\">entropy = 0.0</text>\n<text text-anchor=\"middle\" x=\"61.5\" y=\"-149.3\" font-family=\"Helvetica,sans-Serif\" font-size=\"14.00\" fill=\"#000000\">samples = 28</text>\n<text text-anchor=\"middle\" x=\"61.5\" y=\"-134.3\" font-family=\"Helvetica,sans-Serif\" font-size=\"14.00\" fill=\"#000000\">value = [0, 0, 28]</text>\n<text text-anchor=\"middle\" x=\"61.5\" y=\"-119.3\" font-family=\"Helvetica,sans-Serif\" font-size=\"14.00\" fill=\"#000000\">class = class_2</text>\n</g>\n<!-- 2&#45;&gt;3 -->\n<g id=\"edge3\" class=\"edge\">\n<title>2&#45;&gt;3</title>\n<path fill=\"none\" stroke=\"#000000\" d=\"M155.786,-222.8796C141.3156,-211.0038 125.5686,-198.0804 111.1617,-186.2568\"/>\n<polygon fill=\"#000000\" stroke=\"#000000\" points=\"113.2628,-183.4534 103.3123,-179.8149 108.822,-188.8645 113.2628,-183.4534\"/>\n</g>\n<!-- 4 -->\n<g id=\"node5\" class=\"node\">\n<title>4</title>\n<path fill=\"#c09cf2\" stroke=\"#000000\" d=\"M264,-187C264,-187 153,-187 153,-187 147,-187 141,-181 141,-175 141,-175 141,-116 141,-116 141,-110 147,-104 153,-104 153,-104 264,-104 264,-104 270,-104 276,-110 276,-116 276,-116 276,-175 276,-175 276,-181 270,-187 264,-187\"/>\n<text text-anchor=\"middle\" x=\"208.5\" y=\"-171.8\" font-family=\"Helvetica,sans-Serif\" font-size=\"14.00\" fill=\"#000000\">flavanoids &lt;= 0.91</text>\n<text text-anchor=\"middle\" x=\"208.5\" y=\"-156.8\" font-family=\"Helvetica,sans-Serif\" font-size=\"14.00\" fill=\"#000000\">entropy = 0.918</text>\n<text text-anchor=\"middle\" x=\"208.5\" y=\"-141.8\" font-family=\"Helvetica,sans-Serif\" font-size=\"14.00\" fill=\"#000000\">samples = 6</text>\n<text text-anchor=\"middle\" x=\"208.5\" y=\"-126.8\" font-family=\"Helvetica,sans-Serif\" font-size=\"14.00\" fill=\"#000000\">value = [0, 2, 4]</text>\n<text text-anchor=\"middle\" x=\"208.5\" y=\"-111.8\" font-family=\"Helvetica,sans-Serif\" font-size=\"14.00\" fill=\"#000000\">class = class_2</text>\n</g>\n<!-- 2&#45;&gt;4 -->\n<g id=\"edge4\" class=\"edge\">\n<title>2&#45;&gt;4</title>\n<path fill=\"none\" stroke=\"#000000\" d=\"M207.1995,-222.8796C207.3372,-214.6838 207.4834,-205.9891 207.626,-197.5013\"/>\n<polygon fill=\"#000000\" stroke=\"#000000\" points=\"211.1289,-197.3555 207.7975,-187.2981 204.1299,-197.2378 211.1289,-197.3555\"/>\n</g>\n<!-- 5 -->\n<g id=\"node6\" class=\"node\">\n<title>5</title>\n<path fill=\"#8139e5\" stroke=\"#000000\" d=\"M194.5,-68C194.5,-68 102.5,-68 102.5,-68 96.5,-68 90.5,-62 90.5,-56 90.5,-56 90.5,-12 90.5,-12 90.5,-6 96.5,0 102.5,0 102.5,0 194.5,0 194.5,0 200.5,0 206.5,-6 206.5,-12 206.5,-12 206.5,-56 206.5,-56 206.5,-62 200.5,-68 194.5,-68\"/>\n<text text-anchor=\"middle\" x=\"148.5\" y=\"-52.8\" font-family=\"Helvetica,sans-Serif\" font-size=\"14.00\" fill=\"#000000\">entropy = 0.0</text>\n<text text-anchor=\"middle\" x=\"148.5\" y=\"-37.8\" font-family=\"Helvetica,sans-Serif\" font-size=\"14.00\" fill=\"#000000\">samples = 4</text>\n<text text-anchor=\"middle\" x=\"148.5\" y=\"-22.8\" font-family=\"Helvetica,sans-Serif\" font-size=\"14.00\" fill=\"#000000\">value = [0, 0, 4]</text>\n<text text-anchor=\"middle\" x=\"148.5\" y=\"-7.8\" font-family=\"Helvetica,sans-Serif\" font-size=\"14.00\" fill=\"#000000\">class = class_2</text>\n</g>\n<!-- 4&#45;&gt;5 -->\n<g id=\"edge5\" class=\"edge\">\n<title>4&#45;&gt;5</title>\n<path fill=\"none\" stroke=\"#000000\" d=\"M186.1582,-103.9815C181.4598,-95.2504 176.4929,-86.0202 171.7617,-77.2281\"/>\n<polygon fill=\"#000000\" stroke=\"#000000\" points=\"174.7586,-75.4111 166.9379,-68.2637 168.5944,-78.7282 174.7586,-75.4111\"/>\n</g>\n<!-- 6 -->\n<g id=\"node7\" class=\"node\">\n<title>6</title>\n<path fill=\"#39e581\" stroke=\"#000000\" d=\"M328.5,-68C328.5,-68 236.5,-68 236.5,-68 230.5,-68 224.5,-62 224.5,-56 224.5,-56 224.5,-12 224.5,-12 224.5,-6 230.5,0 236.5,0 236.5,0 328.5,0 328.5,0 334.5,0 340.5,-6 340.5,-12 340.5,-12 340.5,-56 340.5,-56 340.5,-62 334.5,-68 328.5,-68\"/>\n<text text-anchor=\"middle\" x=\"282.5\" y=\"-52.8\" font-family=\"Helvetica,sans-Serif\" font-size=\"14.00\" fill=\"#000000\">entropy = 0.0</text>\n<text text-anchor=\"middle\" x=\"282.5\" y=\"-37.8\" font-family=\"Helvetica,sans-Serif\" font-size=\"14.00\" fill=\"#000000\">samples = 2</text>\n<text text-anchor=\"middle\" x=\"282.5\" y=\"-22.8\" font-family=\"Helvetica,sans-Serif\" font-size=\"14.00\" fill=\"#000000\">value = [0, 2, 0]</text>\n<text text-anchor=\"middle\" x=\"282.5\" y=\"-7.8\" font-family=\"Helvetica,sans-Serif\" font-size=\"14.00\" fill=\"#000000\">class = class_1</text>\n</g>\n<!-- 4&#45;&gt;6 -->\n<g id=\"edge6\" class=\"edge\">\n<title>4&#45;&gt;6</title>\n<path fill=\"none\" stroke=\"#000000\" d=\"M236.0549,-103.9815C241.9715,-95.0666 248.2335,-85.6313 254.1787,-76.6734\"/>\n<polygon fill=\"#000000\" stroke=\"#000000\" points=\"257.1464,-78.5311 259.76,-68.2637 251.314,-74.6602 257.1464,-78.5311\"/>\n</g>\n<!-- 9 -->\n<g id=\"node10\" class=\"node\">\n<title>9</title>\n<path fill=\"#3ee684\" stroke=\"#000000\" d=\"M548.5,-306C548.5,-306 440.5,-306 440.5,-306 434.5,-306 428.5,-300 428.5,-294 428.5,-294 428.5,-235 428.5,-235 428.5,-229 434.5,-223 440.5,-223 440.5,-223 548.5,-223 548.5,-223 554.5,-223 560.5,-229 560.5,-235 560.5,-235 560.5,-294 560.5,-294 560.5,-300 554.5,-306 548.5,-306\"/>\n<text text-anchor=\"middle\" x=\"494.5\" y=\"-290.8\" font-family=\"Helvetica,sans-Serif\" font-size=\"14.00\" fill=\"#000000\">alcohol &lt;= 13.175</text>\n<text text-anchor=\"middle\" x=\"494.5\" y=\"-275.8\" font-family=\"Helvetica,sans-Serif\" font-size=\"14.00\" fill=\"#000000\">entropy = 0.165</text>\n<text text-anchor=\"middle\" x=\"494.5\" y=\"-260.8\" font-family=\"Helvetica,sans-Serif\" font-size=\"14.00\" fill=\"#000000\">samples = 41</text>\n<text text-anchor=\"middle\" x=\"494.5\" y=\"-245.8\" font-family=\"Helvetica,sans-Serif\" font-size=\"14.00\" fill=\"#000000\">value = [1, 40, 0]</text>\n<text text-anchor=\"middle\" x=\"494.5\" y=\"-230.8\" font-family=\"Helvetica,sans-Serif\" font-size=\"14.00\" fill=\"#000000\">class = class_1</text>\n</g>\n<!-- 8&#45;&gt;9 -->\n<g id=\"edge9\" class=\"edge\">\n<title>8&#45;&gt;9</title>\n<path fill=\"none\" stroke=\"#000000\" d=\"M495.1502,-341.8796C495.0814,-333.6838 495.0083,-324.9891 494.937,-316.5013\"/>\n<polygon fill=\"#000000\" stroke=\"#000000\" points=\"498.4352,-316.2683 494.8512,-306.2981 491.4355,-316.3272 498.4352,-316.2683\"/>\n</g>\n<!-- 14 -->\n<g id=\"node15\" class=\"node\">\n<title>14</title>\n<path fill=\"#e6843e\" stroke=\"#000000\" d=\"M690,-306C690,-306 591,-306 591,-306 585,-306 579,-300 579,-294 579,-294 579,-235 579,-235 579,-229 585,-223 591,-223 591,-223 690,-223 690,-223 696,-223 702,-229 702,-235 702,-235 702,-294 702,-294 702,-300 696,-306 690,-306\"/>\n<text text-anchor=\"middle\" x=\"640.5\" y=\"-290.8\" font-family=\"Helvetica,sans-Serif\" font-size=\"14.00\" fill=\"#000000\">hue &lt;= 1.28</text>\n<text text-anchor=\"middle\" x=\"640.5\" y=\"-275.8\" font-family=\"Helvetica,sans-Serif\" font-size=\"14.00\" fill=\"#000000\">entropy = 0.172</text>\n<text text-anchor=\"middle\" x=\"640.5\" y=\"-260.8\" font-family=\"Helvetica,sans-Serif\" font-size=\"14.00\" fill=\"#000000\">samples = 39</text>\n<text text-anchor=\"middle\" x=\"640.5\" y=\"-245.8\" font-family=\"Helvetica,sans-Serif\" font-size=\"14.00\" fill=\"#000000\">value = [38, 1, 0]</text>\n<text text-anchor=\"middle\" x=\"640.5\" y=\"-230.8\" font-family=\"Helvetica,sans-Serif\" font-size=\"14.00\" fill=\"#000000\">class = class_0</text>\n</g>\n<!-- 8&#45;&gt;14 -->\n<g id=\"edge14\" class=\"edge\">\n<title>8&#45;&gt;14</title>\n<path fill=\"none\" stroke=\"#000000\" d=\"M546.214,-341.8796C557.627,-332.513 569.8341,-322.4948 581.5515,-312.8784\"/>\n<polygon fill=\"#000000\" stroke=\"#000000\" points=\"584.0599,-315.3476 589.5696,-306.2981 579.6191,-309.9366 584.0599,-315.3476\"/>\n</g>\n<!-- 10 -->\n<g id=\"node11\" class=\"node\">\n<title>10</title>\n<path fill=\"#39e581\" stroke=\"#000000\" d=\"M409,-179.5C409,-179.5 310,-179.5 310,-179.5 304,-179.5 298,-173.5 298,-167.5 298,-167.5 298,-123.5 298,-123.5 298,-117.5 304,-111.5 310,-111.5 310,-111.5 409,-111.5 409,-111.5 415,-111.5 421,-117.5 421,-123.5 421,-123.5 421,-167.5 421,-167.5 421,-173.5 415,-179.5 409,-179.5\"/>\n<text text-anchor=\"middle\" x=\"359.5\" y=\"-164.3\" font-family=\"Helvetica,sans-Serif\" font-size=\"14.00\" fill=\"#000000\">entropy = 0.0</text>\n<text text-anchor=\"middle\" x=\"359.5\" y=\"-149.3\" font-family=\"Helvetica,sans-Serif\" font-size=\"14.00\" fill=\"#000000\">samples = 38</text>\n<text text-anchor=\"middle\" x=\"359.5\" y=\"-134.3\" font-family=\"Helvetica,sans-Serif\" font-size=\"14.00\" fill=\"#000000\">value = [0, 38, 0]</text>\n<text text-anchor=\"middle\" x=\"359.5\" y=\"-119.3\" font-family=\"Helvetica,sans-Serif\" font-size=\"14.00\" fill=\"#000000\">class = class_1</text>\n</g>\n<!-- 9&#45;&gt;10 -->\n<g id=\"edge10\" class=\"edge\">\n<title>9&#45;&gt;10</title>\n<path fill=\"none\" stroke=\"#000000\" d=\"M447.2836,-222.8796C433.9358,-211.1138 419.4215,-198.3197 406.1096,-186.5855\"/>\n<polygon fill=\"#000000\" stroke=\"#000000\" points=\"408.2448,-183.8019 398.4287,-179.8149 403.616,-189.0531 408.2448,-183.8019\"/>\n</g>\n<!-- 11 -->\n<g id=\"node12\" class=\"node\">\n<title>11</title>\n<path fill=\"#9cf2c0\" stroke=\"#000000\" d=\"M545.5,-187C545.5,-187 451.5,-187 451.5,-187 445.5,-187 439.5,-181 439.5,-175 439.5,-175 439.5,-116 439.5,-116 439.5,-110 445.5,-104 451.5,-104 451.5,-104 545.5,-104 545.5,-104 551.5,-104 557.5,-110 557.5,-116 557.5,-116 557.5,-175 557.5,-175 557.5,-181 551.5,-187 545.5,-187\"/>\n<text text-anchor=\"middle\" x=\"498.5\" y=\"-171.8\" font-family=\"Helvetica,sans-Serif\" font-size=\"14.00\" fill=\"#000000\">hue &lt;= 1.025</text>\n<text text-anchor=\"middle\" x=\"498.5\" y=\"-156.8\" font-family=\"Helvetica,sans-Serif\" font-size=\"14.00\" fill=\"#000000\">entropy = 0.918</text>\n<text text-anchor=\"middle\" x=\"498.5\" y=\"-141.8\" font-family=\"Helvetica,sans-Serif\" font-size=\"14.00\" fill=\"#000000\">samples = 3</text>\n<text text-anchor=\"middle\" x=\"498.5\" y=\"-126.8\" font-family=\"Helvetica,sans-Serif\" font-size=\"14.00\" fill=\"#000000\">value = [1, 2, 0]</text>\n<text text-anchor=\"middle\" x=\"498.5\" y=\"-111.8\" font-family=\"Helvetica,sans-Serif\" font-size=\"14.00\" fill=\"#000000\">class = class_1</text>\n</g>\n<!-- 9&#45;&gt;11 -->\n<g id=\"edge11\" class=\"edge\">\n<title>9&#45;&gt;11</title>\n<path fill=\"none\" stroke=\"#000000\" d=\"M495.899,-222.8796C496.1745,-214.6838 496.4668,-205.9891 496.7521,-197.5013\"/>\n<polygon fill=\"#000000\" stroke=\"#000000\" points=\"500.257,-197.41 497.095,-187.2981 493.261,-197.1748 500.257,-197.41\"/>\n</g>\n<!-- 12 -->\n<g id=\"node13\" class=\"node\">\n<title>12</title>\n<path fill=\"#e58139\" stroke=\"#000000\" d=\"M471.5,-68C471.5,-68 379.5,-68 379.5,-68 373.5,-68 367.5,-62 367.5,-56 367.5,-56 367.5,-12 367.5,-12 367.5,-6 373.5,0 379.5,0 379.5,0 471.5,0 471.5,0 477.5,0 483.5,-6 483.5,-12 483.5,-12 483.5,-56 483.5,-56 483.5,-62 477.5,-68 471.5,-68\"/>\n<text text-anchor=\"middle\" x=\"425.5\" y=\"-52.8\" font-family=\"Helvetica,sans-Serif\" font-size=\"14.00\" fill=\"#000000\">entropy = 0.0</text>\n<text text-anchor=\"middle\" x=\"425.5\" y=\"-37.8\" font-family=\"Helvetica,sans-Serif\" font-size=\"14.00\" fill=\"#000000\">samples = 1</text>\n<text text-anchor=\"middle\" x=\"425.5\" y=\"-22.8\" font-family=\"Helvetica,sans-Serif\" font-size=\"14.00\" fill=\"#000000\">value = [1, 0, 0]</text>\n<text text-anchor=\"middle\" x=\"425.5\" y=\"-7.8\" font-family=\"Helvetica,sans-Serif\" font-size=\"14.00\" fill=\"#000000\">class = class_0</text>\n</g>\n<!-- 11&#45;&gt;12 -->\n<g id=\"edge12\" class=\"edge\">\n<title>11&#45;&gt;12</title>\n<path fill=\"none\" stroke=\"#000000\" d=\"M471.3175,-103.9815C465.4808,-95.0666 459.3034,-85.6313 453.4386,-76.6734\"/>\n<polygon fill=\"#000000\" stroke=\"#000000\" points=\"456.3386,-74.7129 447.9327,-68.2637 450.4821,-78.5472 456.3386,-74.7129\"/>\n</g>\n<!-- 13 -->\n<g id=\"node14\" class=\"node\">\n<title>13</title>\n<path fill=\"#39e581\" stroke=\"#000000\" d=\"M605.5,-68C605.5,-68 513.5,-68 513.5,-68 507.5,-68 501.5,-62 501.5,-56 501.5,-56 501.5,-12 501.5,-12 501.5,-6 507.5,0 513.5,0 513.5,0 605.5,0 605.5,0 611.5,0 617.5,-6 617.5,-12 617.5,-12 617.5,-56 617.5,-56 617.5,-62 611.5,-68 605.5,-68\"/>\n<text text-anchor=\"middle\" x=\"559.5\" y=\"-52.8\" font-family=\"Helvetica,sans-Serif\" font-size=\"14.00\" fill=\"#000000\">entropy = 0.0</text>\n<text text-anchor=\"middle\" x=\"559.5\" y=\"-37.8\" font-family=\"Helvetica,sans-Serif\" font-size=\"14.00\" fill=\"#000000\">samples = 2</text>\n<text text-anchor=\"middle\" x=\"559.5\" y=\"-22.8\" font-family=\"Helvetica,sans-Serif\" font-size=\"14.00\" fill=\"#000000\">value = [0, 2, 0]</text>\n<text text-anchor=\"middle\" x=\"559.5\" y=\"-7.8\" font-family=\"Helvetica,sans-Serif\" font-size=\"14.00\" fill=\"#000000\">class = class_1</text>\n</g>\n<!-- 11&#45;&gt;13 -->\n<g id=\"edge13\" class=\"edge\">\n<title>11&#45;&gt;13</title>\n<path fill=\"none\" stroke=\"#000000\" d=\"M521.2141,-103.9815C525.9908,-95.2504 531.0405,-86.0202 535.8506,-77.2281\"/>\n<polygon fill=\"#000000\" stroke=\"#000000\" points=\"539.0258,-78.7165 540.7549,-68.2637 532.8847,-75.3568 539.0258,-78.7165\"/>\n</g>\n<!-- 15 -->\n<g id=\"node16\" class=\"node\">\n<title>15</title>\n<path fill=\"#e58139\" stroke=\"#000000\" d=\"M689,-179.5C689,-179.5 590,-179.5 590,-179.5 584,-179.5 578,-173.5 578,-167.5 578,-167.5 578,-123.5 578,-123.5 578,-117.5 584,-111.5 590,-111.5 590,-111.5 689,-111.5 689,-111.5 695,-111.5 701,-117.5 701,-123.5 701,-123.5 701,-167.5 701,-167.5 701,-173.5 695,-179.5 689,-179.5\"/>\n<text text-anchor=\"middle\" x=\"639.5\" y=\"-164.3\" font-family=\"Helvetica,sans-Serif\" font-size=\"14.00\" fill=\"#000000\">entropy = 0.0</text>\n<text text-anchor=\"middle\" x=\"639.5\" y=\"-149.3\" font-family=\"Helvetica,sans-Serif\" font-size=\"14.00\" fill=\"#000000\">samples = 38</text>\n<text text-anchor=\"middle\" x=\"639.5\" y=\"-134.3\" font-family=\"Helvetica,sans-Serif\" font-size=\"14.00\" fill=\"#000000\">value = [38, 0, 0]</text>\n<text text-anchor=\"middle\" x=\"639.5\" y=\"-119.3\" font-family=\"Helvetica,sans-Serif\" font-size=\"14.00\" fill=\"#000000\">class = class_0</text>\n</g>\n<!-- 14&#45;&gt;15 -->\n<g id=\"edge15\" class=\"edge\">\n<title>14&#45;&gt;15</title>\n<path fill=\"none\" stroke=\"#000000\" d=\"M640.1502,-222.8796C640.0606,-212.2134 639.9639,-200.7021 639.8731,-189.9015\"/>\n<polygon fill=\"#000000\" stroke=\"#000000\" points=\"643.3724,-189.7851 639.7884,-179.8149 636.3726,-189.844 643.3724,-189.7851\"/>\n</g>\n<!-- 16 -->\n<g id=\"node17\" class=\"node\">\n<title>16</title>\n<path fill=\"#39e581\" stroke=\"#000000\" d=\"M823.5,-179.5C823.5,-179.5 731.5,-179.5 731.5,-179.5 725.5,-179.5 719.5,-173.5 719.5,-167.5 719.5,-167.5 719.5,-123.5 719.5,-123.5 719.5,-117.5 725.5,-111.5 731.5,-111.5 731.5,-111.5 823.5,-111.5 823.5,-111.5 829.5,-111.5 835.5,-117.5 835.5,-123.5 835.5,-123.5 835.5,-167.5 835.5,-167.5 835.5,-173.5 829.5,-179.5 823.5,-179.5\"/>\n<text text-anchor=\"middle\" x=\"777.5\" y=\"-164.3\" font-family=\"Helvetica,sans-Serif\" font-size=\"14.00\" fill=\"#000000\">entropy = 0.0</text>\n<text text-anchor=\"middle\" x=\"777.5\" y=\"-149.3\" font-family=\"Helvetica,sans-Serif\" font-size=\"14.00\" fill=\"#000000\">samples = 1</text>\n<text text-anchor=\"middle\" x=\"777.5\" y=\"-134.3\" font-family=\"Helvetica,sans-Serif\" font-size=\"14.00\" fill=\"#000000\">value = [0, 1, 0]</text>\n<text text-anchor=\"middle\" x=\"777.5\" y=\"-119.3\" font-family=\"Helvetica,sans-Serif\" font-size=\"14.00\" fill=\"#000000\">class = class_1</text>\n</g>\n<!-- 14&#45;&gt;16 -->\n<g id=\"edge16\" class=\"edge\">\n<title>14&#45;&gt;16</title>\n<path fill=\"none\" stroke=\"#000000\" d=\"M688.416,-222.8796C701.9615,-211.1138 716.6908,-198.3197 730.1998,-186.5855\"/>\n<polygon fill=\"#000000\" stroke=\"#000000\" points=\"732.7401,-189.015 737.9946,-179.8149 728.1497,-183.7303 732.7401,-189.015\"/>\n</g>\n</g>\n</svg>\n"
          },
          "metadata": {
            "tags": []
          },
          "execution_count": 7
        }
      ]
    },
    {
      "cell_type": "markdown",
      "metadata": {
        "id": "VUPaWw3CDRmP"
      },
      "source": [
        "##explore the decision tree. \r\n",
        "There are 13 features in the table but in the decision tree, it only use some of them.So, we can print the coef of feature importance. If the value is 0, it means it is not important\r\n",
        "\r\n"
      ]
    },
    {
      "cell_type": "code",
      "metadata": {
        "colab": {
          "base_uri": "https://localhost:8080/"
        },
        "id": "w8jpAmORy8NV",
        "outputId": "41890b98-3a2e-417c-b507-ce84fa37bca3"
      },
      "source": [
        "clf.feature_importances_"
      ],
      "execution_count": 8,
      "outputs": [
        {
          "output_type": "execute_result",
          "data": {
            "text/plain": [
              "array([0.02091077, 0.        , 0.        , 0.        , 0.        ,\n",
              "       0.        , 0.02860588, 0.        , 0.        , 0.        ,\n",
              "       0.21364427, 0.39172708, 0.34511201])"
            ]
          },
          "metadata": {
            "tags": []
          },
          "execution_count": 8
        }
      ]
    },
    {
      "cell_type": "code",
      "metadata": {
        "colab": {
          "base_uri": "https://localhost:8080/"
        },
        "id": "1ucOSOy9Dka8",
        "outputId": "28d58f01-e394-4a68-aa80-924f4dcc3288"
      },
      "source": [
        "[*zip(feature_names,clf.feature_importances_)]"
      ],
      "execution_count": 9,
      "outputs": [
        {
          "output_type": "execute_result",
          "data": {
            "text/plain": [
              "[('alcohol', 0.02091077083837437),\n",
              " ('malic_acid', 0.0),\n",
              " ('ash', 0.0),\n",
              " ('alcalinity_of_ash', 0.0),\n",
              " ('magnesium', 0.0),\n",
              " ('total_phenols', 0.0),\n",
              " ('flavanoids', 0.028605880638961183),\n",
              " ('nonflavanoid_phenols', 0.0),\n",
              " ('proanthocyanins', 0.0),\n",
              " ('color_intensity', 0.0),\n",
              " ('hue', 0.21364426618693538),\n",
              " ('od280/od315_of_diluted_wines', 0.39172707532735396),\n",
              " ('proline', 0.3451120070083751)]"
            ]
          },
          "metadata": {
            "tags": []
          },
          "execution_count": 9
        }
      ]
    },
    {
      "cell_type": "markdown",
      "metadata": {
        "id": "Eion_PLLFIqF"
      },
      "source": [
        "we can also use the stem plot to visualize the importance of features"
      ]
    },
    {
      "cell_type": "code",
      "metadata": {
        "colab": {
          "base_uri": "https://localhost:8080/",
          "height": 297
        },
        "id": "eudBYwQ_D7BK",
        "outputId": "116c2253-8c09-4293-ca6a-d9d9eda09e8d"
      },
      "source": [
        "import numpy as np\r\n",
        "import matplotlib.pyplot as plt\r\n",
        "plt.stem(clf.feature_importances_, use_line_collection=True)\r\n",
        "plt.xlabel(\"feature_names\")\r\n",
        "plt.ylabel(\"coeff\")"
      ],
      "execution_count": 10,
      "outputs": [
        {
          "output_type": "execute_result",
          "data": {
            "text/plain": [
              "Text(0, 0.5, 'coeff')"
            ]
          },
          "metadata": {
            "tags": []
          },
          "execution_count": 10
        },
        {
          "output_type": "display_data",
          "data": {
            "image/png": "[encoded data removed]",
            "text/plain": [
              "<Figure size 432x288 with 1 Axes>"
            ]
          },
          "metadata": {
            "tags": [],
            "needs_background": "light"
          }
        }
      ]
    },
    {
      "cell_type": "markdown",
      "metadata": {
        "id": "B1DIu1enLIio"
      },
      "source": [
        "##understand the parameter random_state\r\n",
        "random_state will make the model become stable"
      ]
    },
    {
      "cell_type": "code",
      "metadata": {
        "colab": {
          "base_uri": "https://localhost:8080/"
        },
        "id": "3PhFT9kbEgty",
        "outputId": "d0b27114-8a8d-4599-9acb-c23c793f1c64"
      },
      "source": [
        "#use entropy as criterion\r\n",
        "clf = tree.DecisionTreeClassifier( criterion='entropy'\r\n",
        "                                  ,random_state=5\r\n",
        "                                )\r\n",
        "#fit the data\r\n",
        "clf.fit(Xtrain, ytrain)\r\n",
        "#check the accuracy\r\n",
        "score = clf.score(Xtest, ytest)\r\n",
        "print(\"The accuracy is: {0:2.5f}\".format(score))"
      ],
      "execution_count": 11,
      "outputs": [
        {
          "output_type": "stream",
          "text": [
            "The accuracy is: 0.88889\n"
          ],
          "name": "stdout"
        }
      ]
    },
    {
      "cell_type": "markdown",
      "metadata": {
        "id": "TzySZJnHLbGi"
      },
      "source": [
        "##understand the parameter splitter\r\n"
      ]
    },
    {
      "cell_type": "code",
      "metadata": {
        "colab": {
          "base_uri": "https://localhost:8080/"
        },
        "id": "wWnKF7qaKQVJ",
        "outputId": "d91b8955-b04c-4661-8dc1-925db52aa39c"
      },
      "source": [
        "#use entropy as criterion\r\n",
        "clf = tree.DecisionTreeClassifier( criterion='entropy'\r\n",
        "                                  ,random_state=5\r\n",
        "                                  #,splitter='random'\r\n",
        "                                )\r\n",
        "#fit the data\r\n",
        "clf.fit(Xtrain, ytrain)\r\n",
        "#check the accuracy\r\n",
        "score = clf.score(Xtest, ytest)\r\n",
        "print(\"The accuracy is: {0:2.5f}\".format(score))"
      ],
      "execution_count": 12,
      "outputs": [
        {
          "output_type": "stream",
          "text": [
            "The accuracy is: 0.88889\n"
          ],
          "name": "stdout"
        }
      ]
    },
    {
      "cell_type": "markdown",
      "metadata": {
        "id": "Husvef8LNZGn"
      },
      "source": [
        "Without using the parameter splitter\r\n"
      ]
    },
    {
      "cell_type": "code",
      "metadata": {
        "colab": {
          "base_uri": "https://localhost:8080/",
          "height": 757
        },
        "id": "8Hwt1AZJLmHN",
        "outputId": "ef9e0073-a1f9-4ad6-ebbc-d13558900296"
      },
      "source": [
        "dot_data = tree.export_graphviz( clf\r\n",
        "                                ,out_file=None\r\n",
        "                                ,feature_names=feature_names\r\n",
        "                                ,class_names=class_names\r\n",
        "                                ,filled=True\r\n",
        "                                ,rounded=True\r\n",
        "                               )\r\n",
        "graph = graphviz.Source(dot_data)\r\n",
        "graph"
      ],
      "execution_count": 13,
      "outputs": [
        {
          "output_type": "execute_result",
          "data": {
            "text/plain": [
              "<graphviz.files.Source at 0x7f69c7e093c8>"
            ],
            "image/svg+xml": "<?xml version=\"1.0\" encoding=\"UTF-8\" standalone=\"no\"?>\n<!DOCTYPE svg PUBLIC \"-//W3C//DTD SVG 1.1//EN\"\n \"http://www.w3.org/Graphics/SVG/1.1/DTD/svg11.dtd\">\n<!-- Generated by graphviz version 2.40.1 (20161225.0304)\n -->\n<!-- Title: Tree Pages: 1 -->\n<svg width=\"891pt\" height=\"552pt\"\n viewBox=\"0.00 0.00 890.50 552.00\" xmlns=\"http://www.w3.org/2000/svg\" xmlns:xlink=\"http://www.w3.org/1999/xlink\">\n<g id=\"graph0\" class=\"graph\" transform=\"scale(1 1) rotate(0) translate(4 548)\">\n<title>Tree</title>\n<polygon fill=\"#ffffff\" stroke=\"transparent\" points=\"-4,4 -4,-548 886.5,-548 886.5,4 -4,4\"/>\n<!-- 0 -->\n<g id=\"node1\" class=\"node\">\n<title>0</title>\n<path fill=\"#defbea\" stroke=\"#000000\" d=\"M570,-544C570,-544 313,-544 313,-544 307,-544 301,-538 301,-532 301,-532 301,-473 301,-473 301,-467 307,-461 313,-461 313,-461 570,-461 570,-461 576,-461 582,-467 582,-473 582,-473 582,-532 582,-532 582,-538 576,-544 570,-544\"/>\n<text text-anchor=\"middle\" x=\"441.5\" y=\"-528.8\" font-family=\"Helvetica,sans-Serif\" font-size=\"14.00\" fill=\"#000000\">od280/od315_of_diluted_wines &lt;= 2.375</text>\n<text text-anchor=\"middle\" x=\"441.5\" y=\"-513.8\" font-family=\"Helvetica,sans-Serif\" font-size=\"14.00\" fill=\"#000000\">entropy = 1.553</text>\n<text text-anchor=\"middle\" x=\"441.5\" y=\"-498.8\" font-family=\"Helvetica,sans-Serif\" font-size=\"14.00\" fill=\"#000000\">samples = 124</text>\n<text text-anchor=\"middle\" x=\"441.5\" y=\"-483.8\" font-family=\"Helvetica,sans-Serif\" font-size=\"14.00\" fill=\"#000000\">value = [39, 53, 32]</text>\n<text text-anchor=\"middle\" x=\"441.5\" y=\"-468.8\" font-family=\"Helvetica,sans-Serif\" font-size=\"14.00\" fill=\"#000000\">class = class_1</text>\n</g>\n<!-- 1 -->\n<g id=\"node2\" class=\"node\">\n<title>1</title>\n<path fill=\"#b083ef\" stroke=\"#000000\" d=\"M421,-425C421,-425 314,-425 314,-425 308,-425 302,-419 302,-413 302,-413 302,-354 302,-354 302,-348 308,-342 314,-342 314,-342 421,-342 421,-342 427,-342 433,-348 433,-354 433,-354 433,-413 433,-413 433,-419 427,-425 421,-425\"/>\n<text text-anchor=\"middle\" x=\"367.5\" y=\"-409.8\" font-family=\"Helvetica,sans-Serif\" font-size=\"14.00\" fill=\"#000000\">hue &lt;= 0.93</text>\n<text text-anchor=\"middle\" x=\"367.5\" y=\"-394.8\" font-family=\"Helvetica,sans-Serif\" font-size=\"14.00\" fill=\"#000000\">entropy = 0.845</text>\n<text text-anchor=\"middle\" x=\"367.5\" y=\"-379.8\" font-family=\"Helvetica,sans-Serif\" font-size=\"14.00\" fill=\"#000000\">samples = 44</text>\n<text text-anchor=\"middle\" x=\"367.5\" y=\"-364.8\" font-family=\"Helvetica,sans-Serif\" font-size=\"14.00\" fill=\"#000000\">value = [0, 12, 32]</text>\n<text text-anchor=\"middle\" x=\"367.5\" y=\"-349.8\" font-family=\"Helvetica,sans-Serif\" font-size=\"14.00\" fill=\"#000000\">class = class_2</text>\n</g>\n<!-- 0&#45;&gt;1 -->\n<g id=\"edge1\" class=\"edge\">\n<title>0&#45;&gt;1</title>\n<path fill=\"none\" stroke=\"#000000\" d=\"M415.6184,-460.8796C410.1858,-452.1434 404.4008,-442.8404 398.7947,-433.8253\"/>\n<polygon fill=\"#000000\" stroke=\"#000000\" points=\"401.7451,-431.9418 393.4921,-425.2981 395.8007,-435.6383 401.7451,-431.9418\"/>\n<text text-anchor=\"middle\" x=\"387.8153\" y=\"-445.945\" font-family=\"Helvetica,sans-Serif\" font-size=\"14.00\" fill=\"#000000\">True</text>\n</g>\n<!-- 8 -->\n<g id=\"node9\" class=\"node\">\n<title>8</title>\n<path fill=\"#f5fef9\" stroke=\"#000000\" d=\"M570,-425C570,-425 463,-425 463,-425 457,-425 451,-419 451,-413 451,-413 451,-354 451,-354 451,-348 457,-342 463,-342 463,-342 570,-342 570,-342 576,-342 582,-348 582,-354 582,-354 582,-413 582,-413 582,-419 576,-425 570,-425\"/>\n<text text-anchor=\"middle\" x=\"516.5\" y=\"-409.8\" font-family=\"Helvetica,sans-Serif\" font-size=\"14.00\" fill=\"#000000\">proline &lt;= 726.5</text>\n<text text-anchor=\"middle\" x=\"516.5\" y=\"-394.8\" font-family=\"Helvetica,sans-Serif\" font-size=\"14.00\" fill=\"#000000\">entropy = 1.0</text>\n<text text-anchor=\"middle\" x=\"516.5\" y=\"-379.8\" font-family=\"Helvetica,sans-Serif\" font-size=\"14.00\" fill=\"#000000\">samples = 80</text>\n<text text-anchor=\"middle\" x=\"516.5\" y=\"-364.8\" font-family=\"Helvetica,sans-Serif\" font-size=\"14.00\" fill=\"#000000\">value = [39, 41, 0]</text>\n<text text-anchor=\"middle\" x=\"516.5\" y=\"-349.8\" font-family=\"Helvetica,sans-Serif\" font-size=\"14.00\" fill=\"#000000\">class = class_1</text>\n</g>\n<!-- 0&#45;&gt;8 -->\n<g id=\"edge8\" class=\"edge\">\n<title>0&#45;&gt;8</title>\n<path fill=\"none\" stroke=\"#000000\" d=\"M467.7314,-460.8796C473.2373,-452.1434 479.1006,-442.8404 484.7824,-433.8253\"/>\n<polygon fill=\"#000000\" stroke=\"#000000\" points=\"487.7857,-435.6242 490.1567,-425.2981 481.8637,-431.8919 487.7857,-435.6242\"/>\n<text text-anchor=\"middle\" x=\"495.6863\" y=\"-445.9789\" font-family=\"Helvetica,sans-Serif\" font-size=\"14.00\" fill=\"#000000\">False</text>\n</g>\n<!-- 2 -->\n<g id=\"node3\" class=\"node\">\n<title>2</title>\n<path fill=\"#8945e7\" stroke=\"#000000\" d=\"M277,-306C277,-306 178,-306 178,-306 172,-306 166,-300 166,-294 166,-294 166,-235 166,-235 166,-229 172,-223 178,-223 178,-223 277,-223 277,-223 283,-223 289,-229 289,-235 289,-235 289,-294 289,-294 289,-300 283,-306 277,-306\"/>\n<text text-anchor=\"middle\" x=\"227.5\" y=\"-290.8\" font-family=\"Helvetica,sans-Serif\" font-size=\"14.00\" fill=\"#000000\">hue &lt;= 0.825</text>\n<text text-anchor=\"middle\" x=\"227.5\" y=\"-275.8\" font-family=\"Helvetica,sans-Serif\" font-size=\"14.00\" fill=\"#000000\">entropy = 0.323</text>\n<text text-anchor=\"middle\" x=\"227.5\" y=\"-260.8\" font-family=\"Helvetica,sans-Serif\" font-size=\"14.00\" fill=\"#000000\">samples = 34</text>\n<text text-anchor=\"middle\" x=\"227.5\" y=\"-245.8\" font-family=\"Helvetica,sans-Serif\" font-size=\"14.00\" fill=\"#000000\">value = [0, 2, 32]</text>\n<text text-anchor=\"middle\" x=\"227.5\" y=\"-230.8\" font-family=\"Helvetica,sans-Serif\" font-size=\"14.00\" fill=\"#000000\">class = class_2</text>\n</g>\n<!-- 1&#45;&gt;2 -->\n<g id=\"edge2\" class=\"edge\">\n<title>1&#45;&gt;2</title>\n<path fill=\"none\" stroke=\"#000000\" d=\"M318.5348,-341.8796C307.5153,-332.513 295.7291,-322.4948 284.4158,-312.8784\"/>\n<polygon fill=\"#000000\" stroke=\"#000000\" points=\"286.5604,-310.1078 276.6742,-306.2981 282.0268,-315.4414 286.5604,-310.1078\"/>\n</g>\n<!-- 7 -->\n<g id=\"node8\" class=\"node\">\n<title>7</title>\n<path fill=\"#39e581\" stroke=\"#000000\" d=\"M418,-298.5C418,-298.5 319,-298.5 319,-298.5 313,-298.5 307,-292.5 307,-286.5 307,-286.5 307,-242.5 307,-242.5 307,-236.5 313,-230.5 319,-230.5 319,-230.5 418,-230.5 418,-230.5 424,-230.5 430,-236.5 430,-242.5 430,-242.5 430,-286.5 430,-286.5 430,-292.5 424,-298.5 418,-298.5\"/>\n<text text-anchor=\"middle\" x=\"368.5\" y=\"-283.3\" font-family=\"Helvetica,sans-Serif\" font-size=\"14.00\" fill=\"#000000\">entropy = 0.0</text>\n<text text-anchor=\"middle\" x=\"368.5\" y=\"-268.3\" font-family=\"Helvetica,sans-Serif\" font-size=\"14.00\" fill=\"#000000\">samples = 10</text>\n<text text-anchor=\"middle\" x=\"368.5\" y=\"-253.3\" font-family=\"Helvetica,sans-Serif\" font-size=\"14.00\" fill=\"#000000\">value = [0, 10, 0]</text>\n<text text-anchor=\"middle\" x=\"368.5\" y=\"-238.3\" font-family=\"Helvetica,sans-Serif\" font-size=\"14.00\" fill=\"#000000\">class = class_1</text>\n</g>\n<!-- 1&#45;&gt;7 -->\n<g id=\"edge7\" class=\"edge\">\n<title>1&#45;&gt;7</title>\n<path fill=\"none\" stroke=\"#000000\" d=\"M367.8498,-341.8796C367.9394,-331.2134 368.0361,-319.7021 368.1269,-308.9015\"/>\n<polygon fill=\"#000000\" stroke=\"#000000\" points=\"371.6274,-308.844 368.2116,-298.8149 364.6276,-308.7851 371.6274,-308.844\"/>\n</g>\n<!-- 3 -->\n<g id=\"node4\" class=\"node\">\n<title>3</title>\n<path fill=\"#8139e5\" stroke=\"#000000\" d=\"M111,-179.5C111,-179.5 12,-179.5 12,-179.5 6,-179.5 0,-173.5 0,-167.5 0,-167.5 0,-123.5 0,-123.5 0,-117.5 6,-111.5 12,-111.5 12,-111.5 111,-111.5 111,-111.5 117,-111.5 123,-117.5 123,-123.5 123,-123.5 123,-167.5 123,-167.5 123,-173.5 117,-179.5 111,-179.5\"/>\n<text text-anchor=\"middle\" x=\"61.5\" y=\"-164.3\" font-family=\"Helvetica,sans-Serif\" font-size=\"14.00\" fill=\"#000000\">entropy = 0.0</text>\n<text text-anchor=\"middle\" x=\"61.5\" y=\"-149.3\" font-family=\"Helvetica,sans-Serif\" font-size=\"14.00\" fill=\"#000000\">samples = 28</text>\n<text text-anchor=\"middle\" x=\"61.5\" y=\"-134.3\" font-family=\"Helvetica,sans-Serif\" font-size=\"14.00\" fill=\"#000000\">value = [0, 0, 28]</text>\n<text text-anchor=\"middle\" x=\"61.5\" y=\"-119.3\" font-family=\"Helvetica,sans-Serif\" font-size=\"14.00\" fill=\"#000000\">class = class_2</text>\n</g>\n<!-- 2&#45;&gt;3 -->\n<g id=\"edge3\" class=\"edge\">\n<title>2&#45;&gt;3</title>\n<path fill=\"none\" stroke=\"#000000\" d=\"M169.4413,-222.8796C152.642,-210.8368 134.3401,-197.7167 117.659,-185.7586\"/>\n<polygon fill=\"#000000\" stroke=\"#000000\" points=\"119.2668,-182.6047 109.1002,-179.623 115.1884,-188.2939 119.2668,-182.6047\"/>\n</g>\n<!-- 4 -->\n<g id=\"node5\" class=\"node\">\n<title>4</title>\n<path fill=\"#c09cf2\" stroke=\"#000000\" d=\"M306,-187C306,-187 153,-187 153,-187 147,-187 141,-181 141,-175 141,-175 141,-116 141,-116 141,-110 147,-104 153,-104 153,-104 306,-104 306,-104 312,-104 318,-110 318,-116 318,-116 318,-175 318,-175 318,-181 312,-187 306,-187\"/>\n<text text-anchor=\"middle\" x=\"229.5\" y=\"-171.8\" font-family=\"Helvetica,sans-Serif\" font-size=\"14.00\" fill=\"#000000\">proanthocyanins &lt;= 1.24</text>\n<text text-anchor=\"middle\" x=\"229.5\" y=\"-156.8\" font-family=\"Helvetica,sans-Serif\" font-size=\"14.00\" fill=\"#000000\">entropy = 0.918</text>\n<text text-anchor=\"middle\" x=\"229.5\" y=\"-141.8\" font-family=\"Helvetica,sans-Serif\" font-size=\"14.00\" fill=\"#000000\">samples = 6</text>\n<text text-anchor=\"middle\" x=\"229.5\" y=\"-126.8\" font-family=\"Helvetica,sans-Serif\" font-size=\"14.00\" fill=\"#000000\">value = [0, 2, 4]</text>\n<text text-anchor=\"middle\" x=\"229.5\" y=\"-111.8\" font-family=\"Helvetica,sans-Serif\" font-size=\"14.00\" fill=\"#000000\">class = class_2</text>\n</g>\n<!-- 2&#45;&gt;4 -->\n<g id=\"edge4\" class=\"edge\">\n<title>2&#45;&gt;4</title>\n<path fill=\"none\" stroke=\"#000000\" d=\"M228.1995,-222.8796C228.3372,-214.6838 228.4834,-205.9891 228.626,-197.5013\"/>\n<polygon fill=\"#000000\" stroke=\"#000000\" points=\"232.1289,-197.3555 228.7975,-187.2981 225.1299,-197.2378 232.1289,-197.3555\"/>\n</g>\n<!-- 5 -->\n<g id=\"node6\" class=\"node\">\n<title>5</title>\n<path fill=\"#8139e5\" stroke=\"#000000\" d=\"M221.5,-68C221.5,-68 129.5,-68 129.5,-68 123.5,-68 117.5,-62 117.5,-56 117.5,-56 117.5,-12 117.5,-12 117.5,-6 123.5,0 129.5,0 129.5,0 221.5,0 221.5,0 227.5,0 233.5,-6 233.5,-12 233.5,-12 233.5,-56 233.5,-56 233.5,-62 227.5,-68 221.5,-68\"/>\n<text text-anchor=\"middle\" x=\"175.5\" y=\"-52.8\" font-family=\"Helvetica,sans-Serif\" font-size=\"14.00\" fill=\"#000000\">entropy = 0.0</text>\n<text text-anchor=\"middle\" x=\"175.5\" y=\"-37.8\" font-family=\"Helvetica,sans-Serif\" font-size=\"14.00\" fill=\"#000000\">samples = 4</text>\n<text text-anchor=\"middle\" x=\"175.5\" y=\"-22.8\" font-family=\"Helvetica,sans-Serif\" font-size=\"14.00\" fill=\"#000000\">value = [0, 0, 4]</text>\n<text text-anchor=\"middle\" x=\"175.5\" y=\"-7.8\" font-family=\"Helvetica,sans-Serif\" font-size=\"14.00\" fill=\"#000000\">class = class_2</text>\n</g>\n<!-- 4&#45;&gt;5 -->\n<g id=\"edge5\" class=\"edge\">\n<title>4&#45;&gt;5</title>\n<path fill=\"none\" stroke=\"#000000\" d=\"M209.3924,-103.9815C205.2084,-95.3423 200.7877,-86.2144 196.5701,-77.5059\"/>\n<polygon fill=\"#000000\" stroke=\"#000000\" points=\"199.6029,-75.7382 192.0941,-68.2637 193.3029,-78.7893 199.6029,-75.7382\"/>\n</g>\n<!-- 6 -->\n<g id=\"node7\" class=\"node\">\n<title>6</title>\n<path fill=\"#39e581\" stroke=\"#000000\" d=\"M355.5,-68C355.5,-68 263.5,-68 263.5,-68 257.5,-68 251.5,-62 251.5,-56 251.5,-56 251.5,-12 251.5,-12 251.5,-6 257.5,0 263.5,0 263.5,0 355.5,0 355.5,0 361.5,0 367.5,-6 367.5,-12 367.5,-12 367.5,-56 367.5,-56 367.5,-62 361.5,-68 355.5,-68\"/>\n<text text-anchor=\"middle\" x=\"309.5\" y=\"-52.8\" font-family=\"Helvetica,sans-Serif\" font-size=\"14.00\" fill=\"#000000\">entropy = 0.0</text>\n<text text-anchor=\"middle\" x=\"309.5\" y=\"-37.8\" font-family=\"Helvetica,sans-Serif\" font-size=\"14.00\" fill=\"#000000\">samples = 2</text>\n<text text-anchor=\"middle\" x=\"309.5\" y=\"-22.8\" font-family=\"Helvetica,sans-Serif\" font-size=\"14.00\" fill=\"#000000\">value = [0, 2, 0]</text>\n<text text-anchor=\"middle\" x=\"309.5\" y=\"-7.8\" font-family=\"Helvetica,sans-Serif\" font-size=\"14.00\" fill=\"#000000\">class = class_1</text>\n</g>\n<!-- 4&#45;&gt;6 -->\n<g id=\"edge6\" class=\"edge\">\n<title>4&#45;&gt;6</title>\n<path fill=\"none\" stroke=\"#000000\" d=\"M259.289,-103.9815C265.7514,-94.9747 272.5948,-85.4367 279.081,-76.3965\"/>\n<polygon fill=\"#000000\" stroke=\"#000000\" points=\"281.9303,-78.4291 284.9162,-68.2637 276.2428,-74.3483 281.9303,-78.4291\"/>\n</g>\n<!-- 9 -->\n<g id=\"node10\" class=\"node\">\n<title>9</title>\n<path fill=\"#3ee684\" stroke=\"#000000\" d=\"M569.5,-306C569.5,-306 461.5,-306 461.5,-306 455.5,-306 449.5,-300 449.5,-294 449.5,-294 449.5,-235 449.5,-235 449.5,-229 455.5,-223 461.5,-223 461.5,-223 569.5,-223 569.5,-223 575.5,-223 581.5,-229 581.5,-235 581.5,-235 581.5,-294 581.5,-294 581.5,-300 575.5,-306 569.5,-306\"/>\n<text text-anchor=\"middle\" x=\"515.5\" y=\"-290.8\" font-family=\"Helvetica,sans-Serif\" font-size=\"14.00\" fill=\"#000000\">alcohol &lt;= 13.175</text>\n<text text-anchor=\"middle\" x=\"515.5\" y=\"-275.8\" font-family=\"Helvetica,sans-Serif\" font-size=\"14.00\" fill=\"#000000\">entropy = 0.165</text>\n<text text-anchor=\"middle\" x=\"515.5\" y=\"-260.8\" font-family=\"Helvetica,sans-Serif\" font-size=\"14.00\" fill=\"#000000\">samples = 41</text>\n<text text-anchor=\"middle\" x=\"515.5\" y=\"-245.8\" font-family=\"Helvetica,sans-Serif\" font-size=\"14.00\" fill=\"#000000\">value = [1, 40, 0]</text>\n<text text-anchor=\"middle\" x=\"515.5\" y=\"-230.8\" font-family=\"Helvetica,sans-Serif\" font-size=\"14.00\" fill=\"#000000\">class = class_1</text>\n</g>\n<!-- 8&#45;&gt;9 -->\n<g id=\"edge9\" class=\"edge\">\n<title>8&#45;&gt;9</title>\n<path fill=\"none\" stroke=\"#000000\" d=\"M516.1502,-341.8796C516.0814,-333.6838 516.0083,-324.9891 515.937,-316.5013\"/>\n<polygon fill=\"#000000\" stroke=\"#000000\" points=\"519.4352,-316.2683 515.8512,-306.2981 512.4355,-316.3272 519.4352,-316.2683\"/>\n</g>\n<!-- 14 -->\n<g id=\"node15\" class=\"node\">\n<title>14</title>\n<path fill=\"#e6843e\" stroke=\"#000000\" d=\"M765,-306C765,-306 612,-306 612,-306 606,-306 600,-300 600,-294 600,-294 600,-235 600,-235 600,-229 606,-223 612,-223 612,-223 765,-223 765,-223 771,-223 777,-229 777,-235 777,-235 777,-294 777,-294 777,-300 771,-306 765,-306\"/>\n<text text-anchor=\"middle\" x=\"688.5\" y=\"-290.8\" font-family=\"Helvetica,sans-Serif\" font-size=\"14.00\" fill=\"#000000\">alcalinity_of_ash &lt;= 27.5</text>\n<text text-anchor=\"middle\" x=\"688.5\" y=\"-275.8\" font-family=\"Helvetica,sans-Serif\" font-size=\"14.00\" fill=\"#000000\">entropy = 0.172</text>\n<text text-anchor=\"middle\" x=\"688.5\" y=\"-260.8\" font-family=\"Helvetica,sans-Serif\" font-size=\"14.00\" fill=\"#000000\">samples = 39</text>\n<text text-anchor=\"middle\" x=\"688.5\" y=\"-245.8\" font-family=\"Helvetica,sans-Serif\" font-size=\"14.00\" fill=\"#000000\">value = [38, 1, 0]</text>\n<text text-anchor=\"middle\" x=\"688.5\" y=\"-230.8\" font-family=\"Helvetica,sans-Serif\" font-size=\"14.00\" fill=\"#000000\">class = class_0</text>\n</g>\n<!-- 8&#45;&gt;14 -->\n<g id=\"edge14\" class=\"edge\">\n<title>8&#45;&gt;14</title>\n<path fill=\"none\" stroke=\"#000000\" d=\"M576.6573,-341.8796C590.667,-332.1868 605.6854,-321.7961 620.025,-311.8752\"/>\n<polygon fill=\"#000000\" stroke=\"#000000\" points=\"622.1444,-314.6649 628.3767,-306.0969 618.1617,-308.9083 622.1444,-314.6649\"/>\n</g>\n<!-- 10 -->\n<g id=\"node11\" class=\"node\">\n<title>10</title>\n<path fill=\"#39e581\" stroke=\"#000000\" d=\"M453,-179.5C453,-179.5 354,-179.5 354,-179.5 348,-179.5 342,-173.5 342,-167.5 342,-167.5 342,-123.5 342,-123.5 342,-117.5 348,-111.5 354,-111.5 354,-111.5 453,-111.5 453,-111.5 459,-111.5 465,-117.5 465,-123.5 465,-123.5 465,-167.5 465,-167.5 465,-173.5 459,-179.5 453,-179.5\"/>\n<text text-anchor=\"middle\" x=\"403.5\" y=\"-164.3\" font-family=\"Helvetica,sans-Serif\" font-size=\"14.00\" fill=\"#000000\">entropy = 0.0</text>\n<text text-anchor=\"middle\" x=\"403.5\" y=\"-149.3\" font-family=\"Helvetica,sans-Serif\" font-size=\"14.00\" fill=\"#000000\">samples = 38</text>\n<text text-anchor=\"middle\" x=\"403.5\" y=\"-134.3\" font-family=\"Helvetica,sans-Serif\" font-size=\"14.00\" fill=\"#000000\">value = [0, 38, 0]</text>\n<text text-anchor=\"middle\" x=\"403.5\" y=\"-119.3\" font-family=\"Helvetica,sans-Serif\" font-size=\"14.00\" fill=\"#000000\">class = class_1</text>\n</g>\n<!-- 9&#45;&gt;10 -->\n<g id=\"edge10\" class=\"edge\">\n<title>9&#45;&gt;10</title>\n<path fill=\"none\" stroke=\"#000000\" d=\"M476.3278,-222.8796C465.4611,-211.3337 453.6624,-198.7976 442.7891,-187.2446\"/>\n<polygon fill=\"#000000\" stroke=\"#000000\" points=\"445.1988,-184.6982 435.7964,-179.8149 440.1014,-189.4958 445.1988,-184.6982\"/>\n</g>\n<!-- 11 -->\n<g id=\"node12\" class=\"node\">\n<title>11</title>\n<path fill=\"#9cf2c0\" stroke=\"#000000\" d=\"M592,-187C592,-187 495,-187 495,-187 489,-187 483,-181 483,-175 483,-175 483,-116 483,-116 483,-110 489,-104 495,-104 495,-104 592,-104 592,-104 598,-104 604,-110 604,-116 604,-116 604,-175 604,-175 604,-181 598,-187 592,-187\"/>\n<text text-anchor=\"middle\" x=\"543.5\" y=\"-171.8\" font-family=\"Helvetica,sans-Serif\" font-size=\"14.00\" fill=\"#000000\">proline &lt;= 655.0</text>\n<text text-anchor=\"middle\" x=\"543.5\" y=\"-156.8\" font-family=\"Helvetica,sans-Serif\" font-size=\"14.00\" fill=\"#000000\">entropy = 0.918</text>\n<text text-anchor=\"middle\" x=\"543.5\" y=\"-141.8\" font-family=\"Helvetica,sans-Serif\" font-size=\"14.00\" fill=\"#000000\">samples = 3</text>\n<text text-anchor=\"middle\" x=\"543.5\" y=\"-126.8\" font-family=\"Helvetica,sans-Serif\" font-size=\"14.00\" fill=\"#000000\">value = [1, 2, 0]</text>\n<text text-anchor=\"middle\" x=\"543.5\" y=\"-111.8\" font-family=\"Helvetica,sans-Serif\" font-size=\"14.00\" fill=\"#000000\">class = class_1</text>\n</g>\n<!-- 9&#45;&gt;11 -->\n<g id=\"edge11\" class=\"edge\">\n<title>9&#45;&gt;11</title>\n<path fill=\"none\" stroke=\"#000000\" d=\"M525.293,-222.8796C527.2426,-214.5938 529.3122,-205.798 531.3302,-197.2216\"/>\n<polygon fill=\"#000000\" stroke=\"#000000\" points=\"534.7817,-197.8339 533.6652,-187.2981 527.9677,-196.2306 534.7817,-197.8339\"/>\n</g>\n<!-- 12 -->\n<g id=\"node13\" class=\"node\">\n<title>12</title>\n<path fill=\"#39e581\" stroke=\"#000000\" d=\"M509.5,-68C509.5,-68 417.5,-68 417.5,-68 411.5,-68 405.5,-62 405.5,-56 405.5,-56 405.5,-12 405.5,-12 405.5,-6 411.5,0 417.5,0 417.5,0 509.5,0 509.5,0 515.5,0 521.5,-6 521.5,-12 521.5,-12 521.5,-56 521.5,-56 521.5,-62 515.5,-68 509.5,-68\"/>\n<text text-anchor=\"middle\" x=\"463.5\" y=\"-52.8\" font-family=\"Helvetica,sans-Serif\" font-size=\"14.00\" fill=\"#000000\">entropy = 0.0</text>\n<text text-anchor=\"middle\" x=\"463.5\" y=\"-37.8\" font-family=\"Helvetica,sans-Serif\" font-size=\"14.00\" fill=\"#000000\">samples = 2</text>\n<text text-anchor=\"middle\" x=\"463.5\" y=\"-22.8\" font-family=\"Helvetica,sans-Serif\" font-size=\"14.00\" fill=\"#000000\">value = [0, 2, 0]</text>\n<text text-anchor=\"middle\" x=\"463.5\" y=\"-7.8\" font-family=\"Helvetica,sans-Serif\" font-size=\"14.00\" fill=\"#000000\">class = class_1</text>\n</g>\n<!-- 11&#45;&gt;12 -->\n<g id=\"edge12\" class=\"edge\">\n<title>11&#45;&gt;12</title>\n<path fill=\"none\" stroke=\"#000000\" d=\"M513.711,-103.9815C507.2486,-94.9747 500.4052,-85.4367 493.919,-76.3965\"/>\n<polygon fill=\"#000000\" stroke=\"#000000\" points=\"496.7572,-74.3483 488.0838,-68.2637 491.0697,-78.4291 496.7572,-74.3483\"/>\n</g>\n<!-- 13 -->\n<g id=\"node14\" class=\"node\">\n<title>13</title>\n<path fill=\"#e58139\" stroke=\"#000000\" d=\"M643.5,-68C643.5,-68 551.5,-68 551.5,-68 545.5,-68 539.5,-62 539.5,-56 539.5,-56 539.5,-12 539.5,-12 539.5,-6 545.5,0 551.5,0 551.5,0 643.5,0 643.5,0 649.5,0 655.5,-6 655.5,-12 655.5,-12 655.5,-56 655.5,-56 655.5,-62 649.5,-68 643.5,-68\"/>\n<text text-anchor=\"middle\" x=\"597.5\" y=\"-52.8\" font-family=\"Helvetica,sans-Serif\" font-size=\"14.00\" fill=\"#000000\">entropy = 0.0</text>\n<text text-anchor=\"middle\" x=\"597.5\" y=\"-37.8\" font-family=\"Helvetica,sans-Serif\" font-size=\"14.00\" fill=\"#000000\">samples = 1</text>\n<text text-anchor=\"middle\" x=\"597.5\" y=\"-22.8\" font-family=\"Helvetica,sans-Serif\" font-size=\"14.00\" fill=\"#000000\">value = [1, 0, 0]</text>\n<text text-anchor=\"middle\" x=\"597.5\" y=\"-7.8\" font-family=\"Helvetica,sans-Serif\" font-size=\"14.00\" fill=\"#000000\">class = class_0</text>\n</g>\n<!-- 11&#45;&gt;13 -->\n<g id=\"edge13\" class=\"edge\">\n<title>11&#45;&gt;13</title>\n<path fill=\"none\" stroke=\"#000000\" d=\"M563.6076,-103.9815C567.7916,-95.3423 572.2123,-86.2144 576.4299,-77.5059\"/>\n<polygon fill=\"#000000\" stroke=\"#000000\" points=\"579.6971,-78.7893 580.9059,-68.2637 573.3971,-75.7382 579.6971,-78.7893\"/>\n</g>\n<!-- 15 -->\n<g id=\"node16\" class=\"node\">\n<title>15</title>\n<path fill=\"#e58139\" stroke=\"#000000\" d=\"M736,-179.5C736,-179.5 637,-179.5 637,-179.5 631,-179.5 625,-173.5 625,-167.5 625,-167.5 625,-123.5 625,-123.5 625,-117.5 631,-111.5 637,-111.5 637,-111.5 736,-111.5 736,-111.5 742,-111.5 748,-117.5 748,-123.5 748,-123.5 748,-167.5 748,-167.5 748,-173.5 742,-179.5 736,-179.5\"/>\n<text text-anchor=\"middle\" x=\"686.5\" y=\"-164.3\" font-family=\"Helvetica,sans-Serif\" font-size=\"14.00\" fill=\"#000000\">entropy = 0.0</text>\n<text text-anchor=\"middle\" x=\"686.5\" y=\"-149.3\" font-family=\"Helvetica,sans-Serif\" font-size=\"14.00\" fill=\"#000000\">samples = 38</text>\n<text text-anchor=\"middle\" x=\"686.5\" y=\"-134.3\" font-family=\"Helvetica,sans-Serif\" font-size=\"14.00\" fill=\"#000000\">value = [38, 0, 0]</text>\n<text text-anchor=\"middle\" x=\"686.5\" y=\"-119.3\" font-family=\"Helvetica,sans-Serif\" font-size=\"14.00\" fill=\"#000000\">class = class_0</text>\n</g>\n<!-- 14&#45;&gt;15 -->\n<g id=\"edge15\" class=\"edge\">\n<title>14&#45;&gt;15</title>\n<path fill=\"none\" stroke=\"#000000\" d=\"M687.8005,-222.8796C687.6212,-212.2134 687.4278,-200.7021 687.2462,-189.9015\"/>\n<polygon fill=\"#000000\" stroke=\"#000000\" points=\"690.7444,-189.7547 687.0767,-179.8149 683.7454,-189.8724 690.7444,-189.7547\"/>\n</g>\n<!-- 16 -->\n<g id=\"node17\" class=\"node\">\n<title>16</title>\n<path fill=\"#39e581\" stroke=\"#000000\" d=\"M870.5,-179.5C870.5,-179.5 778.5,-179.5 778.5,-179.5 772.5,-179.5 766.5,-173.5 766.5,-167.5 766.5,-167.5 766.5,-123.5 766.5,-123.5 766.5,-117.5 772.5,-111.5 778.5,-111.5 778.5,-111.5 870.5,-111.5 870.5,-111.5 876.5,-111.5 882.5,-117.5 882.5,-123.5 882.5,-123.5 882.5,-167.5 882.5,-167.5 882.5,-173.5 876.5,-179.5 870.5,-179.5\"/>\n<text text-anchor=\"middle\" x=\"824.5\" y=\"-164.3\" font-family=\"Helvetica,sans-Serif\" font-size=\"14.00\" fill=\"#000000\">entropy = 0.0</text>\n<text text-anchor=\"middle\" x=\"824.5\" y=\"-149.3\" font-family=\"Helvetica,sans-Serif\" font-size=\"14.00\" fill=\"#000000\">samples = 1</text>\n<text text-anchor=\"middle\" x=\"824.5\" y=\"-134.3\" font-family=\"Helvetica,sans-Serif\" font-size=\"14.00\" fill=\"#000000\">value = [0, 1, 0]</text>\n<text text-anchor=\"middle\" x=\"824.5\" y=\"-119.3\" font-family=\"Helvetica,sans-Serif\" font-size=\"14.00\" fill=\"#000000\">class = class_1</text>\n</g>\n<!-- 14&#45;&gt;16 -->\n<g id=\"edge16\" class=\"edge\">\n<title>14&#45;&gt;16</title>\n<path fill=\"none\" stroke=\"#000000\" d=\"M736.0662,-222.8796C749.5128,-211.1138 764.1347,-198.3197 777.5451,-186.5855\"/>\n<polygon fill=\"#000000\" stroke=\"#000000\" points=\"780.0619,-189.034 785.2829,-179.8149 775.4524,-183.766 780.0619,-189.034\"/>\n</g>\n</g>\n</svg>\n"
          },
          "metadata": {
            "tags": []
          },
          "execution_count": 13
        }
      ]
    },
    {
      "cell_type": "code",
      "metadata": {
        "colab": {
          "base_uri": "https://localhost:8080/"
        },
        "id": "AxdiWaDONDM3",
        "outputId": "e52a9c81-9456-4c77-f534-7f15b4495e35"
      },
      "source": [
        "#use entropy as criterion\r\n",
        "clf = tree.DecisionTreeClassifier( criterion='entropy'\r\n",
        "                                  ,random_state=5\r\n",
        "                                  ,splitter='random'\r\n",
        "                                )\r\n",
        "#fit the data\r\n",
        "clf.fit(Xtrain, ytrain)\r\n",
        "#check the accuracy\r\n",
        "score = clf.score(Xtest, ytest)\r\n",
        "print(\"The accuracy is: {0:2.5f}\".format(score))"
      ],
      "execution_count": 14,
      "outputs": [
        {
          "output_type": "stream",
          "text": [
            "The accuracy is: 0.92593\n"
          ],
          "name": "stdout"
        }
      ]
    },
    {
      "cell_type": "markdown",
      "metadata": {
        "id": "gToKaBNENkUN"
      },
      "source": [
        "we can notice that after we use splitter, the tree is deeper and wider than before"
      ]
    },
    {
      "cell_type": "code",
      "metadata": {
        "colab": {
          "base_uri": "https://localhost:8080/",
          "height": 1000
        },
        "id": "-76TbaT9NhF2",
        "outputId": "a5c82200-92af-4925-a8e9-84bd5965c291"
      },
      "source": [
        "dot_data = tree.export_graphviz( clf\r\n",
        "                                ,out_file=None\r\n",
        "                                ,feature_names=feature_names\r\n",
        "                                ,class_names=class_names\r\n",
        "                                ,filled=True\r\n",
        "                                ,rounded=True\r\n",
        "                               )\r\n",
        "graph = graphviz.Source(dot_data)\r\n",
        "graph"
      ],
      "execution_count": 15,
      "outputs": [
        {
          "output_type": "execute_result",
          "data": {
            "text/plain": [
              "<graphviz.files.Source at 0x7f6995179a20>"
            ],
            "image/svg+xml": "<?xml version=\"1.0\" encoding=\"UTF-8\" standalone=\"no\"?>\n<!DOCTYPE svg PUBLIC \"-//W3C//DTD SVG 1.1//EN\"\n \"http://www.w3.org/Graphics/SVG/1.1/DTD/svg11.dtd\">\n<!-- Generated by graphviz version 2.40.1 (20161225.0304)\n -->\n<!-- Title: Tree Pages: 1 -->\n<svg width=\"1836pt\" height=\"790pt\"\n viewBox=\"0.00 0.00 1835.50 790.00\" xmlns=\"http://www.w3.org/2000/svg\" xmlns:xlink=\"http://www.w3.org/1999/xlink\">\n<g id=\"graph0\" class=\"graph\" transform=\"scale(1 1) rotate(0) translate(4 786)\">\n<title>Tree</title>\n<polygon fill=\"#ffffff\" stroke=\"transparent\" points=\"-4,4 -4,-786 1831.5,-786 1831.5,4 -4,4\"/>\n<!-- 0 -->\n<g id=\"node1\" class=\"node\">\n<title>0</title>\n<path fill=\"#defbea\" stroke=\"#000000\" d=\"M1043.5,-782C1043.5,-782 924.5,-782 924.5,-782 918.5,-782 912.5,-776 912.5,-770 912.5,-770 912.5,-711 912.5,-711 912.5,-705 918.5,-699 924.5,-699 924.5,-699 1043.5,-699 1043.5,-699 1049.5,-699 1055.5,-705 1055.5,-711 1055.5,-711 1055.5,-770 1055.5,-770 1055.5,-776 1049.5,-782 1043.5,-782\"/>\n<text text-anchor=\"middle\" x=\"984\" y=\"-766.8\" font-family=\"Helvetica,sans-Serif\" font-size=\"14.00\" fill=\"#000000\">flavanoids &lt;= 1.906</text>\n<text text-anchor=\"middle\" x=\"984\" y=\"-751.8\" font-family=\"Helvetica,sans-Serif\" font-size=\"14.00\" fill=\"#000000\">entropy = 1.553</text>\n<text text-anchor=\"middle\" x=\"984\" y=\"-736.8\" font-family=\"Helvetica,sans-Serif\" font-size=\"14.00\" fill=\"#000000\">samples = 124</text>\n<text text-anchor=\"middle\" x=\"984\" y=\"-721.8\" font-family=\"Helvetica,sans-Serif\" font-size=\"14.00\" fill=\"#000000\">value = [39, 53, 32]</text>\n<text text-anchor=\"middle\" x=\"984\" y=\"-706.8\" font-family=\"Helvetica,sans-Serif\" font-size=\"14.00\" fill=\"#000000\">class = class_1</text>\n</g>\n<!-- 1 -->\n<g id=\"node2\" class=\"node\">\n<title>1</title>\n<path fill=\"#dcc7f8\" stroke=\"#000000\" d=\"M949.5,-663C949.5,-663 692.5,-663 692.5,-663 686.5,-663 680.5,-657 680.5,-651 680.5,-651 680.5,-592 680.5,-592 680.5,-586 686.5,-580 692.5,-580 692.5,-580 949.5,-580 949.5,-580 955.5,-580 961.5,-586 961.5,-592 961.5,-592 961.5,-651 961.5,-651 961.5,-657 955.5,-663 949.5,-663\"/>\n<text text-anchor=\"middle\" x=\"821\" y=\"-647.8\" font-family=\"Helvetica,sans-Serif\" font-size=\"14.00\" fill=\"#000000\">od280/od315_of_diluted_wines &lt;= 2.362</text>\n<text text-anchor=\"middle\" x=\"821\" y=\"-632.8\" font-family=\"Helvetica,sans-Serif\" font-size=\"14.00\" fill=\"#000000\">entropy = 0.981</text>\n<text text-anchor=\"middle\" x=\"821\" y=\"-617.8\" font-family=\"Helvetica,sans-Serif\" font-size=\"14.00\" fill=\"#000000\">samples = 55</text>\n<text text-anchor=\"middle\" x=\"821\" y=\"-602.8\" font-family=\"Helvetica,sans-Serif\" font-size=\"14.00\" fill=\"#000000\">value = [0, 23, 32]</text>\n<text text-anchor=\"middle\" x=\"821\" y=\"-587.8\" font-family=\"Helvetica,sans-Serif\" font-size=\"14.00\" fill=\"#000000\">class = class_2</text>\n</g>\n<!-- 0&#45;&gt;1 -->\n<g id=\"edge1\" class=\"edge\">\n<title>0&#45;&gt;1</title>\n<path fill=\"none\" stroke=\"#000000\" d=\"M926.9905,-698.8796C913.8379,-689.2774 899.7472,-678.9903 886.2732,-669.1534\"/>\n<polygon fill=\"#000000\" stroke=\"#000000\" points=\"888.1177,-666.1666 877.9773,-663.0969 883.9902,-671.8202 888.1177,-666.1666\"/>\n<text text-anchor=\"middle\" x=\"881.8314\" y=\"-684.0981\" font-family=\"Helvetica,sans-Serif\" font-size=\"14.00\" fill=\"#000000\">True</text>\n</g>\n<!-- 20 -->\n<g id=\"node21\" class=\"node\">\n<title>20</title>\n<path fill=\"#f9e2d1\" stroke=\"#000000\" d=\"M1208,-663C1208,-663 1062,-663 1062,-663 1056,-663 1050,-657 1050,-651 1050,-651 1050,-592 1050,-592 1050,-586 1056,-580 1062,-580 1062,-580 1208,-580 1208,-580 1214,-580 1220,-586 1220,-592 1220,-592 1220,-651 1220,-651 1220,-657 1214,-663 1208,-663\"/>\n<text text-anchor=\"middle\" x=\"1135\" y=\"-647.8\" font-family=\"Helvetica,sans-Serif\" font-size=\"14.00\" fill=\"#000000\">magnesium &lt;= 102.297</text>\n<text text-anchor=\"middle\" x=\"1135\" y=\"-632.8\" font-family=\"Helvetica,sans-Serif\" font-size=\"14.00\" fill=\"#000000\">entropy = 0.988</text>\n<text text-anchor=\"middle\" x=\"1135\" y=\"-617.8\" font-family=\"Helvetica,sans-Serif\" font-size=\"14.00\" fill=\"#000000\">samples = 69</text>\n<text text-anchor=\"middle\" x=\"1135\" y=\"-602.8\" font-family=\"Helvetica,sans-Serif\" font-size=\"14.00\" fill=\"#000000\">value = [39, 30, 0]</text>\n<text text-anchor=\"middle\" x=\"1135\" y=\"-587.8\" font-family=\"Helvetica,sans-Serif\" font-size=\"14.00\" fill=\"#000000\">class = class_0</text>\n</g>\n<!-- 0&#45;&gt;20 -->\n<g id=\"edge20\" class=\"edge\">\n<title>0&#45;&gt;20</title>\n<path fill=\"none\" stroke=\"#000000\" d=\"M1036.8125,-698.8796C1048.8818,-689.368 1061.8039,-679.1843 1074.1788,-669.432\"/>\n<polygon fill=\"#000000\" stroke=\"#000000\" points=\"1076.5296,-672.0356 1082.2173,-663.0969 1072.1968,-666.5377 1076.5296,-672.0356\"/>\n<text text-anchor=\"middle\" x=\"1079.275\" y=\"-684.2232\" font-family=\"Helvetica,sans-Serif\" font-size=\"14.00\" fill=\"#000000\">False</text>\n</g>\n<!-- 2 -->\n<g id=\"node3\" class=\"node\">\n<title>2</title>\n<path fill=\"#a877ed\" stroke=\"#000000\" d=\"M708,-544C708,-544 586,-544 586,-544 580,-544 574,-538 574,-532 574,-532 574,-473 574,-473 574,-467 580,-461 586,-461 586,-461 708,-461 708,-461 714,-461 720,-467 720,-473 720,-473 720,-532 720,-532 720,-538 714,-544 708,-544\"/>\n<text text-anchor=\"middle\" x=\"647\" y=\"-528.8\" font-family=\"Helvetica,sans-Serif\" font-size=\"14.00\" fill=\"#000000\">malic_acid &lt;= 2.918</text>\n<text text-anchor=\"middle\" x=\"647\" y=\"-513.8\" font-family=\"Helvetica,sans-Serif\" font-size=\"14.00\" fill=\"#000000\">entropy = 0.792</text>\n<text text-anchor=\"middle\" x=\"647\" y=\"-498.8\" font-family=\"Helvetica,sans-Serif\" font-size=\"14.00\" fill=\"#000000\">samples = 42</text>\n<text text-anchor=\"middle\" x=\"647\" y=\"-483.8\" font-family=\"Helvetica,sans-Serif\" font-size=\"14.00\" fill=\"#000000\">value = [0, 10, 32]</text>\n<text text-anchor=\"middle\" x=\"647\" y=\"-468.8\" font-family=\"Helvetica,sans-Serif\" font-size=\"14.00\" fill=\"#000000\">class = class_2</text>\n</g>\n<!-- 1&#45;&gt;2 -->\n<g id=\"edge2\" class=\"edge\">\n<title>1&#45;&gt;2</title>\n<path fill=\"none\" stroke=\"#000000\" d=\"M760.1432,-579.8796C745.9706,-570.1868 730.7775,-559.7961 716.2712,-549.8752\"/>\n<polygon fill=\"#000000\" stroke=\"#000000\" points=\"718.0525,-546.8531 707.8224,-544.0969 714.1008,-552.6311 718.0525,-546.8531\"/>\n</g>\n<!-- 19 -->\n<g id=\"node20\" class=\"node\">\n<title>19</title>\n<path fill=\"#39e581\" stroke=\"#000000\" d=\"M870.5,-536.5C870.5,-536.5 771.5,-536.5 771.5,-536.5 765.5,-536.5 759.5,-530.5 759.5,-524.5 759.5,-524.5 759.5,-480.5 759.5,-480.5 759.5,-474.5 765.5,-468.5 771.5,-468.5 771.5,-468.5 870.5,-468.5 870.5,-468.5 876.5,-468.5 882.5,-474.5 882.5,-480.5 882.5,-480.5 882.5,-524.5 882.5,-524.5 882.5,-530.5 876.5,-536.5 870.5,-536.5\"/>\n<text text-anchor=\"middle\" x=\"821\" y=\"-521.3\" font-family=\"Helvetica,sans-Serif\" font-size=\"14.00\" fill=\"#000000\">entropy = 0.0</text>\n<text text-anchor=\"middle\" x=\"821\" y=\"-506.3\" font-family=\"Helvetica,sans-Serif\" font-size=\"14.00\" fill=\"#000000\">samples = 13</text>\n<text text-anchor=\"middle\" x=\"821\" y=\"-491.3\" font-family=\"Helvetica,sans-Serif\" font-size=\"14.00\" fill=\"#000000\">value = [0, 13, 0]</text>\n<text text-anchor=\"middle\" x=\"821\" y=\"-476.3\" font-family=\"Helvetica,sans-Serif\" font-size=\"14.00\" fill=\"#000000\">class = class_1</text>\n</g>\n<!-- 1&#45;&gt;19 -->\n<g id=\"edge19\" class=\"edge\">\n<title>1&#45;&gt;19</title>\n<path fill=\"none\" stroke=\"#000000\" d=\"M821,-579.8796C821,-569.2134 821,-557.7021 821,-546.9015\"/>\n<polygon fill=\"#000000\" stroke=\"#000000\" points=\"824.5001,-546.8149 821,-536.8149 817.5001,-546.815 824.5001,-546.8149\"/>\n</g>\n<!-- 3 -->\n<g id=\"node4\" class=\"node\">\n<title>3</title>\n<path fill=\"#e8dbfa\" stroke=\"#000000\" d=\"M534,-425C534,-425 388,-425 388,-425 382,-425 376,-419 376,-413 376,-413 376,-354 376,-354 376,-348 382,-342 388,-342 388,-342 534,-342 534,-342 540,-342 546,-348 546,-354 546,-354 546,-413 546,-413 546,-419 540,-425 534,-425\"/>\n<text text-anchor=\"middle\" x=\"461\" y=\"-409.8\" font-family=\"Helvetica,sans-Serif\" font-size=\"14.00\" fill=\"#000000\">color_intensity &lt;= 4.669</text>\n<text text-anchor=\"middle\" x=\"461\" y=\"-394.8\" font-family=\"Helvetica,sans-Serif\" font-size=\"14.00\" fill=\"#000000\">entropy = 0.993</text>\n<text text-anchor=\"middle\" x=\"461\" y=\"-379.8\" font-family=\"Helvetica,sans-Serif\" font-size=\"14.00\" fill=\"#000000\">samples = 20</text>\n<text text-anchor=\"middle\" x=\"461\" y=\"-364.8\" font-family=\"Helvetica,sans-Serif\" font-size=\"14.00\" fill=\"#000000\">value = [0, 9, 11]</text>\n<text text-anchor=\"middle\" x=\"461\" y=\"-349.8\" font-family=\"Helvetica,sans-Serif\" font-size=\"14.00\" fill=\"#000000\">class = class_2</text>\n</g>\n<!-- 2&#45;&gt;3 -->\n<g id=\"edge3\" class=\"edge\">\n<title>2&#45;&gt;3</title>\n<path fill=\"none\" stroke=\"#000000\" d=\"M581.9462,-460.8796C566.6546,-451.0962 550.2516,-440.6019 534.614,-430.5971\"/>\n<polygon fill=\"#000000\" stroke=\"#000000\" points=\"536.3268,-427.538 526.017,-425.0969 532.5543,-433.4345 536.3268,-427.538\"/>\n</g>\n<!-- 14 -->\n<g id=\"node15\" class=\"node\">\n<title>14</title>\n<path fill=\"#8742e6\" stroke=\"#000000\" d=\"M706.5,-425C706.5,-425 587.5,-425 587.5,-425 581.5,-425 575.5,-419 575.5,-413 575.5,-413 575.5,-354 575.5,-354 575.5,-348 581.5,-342 587.5,-342 587.5,-342 706.5,-342 706.5,-342 712.5,-342 718.5,-348 718.5,-354 718.5,-354 718.5,-413 718.5,-413 718.5,-419 712.5,-425 706.5,-425\"/>\n<text text-anchor=\"middle\" x=\"647\" y=\"-409.8\" font-family=\"Helvetica,sans-Serif\" font-size=\"14.00\" fill=\"#000000\">flavanoids &lt;= 1.175</text>\n<text text-anchor=\"middle\" x=\"647\" y=\"-394.8\" font-family=\"Helvetica,sans-Serif\" font-size=\"14.00\" fill=\"#000000\">entropy = 0.267</text>\n<text text-anchor=\"middle\" x=\"647\" y=\"-379.8\" font-family=\"Helvetica,sans-Serif\" font-size=\"14.00\" fill=\"#000000\">samples = 22</text>\n<text text-anchor=\"middle\" x=\"647\" y=\"-364.8\" font-family=\"Helvetica,sans-Serif\" font-size=\"14.00\" fill=\"#000000\">value = [0, 1, 21]</text>\n<text text-anchor=\"middle\" x=\"647\" y=\"-349.8\" font-family=\"Helvetica,sans-Serif\" font-size=\"14.00\" fill=\"#000000\">class = class_2</text>\n</g>\n<!-- 2&#45;&gt;14 -->\n<g id=\"edge14\" class=\"edge\">\n<title>2&#45;&gt;14</title>\n<path fill=\"none\" stroke=\"#000000\" d=\"M647,-460.8796C647,-452.6838 647,-443.9891 647,-435.5013\"/>\n<polygon fill=\"#000000\" stroke=\"#000000\" points=\"650.5001,-435.298 647,-425.2981 643.5001,-435.2981 650.5001,-435.298\"/>\n</g>\n<!-- 4 -->\n<g id=\"node5\" class=\"node\">\n<title>4</title>\n<path fill=\"#6aeca0\" stroke=\"#000000\" d=\"M340,-306C340,-306 246,-306 246,-306 240,-306 234,-300 234,-294 234,-294 234,-235 234,-235 234,-229 240,-223 246,-223 246,-223 340,-223 340,-223 346,-223 352,-229 352,-235 352,-235 352,-294 352,-294 352,-300 346,-306 340,-306\"/>\n<text text-anchor=\"middle\" x=\"293\" y=\"-290.8\" font-family=\"Helvetica,sans-Serif\" font-size=\"14.00\" fill=\"#000000\">hue &lt;= 0.945</text>\n<text text-anchor=\"middle\" x=\"293\" y=\"-275.8\" font-family=\"Helvetica,sans-Serif\" font-size=\"14.00\" fill=\"#000000\">entropy = 0.722</text>\n<text text-anchor=\"middle\" x=\"293\" y=\"-260.8\" font-family=\"Helvetica,sans-Serif\" font-size=\"14.00\" fill=\"#000000\">samples = 10</text>\n<text text-anchor=\"middle\" x=\"293\" y=\"-245.8\" font-family=\"Helvetica,sans-Serif\" font-size=\"14.00\" fill=\"#000000\">value = [0, 8, 2]</text>\n<text text-anchor=\"middle\" x=\"293\" y=\"-230.8\" font-family=\"Helvetica,sans-Serif\" font-size=\"14.00\" fill=\"#000000\">class = class_1</text>\n</g>\n<!-- 3&#45;&gt;4 -->\n<g id=\"edge4\" class=\"edge\">\n<title>3&#45;&gt;4</title>\n<path fill=\"none\" stroke=\"#000000\" d=\"M402.2418,-341.8796C388.6857,-332.2774 374.1628,-321.9903 360.2754,-312.1534\"/>\n<polygon fill=\"#000000\" stroke=\"#000000\" points=\"361.9084,-309.021 351.7251,-306.0969 357.8623,-314.7332 361.9084,-309.021\"/>\n</g>\n<!-- 9 -->\n<g id=\"node10\" class=\"node\">\n<title>9</title>\n<path fill=\"#8f4fe8\" stroke=\"#000000\" d=\"M508,-306C508,-306 414,-306 414,-306 408,-306 402,-300 402,-294 402,-294 402,-235 402,-235 402,-229 408,-223 414,-223 414,-223 508,-223 508,-223 514,-223 520,-229 520,-235 520,-235 520,-294 520,-294 520,-300 514,-306 508,-306\"/>\n<text text-anchor=\"middle\" x=\"461\" y=\"-290.8\" font-family=\"Helvetica,sans-Serif\" font-size=\"14.00\" fill=\"#000000\">ash &lt;= 2.178</text>\n<text text-anchor=\"middle\" x=\"461\" y=\"-275.8\" font-family=\"Helvetica,sans-Serif\" font-size=\"14.00\" fill=\"#000000\">entropy = 0.469</text>\n<text text-anchor=\"middle\" x=\"461\" y=\"-260.8\" font-family=\"Helvetica,sans-Serif\" font-size=\"14.00\" fill=\"#000000\">samples = 10</text>\n<text text-anchor=\"middle\" x=\"461\" y=\"-245.8\" font-family=\"Helvetica,sans-Serif\" font-size=\"14.00\" fill=\"#000000\">value = [0, 1, 9]</text>\n<text text-anchor=\"middle\" x=\"461\" y=\"-230.8\" font-family=\"Helvetica,sans-Serif\" font-size=\"14.00\" fill=\"#000000\">class = class_2</text>\n</g>\n<!-- 3&#45;&gt;9 -->\n<g id=\"edge9\" class=\"edge\">\n<title>3&#45;&gt;9</title>\n<path fill=\"none\" stroke=\"#000000\" d=\"M461,-341.8796C461,-333.6838 461,-324.9891 461,-316.5013\"/>\n<polygon fill=\"#000000\" stroke=\"#000000\" points=\"464.5001,-316.298 461,-306.2981 457.5001,-316.2981 464.5001,-316.298\"/>\n</g>\n<!-- 5 -->\n<g id=\"node6\" class=\"node\">\n<title>5</title>\n<path fill=\"#c09cf2\" stroke=\"#000000\" d=\"M205.5,-187C205.5,-187 44.5,-187 44.5,-187 38.5,-187 32.5,-181 32.5,-175 32.5,-175 32.5,-116 32.5,-116 32.5,-110 38.5,-104 44.5,-104 44.5,-104 205.5,-104 205.5,-104 211.5,-104 217.5,-110 217.5,-116 217.5,-116 217.5,-175 217.5,-175 217.5,-181 211.5,-187 205.5,-187\"/>\n<text text-anchor=\"middle\" x=\"125\" y=\"-171.8\" font-family=\"Helvetica,sans-Serif\" font-size=\"14.00\" fill=\"#000000\">proanthocyanins &lt;= 1.246</text>\n<text text-anchor=\"middle\" x=\"125\" y=\"-156.8\" font-family=\"Helvetica,sans-Serif\" font-size=\"14.00\" fill=\"#000000\">entropy = 0.918</text>\n<text text-anchor=\"middle\" x=\"125\" y=\"-141.8\" font-family=\"Helvetica,sans-Serif\" font-size=\"14.00\" fill=\"#000000\">samples = 3</text>\n<text text-anchor=\"middle\" x=\"125\" y=\"-126.8\" font-family=\"Helvetica,sans-Serif\" font-size=\"14.00\" fill=\"#000000\">value = [0, 1, 2]</text>\n<text text-anchor=\"middle\" x=\"125\" y=\"-111.8\" font-family=\"Helvetica,sans-Serif\" font-size=\"14.00\" fill=\"#000000\">class = class_2</text>\n</g>\n<!-- 4&#45;&gt;5 -->\n<g id=\"edge5\" class=\"edge\">\n<title>4&#45;&gt;5</title>\n<path fill=\"none\" stroke=\"#000000\" d=\"M234.2418,-222.8796C220.6857,-213.2774 206.1628,-202.9903 192.2754,-193.1534\"/>\n<polygon fill=\"#000000\" stroke=\"#000000\" points=\"193.9084,-190.021 183.7251,-187.0969 189.8623,-195.7332 193.9084,-190.021\"/>\n</g>\n<!-- 8 -->\n<g id=\"node9\" class=\"node\">\n<title>8</title>\n<path fill=\"#39e581\" stroke=\"#000000\" d=\"M339,-179.5C339,-179.5 247,-179.5 247,-179.5 241,-179.5 235,-173.5 235,-167.5 235,-167.5 235,-123.5 235,-123.5 235,-117.5 241,-111.5 247,-111.5 247,-111.5 339,-111.5 339,-111.5 345,-111.5 351,-117.5 351,-123.5 351,-123.5 351,-167.5 351,-167.5 351,-173.5 345,-179.5 339,-179.5\"/>\n<text text-anchor=\"middle\" x=\"293\" y=\"-164.3\" font-family=\"Helvetica,sans-Serif\" font-size=\"14.00\" fill=\"#000000\">entropy = 0.0</text>\n<text text-anchor=\"middle\" x=\"293\" y=\"-149.3\" font-family=\"Helvetica,sans-Serif\" font-size=\"14.00\" fill=\"#000000\">samples = 7</text>\n<text text-anchor=\"middle\" x=\"293\" y=\"-134.3\" font-family=\"Helvetica,sans-Serif\" font-size=\"14.00\" fill=\"#000000\">value = [0, 7, 0]</text>\n<text text-anchor=\"middle\" x=\"293\" y=\"-119.3\" font-family=\"Helvetica,sans-Serif\" font-size=\"14.00\" fill=\"#000000\">class = class_1</text>\n</g>\n<!-- 4&#45;&gt;8 -->\n<g id=\"edge8\" class=\"edge\">\n<title>4&#45;&gt;8</title>\n<path fill=\"none\" stroke=\"#000000\" d=\"M293,-222.8796C293,-212.2134 293,-200.7021 293,-189.9015\"/>\n<polygon fill=\"#000000\" stroke=\"#000000\" points=\"296.5001,-189.8149 293,-179.8149 289.5001,-189.815 296.5001,-189.8149\"/>\n</g>\n<!-- 6 -->\n<g id=\"node7\" class=\"node\">\n<title>6</title>\n<path fill=\"#8139e5\" stroke=\"#000000\" d=\"M104,-68C104,-68 12,-68 12,-68 6,-68 0,-62 0,-56 0,-56 0,-12 0,-12 0,-6 6,0 12,0 12,0 104,0 104,0 110,0 116,-6 116,-12 116,-12 116,-56 116,-56 116,-62 110,-68 104,-68\"/>\n<text text-anchor=\"middle\" x=\"58\" y=\"-52.8\" font-family=\"Helvetica,sans-Serif\" font-size=\"14.00\" fill=\"#000000\">entropy = 0.0</text>\n<text text-anchor=\"middle\" x=\"58\" y=\"-37.8\" font-family=\"Helvetica,sans-Serif\" font-size=\"14.00\" fill=\"#000000\">samples = 2</text>\n<text text-anchor=\"middle\" x=\"58\" y=\"-22.8\" font-family=\"Helvetica,sans-Serif\" font-size=\"14.00\" fill=\"#000000\">value = [0, 0, 2]</text>\n<text text-anchor=\"middle\" x=\"58\" y=\"-7.8\" font-family=\"Helvetica,sans-Serif\" font-size=\"14.00\" fill=\"#000000\">class = class_2</text>\n</g>\n<!-- 5&#45;&gt;6 -->\n<g id=\"edge6\" class=\"edge\">\n<title>5&#45;&gt;6</title>\n<path fill=\"none\" stroke=\"#000000\" d=\"M100.0517,-103.9815C94.7499,-95.1585 89.1419,-85.8258 83.8089,-76.9506\"/>\n<polygon fill=\"#000000\" stroke=\"#000000\" points=\"86.7396,-75.0325 78.5889,-68.2637 80.7395,-78.638 86.7396,-75.0325\"/>\n</g>\n<!-- 7 -->\n<g id=\"node8\" class=\"node\">\n<title>7</title>\n<path fill=\"#39e581\" stroke=\"#000000\" d=\"M238,-68C238,-68 146,-68 146,-68 140,-68 134,-62 134,-56 134,-56 134,-12 134,-12 134,-6 140,0 146,0 146,0 238,0 238,0 244,0 250,-6 250,-12 250,-12 250,-56 250,-56 250,-62 244,-68 238,-68\"/>\n<text text-anchor=\"middle\" x=\"192\" y=\"-52.8\" font-family=\"Helvetica,sans-Serif\" font-size=\"14.00\" fill=\"#000000\">entropy = 0.0</text>\n<text text-anchor=\"middle\" x=\"192\" y=\"-37.8\" font-family=\"Helvetica,sans-Serif\" font-size=\"14.00\" fill=\"#000000\">samples = 1</text>\n<text text-anchor=\"middle\" x=\"192\" y=\"-22.8\" font-family=\"Helvetica,sans-Serif\" font-size=\"14.00\" fill=\"#000000\">value = [0, 1, 0]</text>\n<text text-anchor=\"middle\" x=\"192\" y=\"-7.8\" font-family=\"Helvetica,sans-Serif\" font-size=\"14.00\" fill=\"#000000\">class = class_1</text>\n</g>\n<!-- 5&#45;&gt;7 -->\n<g id=\"edge7\" class=\"edge\">\n<title>5&#45;&gt;7</title>\n<path fill=\"none\" stroke=\"#000000\" d=\"M149.9483,-103.9815C155.2501,-95.1585 160.8581,-85.8258 166.1911,-76.9506\"/>\n<polygon fill=\"#000000\" stroke=\"#000000\" points=\"169.2605,-78.638 171.4111,-68.2637 163.2604,-75.0325 169.2605,-78.638\"/>\n</g>\n<!-- 10 -->\n<g id=\"node11\" class=\"node\">\n<title>10</title>\n<path fill=\"#ffffff\" stroke=\"#000000\" d=\"M521,-187C521,-187 381,-187 381,-187 375,-187 369,-181 369,-175 369,-175 369,-116 369,-116 369,-110 375,-104 381,-104 381,-104 521,-104 521,-104 527,-104 533,-110 533,-116 533,-116 533,-175 533,-175 533,-181 527,-187 521,-187\"/>\n<text text-anchor=\"middle\" x=\"451\" y=\"-171.8\" font-family=\"Helvetica,sans-Serif\" font-size=\"14.00\" fill=\"#000000\">total_phenols &lt;= 1.586</text>\n<text text-anchor=\"middle\" x=\"451\" y=\"-156.8\" font-family=\"Helvetica,sans-Serif\" font-size=\"14.00\" fill=\"#000000\">entropy = 1.0</text>\n<text text-anchor=\"middle\" x=\"451\" y=\"-141.8\" font-family=\"Helvetica,sans-Serif\" font-size=\"14.00\" fill=\"#000000\">samples = 2</text>\n<text text-anchor=\"middle\" x=\"451\" y=\"-126.8\" font-family=\"Helvetica,sans-Serif\" font-size=\"14.00\" fill=\"#000000\">value = [0, 1, 1]</text>\n<text text-anchor=\"middle\" x=\"451\" y=\"-111.8\" font-family=\"Helvetica,sans-Serif\" font-size=\"14.00\" fill=\"#000000\">class = class_1</text>\n</g>\n<!-- 9&#45;&gt;10 -->\n<g id=\"edge10\" class=\"edge\">\n<title>9&#45;&gt;10</title>\n<path fill=\"none\" stroke=\"#000000\" d=\"M457.5025,-222.8796C456.8138,-214.6838 456.0831,-205.9891 455.3699,-197.5013\"/>\n<polygon fill=\"#000000\" stroke=\"#000000\" points=\"458.8376,-196.9698 454.5124,-187.2981 451.8622,-197.5561 458.8376,-196.9698\"/>\n</g>\n<!-- 13 -->\n<g id=\"node14\" class=\"node\">\n<title>13</title>\n<path fill=\"#8139e5\" stroke=\"#000000\" d=\"M655,-179.5C655,-179.5 563,-179.5 563,-179.5 557,-179.5 551,-173.5 551,-167.5 551,-167.5 551,-123.5 551,-123.5 551,-117.5 557,-111.5 563,-111.5 563,-111.5 655,-111.5 655,-111.5 661,-111.5 667,-117.5 667,-123.5 667,-123.5 667,-167.5 667,-167.5 667,-173.5 661,-179.5 655,-179.5\"/>\n<text text-anchor=\"middle\" x=\"609\" y=\"-164.3\" font-family=\"Helvetica,sans-Serif\" font-size=\"14.00\" fill=\"#000000\">entropy = 0.0</text>\n<text text-anchor=\"middle\" x=\"609\" y=\"-149.3\" font-family=\"Helvetica,sans-Serif\" font-size=\"14.00\" fill=\"#000000\">samples = 8</text>\n<text text-anchor=\"middle\" x=\"609\" y=\"-134.3\" font-family=\"Helvetica,sans-Serif\" font-size=\"14.00\" fill=\"#000000\">value = [0, 0, 8]</text>\n<text text-anchor=\"middle\" x=\"609\" y=\"-119.3\" font-family=\"Helvetica,sans-Serif\" font-size=\"14.00\" fill=\"#000000\">class = class_2</text>\n</g>\n<!-- 9&#45;&gt;13 -->\n<g id=\"edge13\" class=\"edge\">\n<title>9&#45;&gt;13</title>\n<path fill=\"none\" stroke=\"#000000\" d=\"M512.7632,-222.8796C527.5331,-211.0038 543.6059,-198.0804 558.3108,-186.2568\"/>\n<polygon fill=\"#000000\" stroke=\"#000000\" points=\"560.7225,-188.8088 566.3226,-179.8149 556.3361,-183.3535 560.7225,-188.8088\"/>\n</g>\n<!-- 11 -->\n<g id=\"node12\" class=\"node\">\n<title>11</title>\n<path fill=\"#8139e5\" stroke=\"#000000\" d=\"M435,-68C435,-68 343,-68 343,-68 337,-68 331,-62 331,-56 331,-56 331,-12 331,-12 331,-6 337,0 343,0 343,0 435,0 435,0 441,0 447,-6 447,-12 447,-12 447,-56 447,-56 447,-62 441,-68 435,-68\"/>\n<text text-anchor=\"middle\" x=\"389\" y=\"-52.8\" font-family=\"Helvetica,sans-Serif\" font-size=\"14.00\" fill=\"#000000\">entropy = 0.0</text>\n<text text-anchor=\"middle\" x=\"389\" y=\"-37.8\" font-family=\"Helvetica,sans-Serif\" font-size=\"14.00\" fill=\"#000000\">samples = 1</text>\n<text text-anchor=\"middle\" x=\"389\" y=\"-22.8\" font-family=\"Helvetica,sans-Serif\" font-size=\"14.00\" fill=\"#000000\">value = [0, 0, 1]</text>\n<text text-anchor=\"middle\" x=\"389\" y=\"-7.8\" font-family=\"Helvetica,sans-Serif\" font-size=\"14.00\" fill=\"#000000\">class = class_2</text>\n</g>\n<!-- 10&#45;&gt;11 -->\n<g id=\"edge11\" class=\"edge\">\n<title>10&#45;&gt;11</title>\n<path fill=\"none\" stroke=\"#000000\" d=\"M427.9135,-103.9815C423.0585,-95.2504 417.926,-86.0202 413.0371,-77.2281\"/>\n<polygon fill=\"#000000\" stroke=\"#000000\" points=\"415.9712,-75.3025 408.0524,-68.2637 409.8533,-78.7043 415.9712,-75.3025\"/>\n</g>\n<!-- 12 -->\n<g id=\"node13\" class=\"node\">\n<title>12</title>\n<path fill=\"#39e581\" stroke=\"#000000\" d=\"M569,-68C569,-68 477,-68 477,-68 471,-68 465,-62 465,-56 465,-56 465,-12 465,-12 465,-6 471,0 477,0 477,0 569,0 569,0 575,0 581,-6 581,-12 581,-12 581,-56 581,-56 581,-62 575,-68 569,-68\"/>\n<text text-anchor=\"middle\" x=\"523\" y=\"-52.8\" font-family=\"Helvetica,sans-Serif\" font-size=\"14.00\" fill=\"#000000\">entropy = 0.0</text>\n<text text-anchor=\"middle\" x=\"523\" y=\"-37.8\" font-family=\"Helvetica,sans-Serif\" font-size=\"14.00\" fill=\"#000000\">samples = 1</text>\n<text text-anchor=\"middle\" x=\"523\" y=\"-22.8\" font-family=\"Helvetica,sans-Serif\" font-size=\"14.00\" fill=\"#000000\">value = [0, 1, 0]</text>\n<text text-anchor=\"middle\" x=\"523\" y=\"-7.8\" font-family=\"Helvetica,sans-Serif\" font-size=\"14.00\" fill=\"#000000\">class = class_1</text>\n</g>\n<!-- 10&#45;&gt;12 -->\n<g id=\"edge12\" class=\"edge\">\n<title>10&#45;&gt;12</title>\n<path fill=\"none\" stroke=\"#000000\" d=\"M477.8101,-103.9815C483.5669,-95.0666 489.6596,-85.6313 495.4441,-76.6734\"/>\n<polygon fill=\"#000000\" stroke=\"#000000\" points=\"498.3901,-78.5631 500.8746,-68.2637 492.5096,-74.7658 498.3901,-78.5631\"/>\n</g>\n<!-- 15 -->\n<g id=\"node16\" class=\"node\">\n<title>15</title>\n<path fill=\"#8139e5\" stroke=\"#000000\" d=\"M686.5,-298.5C686.5,-298.5 587.5,-298.5 587.5,-298.5 581.5,-298.5 575.5,-292.5 575.5,-286.5 575.5,-286.5 575.5,-242.5 575.5,-242.5 575.5,-236.5 581.5,-230.5 587.5,-230.5 587.5,-230.5 686.5,-230.5 686.5,-230.5 692.5,-230.5 698.5,-236.5 698.5,-242.5 698.5,-242.5 698.5,-286.5 698.5,-286.5 698.5,-292.5 692.5,-298.5 686.5,-298.5\"/>\n<text text-anchor=\"middle\" x=\"637\" y=\"-283.3\" font-family=\"Helvetica,sans-Serif\" font-size=\"14.00\" fill=\"#000000\">entropy = 0.0</text>\n<text text-anchor=\"middle\" x=\"637\" y=\"-268.3\" font-family=\"Helvetica,sans-Serif\" font-size=\"14.00\" fill=\"#000000\">samples = 18</text>\n<text text-anchor=\"middle\" x=\"637\" y=\"-253.3\" font-family=\"Helvetica,sans-Serif\" font-size=\"14.00\" fill=\"#000000\">value = [0, 0, 18]</text>\n<text text-anchor=\"middle\" x=\"637\" y=\"-238.3\" font-family=\"Helvetica,sans-Serif\" font-size=\"14.00\" fill=\"#000000\">class = class_2</text>\n</g>\n<!-- 14&#45;&gt;15 -->\n<g id=\"edge15\" class=\"edge\">\n<title>14&#45;&gt;15</title>\n<path fill=\"none\" stroke=\"#000000\" d=\"M643.5025,-341.8796C642.6062,-331.2134 641.6388,-319.7021 640.7312,-308.9015\"/>\n<polygon fill=\"#000000\" stroke=\"#000000\" points=\"644.2088,-308.4867 639.8836,-298.8149 637.2334,-309.0729 644.2088,-308.4867\"/>\n</g>\n<!-- 16 -->\n<g id=\"node17\" class=\"node\">\n<title>16</title>\n<path fill=\"#ab7bee\" stroke=\"#000000\" d=\"M985.5,-306C985.5,-306 728.5,-306 728.5,-306 722.5,-306 716.5,-300 716.5,-294 716.5,-294 716.5,-235 716.5,-235 716.5,-229 722.5,-223 728.5,-223 728.5,-223 985.5,-223 985.5,-223 991.5,-223 997.5,-229 997.5,-235 997.5,-235 997.5,-294 997.5,-294 997.5,-300 991.5,-306 985.5,-306\"/>\n<text text-anchor=\"middle\" x=\"857\" y=\"-290.8\" font-family=\"Helvetica,sans-Serif\" font-size=\"14.00\" fill=\"#000000\">od280/od315_of_diluted_wines &lt;= 1.719</text>\n<text text-anchor=\"middle\" x=\"857\" y=\"-275.8\" font-family=\"Helvetica,sans-Serif\" font-size=\"14.00\" fill=\"#000000\">entropy = 0.811</text>\n<text text-anchor=\"middle\" x=\"857\" y=\"-260.8\" font-family=\"Helvetica,sans-Serif\" font-size=\"14.00\" fill=\"#000000\">samples = 4</text>\n<text text-anchor=\"middle\" x=\"857\" y=\"-245.8\" font-family=\"Helvetica,sans-Serif\" font-size=\"14.00\" fill=\"#000000\">value = [0, 1, 3]</text>\n<text text-anchor=\"middle\" x=\"857\" y=\"-230.8\" font-family=\"Helvetica,sans-Serif\" font-size=\"14.00\" fill=\"#000000\">class = class_2</text>\n</g>\n<!-- 14&#45;&gt;16 -->\n<g id=\"edge16\" class=\"edge\">\n<title>14&#45;&gt;16</title>\n<path fill=\"none\" stroke=\"#000000\" d=\"M718.6827,-342.8798C736.7358,-332.6497 756.2548,-321.5889 774.7799,-311.0914\"/>\n<polygon fill=\"#000000\" stroke=\"#000000\" points=\"776.5222,-314.127 783.4969,-306.1518 773.0711,-308.0369 776.5222,-314.127\"/>\n</g>\n<!-- 17 -->\n<g id=\"node18\" class=\"node\">\n<title>17</title>\n<path fill=\"#8139e5\" stroke=\"#000000\" d=\"M789,-179.5C789,-179.5 697,-179.5 697,-179.5 691,-179.5 685,-173.5 685,-167.5 685,-167.5 685,-123.5 685,-123.5 685,-117.5 691,-111.5 697,-111.5 697,-111.5 789,-111.5 789,-111.5 795,-111.5 801,-117.5 801,-123.5 801,-123.5 801,-167.5 801,-167.5 801,-173.5 795,-179.5 789,-179.5\"/>\n<text text-anchor=\"middle\" x=\"743\" y=\"-164.3\" font-family=\"Helvetica,sans-Serif\" font-size=\"14.00\" fill=\"#000000\">entropy = 0.0</text>\n<text text-anchor=\"middle\" x=\"743\" y=\"-149.3\" font-family=\"Helvetica,sans-Serif\" font-size=\"14.00\" fill=\"#000000\">samples = 3</text>\n<text text-anchor=\"middle\" x=\"743\" y=\"-134.3\" font-family=\"Helvetica,sans-Serif\" font-size=\"14.00\" fill=\"#000000\">value = [0, 0, 3]</text>\n<text text-anchor=\"middle\" x=\"743\" y=\"-119.3\" font-family=\"Helvetica,sans-Serif\" font-size=\"14.00\" fill=\"#000000\">class = class_2</text>\n</g>\n<!-- 16&#45;&gt;17 -->\n<g id=\"edge17\" class=\"edge\">\n<title>16&#45;&gt;17</title>\n<path fill=\"none\" stroke=\"#000000\" d=\"M817.1283,-222.8796C806.0676,-211.3337 794.0582,-198.7976 782.9906,-187.2446\"/>\n<polygon fill=\"#000000\" stroke=\"#000000\" points=\"785.3183,-184.6149 775.8731,-179.8149 780.2635,-189.4573 785.3183,-184.6149\"/>\n</g>\n<!-- 18 -->\n<g id=\"node19\" class=\"node\">\n<title>18</title>\n<path fill=\"#39e581\" stroke=\"#000000\" d=\"M923,-179.5C923,-179.5 831,-179.5 831,-179.5 825,-179.5 819,-173.5 819,-167.5 819,-167.5 819,-123.5 819,-123.5 819,-117.5 825,-111.5 831,-111.5 831,-111.5 923,-111.5 923,-111.5 929,-111.5 935,-117.5 935,-123.5 935,-123.5 935,-167.5 935,-167.5 935,-173.5 929,-179.5 923,-179.5\"/>\n<text text-anchor=\"middle\" x=\"877\" y=\"-164.3\" font-family=\"Helvetica,sans-Serif\" font-size=\"14.00\" fill=\"#000000\">entropy = 0.0</text>\n<text text-anchor=\"middle\" x=\"877\" y=\"-149.3\" font-family=\"Helvetica,sans-Serif\" font-size=\"14.00\" fill=\"#000000\">samples = 1</text>\n<text text-anchor=\"middle\" x=\"877\" y=\"-134.3\" font-family=\"Helvetica,sans-Serif\" font-size=\"14.00\" fill=\"#000000\">value = [0, 1, 0]</text>\n<text text-anchor=\"middle\" x=\"877\" y=\"-119.3\" font-family=\"Helvetica,sans-Serif\" font-size=\"14.00\" fill=\"#000000\">class = class_1</text>\n</g>\n<!-- 16&#45;&gt;18 -->\n<g id=\"edge18\" class=\"edge\">\n<title>16&#45;&gt;18</title>\n<path fill=\"none\" stroke=\"#000000\" d=\"M863.995,-222.8796C865.7877,-212.2134 867.7223,-200.7021 869.5376,-189.9015\"/>\n<polygon fill=\"#000000\" stroke=\"#000000\" points=\"873.0269,-190.2568 871.2328,-179.8149 866.1237,-189.0965 873.0269,-190.2568\"/>\n</g>\n<!-- 21 -->\n<g id=\"node22\" class=\"node\">\n<title>21</title>\n<path fill=\"#bdf6d5\" stroke=\"#000000\" d=\"M1191.5,-544C1191.5,-544 1078.5,-544 1078.5,-544 1072.5,-544 1066.5,-538 1066.5,-532 1066.5,-532 1066.5,-473 1066.5,-473 1066.5,-467 1072.5,-461 1078.5,-461 1078.5,-461 1191.5,-461 1191.5,-461 1197.5,-461 1203.5,-467 1203.5,-473 1203.5,-473 1203.5,-532 1203.5,-532 1203.5,-538 1197.5,-544 1191.5,-544\"/>\n<text text-anchor=\"middle\" x=\"1135\" y=\"-528.8\" font-family=\"Helvetica,sans-Serif\" font-size=\"14.00\" fill=\"#000000\">proline &lt;= 518.173</text>\n<text text-anchor=\"middle\" x=\"1135\" y=\"-513.8\" font-family=\"Helvetica,sans-Serif\" font-size=\"14.00\" fill=\"#000000\">entropy = 0.971</text>\n<text text-anchor=\"middle\" x=\"1135\" y=\"-498.8\" font-family=\"Helvetica,sans-Serif\" font-size=\"14.00\" fill=\"#000000\">samples = 45</text>\n<text text-anchor=\"middle\" x=\"1135\" y=\"-483.8\" font-family=\"Helvetica,sans-Serif\" font-size=\"14.00\" fill=\"#000000\">value = [18, 27, 0]</text>\n<text text-anchor=\"middle\" x=\"1135\" y=\"-468.8\" font-family=\"Helvetica,sans-Serif\" font-size=\"14.00\" fill=\"#000000\">class = class_1</text>\n</g>\n<!-- 20&#45;&gt;21 -->\n<g id=\"edge21\" class=\"edge\">\n<title>20&#45;&gt;21</title>\n<path fill=\"none\" stroke=\"#000000\" d=\"M1135,-579.8796C1135,-571.6838 1135,-562.9891 1135,-554.5013\"/>\n<polygon fill=\"#000000\" stroke=\"#000000\" points=\"1138.5001,-554.298 1135,-544.2981 1131.5001,-554.2981 1138.5001,-554.298\"/>\n</g>\n<!-- 32 -->\n<g id=\"node33\" class=\"node\">\n<title>32</title>\n<path fill=\"#e99355\" stroke=\"#000000\" d=\"M1422,-544C1422,-544 1314,-544 1314,-544 1308,-544 1302,-538 1302,-532 1302,-532 1302,-473 1302,-473 1302,-467 1308,-461 1314,-461 1314,-461 1422,-461 1422,-461 1428,-461 1434,-467 1434,-473 1434,-473 1434,-532 1434,-532 1434,-538 1428,-544 1422,-544\"/>\n<text text-anchor=\"middle\" x=\"1368\" y=\"-528.8\" font-family=\"Helvetica,sans-Serif\" font-size=\"14.00\" fill=\"#000000\">alcohol &lt;= 11.961</text>\n<text text-anchor=\"middle\" x=\"1368\" y=\"-513.8\" font-family=\"Helvetica,sans-Serif\" font-size=\"14.00\" fill=\"#000000\">entropy = 0.544</text>\n<text text-anchor=\"middle\" x=\"1368\" y=\"-498.8\" font-family=\"Helvetica,sans-Serif\" font-size=\"14.00\" fill=\"#000000\">samples = 24</text>\n<text text-anchor=\"middle\" x=\"1368\" y=\"-483.8\" font-family=\"Helvetica,sans-Serif\" font-size=\"14.00\" fill=\"#000000\">value = [21, 3, 0]</text>\n<text text-anchor=\"middle\" x=\"1368\" y=\"-468.8\" font-family=\"Helvetica,sans-Serif\" font-size=\"14.00\" fill=\"#000000\">class = class_0</text>\n</g>\n<!-- 20&#45;&gt;32 -->\n<g id=\"edge32\" class=\"edge\">\n<title>20&#45;&gt;32</title>\n<path fill=\"none\" stroke=\"#000000\" d=\"M1216.4921,-579.8796C1241.2779,-567.2207 1268.3943,-553.3716 1292.7491,-540.9329\"/>\n<polygon fill=\"#000000\" stroke=\"#000000\" points=\"1294.6237,-543.9056 1301.9375,-536.2401 1291.4398,-537.6716 1294.6237,-543.9056\"/>\n</g>\n<!-- 22 -->\n<g id=\"node23\" class=\"node\">\n<title>22</title>\n<path fill=\"#39e581\" stroke=\"#000000\" d=\"M1060.5,-417.5C1060.5,-417.5 961.5,-417.5 961.5,-417.5 955.5,-417.5 949.5,-411.5 949.5,-405.5 949.5,-405.5 949.5,-361.5 949.5,-361.5 949.5,-355.5 955.5,-349.5 961.5,-349.5 961.5,-349.5 1060.5,-349.5 1060.5,-349.5 1066.5,-349.5 1072.5,-355.5 1072.5,-361.5 1072.5,-361.5 1072.5,-405.5 1072.5,-405.5 1072.5,-411.5 1066.5,-417.5 1060.5,-417.5\"/>\n<text text-anchor=\"middle\" x=\"1011\" y=\"-402.3\" font-family=\"Helvetica,sans-Serif\" font-size=\"14.00\" fill=\"#000000\">entropy = 0.0</text>\n<text text-anchor=\"middle\" x=\"1011\" y=\"-387.3\" font-family=\"Helvetica,sans-Serif\" font-size=\"14.00\" fill=\"#000000\">samples = 22</text>\n<text text-anchor=\"middle\" x=\"1011\" y=\"-372.3\" font-family=\"Helvetica,sans-Serif\" font-size=\"14.00\" fill=\"#000000\">value = [0, 22, 0]</text>\n<text text-anchor=\"middle\" x=\"1011\" y=\"-357.3\" font-family=\"Helvetica,sans-Serif\" font-size=\"14.00\" fill=\"#000000\">class = class_1</text>\n</g>\n<!-- 21&#45;&gt;22 -->\n<g id=\"edge22\" class=\"edge\">\n<title>21&#45;&gt;22</title>\n<path fill=\"none\" stroke=\"#000000\" d=\"M1091.6308,-460.8796C1079.4852,-449.2237 1066.2881,-436.5587 1054.1549,-424.9148\"/>\n<polygon fill=\"#000000\" stroke=\"#000000\" points=\"1056.3953,-422.2138 1046.7567,-417.8149 1051.5484,-427.2643 1056.3953,-422.2138\"/>\n</g>\n<!-- 23 -->\n<g id=\"node24\" class=\"node\">\n<title>23</title>\n<path fill=\"#eca470\" stroke=\"#000000\" d=\"M1249,-425C1249,-425 1103,-425 1103,-425 1097,-425 1091,-419 1091,-413 1091,-413 1091,-354 1091,-354 1091,-348 1097,-342 1103,-342 1103,-342 1249,-342 1249,-342 1255,-342 1261,-348 1261,-354 1261,-354 1261,-413 1261,-413 1261,-419 1255,-425 1249,-425\"/>\n<text text-anchor=\"middle\" x=\"1176\" y=\"-409.8\" font-family=\"Helvetica,sans-Serif\" font-size=\"14.00\" fill=\"#000000\">color_intensity &lt;= 3.895</text>\n<text text-anchor=\"middle\" x=\"1176\" y=\"-394.8\" font-family=\"Helvetica,sans-Serif\" font-size=\"14.00\" fill=\"#000000\">entropy = 0.755</text>\n<text text-anchor=\"middle\" x=\"1176\" y=\"-379.8\" font-family=\"Helvetica,sans-Serif\" font-size=\"14.00\" fill=\"#000000\">samples = 23</text>\n<text text-anchor=\"middle\" x=\"1176\" y=\"-364.8\" font-family=\"Helvetica,sans-Serif\" font-size=\"14.00\" fill=\"#000000\">value = [18, 5, 0]</text>\n<text text-anchor=\"middle\" x=\"1176\" y=\"-349.8\" font-family=\"Helvetica,sans-Serif\" font-size=\"14.00\" fill=\"#000000\">class = class_0</text>\n</g>\n<!-- 21&#45;&gt;23 -->\n<g id=\"edge23\" class=\"edge\">\n<title>21&#45;&gt;23</title>\n<path fill=\"none\" stroke=\"#000000\" d=\"M1149.3398,-460.8796C1152.2256,-452.5037 1155.291,-443.6067 1158.2763,-434.942\"/>\n<polygon fill=\"#000000\" stroke=\"#000000\" points=\"1161.6506,-435.8928 1161.599,-425.2981 1155.0324,-433.6125 1161.6506,-435.8928\"/>\n</g>\n<!-- 24 -->\n<g id=\"node25\" class=\"node\">\n<title>24</title>\n<path fill=\"#ffffff\" stroke=\"#000000\" d=\"M1195,-306C1195,-306 1087,-306 1087,-306 1081,-306 1075,-300 1075,-294 1075,-294 1075,-235 1075,-235 1075,-229 1081,-223 1087,-223 1087,-223 1195,-223 1195,-223 1201,-223 1207,-229 1207,-235 1207,-235 1207,-294 1207,-294 1207,-300 1201,-306 1195,-306\"/>\n<text text-anchor=\"middle\" x=\"1141\" y=\"-290.8\" font-family=\"Helvetica,sans-Serif\" font-size=\"14.00\" fill=\"#000000\">alcohol &lt;= 12.731</text>\n<text text-anchor=\"middle\" x=\"1141\" y=\"-275.8\" font-family=\"Helvetica,sans-Serif\" font-size=\"14.00\" fill=\"#000000\">entropy = 1.0</text>\n<text text-anchor=\"middle\" x=\"1141\" y=\"-260.8\" font-family=\"Helvetica,sans-Serif\" font-size=\"14.00\" fill=\"#000000\">samples = 6</text>\n<text text-anchor=\"middle\" x=\"1141\" y=\"-245.8\" font-family=\"Helvetica,sans-Serif\" font-size=\"14.00\" fill=\"#000000\">value = [3, 3, 0]</text>\n<text text-anchor=\"middle\" x=\"1141\" y=\"-230.8\" font-family=\"Helvetica,sans-Serif\" font-size=\"14.00\" fill=\"#000000\">class = class_0</text>\n</g>\n<!-- 23&#45;&gt;24 -->\n<g id=\"edge24\" class=\"edge\">\n<title>23&#45;&gt;24</title>\n<path fill=\"none\" stroke=\"#000000\" d=\"M1163.7587,-341.8796C1161.2952,-333.5037 1158.6784,-324.6067 1156.13,-315.942\"/>\n<polygon fill=\"#000000\" stroke=\"#000000\" points=\"1159.4731,-314.9041 1153.2936,-306.2981 1152.7575,-316.8793 1159.4731,-314.9041\"/>\n</g>\n<!-- 27 -->\n<g id=\"node28\" class=\"node\">\n<title>27</title>\n<path fill=\"#e89253\" stroke=\"#000000\" d=\"M1350.5,-306C1350.5,-306 1237.5,-306 1237.5,-306 1231.5,-306 1225.5,-300 1225.5,-294 1225.5,-294 1225.5,-235 1225.5,-235 1225.5,-229 1231.5,-223 1237.5,-223 1237.5,-223 1350.5,-223 1350.5,-223 1356.5,-223 1362.5,-229 1362.5,-235 1362.5,-235 1362.5,-294 1362.5,-294 1362.5,-300 1356.5,-306 1350.5,-306\"/>\n<text text-anchor=\"middle\" x=\"1294\" y=\"-290.8\" font-family=\"Helvetica,sans-Serif\" font-size=\"14.00\" fill=\"#000000\">proline &lt;= 794.425</text>\n<text text-anchor=\"middle\" x=\"1294\" y=\"-275.8\" font-family=\"Helvetica,sans-Serif\" font-size=\"14.00\" fill=\"#000000\">entropy = 0.523</text>\n<text text-anchor=\"middle\" x=\"1294\" y=\"-260.8\" font-family=\"Helvetica,sans-Serif\" font-size=\"14.00\" fill=\"#000000\">samples = 17</text>\n<text text-anchor=\"middle\" x=\"1294\" y=\"-245.8\" font-family=\"Helvetica,sans-Serif\" font-size=\"14.00\" fill=\"#000000\">value = [15, 2, 0]</text>\n<text text-anchor=\"middle\" x=\"1294\" y=\"-230.8\" font-family=\"Helvetica,sans-Serif\" font-size=\"14.00\" fill=\"#000000\">class = class_0</text>\n</g>\n<!-- 23&#45;&gt;27 -->\n<g id=\"edge27\" class=\"edge\">\n<title>23&#45;&gt;27</title>\n<path fill=\"none\" stroke=\"#000000\" d=\"M1217.2707,-341.8796C1226.3799,-332.6931 1236.1108,-322.8798 1245.4776,-313.4336\"/>\n<polygon fill=\"#000000\" stroke=\"#000000\" points=\"1247.9973,-315.8634 1252.5532,-306.2981 1243.0267,-310.9345 1247.9973,-315.8634\"/>\n</g>\n<!-- 25 -->\n<g id=\"node26\" class=\"node\">\n<title>25</title>\n<path fill=\"#39e581\" stroke=\"#000000\" d=\"M1057,-179.5C1057,-179.5 965,-179.5 965,-179.5 959,-179.5 953,-173.5 953,-167.5 953,-167.5 953,-123.5 953,-123.5 953,-117.5 959,-111.5 965,-111.5 965,-111.5 1057,-111.5 1057,-111.5 1063,-111.5 1069,-117.5 1069,-123.5 1069,-123.5 1069,-167.5 1069,-167.5 1069,-173.5 1063,-179.5 1057,-179.5\"/>\n<text text-anchor=\"middle\" x=\"1011\" y=\"-164.3\" font-family=\"Helvetica,sans-Serif\" font-size=\"14.00\" fill=\"#000000\">entropy = 0.0</text>\n<text text-anchor=\"middle\" x=\"1011\" y=\"-149.3\" font-family=\"Helvetica,sans-Serif\" font-size=\"14.00\" fill=\"#000000\">samples = 3</text>\n<text text-anchor=\"middle\" x=\"1011\" y=\"-134.3\" font-family=\"Helvetica,sans-Serif\" font-size=\"14.00\" fill=\"#000000\">value = [0, 3, 0]</text>\n<text text-anchor=\"middle\" x=\"1011\" y=\"-119.3\" font-family=\"Helvetica,sans-Serif\" font-size=\"14.00\" fill=\"#000000\">class = class_1</text>\n</g>\n<!-- 24&#45;&gt;25 -->\n<g id=\"edge25\" class=\"edge\">\n<title>24&#45;&gt;25</title>\n<path fill=\"none\" stroke=\"#000000\" d=\"M1095.5323,-222.8796C1082.6789,-211.1138 1068.7021,-198.3197 1055.8834,-186.5855\"/>\n<polygon fill=\"#000000\" stroke=\"#000000\" points=\"1058.2264,-183.9854 1048.4869,-179.8149 1053.4999,-189.1488 1058.2264,-183.9854\"/>\n</g>\n<!-- 26 -->\n<g id=\"node27\" class=\"node\">\n<title>26</title>\n<path fill=\"#e58139\" stroke=\"#000000\" d=\"M1191,-179.5C1191,-179.5 1099,-179.5 1099,-179.5 1093,-179.5 1087,-173.5 1087,-167.5 1087,-167.5 1087,-123.5 1087,-123.5 1087,-117.5 1093,-111.5 1099,-111.5 1099,-111.5 1191,-111.5 1191,-111.5 1197,-111.5 1203,-117.5 1203,-123.5 1203,-123.5 1203,-167.5 1203,-167.5 1203,-173.5 1197,-179.5 1191,-179.5\"/>\n<text text-anchor=\"middle\" x=\"1145\" y=\"-164.3\" font-family=\"Helvetica,sans-Serif\" font-size=\"14.00\" fill=\"#000000\">entropy = 0.0</text>\n<text text-anchor=\"middle\" x=\"1145\" y=\"-149.3\" font-family=\"Helvetica,sans-Serif\" font-size=\"14.00\" fill=\"#000000\">samples = 3</text>\n<text text-anchor=\"middle\" x=\"1145\" y=\"-134.3\" font-family=\"Helvetica,sans-Serif\" font-size=\"14.00\" fill=\"#000000\">value = [3, 0, 0]</text>\n<text text-anchor=\"middle\" x=\"1145\" y=\"-119.3\" font-family=\"Helvetica,sans-Serif\" font-size=\"14.00\" fill=\"#000000\">class = class_0</text>\n</g>\n<!-- 24&#45;&gt;26 -->\n<g id=\"edge26\" class=\"edge\">\n<title>24&#45;&gt;26</title>\n<path fill=\"none\" stroke=\"#000000\" d=\"M1142.399,-222.8796C1142.7575,-212.2134 1143.1445,-200.7021 1143.5075,-189.9015\"/>\n<polygon fill=\"#000000\" stroke=\"#000000\" points=\"1147.0085,-189.9269 1143.8466,-179.8149 1140.0125,-189.6917 1147.0085,-189.9269\"/>\n</g>\n<!-- 28 -->\n<g id=\"node29\" class=\"node\">\n<title>28</title>\n<path fill=\"#9cf2c0\" stroke=\"#000000\" d=\"M1346.5,-187C1346.5,-187 1233.5,-187 1233.5,-187 1227.5,-187 1221.5,-181 1221.5,-175 1221.5,-175 1221.5,-116 1221.5,-116 1221.5,-110 1227.5,-104 1233.5,-104 1233.5,-104 1346.5,-104 1346.5,-104 1352.5,-104 1358.5,-110 1358.5,-116 1358.5,-116 1358.5,-175 1358.5,-175 1358.5,-181 1352.5,-187 1346.5,-187\"/>\n<text text-anchor=\"middle\" x=\"1290\" y=\"-171.8\" font-family=\"Helvetica,sans-Serif\" font-size=\"14.00\" fill=\"#000000\">proline &lt;= 704.893</text>\n<text text-anchor=\"middle\" x=\"1290\" y=\"-156.8\" font-family=\"Helvetica,sans-Serif\" font-size=\"14.00\" fill=\"#000000\">entropy = 0.918</text>\n<text text-anchor=\"middle\" x=\"1290\" y=\"-141.8\" font-family=\"Helvetica,sans-Serif\" font-size=\"14.00\" fill=\"#000000\">samples = 3</text>\n<text text-anchor=\"middle\" x=\"1290\" y=\"-126.8\" font-family=\"Helvetica,sans-Serif\" font-size=\"14.00\" fill=\"#000000\">value = [1, 2, 0]</text>\n<text text-anchor=\"middle\" x=\"1290\" y=\"-111.8\" font-family=\"Helvetica,sans-Serif\" font-size=\"14.00\" fill=\"#000000\">class = class_1</text>\n</g>\n<!-- 27&#45;&gt;28 -->\n<g id=\"edge28\" class=\"edge\">\n<title>27&#45;&gt;28</title>\n<path fill=\"none\" stroke=\"#000000\" d=\"M1292.601,-222.8796C1292.3255,-214.6838 1292.0332,-205.9891 1291.7479,-197.5013\"/>\n<polygon fill=\"#000000\" stroke=\"#000000\" points=\"1295.239,-197.1748 1291.405,-187.2981 1288.243,-197.41 1295.239,-197.1748\"/>\n</g>\n<!-- 31 -->\n<g id=\"node32\" class=\"node\">\n<title>31</title>\n<path fill=\"#e58139\" stroke=\"#000000\" d=\"M1487.5,-179.5C1487.5,-179.5 1388.5,-179.5 1388.5,-179.5 1382.5,-179.5 1376.5,-173.5 1376.5,-167.5 1376.5,-167.5 1376.5,-123.5 1376.5,-123.5 1376.5,-117.5 1382.5,-111.5 1388.5,-111.5 1388.5,-111.5 1487.5,-111.5 1487.5,-111.5 1493.5,-111.5 1499.5,-117.5 1499.5,-123.5 1499.5,-123.5 1499.5,-167.5 1499.5,-167.5 1499.5,-173.5 1493.5,-179.5 1487.5,-179.5\"/>\n<text text-anchor=\"middle\" x=\"1438\" y=\"-164.3\" font-family=\"Helvetica,sans-Serif\" font-size=\"14.00\" fill=\"#000000\">entropy = 0.0</text>\n<text text-anchor=\"middle\" x=\"1438\" y=\"-149.3\" font-family=\"Helvetica,sans-Serif\" font-size=\"14.00\" fill=\"#000000\">samples = 14</text>\n<text text-anchor=\"middle\" x=\"1438\" y=\"-134.3\" font-family=\"Helvetica,sans-Serif\" font-size=\"14.00\" fill=\"#000000\">value = [14, 0, 0]</text>\n<text text-anchor=\"middle\" x=\"1438\" y=\"-119.3\" font-family=\"Helvetica,sans-Serif\" font-size=\"14.00\" fill=\"#000000\">class = class_0</text>\n</g>\n<!-- 27&#45;&gt;31 -->\n<g id=\"edge31\" class=\"edge\">\n<title>27&#45;&gt;31</title>\n<path fill=\"none\" stroke=\"#000000\" d=\"M1344.3642,-222.8796C1358.7349,-211.0038 1374.3733,-198.0804 1388.6808,-186.2568\"/>\n<polygon fill=\"#000000\" stroke=\"#000000\" points=\"1390.9971,-188.8831 1396.476,-179.8149 1386.538,-183.4872 1390.9971,-188.8831\"/>\n</g>\n<!-- 29 -->\n<g id=\"node30\" class=\"node\">\n<title>29</title>\n<path fill=\"#39e581\" stroke=\"#000000\" d=\"M1269,-68C1269,-68 1177,-68 1177,-68 1171,-68 1165,-62 1165,-56 1165,-56 1165,-12 1165,-12 1165,-6 1171,0 1177,0 1177,0 1269,0 1269,0 1275,0 1281,-6 1281,-12 1281,-12 1281,-56 1281,-56 1281,-62 1275,-68 1269,-68\"/>\n<text text-anchor=\"middle\" x=\"1223\" y=\"-52.8\" font-family=\"Helvetica,sans-Serif\" font-size=\"14.00\" fill=\"#000000\">entropy = 0.0</text>\n<text text-anchor=\"middle\" x=\"1223\" y=\"-37.8\" font-family=\"Helvetica,sans-Serif\" font-size=\"14.00\" fill=\"#000000\">samples = 2</text>\n<text text-anchor=\"middle\" x=\"1223\" y=\"-22.8\" font-family=\"Helvetica,sans-Serif\" font-size=\"14.00\" fill=\"#000000\">value = [0, 2, 0]</text>\n<text text-anchor=\"middle\" x=\"1223\" y=\"-7.8\" font-family=\"Helvetica,sans-Serif\" font-size=\"14.00\" fill=\"#000000\">class = class_1</text>\n</g>\n<!-- 28&#45;&gt;29 -->\n<g id=\"edge29\" class=\"edge\">\n<title>28&#45;&gt;29</title>\n<path fill=\"none\" stroke=\"#000000\" d=\"M1265.0517,-103.9815C1259.7499,-95.1585 1254.1419,-85.8258 1248.8089,-76.9506\"/>\n<polygon fill=\"#000000\" stroke=\"#000000\" points=\"1251.7396,-75.0325 1243.5889,-68.2637 1245.7395,-78.638 1251.7396,-75.0325\"/>\n</g>\n<!-- 30 -->\n<g id=\"node31\" class=\"node\">\n<title>30</title>\n<path fill=\"#e58139\" stroke=\"#000000\" d=\"M1403,-68C1403,-68 1311,-68 1311,-68 1305,-68 1299,-62 1299,-56 1299,-56 1299,-12 1299,-12 1299,-6 1305,0 1311,0 1311,0 1403,0 1403,0 1409,0 1415,-6 1415,-12 1415,-12 1415,-56 1415,-56 1415,-62 1409,-68 1403,-68\"/>\n<text text-anchor=\"middle\" x=\"1357\" y=\"-52.8\" font-family=\"Helvetica,sans-Serif\" font-size=\"14.00\" fill=\"#000000\">entropy = 0.0</text>\n<text text-anchor=\"middle\" x=\"1357\" y=\"-37.8\" font-family=\"Helvetica,sans-Serif\" font-size=\"14.00\" fill=\"#000000\">samples = 1</text>\n<text text-anchor=\"middle\" x=\"1357\" y=\"-22.8\" font-family=\"Helvetica,sans-Serif\" font-size=\"14.00\" fill=\"#000000\">value = [1, 0, 0]</text>\n<text text-anchor=\"middle\" x=\"1357\" y=\"-7.8\" font-family=\"Helvetica,sans-Serif\" font-size=\"14.00\" fill=\"#000000\">class = class_0</text>\n</g>\n<!-- 28&#45;&gt;30 -->\n<g id=\"edge30\" class=\"edge\">\n<title>28&#45;&gt;30</title>\n<path fill=\"none\" stroke=\"#000000\" d=\"M1314.9483,-103.9815C1320.2501,-95.1585 1325.8581,-85.8258 1331.1911,-76.9506\"/>\n<polygon fill=\"#000000\" stroke=\"#000000\" points=\"1334.2605,-78.638 1336.4111,-68.2637 1328.2604,-75.0325 1334.2605,-78.638\"/>\n</g>\n<!-- 33 -->\n<g id=\"node34\" class=\"node\">\n<title>33</title>\n<path fill=\"#39e581\" stroke=\"#000000\" d=\"M1414,-417.5C1414,-417.5 1322,-417.5 1322,-417.5 1316,-417.5 1310,-411.5 1310,-405.5 1310,-405.5 1310,-361.5 1310,-361.5 1310,-355.5 1316,-349.5 1322,-349.5 1322,-349.5 1414,-349.5 1414,-349.5 1420,-349.5 1426,-355.5 1426,-361.5 1426,-361.5 1426,-405.5 1426,-405.5 1426,-411.5 1420,-417.5 1414,-417.5\"/>\n<text text-anchor=\"middle\" x=\"1368\" y=\"-402.3\" font-family=\"Helvetica,sans-Serif\" font-size=\"14.00\" fill=\"#000000\">entropy = 0.0</text>\n<text text-anchor=\"middle\" x=\"1368\" y=\"-387.3\" font-family=\"Helvetica,sans-Serif\" font-size=\"14.00\" fill=\"#000000\">samples = 2</text>\n<text text-anchor=\"middle\" x=\"1368\" y=\"-372.3\" font-family=\"Helvetica,sans-Serif\" font-size=\"14.00\" fill=\"#000000\">value = [0, 2, 0]</text>\n<text text-anchor=\"middle\" x=\"1368\" y=\"-357.3\" font-family=\"Helvetica,sans-Serif\" font-size=\"14.00\" fill=\"#000000\">class = class_1</text>\n</g>\n<!-- 32&#45;&gt;33 -->\n<g id=\"edge33\" class=\"edge\">\n<title>32&#45;&gt;33</title>\n<path fill=\"none\" stroke=\"#000000\" d=\"M1368,-460.8796C1368,-450.2134 1368,-438.7021 1368,-427.9015\"/>\n<polygon fill=\"#000000\" stroke=\"#000000\" points=\"1371.5001,-427.8149 1368,-417.8149 1364.5001,-427.815 1371.5001,-427.8149\"/>\n</g>\n<!-- 34 -->\n<g id=\"node35\" class=\"node\">\n<title>34</title>\n<path fill=\"#e68742\" stroke=\"#000000\" d=\"M1626,-425C1626,-425 1526,-425 1526,-425 1520,-425 1514,-419 1514,-413 1514,-413 1514,-354 1514,-354 1514,-348 1520,-342 1526,-342 1526,-342 1626,-342 1626,-342 1632,-342 1638,-348 1638,-354 1638,-354 1638,-413 1638,-413 1638,-419 1632,-425 1626,-425\"/>\n<text text-anchor=\"middle\" x=\"1576\" y=\"-409.8\" font-family=\"Helvetica,sans-Serif\" font-size=\"14.00\" fill=\"#000000\">alcohol &lt;= 13.08</text>\n<text text-anchor=\"middle\" x=\"1576\" y=\"-394.8\" font-family=\"Helvetica,sans-Serif\" font-size=\"14.00\" fill=\"#000000\">entropy = 0.267</text>\n<text text-anchor=\"middle\" x=\"1576\" y=\"-379.8\" font-family=\"Helvetica,sans-Serif\" font-size=\"14.00\" fill=\"#000000\">samples = 22</text>\n<text text-anchor=\"middle\" x=\"1576\" y=\"-364.8\" font-family=\"Helvetica,sans-Serif\" font-size=\"14.00\" fill=\"#000000\">value = [21, 1, 0]</text>\n<text text-anchor=\"middle\" x=\"1576\" y=\"-349.8\" font-family=\"Helvetica,sans-Serif\" font-size=\"14.00\" fill=\"#000000\">class = class_0</text>\n</g>\n<!-- 32&#45;&gt;34 -->\n<g id=\"edge34\" class=\"edge\">\n<title>32&#45;&gt;34</title>\n<path fill=\"none\" stroke=\"#000000\" d=\"M1434.0983,-464.6841C1456.7766,-451.7096 1482.2404,-437.1413 1505.2711,-423.9651\"/>\n<polygon fill=\"#000000\" stroke=\"#000000\" points=\"1507.026,-426.9935 1513.9678,-418.9896 1503.5499,-420.9175 1507.026,-426.9935\"/>\n</g>\n<!-- 35 -->\n<g id=\"node36\" class=\"node\">\n<title>35</title>\n<path fill=\"#ffffff\" stroke=\"#000000\" d=\"M1674.5,-306C1674.5,-306 1477.5,-306 1477.5,-306 1471.5,-306 1465.5,-300 1465.5,-294 1465.5,-294 1465.5,-235 1465.5,-235 1465.5,-229 1471.5,-223 1477.5,-223 1477.5,-223 1674.5,-223 1674.5,-223 1680.5,-223 1686.5,-229 1686.5,-235 1686.5,-235 1686.5,-294 1686.5,-294 1686.5,-300 1680.5,-306 1674.5,-306\"/>\n<text text-anchor=\"middle\" x=\"1576\" y=\"-290.8\" font-family=\"Helvetica,sans-Serif\" font-size=\"14.00\" fill=\"#000000\">nonflavanoid_phenols &lt;= 0.252</text>\n<text text-anchor=\"middle\" x=\"1576\" y=\"-275.8\" font-family=\"Helvetica,sans-Serif\" font-size=\"14.00\" fill=\"#000000\">entropy = 1.0</text>\n<text text-anchor=\"middle\" x=\"1576\" y=\"-260.8\" font-family=\"Helvetica,sans-Serif\" font-size=\"14.00\" fill=\"#000000\">samples = 2</text>\n<text text-anchor=\"middle\" x=\"1576\" y=\"-245.8\" font-family=\"Helvetica,sans-Serif\" font-size=\"14.00\" fill=\"#000000\">value = [1, 1, 0]</text>\n<text text-anchor=\"middle\" x=\"1576\" y=\"-230.8\" font-family=\"Helvetica,sans-Serif\" font-size=\"14.00\" fill=\"#000000\">class = class_0</text>\n</g>\n<!-- 34&#45;&gt;35 -->\n<g id=\"edge35\" class=\"edge\">\n<title>34&#45;&gt;35</title>\n<path fill=\"none\" stroke=\"#000000\" d=\"M1576,-341.8796C1576,-333.6838 1576,-324.9891 1576,-316.5013\"/>\n<polygon fill=\"#000000\" stroke=\"#000000\" points=\"1579.5001,-316.298 1576,-306.2981 1572.5001,-316.2981 1579.5001,-316.298\"/>\n</g>\n<!-- 38 -->\n<g id=\"node39\" class=\"node\">\n<title>38</title>\n<path fill=\"#e58139\" stroke=\"#000000\" d=\"M1815.5,-298.5C1815.5,-298.5 1716.5,-298.5 1716.5,-298.5 1710.5,-298.5 1704.5,-292.5 1704.5,-286.5 1704.5,-286.5 1704.5,-242.5 1704.5,-242.5 1704.5,-236.5 1710.5,-230.5 1716.5,-230.5 1716.5,-230.5 1815.5,-230.5 1815.5,-230.5 1821.5,-230.5 1827.5,-236.5 1827.5,-242.5 1827.5,-242.5 1827.5,-286.5 1827.5,-286.5 1827.5,-292.5 1821.5,-298.5 1815.5,-298.5\"/>\n<text text-anchor=\"middle\" x=\"1766\" y=\"-283.3\" font-family=\"Helvetica,sans-Serif\" font-size=\"14.00\" fill=\"#000000\">entropy = 0.0</text>\n<text text-anchor=\"middle\" x=\"1766\" y=\"-268.3\" font-family=\"Helvetica,sans-Serif\" font-size=\"14.00\" fill=\"#000000\">samples = 20</text>\n<text text-anchor=\"middle\" x=\"1766\" y=\"-253.3\" font-family=\"Helvetica,sans-Serif\" font-size=\"14.00\" fill=\"#000000\">value = [20, 0, 0]</text>\n<text text-anchor=\"middle\" x=\"1766\" y=\"-238.3\" font-family=\"Helvetica,sans-Serif\" font-size=\"14.00\" fill=\"#000000\">class = class_0</text>\n</g>\n<!-- 34&#45;&gt;38 -->\n<g id=\"edge38\" class=\"edge\">\n<title>34&#45;&gt;38</title>\n<path fill=\"none\" stroke=\"#000000\" d=\"M1638.2131,-344.5349C1659.0446,-331.4878 1682.2735,-316.9392 1703.1531,-303.862\"/>\n<polygon fill=\"#000000\" stroke=\"#000000\" points=\"1705.0199,-306.8226 1711.6371,-298.5483 1701.3043,-300.8902 1705.0199,-306.8226\"/>\n</g>\n<!-- 36 -->\n<g id=\"node37\" class=\"node\">\n<title>36</title>\n<path fill=\"#39e581\" stroke=\"#000000\" d=\"M1622,-179.5C1622,-179.5 1530,-179.5 1530,-179.5 1524,-179.5 1518,-173.5 1518,-167.5 1518,-167.5 1518,-123.5 1518,-123.5 1518,-117.5 1524,-111.5 1530,-111.5 1530,-111.5 1622,-111.5 1622,-111.5 1628,-111.5 1634,-117.5 1634,-123.5 1634,-123.5 1634,-167.5 1634,-167.5 1634,-173.5 1628,-179.5 1622,-179.5\"/>\n<text text-anchor=\"middle\" x=\"1576\" y=\"-164.3\" font-family=\"Helvetica,sans-Serif\" font-size=\"14.00\" fill=\"#000000\">entropy = 0.0</text>\n<text text-anchor=\"middle\" x=\"1576\" y=\"-149.3\" font-family=\"Helvetica,sans-Serif\" font-size=\"14.00\" fill=\"#000000\">samples = 1</text>\n<text text-anchor=\"middle\" x=\"1576\" y=\"-134.3\" font-family=\"Helvetica,sans-Serif\" font-size=\"14.00\" fill=\"#000000\">value = [0, 1, 0]</text>\n<text text-anchor=\"middle\" x=\"1576\" y=\"-119.3\" font-family=\"Helvetica,sans-Serif\" font-size=\"14.00\" fill=\"#000000\">class = class_1</text>\n</g>\n<!-- 35&#45;&gt;36 -->\n<g id=\"edge36\" class=\"edge\">\n<title>35&#45;&gt;36</title>\n<path fill=\"none\" stroke=\"#000000\" d=\"M1576,-222.8796C1576,-212.2134 1576,-200.7021 1576,-189.9015\"/>\n<polygon fill=\"#000000\" stroke=\"#000000\" points=\"1579.5001,-189.8149 1576,-179.8149 1572.5001,-189.815 1579.5001,-189.8149\"/>\n</g>\n<!-- 37 -->\n<g id=\"node38\" class=\"node\">\n<title>37</title>\n<path fill=\"#e58139\" stroke=\"#000000\" d=\"M1756,-179.5C1756,-179.5 1664,-179.5 1664,-179.5 1658,-179.5 1652,-173.5 1652,-167.5 1652,-167.5 1652,-123.5 1652,-123.5 1652,-117.5 1658,-111.5 1664,-111.5 1664,-111.5 1756,-111.5 1756,-111.5 1762,-111.5 1768,-117.5 1768,-123.5 1768,-123.5 1768,-167.5 1768,-167.5 1768,-173.5 1762,-179.5 1756,-179.5\"/>\n<text text-anchor=\"middle\" x=\"1710\" y=\"-164.3\" font-family=\"Helvetica,sans-Serif\" font-size=\"14.00\" fill=\"#000000\">entropy = 0.0</text>\n<text text-anchor=\"middle\" x=\"1710\" y=\"-149.3\" font-family=\"Helvetica,sans-Serif\" font-size=\"14.00\" fill=\"#000000\">samples = 1</text>\n<text text-anchor=\"middle\" x=\"1710\" y=\"-134.3\" font-family=\"Helvetica,sans-Serif\" font-size=\"14.00\" fill=\"#000000\">value = [1, 0, 0]</text>\n<text text-anchor=\"middle\" x=\"1710\" y=\"-119.3\" font-family=\"Helvetica,sans-Serif\" font-size=\"14.00\" fill=\"#000000\">class = class_0</text>\n</g>\n<!-- 35&#45;&gt;37 -->\n<g id=\"edge37\" class=\"edge\">\n<title>35&#45;&gt;37</title>\n<path fill=\"none\" stroke=\"#000000\" d=\"M1622.8667,-222.8796C1636.1156,-211.1138 1650.5224,-198.3197 1663.7356,-186.5855\"/>\n<polygon fill=\"#000000\" stroke=\"#000000\" points=\"1666.2065,-189.0722 1671.3597,-179.8149 1661.5584,-183.8381 1666.2065,-189.0722\"/>\n</g>\n</g>\n</svg>\n"
          },
          "metadata": {
            "tags": []
          },
          "execution_count": 15
        }
      ]
    },
    {
      "cell_type": "markdown",
      "metadata": {
        "id": "eiKuikGXPl-s"
      },
      "source": [
        "we can see how the training data fit in the model. If the score of test data and score of training data have a big difference, it means it overfits."
      ]
    },
    {
      "cell_type": "code",
      "metadata": {
        "colab": {
          "base_uri": "https://localhost:8080/"
        },
        "id": "C3-os0_mNib9",
        "outputId": "d09286ca-2dfc-42e2-b24d-da22acc3acd5"
      },
      "source": [
        "train_score = clf.score(Xtrain, ytrain)\r\n",
        "train_score"
      ],
      "execution_count": 16,
      "outputs": [
        {
          "output_type": "execute_result",
          "data": {
            "text/plain": [
              "1.0"
            ]
          },
          "metadata": {
            "tags": []
          },
          "execution_count": 16
        }
      ]
    },
    {
      "cell_type": "markdown",
      "metadata": {
        "id": "3mPyySHVaeYG"
      },
      "source": [
        "##understand the prim parameters\r\n",
        "min_samples_leaf,\r\n",
        "\r\n",
        "min_samples_split,\r\n",
        "\r\n",
        "max_depth\r\n"
      ]
    },
    {
      "cell_type": "code",
      "metadata": {
        "colab": {
          "base_uri": "https://localhost:8080/"
        },
        "id": "7MWoxMxxOknO",
        "outputId": "9b1d17a1-1dd8-43cc-b30b-1d382b71e255"
      },
      "source": [
        "#use entropy as criterion\r\n",
        "clf = tree.DecisionTreeClassifier( criterion='entropy'\r\n",
        "                                  ,random_state=5\r\n",
        "                                  ,splitter='random'\r\n",
        "                                  ,max_depth = 10\r\n",
        "                                  ,min_samples_leaf = 2\r\n",
        "                                  ,min_samples_split = 2\r\n",
        "                                )\r\n",
        "#fit the data\r\n",
        "clf.fit(Xtrain, ytrain)\r\n",
        "#check the accuracy\r\n",
        "score = clf.score(Xtest, ytest)\r\n",
        "print(\"The accuracy is: {0:2.5f}\".format(score))"
      ],
      "execution_count": 17,
      "outputs": [
        {
          "output_type": "stream",
          "text": [
            "The accuracy is: 0.96296\n"
          ],
          "name": "stdout"
        }
      ]
    },
    {
      "cell_type": "code",
      "metadata": {
        "colab": {
          "base_uri": "https://localhost:8080/",
          "height": 1000
        },
        "id": "YDqYA1aVa3aL",
        "outputId": "7aa2fa64-4168-4c6f-aef3-c193cf0e2b02"
      },
      "source": [
        "dot_data = tree.export_graphviz( clf\r\n",
        "                                ,out_file=None\r\n",
        "                                ,feature_names=feature_names\r\n",
        "                                ,class_names=class_names\r\n",
        "                                ,filled=True\r\n",
        "                                ,rounded=True\r\n",
        "                               )\r\n",
        "graph = graphviz.Source(dot_data)\r\n",
        "graph"
      ],
      "execution_count": 18,
      "outputs": [
        {
          "output_type": "execute_result",
          "data": {
            "text/plain": [
              "<graphviz.files.Source at 0x7f698d0e3c18>"
            ],
            "image/svg+xml": "<?xml version=\"1.0\" encoding=\"UTF-8\" standalone=\"no\"?>\n<!DOCTYPE svg PUBLIC \"-//W3C//DTD SVG 1.1//EN\"\n \"http://www.w3.org/Graphics/SVG/1.1/DTD/svg11.dtd\">\n<!-- Generated by graphviz version 2.40.1 (20161225.0304)\n -->\n<!-- Title: Tree Pages: 1 -->\n<svg width=\"1368pt\" height=\"790pt\"\n viewBox=\"0.00 0.00 1368.00 790.00\" xmlns=\"http://www.w3.org/2000/svg\" xmlns:xlink=\"http://www.w3.org/1999/xlink\">\n<g id=\"graph0\" class=\"graph\" transform=\"scale(1 1) rotate(0) translate(4 786)\">\n<title>Tree</title>\n<polygon fill=\"#ffffff\" stroke=\"transparent\" points=\"-4,4 -4,-786 1364,-786 1364,4 -4,4\"/>\n<!-- 0 -->\n<g id=\"node1\" class=\"node\">\n<title>0</title>\n<path fill=\"#defbea\" stroke=\"#000000\" d=\"M789.5,-782C789.5,-782 670.5,-782 670.5,-782 664.5,-782 658.5,-776 658.5,-770 658.5,-770 658.5,-711 658.5,-711 658.5,-705 664.5,-699 670.5,-699 670.5,-699 789.5,-699 789.5,-699 795.5,-699 801.5,-705 801.5,-711 801.5,-711 801.5,-770 801.5,-770 801.5,-776 795.5,-782 789.5,-782\"/>\n<text text-anchor=\"middle\" x=\"730\" y=\"-766.8\" font-family=\"Helvetica,sans-Serif\" font-size=\"14.00\" fill=\"#000000\">flavanoids &lt;= 1.906</text>\n<text text-anchor=\"middle\" x=\"730\" y=\"-751.8\" font-family=\"Helvetica,sans-Serif\" font-size=\"14.00\" fill=\"#000000\">entropy = 1.553</text>\n<text text-anchor=\"middle\" x=\"730\" y=\"-736.8\" font-family=\"Helvetica,sans-Serif\" font-size=\"14.00\" fill=\"#000000\">samples = 124</text>\n<text text-anchor=\"middle\" x=\"730\" y=\"-721.8\" font-family=\"Helvetica,sans-Serif\" font-size=\"14.00\" fill=\"#000000\">value = [39, 53, 32]</text>\n<text text-anchor=\"middle\" x=\"730\" y=\"-706.8\" font-family=\"Helvetica,sans-Serif\" font-size=\"14.00\" fill=\"#000000\">class = class_1</text>\n</g>\n<!-- 1 -->\n<g id=\"node2\" class=\"node\">\n<title>1</title>\n<path fill=\"#dcc7f8\" stroke=\"#000000\" d=\"M746.5,-663C746.5,-663 489.5,-663 489.5,-663 483.5,-663 477.5,-657 477.5,-651 477.5,-651 477.5,-592 477.5,-592 477.5,-586 483.5,-580 489.5,-580 489.5,-580 746.5,-580 746.5,-580 752.5,-580 758.5,-586 758.5,-592 758.5,-592 758.5,-651 758.5,-651 758.5,-657 752.5,-663 746.5,-663\"/>\n<text text-anchor=\"middle\" x=\"618\" y=\"-647.8\" font-family=\"Helvetica,sans-Serif\" font-size=\"14.00\" fill=\"#000000\">od280/od315_of_diluted_wines &lt;= 2.362</text>\n<text text-anchor=\"middle\" x=\"618\" y=\"-632.8\" font-family=\"Helvetica,sans-Serif\" font-size=\"14.00\" fill=\"#000000\">entropy = 0.981</text>\n<text text-anchor=\"middle\" x=\"618\" y=\"-617.8\" font-family=\"Helvetica,sans-Serif\" font-size=\"14.00\" fill=\"#000000\">samples = 55</text>\n<text text-anchor=\"middle\" x=\"618\" y=\"-602.8\" font-family=\"Helvetica,sans-Serif\" font-size=\"14.00\" fill=\"#000000\">value = [0, 23, 32]</text>\n<text text-anchor=\"middle\" x=\"618\" y=\"-587.8\" font-family=\"Helvetica,sans-Serif\" font-size=\"14.00\" fill=\"#000000\">class = class_2</text>\n</g>\n<!-- 0&#45;&gt;1 -->\n<g id=\"edge1\" class=\"edge\">\n<title>0&#45;&gt;1</title>\n<path fill=\"none\" stroke=\"#000000\" d=\"M690.8278,-698.8796C682.2665,-689.7832 673.1268,-680.0722 664.3168,-670.7116\"/>\n<polygon fill=\"#000000\" stroke=\"#000000\" points=\"666.7417,-668.1813 657.3394,-663.2981 661.6443,-672.9789 666.7417,-668.1813\"/>\n<text text-anchor=\"middle\" x=\"656.5821\" y=\"-684.5866\" font-family=\"Helvetica,sans-Serif\" font-size=\"14.00\" fill=\"#000000\">True</text>\n</g>\n<!-- 16 -->\n<g id=\"node17\" class=\"node\">\n<title>16</title>\n<path fill=\"#f9e2d1\" stroke=\"#000000\" d=\"M897,-663C897,-663 789,-663 789,-663 783,-663 777,-657 777,-651 777,-651 777,-592 777,-592 777,-586 783,-580 789,-580 789,-580 897,-580 897,-580 903,-580 909,-586 909,-592 909,-592 909,-651 909,-651 909,-657 903,-663 897,-663\"/>\n<text text-anchor=\"middle\" x=\"843\" y=\"-647.8\" font-family=\"Helvetica,sans-Serif\" font-size=\"14.00\" fill=\"#000000\">alcohol &lt;= 12.763</text>\n<text text-anchor=\"middle\" x=\"843\" y=\"-632.8\" font-family=\"Helvetica,sans-Serif\" font-size=\"14.00\" fill=\"#000000\">entropy = 0.988</text>\n<text text-anchor=\"middle\" x=\"843\" y=\"-617.8\" font-family=\"Helvetica,sans-Serif\" font-size=\"14.00\" fill=\"#000000\">samples = 69</text>\n<text text-anchor=\"middle\" x=\"843\" y=\"-602.8\" font-family=\"Helvetica,sans-Serif\" font-size=\"14.00\" fill=\"#000000\">value = [39, 30, 0]</text>\n<text text-anchor=\"middle\" x=\"843\" y=\"-587.8\" font-family=\"Helvetica,sans-Serif\" font-size=\"14.00\" fill=\"#000000\">class = class_0</text>\n</g>\n<!-- 0&#45;&gt;16 -->\n<g id=\"edge16\" class=\"edge\">\n<title>0&#45;&gt;16</title>\n<path fill=\"none\" stroke=\"#000000\" d=\"M769.5219,-698.8796C778.1597,-689.7832 787.381,-680.0722 796.2697,-670.7116\"/>\n<polygon fill=\"#000000\" stroke=\"#000000\" points=\"798.9615,-672.9597 803.3094,-663.2981 793.8854,-668.1395 798.9615,-672.9597\"/>\n<text text-anchor=\"middle\" x=\"803.9557\" y=\"-684.5897\" font-family=\"Helvetica,sans-Serif\" font-size=\"14.00\" fill=\"#000000\">False</text>\n</g>\n<!-- 2 -->\n<g id=\"node3\" class=\"node\">\n<title>2</title>\n<path fill=\"#a877ed\" stroke=\"#000000\" d=\"M547,-544C547,-544 425,-544 425,-544 419,-544 413,-538 413,-532 413,-532 413,-473 413,-473 413,-467 419,-461 425,-461 425,-461 547,-461 547,-461 553,-461 559,-467 559,-473 559,-473 559,-532 559,-532 559,-538 553,-544 547,-544\"/>\n<text text-anchor=\"middle\" x=\"486\" y=\"-528.8\" font-family=\"Helvetica,sans-Serif\" font-size=\"14.00\" fill=\"#000000\">malic_acid &lt;= 2.918</text>\n<text text-anchor=\"middle\" x=\"486\" y=\"-513.8\" font-family=\"Helvetica,sans-Serif\" font-size=\"14.00\" fill=\"#000000\">entropy = 0.792</text>\n<text text-anchor=\"middle\" x=\"486\" y=\"-498.8\" font-family=\"Helvetica,sans-Serif\" font-size=\"14.00\" fill=\"#000000\">samples = 42</text>\n<text text-anchor=\"middle\" x=\"486\" y=\"-483.8\" font-family=\"Helvetica,sans-Serif\" font-size=\"14.00\" fill=\"#000000\">value = [0, 10, 32]</text>\n<text text-anchor=\"middle\" x=\"486\" y=\"-468.8\" font-family=\"Helvetica,sans-Serif\" font-size=\"14.00\" fill=\"#000000\">class = class_2</text>\n</g>\n<!-- 1&#45;&gt;2 -->\n<g id=\"edge2\" class=\"edge\">\n<title>1&#45;&gt;2</title>\n<path fill=\"none\" stroke=\"#000000\" d=\"M571.8328,-579.8796C561.5429,-570.6031 550.544,-560.6874 539.9713,-551.1559\"/>\n<polygon fill=\"#000000\" stroke=\"#000000\" points=\"542.1352,-548.3944 532.3642,-544.2981 537.4481,-553.5935 542.1352,-548.3944\"/>\n</g>\n<!-- 15 -->\n<g id=\"node16\" class=\"node\">\n<title>15</title>\n<path fill=\"#39e581\" stroke=\"#000000\" d=\"M688.5,-536.5C688.5,-536.5 589.5,-536.5 589.5,-536.5 583.5,-536.5 577.5,-530.5 577.5,-524.5 577.5,-524.5 577.5,-480.5 577.5,-480.5 577.5,-474.5 583.5,-468.5 589.5,-468.5 589.5,-468.5 688.5,-468.5 688.5,-468.5 694.5,-468.5 700.5,-474.5 700.5,-480.5 700.5,-480.5 700.5,-524.5 700.5,-524.5 700.5,-530.5 694.5,-536.5 688.5,-536.5\"/>\n<text text-anchor=\"middle\" x=\"639\" y=\"-521.3\" font-family=\"Helvetica,sans-Serif\" font-size=\"14.00\" fill=\"#000000\">entropy = 0.0</text>\n<text text-anchor=\"middle\" x=\"639\" y=\"-506.3\" font-family=\"Helvetica,sans-Serif\" font-size=\"14.00\" fill=\"#000000\">samples = 13</text>\n<text text-anchor=\"middle\" x=\"639\" y=\"-491.3\" font-family=\"Helvetica,sans-Serif\" font-size=\"14.00\" fill=\"#000000\">value = [0, 13, 0]</text>\n<text text-anchor=\"middle\" x=\"639\" y=\"-476.3\" font-family=\"Helvetica,sans-Serif\" font-size=\"14.00\" fill=\"#000000\">class = class_1</text>\n</g>\n<!-- 1&#45;&gt;15 -->\n<g id=\"edge15\" class=\"edge\">\n<title>1&#45;&gt;15</title>\n<path fill=\"none\" stroke=\"#000000\" d=\"M625.3448,-579.8796C627.2271,-569.2134 629.2585,-557.7021 631.1644,-546.9015\"/>\n<polygon fill=\"#000000\" stroke=\"#000000\" points=\"634.6532,-547.2711 632.9444,-536.8149 627.7597,-546.0545 634.6532,-547.2711\"/>\n</g>\n<!-- 3 -->\n<g id=\"node4\" class=\"node\">\n<title>3</title>\n<path fill=\"#e8dbfa\" stroke=\"#000000\" d=\"M407,-425C407,-425 261,-425 261,-425 255,-425 249,-419 249,-413 249,-413 249,-354 249,-354 249,-348 255,-342 261,-342 261,-342 407,-342 407,-342 413,-342 419,-348 419,-354 419,-354 419,-413 419,-413 419,-419 413,-425 407,-425\"/>\n<text text-anchor=\"middle\" x=\"334\" y=\"-409.8\" font-family=\"Helvetica,sans-Serif\" font-size=\"14.00\" fill=\"#000000\">color_intensity &lt;= 4.669</text>\n<text text-anchor=\"middle\" x=\"334\" y=\"-394.8\" font-family=\"Helvetica,sans-Serif\" font-size=\"14.00\" fill=\"#000000\">entropy = 0.993</text>\n<text text-anchor=\"middle\" x=\"334\" y=\"-379.8\" font-family=\"Helvetica,sans-Serif\" font-size=\"14.00\" fill=\"#000000\">samples = 20</text>\n<text text-anchor=\"middle\" x=\"334\" y=\"-364.8\" font-family=\"Helvetica,sans-Serif\" font-size=\"14.00\" fill=\"#000000\">value = [0, 9, 11]</text>\n<text text-anchor=\"middle\" x=\"334\" y=\"-349.8\" font-family=\"Helvetica,sans-Serif\" font-size=\"14.00\" fill=\"#000000\">class = class_2</text>\n</g>\n<!-- 2&#45;&gt;3 -->\n<g id=\"edge3\" class=\"edge\">\n<title>2&#45;&gt;3</title>\n<path fill=\"none\" stroke=\"#000000\" d=\"M432.8378,-460.8796C420.6885,-451.368 407.6808,-441.1843 395.224,-431.432\"/>\n<polygon fill=\"#000000\" stroke=\"#000000\" points=\"397.1638,-428.5055 387.1322,-425.0969 392.8486,-434.0173 397.1638,-428.5055\"/>\n</g>\n<!-- 12 -->\n<g id=\"node13\" class=\"node\">\n<title>12</title>\n<path fill=\"#8742e6\" stroke=\"#000000\" d=\"M568.5,-425C568.5,-425 449.5,-425 449.5,-425 443.5,-425 437.5,-419 437.5,-413 437.5,-413 437.5,-354 437.5,-354 437.5,-348 443.5,-342 449.5,-342 449.5,-342 568.5,-342 568.5,-342 574.5,-342 580.5,-348 580.5,-354 580.5,-354 580.5,-413 580.5,-413 580.5,-419 574.5,-425 568.5,-425\"/>\n<text text-anchor=\"middle\" x=\"509\" y=\"-409.8\" font-family=\"Helvetica,sans-Serif\" font-size=\"14.00\" fill=\"#000000\">flavanoids &lt;= 1.492</text>\n<text text-anchor=\"middle\" x=\"509\" y=\"-394.8\" font-family=\"Helvetica,sans-Serif\" font-size=\"14.00\" fill=\"#000000\">entropy = 0.267</text>\n<text text-anchor=\"middle\" x=\"509\" y=\"-379.8\" font-family=\"Helvetica,sans-Serif\" font-size=\"14.00\" fill=\"#000000\">samples = 22</text>\n<text text-anchor=\"middle\" x=\"509\" y=\"-364.8\" font-family=\"Helvetica,sans-Serif\" font-size=\"14.00\" fill=\"#000000\">value = [0, 1, 21]</text>\n<text text-anchor=\"middle\" x=\"509\" y=\"-349.8\" font-family=\"Helvetica,sans-Serif\" font-size=\"14.00\" fill=\"#000000\">class = class_2</text>\n</g>\n<!-- 2&#45;&gt;12 -->\n<g id=\"edge12\" class=\"edge\">\n<title>2&#45;&gt;12</title>\n<path fill=\"none\" stroke=\"#000000\" d=\"M494.0443,-460.8796C495.6457,-452.5938 497.3458,-443.798 499.0034,-435.2216\"/>\n<polygon fill=\"#000000\" stroke=\"#000000\" points=\"502.4601,-435.7806 500.9214,-425.2981 495.5872,-434.4522 502.4601,-435.7806\"/>\n</g>\n<!-- 4 -->\n<g id=\"node5\" class=\"node\">\n<title>4</title>\n<path fill=\"#6aeca0\" stroke=\"#000000\" d=\"M237,-306C237,-306 143,-306 143,-306 137,-306 131,-300 131,-294 131,-294 131,-235 131,-235 131,-229 137,-223 143,-223 143,-223 237,-223 237,-223 243,-223 249,-229 249,-235 249,-235 249,-294 249,-294 249,-300 243,-306 237,-306\"/>\n<text text-anchor=\"middle\" x=\"190\" y=\"-290.8\" font-family=\"Helvetica,sans-Serif\" font-size=\"14.00\" fill=\"#000000\">hue &lt;= 0.945</text>\n<text text-anchor=\"middle\" x=\"190\" y=\"-275.8\" font-family=\"Helvetica,sans-Serif\" font-size=\"14.00\" fill=\"#000000\">entropy = 0.722</text>\n<text text-anchor=\"middle\" x=\"190\" y=\"-260.8\" font-family=\"Helvetica,sans-Serif\" font-size=\"14.00\" fill=\"#000000\">samples = 10</text>\n<text text-anchor=\"middle\" x=\"190\" y=\"-245.8\" font-family=\"Helvetica,sans-Serif\" font-size=\"14.00\" fill=\"#000000\">value = [0, 8, 2]</text>\n<text text-anchor=\"middle\" x=\"190\" y=\"-230.8\" font-family=\"Helvetica,sans-Serif\" font-size=\"14.00\" fill=\"#000000\">class = class_1</text>\n</g>\n<!-- 3&#45;&gt;4 -->\n<g id=\"edge4\" class=\"edge\">\n<title>3&#45;&gt;4</title>\n<path fill=\"none\" stroke=\"#000000\" d=\"M283.6358,-341.8796C272.3015,-332.513 260.1785,-322.4948 248.5419,-312.8784\"/>\n<polygon fill=\"#000000\" stroke=\"#000000\" points=\"250.5173,-309.9703 240.5792,-306.2981 246.0581,-315.3663 250.5173,-309.9703\"/>\n</g>\n<!-- 7 -->\n<g id=\"node8\" class=\"node\">\n<title>7</title>\n<path fill=\"#8f4fe8\" stroke=\"#000000\" d=\"M401,-306C401,-306 279,-306 279,-306 273,-306 267,-300 267,-294 267,-294 267,-235 267,-235 267,-229 273,-223 279,-223 279,-223 401,-223 401,-223 407,-223 413,-229 413,-235 413,-235 413,-294 413,-294 413,-300 407,-306 401,-306\"/>\n<text text-anchor=\"middle\" x=\"340\" y=\"-290.8\" font-family=\"Helvetica,sans-Serif\" font-size=\"14.00\" fill=\"#000000\">malic_acid &lt;= 1.765</text>\n<text text-anchor=\"middle\" x=\"340\" y=\"-275.8\" font-family=\"Helvetica,sans-Serif\" font-size=\"14.00\" fill=\"#000000\">entropy = 0.469</text>\n<text text-anchor=\"middle\" x=\"340\" y=\"-260.8\" font-family=\"Helvetica,sans-Serif\" font-size=\"14.00\" fill=\"#000000\">samples = 10</text>\n<text text-anchor=\"middle\" x=\"340\" y=\"-245.8\" font-family=\"Helvetica,sans-Serif\" font-size=\"14.00\" fill=\"#000000\">value = [0, 1, 9]</text>\n<text text-anchor=\"middle\" x=\"340\" y=\"-230.8\" font-family=\"Helvetica,sans-Serif\" font-size=\"14.00\" fill=\"#000000\">class = class_2</text>\n</g>\n<!-- 3&#45;&gt;7 -->\n<g id=\"edge7\" class=\"edge\">\n<title>3&#45;&gt;7</title>\n<path fill=\"none\" stroke=\"#000000\" d=\"M336.0985,-341.8796C336.5117,-333.6838 336.9501,-324.9891 337.3781,-316.5013\"/>\n<polygon fill=\"#000000\" stroke=\"#000000\" points=\"340.8844,-316.4617 337.8925,-306.2981 333.8933,-316.1091 340.8844,-316.4617\"/>\n</g>\n<!-- 5 -->\n<g id=\"node6\" class=\"node\">\n<title>5</title>\n<path fill=\"#c09cf2\" stroke=\"#000000\" d=\"M106,-179.5C106,-179.5 12,-179.5 12,-179.5 6,-179.5 0,-173.5 0,-167.5 0,-167.5 0,-123.5 0,-123.5 0,-117.5 6,-111.5 12,-111.5 12,-111.5 106,-111.5 106,-111.5 112,-111.5 118,-117.5 118,-123.5 118,-123.5 118,-167.5 118,-167.5 118,-173.5 112,-179.5 106,-179.5\"/>\n<text text-anchor=\"middle\" x=\"59\" y=\"-164.3\" font-family=\"Helvetica,sans-Serif\" font-size=\"14.00\" fill=\"#000000\">entropy = 0.918</text>\n<text text-anchor=\"middle\" x=\"59\" y=\"-149.3\" font-family=\"Helvetica,sans-Serif\" font-size=\"14.00\" fill=\"#000000\">samples = 3</text>\n<text text-anchor=\"middle\" x=\"59\" y=\"-134.3\" font-family=\"Helvetica,sans-Serif\" font-size=\"14.00\" fill=\"#000000\">value = [0, 1, 2]</text>\n<text text-anchor=\"middle\" x=\"59\" y=\"-119.3\" font-family=\"Helvetica,sans-Serif\" font-size=\"14.00\" fill=\"#000000\">class = class_2</text>\n</g>\n<!-- 4&#45;&gt;5 -->\n<g id=\"edge5\" class=\"edge\">\n<title>4&#45;&gt;5</title>\n<path fill=\"none\" stroke=\"#000000\" d=\"M144.1826,-222.8796C131.2303,-211.1138 117.146,-198.3197 104.2286,-186.5855\"/>\n<polygon fill=\"#000000\" stroke=\"#000000\" points=\"106.5306,-183.9482 96.7753,-179.8149 101.8239,-189.1296 106.5306,-183.9482\"/>\n</g>\n<!-- 6 -->\n<g id=\"node7\" class=\"node\">\n<title>6</title>\n<path fill=\"#39e581\" stroke=\"#000000\" d=\"M240,-179.5C240,-179.5 148,-179.5 148,-179.5 142,-179.5 136,-173.5 136,-167.5 136,-167.5 136,-123.5 136,-123.5 136,-117.5 142,-111.5 148,-111.5 148,-111.5 240,-111.5 240,-111.5 246,-111.5 252,-117.5 252,-123.5 252,-123.5 252,-167.5 252,-167.5 252,-173.5 246,-179.5 240,-179.5\"/>\n<text text-anchor=\"middle\" x=\"194\" y=\"-164.3\" font-family=\"Helvetica,sans-Serif\" font-size=\"14.00\" fill=\"#000000\">entropy = 0.0</text>\n<text text-anchor=\"middle\" x=\"194\" y=\"-149.3\" font-family=\"Helvetica,sans-Serif\" font-size=\"14.00\" fill=\"#000000\">samples = 7</text>\n<text text-anchor=\"middle\" x=\"194\" y=\"-134.3\" font-family=\"Helvetica,sans-Serif\" font-size=\"14.00\" fill=\"#000000\">value = [0, 7, 0]</text>\n<text text-anchor=\"middle\" x=\"194\" y=\"-119.3\" font-family=\"Helvetica,sans-Serif\" font-size=\"14.00\" fill=\"#000000\">class = class_1</text>\n</g>\n<!-- 4&#45;&gt;6 -->\n<g id=\"edge6\" class=\"edge\">\n<title>4&#45;&gt;6</title>\n<path fill=\"none\" stroke=\"#000000\" d=\"M191.399,-222.8796C191.7575,-212.2134 192.1445,-200.7021 192.5075,-189.9015\"/>\n<polygon fill=\"#000000\" stroke=\"#000000\" points=\"196.0085,-189.9269 192.8466,-179.8149 189.0125,-189.6917 196.0085,-189.9269\"/>\n</g>\n<!-- 8 -->\n<g id=\"node9\" class=\"node\">\n<title>8</title>\n<path fill=\"#ab7bee\" stroke=\"#000000\" d=\"M383,-187C383,-187 289,-187 289,-187 283,-187 277,-181 277,-175 277,-175 277,-116 277,-116 277,-110 283,-104 289,-104 289,-104 383,-104 383,-104 389,-104 395,-110 395,-116 395,-116 395,-175 395,-175 395,-181 389,-187 383,-187\"/>\n<text text-anchor=\"middle\" x=\"336\" y=\"-171.8\" font-family=\"Helvetica,sans-Serif\" font-size=\"14.00\" fill=\"#000000\">ash &lt;= 2.167</text>\n<text text-anchor=\"middle\" x=\"336\" y=\"-156.8\" font-family=\"Helvetica,sans-Serif\" font-size=\"14.00\" fill=\"#000000\">entropy = 0.811</text>\n<text text-anchor=\"middle\" x=\"336\" y=\"-141.8\" font-family=\"Helvetica,sans-Serif\" font-size=\"14.00\" fill=\"#000000\">samples = 4</text>\n<text text-anchor=\"middle\" x=\"336\" y=\"-126.8\" font-family=\"Helvetica,sans-Serif\" font-size=\"14.00\" fill=\"#000000\">value = [0, 1, 3]</text>\n<text text-anchor=\"middle\" x=\"336\" y=\"-111.8\" font-family=\"Helvetica,sans-Serif\" font-size=\"14.00\" fill=\"#000000\">class = class_2</text>\n</g>\n<!-- 7&#45;&gt;8 -->\n<g id=\"edge8\" class=\"edge\">\n<title>7&#45;&gt;8</title>\n<path fill=\"none\" stroke=\"#000000\" d=\"M338.601,-222.8796C338.3255,-214.6838 338.0332,-205.9891 337.7479,-197.5013\"/>\n<polygon fill=\"#000000\" stroke=\"#000000\" points=\"341.239,-197.1748 337.405,-187.2981 334.243,-197.41 341.239,-197.1748\"/>\n</g>\n<!-- 11 -->\n<g id=\"node12\" class=\"node\">\n<title>11</title>\n<path fill=\"#8139e5\" stroke=\"#000000\" d=\"M517,-179.5C517,-179.5 425,-179.5 425,-179.5 419,-179.5 413,-173.5 413,-167.5 413,-167.5 413,-123.5 413,-123.5 413,-117.5 419,-111.5 425,-111.5 425,-111.5 517,-111.5 517,-111.5 523,-111.5 529,-117.5 529,-123.5 529,-123.5 529,-167.5 529,-167.5 529,-173.5 523,-179.5 517,-179.5\"/>\n<text text-anchor=\"middle\" x=\"471\" y=\"-164.3\" font-family=\"Helvetica,sans-Serif\" font-size=\"14.00\" fill=\"#000000\">entropy = 0.0</text>\n<text text-anchor=\"middle\" x=\"471\" y=\"-149.3\" font-family=\"Helvetica,sans-Serif\" font-size=\"14.00\" fill=\"#000000\">samples = 6</text>\n<text text-anchor=\"middle\" x=\"471\" y=\"-134.3\" font-family=\"Helvetica,sans-Serif\" font-size=\"14.00\" fill=\"#000000\">value = [0, 0, 6]</text>\n<text text-anchor=\"middle\" x=\"471\" y=\"-119.3\" font-family=\"Helvetica,sans-Serif\" font-size=\"14.00\" fill=\"#000000\">class = class_2</text>\n</g>\n<!-- 7&#45;&gt;11 -->\n<g id=\"edge11\" class=\"edge\">\n<title>7&#45;&gt;11</title>\n<path fill=\"none\" stroke=\"#000000\" d=\"M385.8174,-222.8796C398.7697,-211.1138 412.854,-198.3197 425.7714,-186.5855\"/>\n<polygon fill=\"#000000\" stroke=\"#000000\" points=\"428.1761,-189.1296 433.2247,-179.8149 423.4694,-183.9482 428.1761,-189.1296\"/>\n</g>\n<!-- 9 -->\n<g id=\"node10\" class=\"node\">\n<title>9</title>\n<path fill=\"#ffffff\" stroke=\"#000000\" d=\"M315,-68C315,-68 223,-68 223,-68 217,-68 211,-62 211,-56 211,-56 211,-12 211,-12 211,-6 217,0 223,0 223,0 315,0 315,0 321,0 327,-6 327,-12 327,-12 327,-56 327,-56 327,-62 321,-68 315,-68\"/>\n<text text-anchor=\"middle\" x=\"269\" y=\"-52.8\" font-family=\"Helvetica,sans-Serif\" font-size=\"14.00\" fill=\"#000000\">entropy = 1.0</text>\n<text text-anchor=\"middle\" x=\"269\" y=\"-37.8\" font-family=\"Helvetica,sans-Serif\" font-size=\"14.00\" fill=\"#000000\">samples = 2</text>\n<text text-anchor=\"middle\" x=\"269\" y=\"-22.8\" font-family=\"Helvetica,sans-Serif\" font-size=\"14.00\" fill=\"#000000\">value = [0, 1, 1]</text>\n<text text-anchor=\"middle\" x=\"269\" y=\"-7.8\" font-family=\"Helvetica,sans-Serif\" font-size=\"14.00\" fill=\"#000000\">class = class_1</text>\n</g>\n<!-- 8&#45;&gt;9 -->\n<g id=\"edge9\" class=\"edge\">\n<title>8&#45;&gt;9</title>\n<path fill=\"none\" stroke=\"#000000\" d=\"M311.0517,-103.9815C305.7499,-95.1585 300.1419,-85.8258 294.8089,-76.9506\"/>\n<polygon fill=\"#000000\" stroke=\"#000000\" points=\"297.7396,-75.0325 289.5889,-68.2637 291.7395,-78.638 297.7396,-75.0325\"/>\n</g>\n<!-- 10 -->\n<g id=\"node11\" class=\"node\">\n<title>10</title>\n<path fill=\"#8139e5\" stroke=\"#000000\" d=\"M449,-68C449,-68 357,-68 357,-68 351,-68 345,-62 345,-56 345,-56 345,-12 345,-12 345,-6 351,0 357,0 357,0 449,0 449,0 455,0 461,-6 461,-12 461,-12 461,-56 461,-56 461,-62 455,-68 449,-68\"/>\n<text text-anchor=\"middle\" x=\"403\" y=\"-52.8\" font-family=\"Helvetica,sans-Serif\" font-size=\"14.00\" fill=\"#000000\">entropy = 0.0</text>\n<text text-anchor=\"middle\" x=\"403\" y=\"-37.8\" font-family=\"Helvetica,sans-Serif\" font-size=\"14.00\" fill=\"#000000\">samples = 2</text>\n<text text-anchor=\"middle\" x=\"403\" y=\"-22.8\" font-family=\"Helvetica,sans-Serif\" font-size=\"14.00\" fill=\"#000000\">value = [0, 0, 2]</text>\n<text text-anchor=\"middle\" x=\"403\" y=\"-7.8\" font-family=\"Helvetica,sans-Serif\" font-size=\"14.00\" fill=\"#000000\">class = class_2</text>\n</g>\n<!-- 8&#45;&gt;10 -->\n<g id=\"edge10\" class=\"edge\">\n<title>8&#45;&gt;10</title>\n<path fill=\"none\" stroke=\"#000000\" d=\"M360.9483,-103.9815C366.2501,-95.1585 371.8581,-85.8258 377.1911,-76.9506\"/>\n<polygon fill=\"#000000\" stroke=\"#000000\" points=\"380.2605,-78.638 382.4111,-68.2637 374.2604,-75.0325 380.2605,-78.638\"/>\n</g>\n<!-- 13 -->\n<g id=\"node14\" class=\"node\">\n<title>13</title>\n<path fill=\"#8139e5\" stroke=\"#000000\" d=\"M553.5,-298.5C553.5,-298.5 454.5,-298.5 454.5,-298.5 448.5,-298.5 442.5,-292.5 442.5,-286.5 442.5,-286.5 442.5,-242.5 442.5,-242.5 442.5,-236.5 448.5,-230.5 454.5,-230.5 454.5,-230.5 553.5,-230.5 553.5,-230.5 559.5,-230.5 565.5,-236.5 565.5,-242.5 565.5,-242.5 565.5,-286.5 565.5,-286.5 565.5,-292.5 559.5,-298.5 553.5,-298.5\"/>\n<text text-anchor=\"middle\" x=\"504\" y=\"-283.3\" font-family=\"Helvetica,sans-Serif\" font-size=\"14.00\" fill=\"#000000\">entropy = 0.0</text>\n<text text-anchor=\"middle\" x=\"504\" y=\"-268.3\" font-family=\"Helvetica,sans-Serif\" font-size=\"14.00\" fill=\"#000000\">samples = 20</text>\n<text text-anchor=\"middle\" x=\"504\" y=\"-253.3\" font-family=\"Helvetica,sans-Serif\" font-size=\"14.00\" fill=\"#000000\">value = [0, 0, 20]</text>\n<text text-anchor=\"middle\" x=\"504\" y=\"-238.3\" font-family=\"Helvetica,sans-Serif\" font-size=\"14.00\" fill=\"#000000\">class = class_2</text>\n</g>\n<!-- 12&#45;&gt;13 -->\n<g id=\"edge13\" class=\"edge\">\n<title>12&#45;&gt;13</title>\n<path fill=\"none\" stroke=\"#000000\" d=\"M507.2512,-341.8796C506.8031,-331.2134 506.3194,-319.7021 505.8656,-308.9015\"/>\n<polygon fill=\"#000000\" stroke=\"#000000\" points=\"509.3586,-308.6592 505.4418,-298.8149 502.3648,-308.9531 509.3586,-308.6592\"/>\n</g>\n<!-- 14 -->\n<g id=\"node15\" class=\"node\">\n<title>14</title>\n<path fill=\"#ffffff\" stroke=\"#000000\" d=\"M688,-298.5C688,-298.5 596,-298.5 596,-298.5 590,-298.5 584,-292.5 584,-286.5 584,-286.5 584,-242.5 584,-242.5 584,-236.5 590,-230.5 596,-230.5 596,-230.5 688,-230.5 688,-230.5 694,-230.5 700,-236.5 700,-242.5 700,-242.5 700,-286.5 700,-286.5 700,-292.5 694,-298.5 688,-298.5\"/>\n<text text-anchor=\"middle\" x=\"642\" y=\"-283.3\" font-family=\"Helvetica,sans-Serif\" font-size=\"14.00\" fill=\"#000000\">entropy = 1.0</text>\n<text text-anchor=\"middle\" x=\"642\" y=\"-268.3\" font-family=\"Helvetica,sans-Serif\" font-size=\"14.00\" fill=\"#000000\">samples = 2</text>\n<text text-anchor=\"middle\" x=\"642\" y=\"-253.3\" font-family=\"Helvetica,sans-Serif\" font-size=\"14.00\" fill=\"#000000\">value = [0, 1, 1]</text>\n<text text-anchor=\"middle\" x=\"642\" y=\"-238.3\" font-family=\"Helvetica,sans-Serif\" font-size=\"14.00\" fill=\"#000000\">class = class_1</text>\n</g>\n<!-- 12&#45;&gt;14 -->\n<g id=\"edge14\" class=\"edge\">\n<title>12&#45;&gt;14</title>\n<path fill=\"none\" stroke=\"#000000\" d=\"M555.5169,-341.8796C568.667,-330.1138 582.9663,-317.3197 596.0809,-305.5855\"/>\n<polygon fill=\"#000000\" stroke=\"#000000\" points=\"598.5294,-308.0913 603.648,-298.8149 593.8618,-302.8746 598.5294,-308.0913\"/>\n</g>\n<!-- 17 -->\n<g id=\"node18\" class=\"node\">\n<title>17</title>\n<path fill=\"#39e581\" stroke=\"#000000\" d=\"M871.5,-536.5C871.5,-536.5 772.5,-536.5 772.5,-536.5 766.5,-536.5 760.5,-530.5 760.5,-524.5 760.5,-524.5 760.5,-480.5 760.5,-480.5 760.5,-474.5 766.5,-468.5 772.5,-468.5 772.5,-468.5 871.5,-468.5 871.5,-468.5 877.5,-468.5 883.5,-474.5 883.5,-480.5 883.5,-480.5 883.5,-524.5 883.5,-524.5 883.5,-530.5 877.5,-536.5 871.5,-536.5\"/>\n<text text-anchor=\"middle\" x=\"822\" y=\"-521.3\" font-family=\"Helvetica,sans-Serif\" font-size=\"14.00\" fill=\"#000000\">entropy = 0.0</text>\n<text text-anchor=\"middle\" x=\"822\" y=\"-506.3\" font-family=\"Helvetica,sans-Serif\" font-size=\"14.00\" fill=\"#000000\">samples = 25</text>\n<text text-anchor=\"middle\" x=\"822\" y=\"-491.3\" font-family=\"Helvetica,sans-Serif\" font-size=\"14.00\" fill=\"#000000\">value = [0, 25, 0]</text>\n<text text-anchor=\"middle\" x=\"822\" y=\"-476.3\" font-family=\"Helvetica,sans-Serif\" font-size=\"14.00\" fill=\"#000000\">class = class_1</text>\n</g>\n<!-- 16&#45;&gt;17 -->\n<g id=\"edge17\" class=\"edge\">\n<title>16&#45;&gt;17</title>\n<path fill=\"none\" stroke=\"#000000\" d=\"M835.6552,-579.8796C833.7729,-569.2134 831.7415,-557.7021 829.8356,-546.9015\"/>\n<polygon fill=\"#000000\" stroke=\"#000000\" points=\"833.2403,-546.0545 828.0556,-536.8149 826.3468,-547.2711 833.2403,-546.0545\"/>\n</g>\n<!-- 18 -->\n<g id=\"node19\" class=\"node\">\n<title>18</title>\n<path fill=\"#e89152\" stroke=\"#000000\" d=\"M1084,-544C1084,-544 914,-544 914,-544 908,-544 902,-538 902,-532 902,-532 902,-473 902,-473 902,-467 908,-461 914,-461 914,-461 1084,-461 1084,-461 1090,-461 1096,-467 1096,-473 1096,-473 1096,-532 1096,-532 1096,-538 1090,-544 1084,-544\"/>\n<text text-anchor=\"middle\" x=\"999\" y=\"-528.8\" font-family=\"Helvetica,sans-Serif\" font-size=\"14.00\" fill=\"#000000\">alcalinity_of_ash &lt;= 20.757</text>\n<text text-anchor=\"middle\" x=\"999\" y=\"-513.8\" font-family=\"Helvetica,sans-Serif\" font-size=\"14.00\" fill=\"#000000\">entropy = 0.511</text>\n<text text-anchor=\"middle\" x=\"999\" y=\"-498.8\" font-family=\"Helvetica,sans-Serif\" font-size=\"14.00\" fill=\"#000000\">samples = 44</text>\n<text text-anchor=\"middle\" x=\"999\" y=\"-483.8\" font-family=\"Helvetica,sans-Serif\" font-size=\"14.00\" fill=\"#000000\">value = [39, 5, 0]</text>\n<text text-anchor=\"middle\" x=\"999\" y=\"-468.8\" font-family=\"Helvetica,sans-Serif\" font-size=\"14.00\" fill=\"#000000\">class = class_0</text>\n</g>\n<!-- 16&#45;&gt;18 -->\n<g id=\"edge18\" class=\"edge\">\n<title>16&#45;&gt;18</title>\n<path fill=\"none\" stroke=\"#000000\" d=\"M897.5612,-579.8796C910.0302,-570.368 923.3802,-560.1843 936.1648,-550.432\"/>\n<polygon fill=\"#000000\" stroke=\"#000000\" points=\"938.6415,-552.9448 944.4696,-544.0969 934.396,-547.3792 938.6415,-552.9448\"/>\n</g>\n<!-- 19 -->\n<g id=\"node20\" class=\"node\">\n<title>19</title>\n<path fill=\"#e68844\" stroke=\"#000000\" d=\"M1030.5,-425C1030.5,-425 917.5,-425 917.5,-425 911.5,-425 905.5,-419 905.5,-413 905.5,-413 905.5,-354 905.5,-354 905.5,-348 911.5,-342 917.5,-342 917.5,-342 1030.5,-342 1030.5,-342 1036.5,-342 1042.5,-348 1042.5,-354 1042.5,-354 1042.5,-413 1042.5,-413 1042.5,-419 1036.5,-425 1030.5,-425\"/>\n<text text-anchor=\"middle\" x=\"974\" y=\"-409.8\" font-family=\"Helvetica,sans-Serif\" font-size=\"14.00\" fill=\"#000000\">proline &lt;= 802.294</text>\n<text text-anchor=\"middle\" x=\"974\" y=\"-394.8\" font-family=\"Helvetica,sans-Serif\" font-size=\"14.00\" fill=\"#000000\">entropy = 0.297</text>\n<text text-anchor=\"middle\" x=\"974\" y=\"-379.8\" font-family=\"Helvetica,sans-Serif\" font-size=\"14.00\" fill=\"#000000\">samples = 38</text>\n<text text-anchor=\"middle\" x=\"974\" y=\"-364.8\" font-family=\"Helvetica,sans-Serif\" font-size=\"14.00\" fill=\"#000000\">value = [36, 2, 0]</text>\n<text text-anchor=\"middle\" x=\"974\" y=\"-349.8\" font-family=\"Helvetica,sans-Serif\" font-size=\"14.00\" fill=\"#000000\">class = class_0</text>\n</g>\n<!-- 18&#45;&gt;19 -->\n<g id=\"edge19\" class=\"edge\">\n<title>18&#45;&gt;19</title>\n<path fill=\"none\" stroke=\"#000000\" d=\"M990.2562,-460.8796C988.5155,-452.5938 986.6676,-443.798 984.8659,-435.2216\"/>\n<polygon fill=\"#000000\" stroke=\"#000000\" points=\"988.2624,-434.3648 982.7811,-425.2981 981.4119,-435.8041 988.2624,-434.3648\"/>\n</g>\n<!-- 24 -->\n<g id=\"node25\" class=\"node\">\n<title>24</title>\n<path fill=\"#ffffff\" stroke=\"#000000\" d=\"M1219,-425C1219,-425 1073,-425 1073,-425 1067,-425 1061,-419 1061,-413 1061,-413 1061,-354 1061,-354 1061,-348 1067,-342 1073,-342 1073,-342 1219,-342 1219,-342 1225,-342 1231,-348 1231,-354 1231,-354 1231,-413 1231,-413 1231,-419 1225,-425 1219,-425\"/>\n<text text-anchor=\"middle\" x=\"1146\" y=\"-409.8\" font-family=\"Helvetica,sans-Serif\" font-size=\"14.00\" fill=\"#000000\">color_intensity &lt;= 4.086</text>\n<text text-anchor=\"middle\" x=\"1146\" y=\"-394.8\" font-family=\"Helvetica,sans-Serif\" font-size=\"14.00\" fill=\"#000000\">entropy = 1.0</text>\n<text text-anchor=\"middle\" x=\"1146\" y=\"-379.8\" font-family=\"Helvetica,sans-Serif\" font-size=\"14.00\" fill=\"#000000\">samples = 6</text>\n<text text-anchor=\"middle\" x=\"1146\" y=\"-364.8\" font-family=\"Helvetica,sans-Serif\" font-size=\"14.00\" fill=\"#000000\">value = [3, 3, 0]</text>\n<text text-anchor=\"middle\" x=\"1146\" y=\"-349.8\" font-family=\"Helvetica,sans-Serif\" font-size=\"14.00\" fill=\"#000000\">class = class_0</text>\n</g>\n<!-- 18&#45;&gt;24 -->\n<g id=\"edge24\" class=\"edge\">\n<title>18&#45;&gt;24</title>\n<path fill=\"none\" stroke=\"#000000\" d=\"M1050.4135,-460.8796C1062.0952,-451.4229 1074.5975,-441.302 1086.581,-431.6011\"/>\n<polygon fill=\"#000000\" stroke=\"#000000\" points=\"1088.7968,-434.3105 1094.3671,-425.2981 1084.3924,-428.8697 1088.7968,-434.3105\"/>\n</g>\n<!-- 20 -->\n<g id=\"node21\" class=\"node\">\n<title>20</title>\n<path fill=\"#f2c09c\" stroke=\"#000000\" d=\"M885.5,-306C885.5,-306 780.5,-306 780.5,-306 774.5,-306 768.5,-300 768.5,-294 768.5,-294 768.5,-235 768.5,-235 768.5,-229 774.5,-223 780.5,-223 780.5,-223 885.5,-223 885.5,-223 891.5,-223 897.5,-229 897.5,-235 897.5,-235 897.5,-294 897.5,-294 897.5,-300 891.5,-306 885.5,-306\"/>\n<text text-anchor=\"middle\" x=\"833\" y=\"-290.8\" font-family=\"Helvetica,sans-Serif\" font-size=\"14.00\" fill=\"#000000\">proline &lt;= 530.79</text>\n<text text-anchor=\"middle\" x=\"833\" y=\"-275.8\" font-family=\"Helvetica,sans-Serif\" font-size=\"14.00\" fill=\"#000000\">entropy = 0.918</text>\n<text text-anchor=\"middle\" x=\"833\" y=\"-260.8\" font-family=\"Helvetica,sans-Serif\" font-size=\"14.00\" fill=\"#000000\">samples = 6</text>\n<text text-anchor=\"middle\" x=\"833\" y=\"-245.8\" font-family=\"Helvetica,sans-Serif\" font-size=\"14.00\" fill=\"#000000\">value = [4, 2, 0]</text>\n<text text-anchor=\"middle\" x=\"833\" y=\"-230.8\" font-family=\"Helvetica,sans-Serif\" font-size=\"14.00\" fill=\"#000000\">class = class_0</text>\n</g>\n<!-- 19&#45;&gt;20 -->\n<g id=\"edge20\" class=\"edge\">\n<title>19&#45;&gt;20</title>\n<path fill=\"none\" stroke=\"#000000\" d=\"M924.685,-341.8796C913.5868,-332.513 901.7165,-322.4948 890.3223,-312.8784\"/>\n<polygon fill=\"#000000\" stroke=\"#000000\" points=\"892.425,-310.0731 882.5254,-306.2981 887.9101,-315.4225 892.425,-310.0731\"/>\n</g>\n<!-- 23 -->\n<g id=\"node24\" class=\"node\">\n<title>23</title>\n<path fill=\"#e58139\" stroke=\"#000000\" d=\"M1026.5,-298.5C1026.5,-298.5 927.5,-298.5 927.5,-298.5 921.5,-298.5 915.5,-292.5 915.5,-286.5 915.5,-286.5 915.5,-242.5 915.5,-242.5 915.5,-236.5 921.5,-230.5 927.5,-230.5 927.5,-230.5 1026.5,-230.5 1026.5,-230.5 1032.5,-230.5 1038.5,-236.5 1038.5,-242.5 1038.5,-242.5 1038.5,-286.5 1038.5,-286.5 1038.5,-292.5 1032.5,-298.5 1026.5,-298.5\"/>\n<text text-anchor=\"middle\" x=\"977\" y=\"-283.3\" font-family=\"Helvetica,sans-Serif\" font-size=\"14.00\" fill=\"#000000\">entropy = 0.0</text>\n<text text-anchor=\"middle\" x=\"977\" y=\"-268.3\" font-family=\"Helvetica,sans-Serif\" font-size=\"14.00\" fill=\"#000000\">samples = 32</text>\n<text text-anchor=\"middle\" x=\"977\" y=\"-253.3\" font-family=\"Helvetica,sans-Serif\" font-size=\"14.00\" fill=\"#000000\">value = [32, 0, 0]</text>\n<text text-anchor=\"middle\" x=\"977\" y=\"-238.3\" font-family=\"Helvetica,sans-Serif\" font-size=\"14.00\" fill=\"#000000\">class = class_0</text>\n</g>\n<!-- 19&#45;&gt;23 -->\n<g id=\"edge23\" class=\"edge\">\n<title>19&#45;&gt;23</title>\n<path fill=\"none\" stroke=\"#000000\" d=\"M975.0493,-341.8796C975.3182,-331.2134 975.6084,-319.7021 975.8806,-308.9015\"/>\n<polygon fill=\"#000000\" stroke=\"#000000\" points=\"979.3817,-308.9 976.1349,-298.8149 972.3839,-308.7235 979.3817,-308.9\"/>\n</g>\n<!-- 21 -->\n<g id=\"node22\" class=\"node\">\n<title>21</title>\n<path fill=\"#39e581\" stroke=\"#000000\" d=\"M793,-179.5C793,-179.5 701,-179.5 701,-179.5 695,-179.5 689,-173.5 689,-167.5 689,-167.5 689,-123.5 689,-123.5 689,-117.5 695,-111.5 701,-111.5 701,-111.5 793,-111.5 793,-111.5 799,-111.5 805,-117.5 805,-123.5 805,-123.5 805,-167.5 805,-167.5 805,-173.5 799,-179.5 793,-179.5\"/>\n<text text-anchor=\"middle\" x=\"747\" y=\"-164.3\" font-family=\"Helvetica,sans-Serif\" font-size=\"14.00\" fill=\"#000000\">entropy = 0.0</text>\n<text text-anchor=\"middle\" x=\"747\" y=\"-149.3\" font-family=\"Helvetica,sans-Serif\" font-size=\"14.00\" fill=\"#000000\">samples = 2</text>\n<text text-anchor=\"middle\" x=\"747\" y=\"-134.3\" font-family=\"Helvetica,sans-Serif\" font-size=\"14.00\" fill=\"#000000\">value = [0, 2, 0]</text>\n<text text-anchor=\"middle\" x=\"747\" y=\"-119.3\" font-family=\"Helvetica,sans-Serif\" font-size=\"14.00\" fill=\"#000000\">class = class_1</text>\n</g>\n<!-- 20&#45;&gt;21 -->\n<g id=\"edge21\" class=\"edge\">\n<title>20&#45;&gt;21</title>\n<path fill=\"none\" stroke=\"#000000\" d=\"M802.9214,-222.8796C794.8157,-211.6636 786.0347,-199.5131 777.8857,-188.2372\"/>\n<polygon fill=\"#000000\" stroke=\"#000000\" points=\"780.4932,-185.8698 771.799,-179.8149 774.8197,-189.9701 780.4932,-185.8698\"/>\n</g>\n<!-- 22 -->\n<g id=\"node23\" class=\"node\">\n<title>22</title>\n<path fill=\"#e58139\" stroke=\"#000000\" d=\"M927,-179.5C927,-179.5 835,-179.5 835,-179.5 829,-179.5 823,-173.5 823,-167.5 823,-167.5 823,-123.5 823,-123.5 823,-117.5 829,-111.5 835,-111.5 835,-111.5 927,-111.5 927,-111.5 933,-111.5 939,-117.5 939,-123.5 939,-123.5 939,-167.5 939,-167.5 939,-173.5 933,-179.5 927,-179.5\"/>\n<text text-anchor=\"middle\" x=\"881\" y=\"-164.3\" font-family=\"Helvetica,sans-Serif\" font-size=\"14.00\" fill=\"#000000\">entropy = 0.0</text>\n<text text-anchor=\"middle\" x=\"881\" y=\"-149.3\" font-family=\"Helvetica,sans-Serif\" font-size=\"14.00\" fill=\"#000000\">samples = 4</text>\n<text text-anchor=\"middle\" x=\"881\" y=\"-134.3\" font-family=\"Helvetica,sans-Serif\" font-size=\"14.00\" fill=\"#000000\">value = [4, 0, 0]</text>\n<text text-anchor=\"middle\" x=\"881\" y=\"-119.3\" font-family=\"Helvetica,sans-Serif\" font-size=\"14.00\" fill=\"#000000\">class = class_0</text>\n</g>\n<!-- 20&#45;&gt;22 -->\n<g id=\"edge22\" class=\"edge\">\n<title>20&#45;&gt;22</title>\n<path fill=\"none\" stroke=\"#000000\" d=\"M849.7881,-222.8796C854.1791,-211.9935 858.9252,-200.227 863.3592,-189.2344\"/>\n<polygon fill=\"#000000\" stroke=\"#000000\" points=\"866.6638,-190.3982 867.1587,-179.8149 860.172,-187.7796 866.6638,-190.3982\"/>\n</g>\n<!-- 25 -->\n<g id=\"node26\" class=\"node\">\n<title>25</title>\n<path fill=\"#7beeab\" stroke=\"#000000\" d=\"M1214,-306C1214,-306 1074,-306 1074,-306 1068,-306 1062,-300 1062,-294 1062,-294 1062,-235 1062,-235 1062,-229 1068,-223 1074,-223 1074,-223 1214,-223 1214,-223 1220,-223 1226,-229 1226,-235 1226,-235 1226,-294 1226,-294 1226,-300 1220,-306 1214,-306\"/>\n<text text-anchor=\"middle\" x=\"1144\" y=\"-290.8\" font-family=\"Helvetica,sans-Serif\" font-size=\"14.00\" fill=\"#000000\">total_phenols &lt;= 2.743</text>\n<text text-anchor=\"middle\" x=\"1144\" y=\"-275.8\" font-family=\"Helvetica,sans-Serif\" font-size=\"14.00\" fill=\"#000000\">entropy = 0.811</text>\n<text text-anchor=\"middle\" x=\"1144\" y=\"-260.8\" font-family=\"Helvetica,sans-Serif\" font-size=\"14.00\" fill=\"#000000\">samples = 4</text>\n<text text-anchor=\"middle\" x=\"1144\" y=\"-245.8\" font-family=\"Helvetica,sans-Serif\" font-size=\"14.00\" fill=\"#000000\">value = [1, 3, 0]</text>\n<text text-anchor=\"middle\" x=\"1144\" y=\"-230.8\" font-family=\"Helvetica,sans-Serif\" font-size=\"14.00\" fill=\"#000000\">class = class_1</text>\n</g>\n<!-- 24&#45;&gt;25 -->\n<g id=\"edge25\" class=\"edge\">\n<title>24&#45;&gt;25</title>\n<path fill=\"none\" stroke=\"#000000\" d=\"M1145.3005,-341.8796C1145.1628,-333.6838 1145.0166,-324.9891 1144.874,-316.5013\"/>\n<polygon fill=\"#000000\" stroke=\"#000000\" points=\"1148.3701,-316.2378 1144.7025,-306.2981 1141.3711,-316.3555 1148.3701,-316.2378\"/>\n</g>\n<!-- 28 -->\n<g id=\"node29\" class=\"node\">\n<title>28</title>\n<path fill=\"#e58139\" stroke=\"#000000\" d=\"M1348,-298.5C1348,-298.5 1256,-298.5 1256,-298.5 1250,-298.5 1244,-292.5 1244,-286.5 1244,-286.5 1244,-242.5 1244,-242.5 1244,-236.5 1250,-230.5 1256,-230.5 1256,-230.5 1348,-230.5 1348,-230.5 1354,-230.5 1360,-236.5 1360,-242.5 1360,-242.5 1360,-286.5 1360,-286.5 1360,-292.5 1354,-298.5 1348,-298.5\"/>\n<text text-anchor=\"middle\" x=\"1302\" y=\"-283.3\" font-family=\"Helvetica,sans-Serif\" font-size=\"14.00\" fill=\"#000000\">entropy = 0.0</text>\n<text text-anchor=\"middle\" x=\"1302\" y=\"-268.3\" font-family=\"Helvetica,sans-Serif\" font-size=\"14.00\" fill=\"#000000\">samples = 2</text>\n<text text-anchor=\"middle\" x=\"1302\" y=\"-253.3\" font-family=\"Helvetica,sans-Serif\" font-size=\"14.00\" fill=\"#000000\">value = [2, 0, 0]</text>\n<text text-anchor=\"middle\" x=\"1302\" y=\"-238.3\" font-family=\"Helvetica,sans-Serif\" font-size=\"14.00\" fill=\"#000000\">class = class_0</text>\n</g>\n<!-- 24&#45;&gt;28 -->\n<g id=\"edge28\" class=\"edge\">\n<title>24&#45;&gt;28</title>\n<path fill=\"none\" stroke=\"#000000\" d=\"M1200.5612,-341.8796C1216.3484,-329.8368 1233.5479,-316.7167 1249.2241,-304.7586\"/>\n<polygon fill=\"#000000\" stroke=\"#000000\" points=\"1251.4392,-307.4709 1257.2673,-298.623 1247.1937,-301.9053 1251.4392,-307.4709\"/>\n</g>\n<!-- 26 -->\n<g id=\"node27\" class=\"node\">\n<title>26</title>\n<path fill=\"#ffffff\" stroke=\"#000000\" d=\"M1104,-179.5C1104,-179.5 1012,-179.5 1012,-179.5 1006,-179.5 1000,-173.5 1000,-167.5 1000,-167.5 1000,-123.5 1000,-123.5 1000,-117.5 1006,-111.5 1012,-111.5 1012,-111.5 1104,-111.5 1104,-111.5 1110,-111.5 1116,-117.5 1116,-123.5 1116,-123.5 1116,-167.5 1116,-167.5 1116,-173.5 1110,-179.5 1104,-179.5\"/>\n<text text-anchor=\"middle\" x=\"1058\" y=\"-164.3\" font-family=\"Helvetica,sans-Serif\" font-size=\"14.00\" fill=\"#000000\">entropy = 1.0</text>\n<text text-anchor=\"middle\" x=\"1058\" y=\"-149.3\" font-family=\"Helvetica,sans-Serif\" font-size=\"14.00\" fill=\"#000000\">samples = 2</text>\n<text text-anchor=\"middle\" x=\"1058\" y=\"-134.3\" font-family=\"Helvetica,sans-Serif\" font-size=\"14.00\" fill=\"#000000\">value = [1, 1, 0]</text>\n<text text-anchor=\"middle\" x=\"1058\" y=\"-119.3\" font-family=\"Helvetica,sans-Serif\" font-size=\"14.00\" fill=\"#000000\">class = class_0</text>\n</g>\n<!-- 25&#45;&gt;26 -->\n<g id=\"edge26\" class=\"edge\">\n<title>25&#45;&gt;26</title>\n<path fill=\"none\" stroke=\"#000000\" d=\"M1113.9214,-222.8796C1105.8157,-211.6636 1097.0347,-199.5131 1088.8857,-188.2372\"/>\n<polygon fill=\"#000000\" stroke=\"#000000\" points=\"1091.4932,-185.8698 1082.799,-179.8149 1085.8197,-189.9701 1091.4932,-185.8698\"/>\n</g>\n<!-- 27 -->\n<g id=\"node28\" class=\"node\">\n<title>27</title>\n<path fill=\"#39e581\" stroke=\"#000000\" d=\"M1238,-179.5C1238,-179.5 1146,-179.5 1146,-179.5 1140,-179.5 1134,-173.5 1134,-167.5 1134,-167.5 1134,-123.5 1134,-123.5 1134,-117.5 1140,-111.5 1146,-111.5 1146,-111.5 1238,-111.5 1238,-111.5 1244,-111.5 1250,-117.5 1250,-123.5 1250,-123.5 1250,-167.5 1250,-167.5 1250,-173.5 1244,-179.5 1238,-179.5\"/>\n<text text-anchor=\"middle\" x=\"1192\" y=\"-164.3\" font-family=\"Helvetica,sans-Serif\" font-size=\"14.00\" fill=\"#000000\">entropy = 0.0</text>\n<text text-anchor=\"middle\" x=\"1192\" y=\"-149.3\" font-family=\"Helvetica,sans-Serif\" font-size=\"14.00\" fill=\"#000000\">samples = 2</text>\n<text text-anchor=\"middle\" x=\"1192\" y=\"-134.3\" font-family=\"Helvetica,sans-Serif\" font-size=\"14.00\" fill=\"#000000\">value = [0, 2, 0]</text>\n<text text-anchor=\"middle\" x=\"1192\" y=\"-119.3\" font-family=\"Helvetica,sans-Serif\" font-size=\"14.00\" fill=\"#000000\">class = class_1</text>\n</g>\n<!-- 25&#45;&gt;27 -->\n<g id=\"edge27\" class=\"edge\">\n<title>25&#45;&gt;27</title>\n<path fill=\"none\" stroke=\"#000000\" d=\"M1160.7881,-222.8796C1165.1791,-211.9935 1169.9252,-200.227 1174.3592,-189.2344\"/>\n<polygon fill=\"#000000\" stroke=\"#000000\" points=\"1177.6638,-190.3982 1178.1587,-179.8149 1171.172,-187.7796 1177.6638,-190.3982\"/>\n</g>\n</g>\n</svg>\n"
          },
          "metadata": {
            "tags": []
          },
          "execution_count": 18
        }
      ]
    },
    {
      "cell_type": "markdown",
      "metadata": {
        "id": "TDnSaIoZs08z"
      },
      "source": [
        "##How to know which value is better\r\n",
        "we can draw a plot to see every value correspond to the score\r\n"
      ]
    },
    {
      "cell_type": "code",
      "metadata": {
        "id": "O8zeF493a6ho",
        "outputId": "933eafde-a270-4d67-ff70-34616d2ea444",
        "colab": {
          "base_uri": "https://localhost:8080/",
          "height": 297
        }
      },
      "source": [
        "score_acc = []\r\n",
        "for i in range(10):\r\n",
        "  #use entropy as criterion\r\n",
        "  clf = tree.DecisionTreeClassifier( criterion='entropy'\r\n",
        "                                    ,random_state=5\r\n",
        "                                    ,splitter='random'\r\n",
        "                                    ,max_depth = i+1\r\n",
        "                                    ,min_samples_leaf = 2\r\n",
        "                                    ,min_samples_split = 2\r\n",
        "                                  )\r\n",
        "  #fit the data\r\n",
        "  clf.fit(Xtrain, ytrain)\r\n",
        "  #check the accuracy\r\n",
        "  score = clf.score(Xtest, ytest)\r\n",
        "  #append to score_acc\r\n",
        "  score_acc.append(score)\r\n",
        "\r\n",
        "plt.plot(range(1,11),score_acc, color='red', label= \"max_depth\")\r\n",
        "plt.xlabel(\"max_depth\")\r\n",
        "plt.ylabel(\"score\")\r\n",
        "plt.legend()\r\n",
        "plt.show"
      ],
      "execution_count": 27,
      "outputs": [
        {
          "output_type": "execute_result",
          "data": {
            "text/plain": [
              "<function matplotlib.pyplot.show>"
            ]
          },
          "metadata": {
            "tags": []
          },
          "execution_count": 27
        },
        {
          "output_type": "display_data",
          "data": {
            "image/png": "[encoded data removed]",
            "text/plain": [
              "<Figure size 432x288 with 1 Axes>"
            ]
          },
          "metadata": {
            "tags": [],
            "needs_background": "light"
          }
        }
      ]
    },
    {
      "cell_type": "code",
      "metadata": {
        "id": "8hxWIQgcuDg8",
        "outputId": "7dc30b5e-484f-4736-938f-3fe73a1cbd0e",
        "colab": {
          "base_uri": "https://localhost:8080/"
        }
      },
      "source": [
        "im = np.argmax(score_acc)\r\n",
        "print(\"the best result is when max-depth = {0:2d}, the acc is : {1:2.4f}\".format(range(1,11)[im],score_acc[im]))"
      ],
      "execution_count": 26,
      "outputs": [
        {
          "output_type": "stream",
          "text": [
            "the best result is when max-depth =  4, the acc is : 0.9630\n"
          ],
          "name": "stdout"
        }
      ]
    },
    {
      "cell_type": "markdown",
      "metadata": {
        "id": "KzfI7LjU3VA_"
      },
      "source": [
        "##when data is extremely unbalance\r\n",
        "we use 59 class_0 and 3 class_1, it is unblance data, however, the decision tree will help us use the class_weight which means even the data is unblance but they have same weight.  "
      ]
    },
    {
      "cell_type": "code",
      "metadata": {
        "id": "nNL7eMV7uaFS",
        "outputId": "d4e4266d-193a-4718-e9cc-41e4f7d29ba1",
        "colab": {
          "base_uri": "https://localhost:8080/"
        }
      },
      "source": [
        "X1 = X[:62]\r\n",
        "y1 = y[:62]\r\n",
        "X1train, X1test, y1train, y1test = train_test_split(X1,y1,test_size = 0.3)\r\n",
        "print(X1train.shape)\r\n",
        "print(X1test.shape)"
      ],
      "execution_count": 55,
      "outputs": [
        {
          "output_type": "stream",
          "text": [
            "(43, 13)\n",
            "(19, 13)\n"
          ],
          "name": "stdout"
        }
      ]
    },
    {
      "cell_type": "code",
      "metadata": {
        "id": "A40XqhZ53piQ",
        "outputId": "74b64b6d-93c4-4226-83b7-c199ca33a791",
        "colab": {
          "base_uri": "https://localhost:8080/"
        }
      },
      "source": [
        "#use entropy as criterion\r\n",
        "clf = tree.DecisionTreeClassifier( criterion='entropy'\r\n",
        "                                  ,random_state=5\r\n",
        "                                  ,splitter='random'\r\n",
        "                                  ,max_depth = 10\r\n",
        "                                  ,min_samples_leaf = 2\r\n",
        "                                  ,min_samples_split = 2\r\n",
        "                                )\r\n",
        "#fit the data\r\n",
        "clf.fit(X1train, y1train)\r\n",
        "#check the accuracy\r\n",
        "score = clf.score(X1test, y1test)\r\n",
        "print(\"The accuracy is: {0:2.5f}\".format(score))"
      ],
      "execution_count": 56,
      "outputs": [
        {
          "output_type": "stream",
          "text": [
            "The accuracy is: 1.00000\n"
          ],
          "name": "stdout"
        }
      ]
    },
    {
      "cell_type": "code",
      "metadata": {
        "id": "mTujthlM3yd4",
        "outputId": "0b801b22-7c8d-4e4f-9bc4-c73ea78fe074",
        "colab": {
          "base_uri": "https://localhost:8080/",
          "height": 281
        }
      },
      "source": [
        "dot_data = tree.export_graphviz( clf\r\n",
        "                                ,out_file=None\r\n",
        "                                ,feature_names=feature_names\r\n",
        "                                ,class_names=class_names\r\n",
        "                                ,filled=True\r\n",
        "                                ,rounded=True\r\n",
        "                              )\r\n",
        "graph = graphviz.Source(dot_data)\r\n",
        "graph"
      ],
      "execution_count": 58,
      "outputs": [
        {
          "output_type": "execute_result",
          "data": {
            "text/plain": [
              "<graphviz.files.Source at 0x7f6984727a20>"
            ],
            "image/svg+xml": "<?xml version=\"1.0\" encoding=\"UTF-8\" standalone=\"no\"?>\n<!DOCTYPE svg PUBLIC \"-//W3C//DTD SVG 1.1//EN\"\n \"http://www.w3.org/Graphics/SVG/1.1/DTD/svg11.dtd\">\n<!-- Generated by graphviz version 2.40.1 (20161225.0304)\n -->\n<!-- Title: Tree Pages: 1 -->\n<svg width=\"258pt\" height=\"195pt\"\n viewBox=\"0.00 0.00 258.00 195.00\" xmlns=\"http://www.w3.org/2000/svg\" xmlns:xlink=\"http://www.w3.org/1999/xlink\">\n<g id=\"graph0\" class=\"graph\" transform=\"scale(1 1) rotate(0) translate(4 191)\">\n<title>Tree</title>\n<polygon fill=\"#ffffff\" stroke=\"transparent\" points=\"-4,4 -4,-191 254,-191 254,4 -4,4\"/>\n<!-- 0 -->\n<g id=\"node1\" class=\"node\">\n<title>0</title>\n<path fill=\"#e68743\" stroke=\"#000000\" d=\"M184.5,-187C184.5,-187 65.5,-187 65.5,-187 59.5,-187 53.5,-181 53.5,-175 53.5,-175 53.5,-116 53.5,-116 53.5,-110 59.5,-104 65.5,-104 65.5,-104 184.5,-104 184.5,-104 190.5,-104 196.5,-110 196.5,-116 196.5,-116 196.5,-175 196.5,-175 196.5,-181 190.5,-187 184.5,-187\"/>\n<text text-anchor=\"middle\" x=\"125\" y=\"-171.8\" font-family=\"Helvetica,sans-Serif\" font-size=\"14.00\" fill=\"#000000\">flavanoids &lt;= 2.041</text>\n<text text-anchor=\"middle\" x=\"125\" y=\"-156.8\" font-family=\"Helvetica,sans-Serif\" font-size=\"14.00\" fill=\"#000000\">entropy = 0.271</text>\n<text text-anchor=\"middle\" x=\"125\" y=\"-141.8\" font-family=\"Helvetica,sans-Serif\" font-size=\"14.00\" fill=\"#000000\">samples = 43</text>\n<text text-anchor=\"middle\" x=\"125\" y=\"-126.8\" font-family=\"Helvetica,sans-Serif\" font-size=\"14.00\" fill=\"#000000\">value = [41, 2]</text>\n<text text-anchor=\"middle\" x=\"125\" y=\"-111.8\" font-family=\"Helvetica,sans-Serif\" font-size=\"14.00\" fill=\"#000000\">class = class_0</text>\n</g>\n<!-- 1 -->\n<g id=\"node2\" class=\"node\">\n<title>1</title>\n<path fill=\"#399de5\" stroke=\"#000000\" d=\"M104,-68C104,-68 12,-68 12,-68 6,-68 0,-62 0,-56 0,-56 0,-12 0,-12 0,-6 6,0 12,0 12,0 104,0 104,0 110,0 116,-6 116,-12 116,-12 116,-56 116,-56 116,-62 110,-68 104,-68\"/>\n<text text-anchor=\"middle\" x=\"58\" y=\"-52.8\" font-family=\"Helvetica,sans-Serif\" font-size=\"14.00\" fill=\"#000000\">entropy = 0.0</text>\n<text text-anchor=\"middle\" x=\"58\" y=\"-37.8\" font-family=\"Helvetica,sans-Serif\" font-size=\"14.00\" fill=\"#000000\">samples = 2</text>\n<text text-anchor=\"middle\" x=\"58\" y=\"-22.8\" font-family=\"Helvetica,sans-Serif\" font-size=\"14.00\" fill=\"#000000\">value = [0, 2]</text>\n<text text-anchor=\"middle\" x=\"58\" y=\"-7.8\" font-family=\"Helvetica,sans-Serif\" font-size=\"14.00\" fill=\"#000000\">class = class_1</text>\n</g>\n<!-- 0&#45;&gt;1 -->\n<g id=\"edge1\" class=\"edge\">\n<title>0&#45;&gt;1</title>\n<path fill=\"none\" stroke=\"#000000\" d=\"M100.0517,-103.9815C94.7499,-95.1585 89.1419,-85.8258 83.8089,-76.9506\"/>\n<polygon fill=\"#000000\" stroke=\"#000000\" points=\"86.7396,-75.0325 78.5889,-68.2637 80.7395,-78.638 86.7396,-75.0325\"/>\n<text text-anchor=\"middle\" x=\"72.5415\" y=\"-88.8212\" font-family=\"Helvetica,sans-Serif\" font-size=\"14.00\" fill=\"#000000\">True</text>\n</g>\n<!-- 2 -->\n<g id=\"node3\" class=\"node\">\n<title>2</title>\n<path fill=\"#e58139\" stroke=\"#000000\" d=\"M238,-68C238,-68 146,-68 146,-68 140,-68 134,-62 134,-56 134,-56 134,-12 134,-12 134,-6 140,0 146,0 146,0 238,0 238,0 244,0 250,-6 250,-12 250,-12 250,-56 250,-56 250,-62 244,-68 238,-68\"/>\n<text text-anchor=\"middle\" x=\"192\" y=\"-52.8\" font-family=\"Helvetica,sans-Serif\" font-size=\"14.00\" fill=\"#000000\">entropy = 0.0</text>\n<text text-anchor=\"middle\" x=\"192\" y=\"-37.8\" font-family=\"Helvetica,sans-Serif\" font-size=\"14.00\" fill=\"#000000\">samples = 41</text>\n<text text-anchor=\"middle\" x=\"192\" y=\"-22.8\" font-family=\"Helvetica,sans-Serif\" font-size=\"14.00\" fill=\"#000000\">value = [41, 0]</text>\n<text text-anchor=\"middle\" x=\"192\" y=\"-7.8\" font-family=\"Helvetica,sans-Serif\" font-size=\"14.00\" fill=\"#000000\">class = class_0</text>\n</g>\n<!-- 0&#45;&gt;2 -->\n<g id=\"edge2\" class=\"edge\">\n<title>0&#45;&gt;2</title>\n<path fill=\"none\" stroke=\"#000000\" d=\"M149.9483,-103.9815C155.2501,-95.1585 160.8581,-85.8258 166.1911,-76.9506\"/>\n<polygon fill=\"#000000\" stroke=\"#000000\" points=\"169.2605,-78.638 171.4111,-68.2637 163.2604,-75.0325 169.2605,-78.638\"/>\n<text text-anchor=\"middle\" x=\"177.4585\" y=\"-88.8212\" font-family=\"Helvetica,sans-Serif\" font-size=\"14.00\" fill=\"#000000\">False</text>\n</g>\n</g>\n</svg>\n"
          },
          "metadata": {
            "tags": []
          },
          "execution_count": 58
        }
      ]
    },
    {
      "cell_type": "code",
      "metadata": {
        "id": "vOOFf2vE4A5v",
        "outputId": "83acfa81-191b-4684-8518-cb2c51f9b35b",
        "colab": {
          "base_uri": "https://localhost:8080/"
        }
      },
      "source": [
        "#it will return the index of nodes\r\n",
        "clf.apply(X1test)\r\n"
      ],
      "execution_count": 61,
      "outputs": [
        {
          "output_type": "execute_result",
          "data": {
            "text/plain": [
              "array([2, 2, 2, 2, 2, 2, 2, 2, 1, 2, 2, 2, 2, 2, 2, 2, 2, 2, 2])"
            ]
          },
          "metadata": {
            "tags": []
          },
          "execution_count": 61
        }
      ]
    },
    {
      "cell_type": "code",
      "metadata": {
        "id": "SC01108P_50v",
        "outputId": "f8dbea17-4a0d-43b1-a0a7-8eba23d706e5",
        "colab": {
          "base_uri": "https://localhost:8080/"
        }
      },
      "source": [
        "#it will return the predict value\r\n",
        "clf.predict(X1test)"
      ],
      "execution_count": 62,
      "outputs": [
        {
          "output_type": "execute_result",
          "data": {
            "text/plain": [
              "array([0, 0, 0, 0, 0, 0, 0, 0, 1, 0, 0, 0, 0, 0, 0, 0, 0, 0, 0])"
            ]
          },
          "metadata": {
            "tags": []
          },
          "execution_count": 62
        }
      ]
    },
    {
      "cell_type": "code",
      "metadata": {
        "id": "wA-CHcohAAB-",
        "outputId": "6d199627-713f-4973-e2a1-0e7aac869f33",
        "colab": {
          "base_uri": "https://localhost:8080/"
        }
      },
      "source": [
        "X2 =np.array([[0],[1]])\r\n",
        "print(X2)\r\n",
        "print(X2.reshape(-1,1))"
      ],
      "execution_count": 65,
      "outputs": [
        {
          "output_type": "stream",
          "text": [
            "[[0]\n",
            " [1]]\n",
            "[[0]\n",
            " [1]]\n"
          ],
          "name": "stdout"
        }
      ]
    },
    {
      "cell_type": "code",
      "metadata": {
        "id": "PlFDaCSKBN2U",
        "outputId": "9e7700b4-bfa6-489d-a1ff-cbd7a54cc3cd",
        "colab": {
          "base_uri": "https://localhost:8080/"
        }
      },
      "source": [
        "X3 = np.array([0])\r\n",
        "print(X3.reshape(1,-1))"
      ],
      "execution_count": 66,
      "outputs": [
        {
          "output_type": "stream",
          "text": [
            "[[0]]\n"
          ],
          "name": "stdout"
        }
      ]
    }
  ]
}
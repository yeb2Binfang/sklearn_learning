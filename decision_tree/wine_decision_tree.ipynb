{
  "nbformat": 4,
  "nbformat_minor": 0,
  "metadata": {
    "colab": {
      "name": "wine_decision_tree.ipynb",
      "provenance": [],
      "authorship_tag": "ABX9TyOmL/sopD5k2QD88Uk5qvbc",
      "include_colab_link": true
    },
    "kernelspec": {
      "name": "python3",
      "display_name": "Python 3"
    }
  },
  "cells": [
    {
      "cell_type": "markdown",
      "metadata": {
        "id": "view-in-github",
        "colab_type": "text"
      },
      "source": [
        "<a href=\"https://colab.research.google.com/github/yeb2Binfang/sklearn_learning/blob/main/decision_tree/wine_decision_tree.ipynb\" target=\"_parent\"><img src=\"https://colab.research.google.com/assets/colab-badge.svg\" alt=\"Open In Colab\"/></a>"
      ]
    },
    {
      "cell_type": "markdown",
      "metadata": {
        "id": "fZOgbBE_wHlX"
      },
      "source": [
        "import necessary packages\r\n",
        "\r\n"
      ]
    },
    {
      "cell_type": "code",
      "metadata": {
        "id": "diXj3M_tl--L"
      },
      "source": [
        "from sklearn import tree\r\n",
        "from sklearn.datasets import load_wine\r\n",
        "from sklearn.model_selection import train_test_split"
      ],
      "execution_count": 61,
      "outputs": []
    },
    {
      "cell_type": "markdown",
      "metadata": {
        "id": "ZOEM46fLp8D5"
      },
      "source": [
        "##show the data\r\n",
        "so, from the data, we can know that there are three different labels whicha are \"class_0\",\"class_1\", and \"class_2\""
      ]
    },
    {
      "cell_type": "code",
      "metadata": {
        "colab": {
          "base_uri": "https://localhost:8080/"
        },
        "id": "KMFrTaK7mNX0",
        "outputId": "876c7524-a84c-497c-816c-ea84d4914429"
      },
      "source": [
        "wine = load_wine() #load wine\r\n",
        "y = wine.target #the labels, there are three labels\r\n",
        "X = wine.data #the dataset\r\n",
        "\r\n",
        "##TODO\r\n",
        "#print out data shape\r\n",
        "print(\"the data shape is: \")\r\n",
        "print(X.shape)\r\n",
        "print()\r\n",
        "#print out target names\r\n",
        "print(\"the target names: \")\r\n",
        "print(wine.target_names)\r\n",
        "print()\r\n",
        "#print out features names\r\n",
        "print(\"the feature names: \")\r\n",
        "print(wine.feature_names)\r\n",
        "print()\r\n",
        "#print out the first 5 lines of labels\r\n",
        "print(\"the data\")\r\n",
        "print(X[:5])\r\n",
        "\r\n",
        "#print out the first 5 lines of data\r\n",
        "print()\r\n",
        "print(\"the labels' coulmn\")\r\n",
        "print(y[:5])\r\n"
      ],
      "execution_count": 62,
      "outputs": [
        {
          "output_type": "stream",
          "text": [
            "the data shape is: \n",
            "(178, 13)\n",
            "\n",
            "the target names: \n",
            "['class_0' 'class_1' 'class_2']\n",
            "\n",
            "the feature names: \n",
            "['alcohol', 'malic_acid', 'ash', 'alcalinity_of_ash', 'magnesium', 'total_phenols', 'flavanoids', 'nonflavanoid_phenols', 'proanthocyanins', 'color_intensity', 'hue', 'od280/od315_of_diluted_wines', 'proline']\n",
            "\n",
            "the data\n",
            "[[1.423e+01 1.710e+00 2.430e+00 1.560e+01 1.270e+02 2.800e+00 3.060e+00\n",
            "  2.800e-01 2.290e+00 5.640e+00 1.040e+00 3.920e+00 1.065e+03]\n",
            " [1.320e+01 1.780e+00 2.140e+00 1.120e+01 1.000e+02 2.650e+00 2.760e+00\n",
            "  2.600e-01 1.280e+00 4.380e+00 1.050e+00 3.400e+00 1.050e+03]\n",
            " [1.316e+01 2.360e+00 2.670e+00 1.860e+01 1.010e+02 2.800e+00 3.240e+00\n",
            "  3.000e-01 2.810e+00 5.680e+00 1.030e+00 3.170e+00 1.185e+03]\n",
            " [1.437e+01 1.950e+00 2.500e+00 1.680e+01 1.130e+02 3.850e+00 3.490e+00\n",
            "  2.400e-01 2.180e+00 7.800e+00 8.600e-01 3.450e+00 1.480e+03]\n",
            " [1.324e+01 2.590e+00 2.870e+00 2.100e+01 1.180e+02 2.800e+00 2.690e+00\n",
            "  3.900e-01 1.820e+00 4.320e+00 1.040e+00 2.930e+00 7.350e+02]]\n",
            "\n",
            "the labels' coulmn\n",
            "[0 0 0 0 0]\n"
          ],
          "name": "stdout"
        }
      ]
    },
    {
      "cell_type": "markdown",
      "metadata": {
        "id": "B8khuzm9qflO"
      },
      "source": [
        "##Visualize the data\r\n",
        "we can use \"panda\" to concat the features and targets to a full table,and change the columns names. It is very easy to visualize the data"
      ]
    },
    {
      "cell_type": "code",
      "metadata": {
        "colab": {
          "base_uri": "https://localhost:8080/",
          "height": 215
        },
        "id": "FZC7Wmftmd_Y",
        "outputId": "ab10511a-2ea6-4ec0-a8f1-83219b90194d"
      },
      "source": [
        "import pandas as pd\r\n",
        "df = pd.concat([pd.DataFrame(X),pd.DataFrame(y)],axis=1)\r\n",
        "feature_names = wine.feature_names[:13]\r\n",
        "feature_names.append(\"classes\")\r\n",
        "df.columns=feature_names\r\n",
        "df[0:5]"
      ],
      "execution_count": 63,
      "outputs": [
        {
          "output_type": "execute_result",
          "data": {
            "text/html": [
              "<div>\n",
              "<style scoped>\n",
              "    .dataframe tbody tr th:only-of-type {\n",
              "        vertical-align: middle;\n",
              "    }\n",
              "\n",
              "    .dataframe tbody tr th {\n",
              "        vertical-align: top;\n",
              "    }\n",
              "\n",
              "    .dataframe thead th {\n",
              "        text-align: right;\n",
              "    }\n",
              "</style>\n",
              "<table border=\"1\" class=\"dataframe\">\n",
              "  <thead>\n",
              "    <tr style=\"text-align: right;\">\n",
              "      <th></th>\n",
              "      <th>alcohol</th>\n",
              "      <th>malic_acid</th>\n",
              "      <th>ash</th>\n",
              "      <th>alcalinity_of_ash</th>\n",
              "      <th>magnesium</th>\n",
              "      <th>total_phenols</th>\n",
              "      <th>flavanoids</th>\n",
              "      <th>nonflavanoid_phenols</th>\n",
              "      <th>proanthocyanins</th>\n",
              "      <th>color_intensity</th>\n",
              "      <th>hue</th>\n",
              "      <th>od280/od315_of_diluted_wines</th>\n",
              "      <th>proline</th>\n",
              "      <th>classes</th>\n",
              "    </tr>\n",
              "  </thead>\n",
              "  <tbody>\n",
              "    <tr>\n",
              "      <th>0</th>\n",
              "      <td>14.23</td>\n",
              "      <td>1.71</td>\n",
              "      <td>2.43</td>\n",
              "      <td>15.6</td>\n",
              "      <td>127.0</td>\n",
              "      <td>2.80</td>\n",
              "      <td>3.06</td>\n",
              "      <td>0.28</td>\n",
              "      <td>2.29</td>\n",
              "      <td>5.64</td>\n",
              "      <td>1.04</td>\n",
              "      <td>3.92</td>\n",
              "      <td>1065.0</td>\n",
              "      <td>0</td>\n",
              "    </tr>\n",
              "    <tr>\n",
              "      <th>1</th>\n",
              "      <td>13.20</td>\n",
              "      <td>1.78</td>\n",
              "      <td>2.14</td>\n",
              "      <td>11.2</td>\n",
              "      <td>100.0</td>\n",
              "      <td>2.65</td>\n",
              "      <td>2.76</td>\n",
              "      <td>0.26</td>\n",
              "      <td>1.28</td>\n",
              "      <td>4.38</td>\n",
              "      <td>1.05</td>\n",
              "      <td>3.40</td>\n",
              "      <td>1050.0</td>\n",
              "      <td>0</td>\n",
              "    </tr>\n",
              "    <tr>\n",
              "      <th>2</th>\n",
              "      <td>13.16</td>\n",
              "      <td>2.36</td>\n",
              "      <td>2.67</td>\n",
              "      <td>18.6</td>\n",
              "      <td>101.0</td>\n",
              "      <td>2.80</td>\n",
              "      <td>3.24</td>\n",
              "      <td>0.30</td>\n",
              "      <td>2.81</td>\n",
              "      <td>5.68</td>\n",
              "      <td>1.03</td>\n",
              "      <td>3.17</td>\n",
              "      <td>1185.0</td>\n",
              "      <td>0</td>\n",
              "    </tr>\n",
              "    <tr>\n",
              "      <th>3</th>\n",
              "      <td>14.37</td>\n",
              "      <td>1.95</td>\n",
              "      <td>2.50</td>\n",
              "      <td>16.8</td>\n",
              "      <td>113.0</td>\n",
              "      <td>3.85</td>\n",
              "      <td>3.49</td>\n",
              "      <td>0.24</td>\n",
              "      <td>2.18</td>\n",
              "      <td>7.80</td>\n",
              "      <td>0.86</td>\n",
              "      <td>3.45</td>\n",
              "      <td>1480.0</td>\n",
              "      <td>0</td>\n",
              "    </tr>\n",
              "    <tr>\n",
              "      <th>4</th>\n",
              "      <td>13.24</td>\n",
              "      <td>2.59</td>\n",
              "      <td>2.87</td>\n",
              "      <td>21.0</td>\n",
              "      <td>118.0</td>\n",
              "      <td>2.80</td>\n",
              "      <td>2.69</td>\n",
              "      <td>0.39</td>\n",
              "      <td>1.82</td>\n",
              "      <td>4.32</td>\n",
              "      <td>1.04</td>\n",
              "      <td>2.93</td>\n",
              "      <td>735.0</td>\n",
              "      <td>0</td>\n",
              "    </tr>\n",
              "  </tbody>\n",
              "</table>\n",
              "</div>"
            ],
            "text/plain": [
              "   alcohol  malic_acid   ash  ...  od280/od315_of_diluted_wines  proline  classes\n",
              "0    14.23        1.71  2.43  ...                          3.92   1065.0        0\n",
              "1    13.20        1.78  2.14  ...                          3.40   1050.0        0\n",
              "2    13.16        2.36  2.67  ...                          3.17   1185.0        0\n",
              "3    14.37        1.95  2.50  ...                          3.45   1480.0        0\n",
              "4    13.24        2.59  2.87  ...                          2.93    735.0        0\n",
              "\n",
              "[5 rows x 14 columns]"
            ]
          },
          "metadata": {
            "tags": []
          },
          "execution_count": 63
        }
      ]
    },
    {
      "cell_type": "markdown",
      "metadata": {
        "id": "kcWJU7c8wDJG"
      },
      "source": [
        "##split the data\r\n",
        "split data into test and traing data. The test data size is 0.3\r\n"
      ]
    },
    {
      "cell_type": "code",
      "metadata": {
        "colab": {
          "base_uri": "https://localhost:8080/"
        },
        "id": "IoqoETFnq2NJ",
        "outputId": "bd3ca960-acc4-42e2-f219-caebc25feec2"
      },
      "source": [
        "Xtrain, Xtest, ytrain, ytest = train_test_split(X,y,test_size = 0.3)\r\n",
        "print(Xtrain.shape)\r\n",
        "print(Xtest.shape)"
      ],
      "execution_count": 87,
      "outputs": [
        {
          "output_type": "stream",
          "text": [
            "(124, 13)\n",
            "(54, 13)\n"
          ],
          "name": "stdout"
        }
      ]
    },
    {
      "cell_type": "markdown",
      "metadata": {
        "id": "msJTgl2YxE3Z"
      },
      "source": [
        "##train the data\r\n",
        "now, we need to build the decision tree model"
      ]
    },
    {
      "cell_type": "code",
      "metadata": {
        "colab": {
          "base_uri": "https://localhost:8080/"
        },
        "id": "q0GHZl-ow1df",
        "outputId": "3843f768-3731-4431-9d5a-6e455cb27103"
      },
      "source": [
        "#use entropy as criterion\r\n",
        "clf = tree.DecisionTreeClassifier(criterion='entropy')\r\n",
        "#fit the data\r\n",
        "clf.fit(Xtrain, ytrain)\r\n",
        "#check the accuracy\r\n",
        "score = clf.score(Xtest, ytest)\r\n",
        "print(\"The accuracy is: {0:2.5f}\".format(score))"
      ],
      "execution_count": 106,
      "outputs": [
        {
          "output_type": "stream",
          "text": [
            "The accuracy is: 0.83333\n"
          ],
          "name": "stdout"
        }
      ]
    },
    {
      "cell_type": "markdown",
      "metadata": {
        "id": "vwe4WSbmyLZG"
      },
      "source": [
        "##draw the decision tree"
      ]
    },
    {
      "cell_type": "code",
      "metadata": {
        "colab": {
          "base_uri": "https://localhost:8080/"
        },
        "id": "hrPtIbXhyp1C",
        "outputId": "92159660-2a2d-49a9-fc67-6f8981a42603"
      },
      "source": [
        "wine.target_names"
      ],
      "execution_count": 66,
      "outputs": [
        {
          "output_type": "execute_result",
          "data": {
            "text/plain": [
              "array(['class_0', 'class_1', 'class_2'], dtype='<U7')"
            ]
          },
          "metadata": {
            "tags": []
          },
          "execution_count": 66
        }
      ]
    },
    {
      "cell_type": "code",
      "metadata": {
        "colab": {
          "base_uri": "https://localhost:8080/",
          "height": 757
        },
        "id": "J78gTrQpxuNd",
        "outputId": "ba553c6d-5b62-44f3-d53a-da2ad796dbf6"
      },
      "source": [
        "feature_names = wine.feature_names[:13]\r\n",
        "class_names = wine.target_names\r\n",
        "import graphviz\r\n",
        "#\"filled = true\", it means fill in the color\r\n",
        "#\"rounded = true\", it means rounded retangle\r\n",
        "dot_data = tree.export_graphviz( clf\r\n",
        "                                ,out_file=None\r\n",
        "                                ,feature_names=feature_names\r\n",
        "                                ,class_names=class_names\r\n",
        "                                ,filled=True\r\n",
        "                                ,rounded=True\r\n",
        "                               )\r\n",
        "graph = graphviz.Source(dot_data)\r\n",
        "graph"
      ],
      "execution_count": 107,
      "outputs": [
        {
          "output_type": "execute_result",
          "data": {
            "text/plain": [
              "<graphviz.files.Source at 0x7f9893d4fb38>"
            ],
            "image/svg+xml": "<?xml version=\"1.0\" encoding=\"UTF-8\" standalone=\"no\"?>\n<!DOCTYPE svg PUBLIC \"-//W3C//DTD SVG 1.1//EN\"\n \"http://www.w3.org/Graphics/SVG/1.1/DTD/svg11.dtd\">\n<!-- Generated by graphviz version 2.40.1 (20161225.0304)\n -->\n<!-- Title: Tree Pages: 1 -->\n<svg width=\"718pt\" height=\"552pt\"\n viewBox=\"0.00 0.00 718.00 552.00\" xmlns=\"http://www.w3.org/2000/svg\" xmlns:xlink=\"http://www.w3.org/1999/xlink\">\n<g id=\"graph0\" class=\"graph\" transform=\"scale(1 1) rotate(0) translate(4 548)\">\n<title>Tree</title>\n<polygon fill=\"#ffffff\" stroke=\"transparent\" points=\"-4,4 -4,-548 714,-548 714,4 -4,4\"/>\n<!-- 0 -->\n<g id=\"node1\" class=\"node\">\n<title>0</title>\n<path fill=\"#e8fcf0\" stroke=\"#000000\" d=\"M328.5,-544C328.5,-544 212.5,-544 212.5,-544 206.5,-544 200.5,-538 200.5,-532 200.5,-532 200.5,-473 200.5,-473 200.5,-467 206.5,-461 212.5,-461 212.5,-461 328.5,-461 328.5,-461 334.5,-461 340.5,-467 340.5,-473 340.5,-473 340.5,-532 340.5,-532 340.5,-538 334.5,-544 328.5,-544\"/>\n<text text-anchor=\"middle\" x=\"270.5\" y=\"-528.8\" font-family=\"Helvetica,sans-Serif\" font-size=\"14.00\" fill=\"#000000\">flavanoids &lt;= 1.4</text>\n<text text-anchor=\"middle\" x=\"270.5\" y=\"-513.8\" font-family=\"Helvetica,sans-Serif\" font-size=\"14.00\" fill=\"#000000\">entropy = 1.576</text>\n<text text-anchor=\"middle\" x=\"270.5\" y=\"-498.8\" font-family=\"Helvetica,sans-Serif\" font-size=\"14.00\" fill=\"#000000\">samples = 124</text>\n<text text-anchor=\"middle\" x=\"270.5\" y=\"-483.8\" font-family=\"Helvetica,sans-Serif\" font-size=\"14.00\" fill=\"#000000\">value = [38, 48, 38]</text>\n<text text-anchor=\"middle\" x=\"270.5\" y=\"-468.8\" font-family=\"Helvetica,sans-Serif\" font-size=\"14.00\" fill=\"#000000\">class = class_1</text>\n</g>\n<!-- 1 -->\n<g id=\"node2\" class=\"node\">\n<title>1</title>\n<path fill=\"#985dea\" stroke=\"#000000\" d=\"M248,-425C248,-425 149,-425 149,-425 143,-425 137,-419 137,-413 137,-413 137,-354 137,-354 137,-348 143,-342 149,-342 149,-342 248,-342 248,-342 254,-342 260,-348 260,-354 260,-354 260,-413 260,-413 260,-419 254,-425 248,-425\"/>\n<text text-anchor=\"middle\" x=\"198.5\" y=\"-409.8\" font-family=\"Helvetica,sans-Serif\" font-size=\"14.00\" fill=\"#000000\">hue &lt;= 0.92</text>\n<text text-anchor=\"middle\" x=\"198.5\" y=\"-394.8\" font-family=\"Helvetica,sans-Serif\" font-size=\"14.00\" fill=\"#000000\">entropy = 0.624</text>\n<text text-anchor=\"middle\" x=\"198.5\" y=\"-379.8\" font-family=\"Helvetica,sans-Serif\" font-size=\"14.00\" fill=\"#000000\">samples = 45</text>\n<text text-anchor=\"middle\" x=\"198.5\" y=\"-364.8\" font-family=\"Helvetica,sans-Serif\" font-size=\"14.00\" fill=\"#000000\">value = [0, 7, 38]</text>\n<text text-anchor=\"middle\" x=\"198.5\" y=\"-349.8\" font-family=\"Helvetica,sans-Serif\" font-size=\"14.00\" fill=\"#000000\">class = class_2</text>\n</g>\n<!-- 0&#45;&gt;1 -->\n<g id=\"edge1\" class=\"edge\">\n<title>0&#45;&gt;1</title>\n<path fill=\"none\" stroke=\"#000000\" d=\"M245.3179,-460.8796C240.0867,-452.2335 234.5195,-443.0322 229.1177,-434.1042\"/>\n<polygon fill=\"#000000\" stroke=\"#000000\" points=\"231.9608,-432.0421 223.7896,-425.2981 225.9717,-435.6658 231.9608,-432.0421\"/>\n<text text-anchor=\"middle\" x=\"217.816\" y=\"-445.8739\" font-family=\"Helvetica,sans-Serif\" font-size=\"14.00\" fill=\"#000000\">True</text>\n</g>\n<!-- 4 -->\n<g id=\"node5\" class=\"node\">\n<title>4</title>\n<path fill=\"#f1fdf6\" stroke=\"#000000\" d=\"M397,-425C397,-425 290,-425 290,-425 284,-425 278,-419 278,-413 278,-413 278,-354 278,-354 278,-348 284,-342 290,-342 290,-342 397,-342 397,-342 403,-342 409,-348 409,-354 409,-354 409,-413 409,-413 409,-419 403,-425 397,-425\"/>\n<text text-anchor=\"middle\" x=\"343.5\" y=\"-409.8\" font-family=\"Helvetica,sans-Serif\" font-size=\"14.00\" fill=\"#000000\">proline &lt;= 755.0</text>\n<text text-anchor=\"middle\" x=\"343.5\" y=\"-394.8\" font-family=\"Helvetica,sans-Serif\" font-size=\"14.00\" fill=\"#000000\">entropy = 0.999</text>\n<text text-anchor=\"middle\" x=\"343.5\" y=\"-379.8\" font-family=\"Helvetica,sans-Serif\" font-size=\"14.00\" fill=\"#000000\">samples = 79</text>\n<text text-anchor=\"middle\" x=\"343.5\" y=\"-364.8\" font-family=\"Helvetica,sans-Serif\" font-size=\"14.00\" fill=\"#000000\">value = [38, 41, 0]</text>\n<text text-anchor=\"middle\" x=\"343.5\" y=\"-349.8\" font-family=\"Helvetica,sans-Serif\" font-size=\"14.00\" fill=\"#000000\">class = class_1</text>\n</g>\n<!-- 0&#45;&gt;4 -->\n<g id=\"edge4\" class=\"edge\">\n<title>0&#45;&gt;4</title>\n<path fill=\"none\" stroke=\"#000000\" d=\"M296.0319,-460.8796C301.391,-452.1434 307.0979,-442.8404 312.6282,-433.8253\"/>\n<polygon fill=\"#000000\" stroke=\"#000000\" points=\"315.6135,-435.6522 317.8592,-425.2981 309.6467,-431.9919 315.6135,-435.6522\"/>\n<text text-anchor=\"middle\" x=\"323.6839\" y=\"-445.9101\" font-family=\"Helvetica,sans-Serif\" font-size=\"14.00\" fill=\"#000000\">False</text>\n</g>\n<!-- 2 -->\n<g id=\"node3\" class=\"node\">\n<title>2</title>\n<path fill=\"#8139e5\" stroke=\"#000000\" d=\"M111,-298.5C111,-298.5 12,-298.5 12,-298.5 6,-298.5 0,-292.5 0,-286.5 0,-286.5 0,-242.5 0,-242.5 0,-236.5 6,-230.5 12,-230.5 12,-230.5 111,-230.5 111,-230.5 117,-230.5 123,-236.5 123,-242.5 123,-242.5 123,-286.5 123,-286.5 123,-292.5 117,-298.5 111,-298.5\"/>\n<text text-anchor=\"middle\" x=\"61.5\" y=\"-283.3\" font-family=\"Helvetica,sans-Serif\" font-size=\"14.00\" fill=\"#000000\">entropy = 0.0</text>\n<text text-anchor=\"middle\" x=\"61.5\" y=\"-268.3\" font-family=\"Helvetica,sans-Serif\" font-size=\"14.00\" fill=\"#000000\">samples = 38</text>\n<text text-anchor=\"middle\" x=\"61.5\" y=\"-253.3\" font-family=\"Helvetica,sans-Serif\" font-size=\"14.00\" fill=\"#000000\">value = [0, 0, 38]</text>\n<text text-anchor=\"middle\" x=\"61.5\" y=\"-238.3\" font-family=\"Helvetica,sans-Serif\" font-size=\"14.00\" fill=\"#000000\">class = class_2</text>\n</g>\n<!-- 1&#45;&gt;2 -->\n<g id=\"edge2\" class=\"edge\">\n<title>1&#45;&gt;2</title>\n<path fill=\"none\" stroke=\"#000000\" d=\"M150.584,-341.8796C137.0385,-330.1138 122.3092,-317.3197 108.8002,-305.5855\"/>\n<polygon fill=\"#000000\" stroke=\"#000000\" points=\"110.8503,-302.7303 101.0054,-298.8149 106.2599,-308.015 110.8503,-302.7303\"/>\n</g>\n<!-- 3 -->\n<g id=\"node4\" class=\"node\">\n<title>3</title>\n<path fill=\"#39e581\" stroke=\"#000000\" d=\"M245.5,-298.5C245.5,-298.5 153.5,-298.5 153.5,-298.5 147.5,-298.5 141.5,-292.5 141.5,-286.5 141.5,-286.5 141.5,-242.5 141.5,-242.5 141.5,-236.5 147.5,-230.5 153.5,-230.5 153.5,-230.5 245.5,-230.5 245.5,-230.5 251.5,-230.5 257.5,-236.5 257.5,-242.5 257.5,-242.5 257.5,-286.5 257.5,-286.5 257.5,-292.5 251.5,-298.5 245.5,-298.5\"/>\n<text text-anchor=\"middle\" x=\"199.5\" y=\"-283.3\" font-family=\"Helvetica,sans-Serif\" font-size=\"14.00\" fill=\"#000000\">entropy = 0.0</text>\n<text text-anchor=\"middle\" x=\"199.5\" y=\"-268.3\" font-family=\"Helvetica,sans-Serif\" font-size=\"14.00\" fill=\"#000000\">samples = 7</text>\n<text text-anchor=\"middle\" x=\"199.5\" y=\"-253.3\" font-family=\"Helvetica,sans-Serif\" font-size=\"14.00\" fill=\"#000000\">value = [0, 7, 0]</text>\n<text text-anchor=\"middle\" x=\"199.5\" y=\"-238.3\" font-family=\"Helvetica,sans-Serif\" font-size=\"14.00\" fill=\"#000000\">class = class_1</text>\n</g>\n<!-- 1&#45;&gt;3 -->\n<g id=\"edge3\" class=\"edge\">\n<title>1&#45;&gt;3</title>\n<path fill=\"none\" stroke=\"#000000\" d=\"M198.8498,-341.8796C198.9394,-331.2134 199.0361,-319.7021 199.1269,-308.9015\"/>\n<polygon fill=\"#000000\" stroke=\"#000000\" points=\"202.6274,-308.844 199.2116,-298.8149 195.6276,-308.7851 202.6274,-308.844\"/>\n</g>\n<!-- 5 -->\n<g id=\"node6\" class=\"node\">\n<title>5</title>\n<path fill=\"#3ee684\" stroke=\"#000000\" d=\"M396.5,-306C396.5,-306 288.5,-306 288.5,-306 282.5,-306 276.5,-300 276.5,-294 276.5,-294 276.5,-235 276.5,-235 276.5,-229 282.5,-223 288.5,-223 288.5,-223 396.5,-223 396.5,-223 402.5,-223 408.5,-229 408.5,-235 408.5,-235 408.5,-294 408.5,-294 408.5,-300 402.5,-306 396.5,-306\"/>\n<text text-anchor=\"middle\" x=\"342.5\" y=\"-290.8\" font-family=\"Helvetica,sans-Serif\" font-size=\"14.00\" fill=\"#000000\">alcohol &lt;= 13.175</text>\n<text text-anchor=\"middle\" x=\"342.5\" y=\"-275.8\" font-family=\"Helvetica,sans-Serif\" font-size=\"14.00\" fill=\"#000000\">entropy = 0.165</text>\n<text text-anchor=\"middle\" x=\"342.5\" y=\"-260.8\" font-family=\"Helvetica,sans-Serif\" font-size=\"14.00\" fill=\"#000000\">samples = 41</text>\n<text text-anchor=\"middle\" x=\"342.5\" y=\"-245.8\" font-family=\"Helvetica,sans-Serif\" font-size=\"14.00\" fill=\"#000000\">value = [1, 40, 0]</text>\n<text text-anchor=\"middle\" x=\"342.5\" y=\"-230.8\" font-family=\"Helvetica,sans-Serif\" font-size=\"14.00\" fill=\"#000000\">class = class_1</text>\n</g>\n<!-- 4&#45;&gt;5 -->\n<g id=\"edge5\" class=\"edge\">\n<title>4&#45;&gt;5</title>\n<path fill=\"none\" stroke=\"#000000\" d=\"M343.1502,-341.8796C343.0814,-333.6838 343.0083,-324.9891 342.937,-316.5013\"/>\n<polygon fill=\"#000000\" stroke=\"#000000\" points=\"346.4352,-316.2683 342.8512,-306.2981 339.4355,-316.3272 346.4352,-316.2683\"/>\n</g>\n<!-- 10 -->\n<g id=\"node11\" class=\"node\">\n<title>10</title>\n<path fill=\"#e6843e\" stroke=\"#000000\" d=\"M570,-306C570,-306 451,-306 451,-306 445,-306 439,-300 439,-294 439,-294 439,-235 439,-235 439,-229 445,-223 451,-223 451,-223 570,-223 570,-223 576,-223 582,-229 582,-235 582,-235 582,-294 582,-294 582,-300 576,-306 570,-306\"/>\n<text text-anchor=\"middle\" x=\"510.5\" y=\"-290.8\" font-family=\"Helvetica,sans-Serif\" font-size=\"14.00\" fill=\"#000000\">flavanoids &lt;= 2.235</text>\n<text text-anchor=\"middle\" x=\"510.5\" y=\"-275.8\" font-family=\"Helvetica,sans-Serif\" font-size=\"14.00\" fill=\"#000000\">entropy = 0.176</text>\n<text text-anchor=\"middle\" x=\"510.5\" y=\"-260.8\" font-family=\"Helvetica,sans-Serif\" font-size=\"14.00\" fill=\"#000000\">samples = 38</text>\n<text text-anchor=\"middle\" x=\"510.5\" y=\"-245.8\" font-family=\"Helvetica,sans-Serif\" font-size=\"14.00\" fill=\"#000000\">value = [37, 1, 0]</text>\n<text text-anchor=\"middle\" x=\"510.5\" y=\"-230.8\" font-family=\"Helvetica,sans-Serif\" font-size=\"14.00\" fill=\"#000000\">class = class_0</text>\n</g>\n<!-- 4&#45;&gt;10 -->\n<g id=\"edge10\" class=\"edge\">\n<title>4&#45;&gt;10</title>\n<path fill=\"none\" stroke=\"#000000\" d=\"M401.9085,-341.8796C415.3839,-332.2774 429.8203,-321.9903 443.625,-312.1534\"/>\n<polygon fill=\"#000000\" stroke=\"#000000\" points=\"446.0117,-314.7505 452.1245,-306.0969 441.9494,-309.0497 446.0117,-314.7505\"/>\n</g>\n<!-- 6 -->\n<g id=\"node7\" class=\"node\">\n<title>6</title>\n<path fill=\"#39e581\" stroke=\"#000000\" d=\"M220,-179.5C220,-179.5 121,-179.5 121,-179.5 115,-179.5 109,-173.5 109,-167.5 109,-167.5 109,-123.5 109,-123.5 109,-117.5 115,-111.5 121,-111.5 121,-111.5 220,-111.5 220,-111.5 226,-111.5 232,-117.5 232,-123.5 232,-123.5 232,-167.5 232,-167.5 232,-173.5 226,-179.5 220,-179.5\"/>\n<text text-anchor=\"middle\" x=\"170.5\" y=\"-164.3\" font-family=\"Helvetica,sans-Serif\" font-size=\"14.00\" fill=\"#000000\">entropy = 0.0</text>\n<text text-anchor=\"middle\" x=\"170.5\" y=\"-149.3\" font-family=\"Helvetica,sans-Serif\" font-size=\"14.00\" fill=\"#000000\">samples = 38</text>\n<text text-anchor=\"middle\" x=\"170.5\" y=\"-134.3\" font-family=\"Helvetica,sans-Serif\" font-size=\"14.00\" fill=\"#000000\">value = [0, 38, 0]</text>\n<text text-anchor=\"middle\" x=\"170.5\" y=\"-119.3\" font-family=\"Helvetica,sans-Serif\" font-size=\"14.00\" fill=\"#000000\">class = class_1</text>\n</g>\n<!-- 5&#45;&gt;6 -->\n<g id=\"edge6\" class=\"edge\">\n<title>5&#45;&gt;6</title>\n<path fill=\"none\" stroke=\"#000000\" d=\"M282.3427,-222.8796C264.7766,-210.7263 245.6248,-197.4759 228.2136,-185.4297\"/>\n<polygon fill=\"#000000\" stroke=\"#000000\" points=\"230.0357,-182.4344 219.8207,-179.623 226.053,-188.191 230.0357,-182.4344\"/>\n</g>\n<!-- 7 -->\n<g id=\"node8\" class=\"node\">\n<title>7</title>\n<path fill=\"#9cf2c0\" stroke=\"#000000\" d=\"M423,-187C423,-187 262,-187 262,-187 256,-187 250,-181 250,-175 250,-175 250,-116 250,-116 250,-110 256,-104 262,-104 262,-104 423,-104 423,-104 429,-104 435,-110 435,-116 435,-116 435,-175 435,-175 435,-181 429,-187 423,-187\"/>\n<text text-anchor=\"middle\" x=\"342.5\" y=\"-171.8\" font-family=\"Helvetica,sans-Serif\" font-size=\"14.00\" fill=\"#000000\">alcalinity_of_ash &lt;= 20.75</text>\n<text text-anchor=\"middle\" x=\"342.5\" y=\"-156.8\" font-family=\"Helvetica,sans-Serif\" font-size=\"14.00\" fill=\"#000000\">entropy = 0.918</text>\n<text text-anchor=\"middle\" x=\"342.5\" y=\"-141.8\" font-family=\"Helvetica,sans-Serif\" font-size=\"14.00\" fill=\"#000000\">samples = 3</text>\n<text text-anchor=\"middle\" x=\"342.5\" y=\"-126.8\" font-family=\"Helvetica,sans-Serif\" font-size=\"14.00\" fill=\"#000000\">value = [1, 2, 0]</text>\n<text text-anchor=\"middle\" x=\"342.5\" y=\"-111.8\" font-family=\"Helvetica,sans-Serif\" font-size=\"14.00\" fill=\"#000000\">class = class_1</text>\n</g>\n<!-- 5&#45;&gt;7 -->\n<g id=\"edge7\" class=\"edge\">\n<title>5&#45;&gt;7</title>\n<path fill=\"none\" stroke=\"#000000\" d=\"M342.5,-222.8796C342.5,-214.6838 342.5,-205.9891 342.5,-197.5013\"/>\n<polygon fill=\"#000000\" stroke=\"#000000\" points=\"346.0001,-197.298 342.5,-187.2981 339.0001,-197.2981 346.0001,-197.298\"/>\n</g>\n<!-- 8 -->\n<g id=\"node9\" class=\"node\">\n<title>8</title>\n<path fill=\"#e58139\" stroke=\"#000000\" d=\"M321.5,-68C321.5,-68 229.5,-68 229.5,-68 223.5,-68 217.5,-62 217.5,-56 217.5,-56 217.5,-12 217.5,-12 217.5,-6 223.5,0 229.5,0 229.5,0 321.5,0 321.5,0 327.5,0 333.5,-6 333.5,-12 333.5,-12 333.5,-56 333.5,-56 333.5,-62 327.5,-68 321.5,-68\"/>\n<text text-anchor=\"middle\" x=\"275.5\" y=\"-52.8\" font-family=\"Helvetica,sans-Serif\" font-size=\"14.00\" fill=\"#000000\">entropy = 0.0</text>\n<text text-anchor=\"middle\" x=\"275.5\" y=\"-37.8\" font-family=\"Helvetica,sans-Serif\" font-size=\"14.00\" fill=\"#000000\">samples = 1</text>\n<text text-anchor=\"middle\" x=\"275.5\" y=\"-22.8\" font-family=\"Helvetica,sans-Serif\" font-size=\"14.00\" fill=\"#000000\">value = [1, 0, 0]</text>\n<text text-anchor=\"middle\" x=\"275.5\" y=\"-7.8\" font-family=\"Helvetica,sans-Serif\" font-size=\"14.00\" fill=\"#000000\">class = class_0</text>\n</g>\n<!-- 7&#45;&gt;8 -->\n<g id=\"edge8\" class=\"edge\">\n<title>7&#45;&gt;8</title>\n<path fill=\"none\" stroke=\"#000000\" d=\"M317.5517,-103.9815C312.2499,-95.1585 306.6419,-85.8258 301.3089,-76.9506\"/>\n<polygon fill=\"#000000\" stroke=\"#000000\" points=\"304.2396,-75.0325 296.0889,-68.2637 298.2395,-78.638 304.2396,-75.0325\"/>\n</g>\n<!-- 9 -->\n<g id=\"node10\" class=\"node\">\n<title>9</title>\n<path fill=\"#39e581\" stroke=\"#000000\" d=\"M455.5,-68C455.5,-68 363.5,-68 363.5,-68 357.5,-68 351.5,-62 351.5,-56 351.5,-56 351.5,-12 351.5,-12 351.5,-6 357.5,0 363.5,0 363.5,0 455.5,0 455.5,0 461.5,0 467.5,-6 467.5,-12 467.5,-12 467.5,-56 467.5,-56 467.5,-62 461.5,-68 455.5,-68\"/>\n<text text-anchor=\"middle\" x=\"409.5\" y=\"-52.8\" font-family=\"Helvetica,sans-Serif\" font-size=\"14.00\" fill=\"#000000\">entropy = 0.0</text>\n<text text-anchor=\"middle\" x=\"409.5\" y=\"-37.8\" font-family=\"Helvetica,sans-Serif\" font-size=\"14.00\" fill=\"#000000\">samples = 2</text>\n<text text-anchor=\"middle\" x=\"409.5\" y=\"-22.8\" font-family=\"Helvetica,sans-Serif\" font-size=\"14.00\" fill=\"#000000\">value = [0, 2, 0]</text>\n<text text-anchor=\"middle\" x=\"409.5\" y=\"-7.8\" font-family=\"Helvetica,sans-Serif\" font-size=\"14.00\" fill=\"#000000\">class = class_1</text>\n</g>\n<!-- 7&#45;&gt;9 -->\n<g id=\"edge9\" class=\"edge\">\n<title>7&#45;&gt;9</title>\n<path fill=\"none\" stroke=\"#000000\" d=\"M367.4483,-103.9815C372.7501,-95.1585 378.3581,-85.8258 383.6911,-76.9506\"/>\n<polygon fill=\"#000000\" stroke=\"#000000\" points=\"386.7605,-78.638 388.9111,-68.2637 380.7604,-75.0325 386.7605,-78.638\"/>\n</g>\n<!-- 11 -->\n<g id=\"node12\" class=\"node\">\n<title>11</title>\n<path fill=\"#39e581\" stroke=\"#000000\" d=\"M556.5,-179.5C556.5,-179.5 464.5,-179.5 464.5,-179.5 458.5,-179.5 452.5,-173.5 452.5,-167.5 452.5,-167.5 452.5,-123.5 452.5,-123.5 452.5,-117.5 458.5,-111.5 464.5,-111.5 464.5,-111.5 556.5,-111.5 556.5,-111.5 562.5,-111.5 568.5,-117.5 568.5,-123.5 568.5,-123.5 568.5,-167.5 568.5,-167.5 568.5,-173.5 562.5,-179.5 556.5,-179.5\"/>\n<text text-anchor=\"middle\" x=\"510.5\" y=\"-164.3\" font-family=\"Helvetica,sans-Serif\" font-size=\"14.00\" fill=\"#000000\">entropy = 0.0</text>\n<text text-anchor=\"middle\" x=\"510.5\" y=\"-149.3\" font-family=\"Helvetica,sans-Serif\" font-size=\"14.00\" fill=\"#000000\">samples = 1</text>\n<text text-anchor=\"middle\" x=\"510.5\" y=\"-134.3\" font-family=\"Helvetica,sans-Serif\" font-size=\"14.00\" fill=\"#000000\">value = [0, 1, 0]</text>\n<text text-anchor=\"middle\" x=\"510.5\" y=\"-119.3\" font-family=\"Helvetica,sans-Serif\" font-size=\"14.00\" fill=\"#000000\">class = class_1</text>\n</g>\n<!-- 10&#45;&gt;11 -->\n<g id=\"edge11\" class=\"edge\">\n<title>10&#45;&gt;11</title>\n<path fill=\"none\" stroke=\"#000000\" d=\"M510.5,-222.8796C510.5,-212.2134 510.5,-200.7021 510.5,-189.9015\"/>\n<polygon fill=\"#000000\" stroke=\"#000000\" points=\"514.0001,-189.8149 510.5,-179.8149 507.0001,-189.815 514.0001,-189.8149\"/>\n</g>\n<!-- 12 -->\n<g id=\"node13\" class=\"node\">\n<title>12</title>\n<path fill=\"#e58139\" stroke=\"#000000\" d=\"M698,-179.5C698,-179.5 599,-179.5 599,-179.5 593,-179.5 587,-173.5 587,-167.5 587,-167.5 587,-123.5 587,-123.5 587,-117.5 593,-111.5 599,-111.5 599,-111.5 698,-111.5 698,-111.5 704,-111.5 710,-117.5 710,-123.5 710,-123.5 710,-167.5 710,-167.5 710,-173.5 704,-179.5 698,-179.5\"/>\n<text text-anchor=\"middle\" x=\"648.5\" y=\"-164.3\" font-family=\"Helvetica,sans-Serif\" font-size=\"14.00\" fill=\"#000000\">entropy = 0.0</text>\n<text text-anchor=\"middle\" x=\"648.5\" y=\"-149.3\" font-family=\"Helvetica,sans-Serif\" font-size=\"14.00\" fill=\"#000000\">samples = 37</text>\n<text text-anchor=\"middle\" x=\"648.5\" y=\"-134.3\" font-family=\"Helvetica,sans-Serif\" font-size=\"14.00\" fill=\"#000000\">value = [37, 0, 0]</text>\n<text text-anchor=\"middle\" x=\"648.5\" y=\"-119.3\" font-family=\"Helvetica,sans-Serif\" font-size=\"14.00\" fill=\"#000000\">class = class_0</text>\n</g>\n<!-- 10&#45;&gt;12 -->\n<g id=\"edge12\" class=\"edge\">\n<title>10&#45;&gt;12</title>\n<path fill=\"none\" stroke=\"#000000\" d=\"M558.7657,-222.8796C572.4101,-211.1138 587.2469,-198.3197 600.8546,-186.5855\"/>\n<polygon fill=\"#000000\" stroke=\"#000000\" points=\"603.4187,-188.9961 608.7062,-179.8149 598.8473,-183.6948 603.4187,-188.9961\"/>\n</g>\n</g>\n</svg>\n"
          },
          "metadata": {
            "tags": []
          },
          "execution_count": 107
        }
      ]
    },
    {
      "cell_type": "markdown",
      "metadata": {
        "id": "VUPaWw3CDRmP"
      },
      "source": [
        "##explore the decision tree. \r\n",
        "There are 13 features in the table but in the decision tree, it only use some of them.So, we can print the coef of feature importance. If the value is 0, it means it is not important\r\n",
        "\r\n"
      ]
    },
    {
      "cell_type": "code",
      "metadata": {
        "colab": {
          "base_uri": "https://localhost:8080/"
        },
        "id": "w8jpAmORy8NV",
        "outputId": "9fbd63bb-a848-47cb-e24a-f46a822c82d2"
      },
      "source": [
        "clf.feature_importances_"
      ],
      "execution_count": 108,
      "outputs": [
        {
          "output_type": "execute_result",
          "data": {
            "text/plain": [
              "array([0.02061222, 0.        , 0.        , 0.01409873, 0.        ,\n",
              "       0.        , 0.48665727, 0.        , 0.        , 0.        ,\n",
              "       0.1436065 , 0.        , 0.33502528])"
            ]
          },
          "metadata": {
            "tags": []
          },
          "execution_count": 108
        }
      ]
    },
    {
      "cell_type": "code",
      "metadata": {
        "colab": {
          "base_uri": "https://localhost:8080/"
        },
        "id": "1ucOSOy9Dka8",
        "outputId": "b1c97a39-e0d6-4452-cdaf-9cfadb695d8c"
      },
      "source": [
        "[*zip(feature_names,clf.feature_importances_)]"
      ],
      "execution_count": 109,
      "outputs": [
        {
          "output_type": "execute_result",
          "data": {
            "text/plain": [
              "[('alcohol', 0.02061222147621091),\n",
              " ('malic_acid', 0.0),\n",
              " ('ash', 0.0),\n",
              " ('alcalinity_of_ash', 0.014098732940305139),\n",
              " ('magnesium', 0.0),\n",
              " ('total_phenols', 0.0),\n",
              " ('flavanoids', 0.48665727365499417),\n",
              " ('nonflavanoid_phenols', 0.0),\n",
              " ('proanthocyanins', 0.0),\n",
              " ('color_intensity', 0.0),\n",
              " ('hue', 0.14360649655197658),\n",
              " ('od280/od315_of_diluted_wines', 0.0),\n",
              " ('proline', 0.3350252753765133)]"
            ]
          },
          "metadata": {
            "tags": []
          },
          "execution_count": 109
        }
      ]
    },
    {
      "cell_type": "markdown",
      "metadata": {
        "id": "Eion_PLLFIqF"
      },
      "source": [
        "we can also use the stem plot to visualize the importance of features"
      ]
    },
    {
      "cell_type": "code",
      "metadata": {
        "colab": {
          "base_uri": "https://localhost:8080/",
          "height": 297
        },
        "id": "eudBYwQ_D7BK",
        "outputId": "6ce2cc38-4e31-45dd-e873-af1b2d2bd1ee"
      },
      "source": [
        "import numpy as np\r\n",
        "import matplotlib.pyplot as plt\r\n",
        "plt.stem(clf.feature_importances_, use_line_collection=True)\r\n",
        "plt.xlabel(\"feature_names\")\r\n",
        "plt.ylabel(\"coeff\")"
      ],
      "execution_count": 110,
      "outputs": [
        {
          "output_type": "execute_result",
          "data": {
            "text/plain": [
              "Text(0, 0.5, 'coeff')"
            ]
          },
          "metadata": {
            "tags": []
          },
          "execution_count": 110
        },
        {
          "output_type": "display_data",
          "data": {
            "image/png": "[encoded data removed]",
            "text/plain": [
              "<Figure size 432x288 with 1 Axes>"
            ]
          },
          "metadata": {
            "tags": [],
            "needs_background": "light"
          }
        }
      ]
    },
    {
      "cell_type": "markdown",
      "metadata": {
        "id": "B1DIu1enLIio"
      },
      "source": [
        "##understand the parameter random_state\r\n",
        "random_state will make the model become stable"
      ]
    },
    {
      "cell_type": "code",
      "metadata": {
        "colab": {
          "base_uri": "https://localhost:8080/"
        },
        "id": "3PhFT9kbEgty",
        "outputId": "bb8d75d0-b774-4cc3-88e1-fde98f2c79c9"
      },
      "source": [
        "#use entropy as criterion\r\n",
        "clf = tree.DecisionTreeClassifier( criterion='entropy'\r\n",
        "                                  ,random_state=5\r\n",
        "                                )\r\n",
        "#fit the data\r\n",
        "clf.fit(Xtrain, ytrain)\r\n",
        "#check the accuracy\r\n",
        "score = clf.score(Xtest, ytest)\r\n",
        "print(\"The accuracy is: {0:2.5f}\".format(score))"
      ],
      "execution_count": 111,
      "outputs": [
        {
          "output_type": "stream",
          "text": [
            "The accuracy is: 0.85185\n"
          ],
          "name": "stdout"
        }
      ]
    },
    {
      "cell_type": "markdown",
      "metadata": {
        "id": "TzySZJnHLbGi"
      },
      "source": [
        "##understand the parameter splitter\r\n"
      ]
    },
    {
      "cell_type": "code",
      "metadata": {
        "colab": {
          "base_uri": "https://localhost:8080/"
        },
        "id": "wWnKF7qaKQVJ",
        "outputId": "04b2c7e2-1793-4db4-c8d9-b3ee1fbae515"
      },
      "source": [
        "#use entropy as criterion\r\n",
        "clf = tree.DecisionTreeClassifier( criterion='entropy'\r\n",
        "                                  ,random_state=5\r\n",
        "                                  #,splitter='random'\r\n",
        "                                )\r\n",
        "#fit the data\r\n",
        "clf.fit(Xtrain, ytrain)\r\n",
        "#check the accuracy\r\n",
        "score = clf.score(Xtest, ytest)\r\n",
        "print(\"The accuracy is: {0:2.5f}\".format(score))"
      ],
      "execution_count": 112,
      "outputs": [
        {
          "output_type": "stream",
          "text": [
            "The accuracy is: 0.85185\n"
          ],
          "name": "stdout"
        }
      ]
    },
    {
      "cell_type": "markdown",
      "metadata": {
        "id": "Husvef8LNZGn"
      },
      "source": [
        "Without using the parameter splitter\r\n"
      ]
    },
    {
      "cell_type": "code",
      "metadata": {
        "colab": {
          "base_uri": "https://localhost:8080/",
          "height": 757
        },
        "id": "8Hwt1AZJLmHN",
        "outputId": "97bff66f-c447-48e4-c961-bedeaf100702"
      },
      "source": [
        "dot_data = tree.export_graphviz( clf\r\n",
        "                                ,out_file=None\r\n",
        "                                ,feature_names=feature_names\r\n",
        "                                ,class_names=class_names\r\n",
        "                                ,filled=True\r\n",
        "                                ,rounded=True\r\n",
        "                               )\r\n",
        "graph = graphviz.Source(dot_data)\r\n",
        "graph"
      ],
      "execution_count": 113,
      "outputs": [
        {
          "output_type": "execute_result",
          "data": {
            "text/plain": [
              "<graphviz.files.Source at 0x7f9893e81978>"
            ],
            "image/svg+xml": "<?xml version=\"1.0\" encoding=\"UTF-8\" standalone=\"no\"?>\n<!DOCTYPE svg PUBLIC \"-//W3C//DTD SVG 1.1//EN\"\n \"http://www.w3.org/Graphics/SVG/1.1/DTD/svg11.dtd\">\n<!-- Generated by graphviz version 2.40.1 (20161225.0304)\n -->\n<!-- Title: Tree Pages: 1 -->\n<svg width=\"701pt\" height=\"552pt\"\n viewBox=\"0.00 0.00 701.00 552.00\" xmlns=\"http://www.w3.org/2000/svg\" xmlns:xlink=\"http://www.w3.org/1999/xlink\">\n<g id=\"graph0\" class=\"graph\" transform=\"scale(1 1) rotate(0) translate(4 548)\">\n<title>Tree</title>\n<polygon fill=\"#ffffff\" stroke=\"transparent\" points=\"-4,4 -4,-548 697,-548 697,4 -4,4\"/>\n<!-- 0 -->\n<g id=\"node1\" class=\"node\">\n<title>0</title>\n<path fill=\"#e8fcf0\" stroke=\"#000000\" d=\"M328.5,-544C328.5,-544 212.5,-544 212.5,-544 206.5,-544 200.5,-538 200.5,-532 200.5,-532 200.5,-473 200.5,-473 200.5,-467 206.5,-461 212.5,-461 212.5,-461 328.5,-461 328.5,-461 334.5,-461 340.5,-467 340.5,-473 340.5,-473 340.5,-532 340.5,-532 340.5,-538 334.5,-544 328.5,-544\"/>\n<text text-anchor=\"middle\" x=\"270.5\" y=\"-528.8\" font-family=\"Helvetica,sans-Serif\" font-size=\"14.00\" fill=\"#000000\">flavanoids &lt;= 1.4</text>\n<text text-anchor=\"middle\" x=\"270.5\" y=\"-513.8\" font-family=\"Helvetica,sans-Serif\" font-size=\"14.00\" fill=\"#000000\">entropy = 1.576</text>\n<text text-anchor=\"middle\" x=\"270.5\" y=\"-498.8\" font-family=\"Helvetica,sans-Serif\" font-size=\"14.00\" fill=\"#000000\">samples = 124</text>\n<text text-anchor=\"middle\" x=\"270.5\" y=\"-483.8\" font-family=\"Helvetica,sans-Serif\" font-size=\"14.00\" fill=\"#000000\">value = [38, 48, 38]</text>\n<text text-anchor=\"middle\" x=\"270.5\" y=\"-468.8\" font-family=\"Helvetica,sans-Serif\" font-size=\"14.00\" fill=\"#000000\">class = class_1</text>\n</g>\n<!-- 1 -->\n<g id=\"node2\" class=\"node\">\n<title>1</title>\n<path fill=\"#985dea\" stroke=\"#000000\" d=\"M248,-425C248,-425 149,-425 149,-425 143,-425 137,-419 137,-413 137,-413 137,-354 137,-354 137,-348 143,-342 149,-342 149,-342 248,-342 248,-342 254,-342 260,-348 260,-354 260,-354 260,-413 260,-413 260,-419 254,-425 248,-425\"/>\n<text text-anchor=\"middle\" x=\"198.5\" y=\"-409.8\" font-family=\"Helvetica,sans-Serif\" font-size=\"14.00\" fill=\"#000000\">hue &lt;= 0.92</text>\n<text text-anchor=\"middle\" x=\"198.5\" y=\"-394.8\" font-family=\"Helvetica,sans-Serif\" font-size=\"14.00\" fill=\"#000000\">entropy = 0.624</text>\n<text text-anchor=\"middle\" x=\"198.5\" y=\"-379.8\" font-family=\"Helvetica,sans-Serif\" font-size=\"14.00\" fill=\"#000000\">samples = 45</text>\n<text text-anchor=\"middle\" x=\"198.5\" y=\"-364.8\" font-family=\"Helvetica,sans-Serif\" font-size=\"14.00\" fill=\"#000000\">value = [0, 7, 38]</text>\n<text text-anchor=\"middle\" x=\"198.5\" y=\"-349.8\" font-family=\"Helvetica,sans-Serif\" font-size=\"14.00\" fill=\"#000000\">class = class_2</text>\n</g>\n<!-- 0&#45;&gt;1 -->\n<g id=\"edge1\" class=\"edge\">\n<title>0&#45;&gt;1</title>\n<path fill=\"none\" stroke=\"#000000\" d=\"M245.3179,-460.8796C240.0867,-452.2335 234.5195,-443.0322 229.1177,-434.1042\"/>\n<polygon fill=\"#000000\" stroke=\"#000000\" points=\"231.9608,-432.0421 223.7896,-425.2981 225.9717,-435.6658 231.9608,-432.0421\"/>\n<text text-anchor=\"middle\" x=\"217.816\" y=\"-445.8739\" font-family=\"Helvetica,sans-Serif\" font-size=\"14.00\" fill=\"#000000\">True</text>\n</g>\n<!-- 4 -->\n<g id=\"node5\" class=\"node\">\n<title>4</title>\n<path fill=\"#f1fdf6\" stroke=\"#000000\" d=\"M397,-425C397,-425 290,-425 290,-425 284,-425 278,-419 278,-413 278,-413 278,-354 278,-354 278,-348 284,-342 290,-342 290,-342 397,-342 397,-342 403,-342 409,-348 409,-354 409,-354 409,-413 409,-413 409,-419 403,-425 397,-425\"/>\n<text text-anchor=\"middle\" x=\"343.5\" y=\"-409.8\" font-family=\"Helvetica,sans-Serif\" font-size=\"14.00\" fill=\"#000000\">proline &lt;= 755.0</text>\n<text text-anchor=\"middle\" x=\"343.5\" y=\"-394.8\" font-family=\"Helvetica,sans-Serif\" font-size=\"14.00\" fill=\"#000000\">entropy = 0.999</text>\n<text text-anchor=\"middle\" x=\"343.5\" y=\"-379.8\" font-family=\"Helvetica,sans-Serif\" font-size=\"14.00\" fill=\"#000000\">samples = 79</text>\n<text text-anchor=\"middle\" x=\"343.5\" y=\"-364.8\" font-family=\"Helvetica,sans-Serif\" font-size=\"14.00\" fill=\"#000000\">value = [38, 41, 0]</text>\n<text text-anchor=\"middle\" x=\"343.5\" y=\"-349.8\" font-family=\"Helvetica,sans-Serif\" font-size=\"14.00\" fill=\"#000000\">class = class_1</text>\n</g>\n<!-- 0&#45;&gt;4 -->\n<g id=\"edge4\" class=\"edge\">\n<title>0&#45;&gt;4</title>\n<path fill=\"none\" stroke=\"#000000\" d=\"M296.0319,-460.8796C301.391,-452.1434 307.0979,-442.8404 312.6282,-433.8253\"/>\n<polygon fill=\"#000000\" stroke=\"#000000\" points=\"315.6135,-435.6522 317.8592,-425.2981 309.6467,-431.9919 315.6135,-435.6522\"/>\n<text text-anchor=\"middle\" x=\"323.6839\" y=\"-445.9101\" font-family=\"Helvetica,sans-Serif\" font-size=\"14.00\" fill=\"#000000\">False</text>\n</g>\n<!-- 2 -->\n<g id=\"node3\" class=\"node\">\n<title>2</title>\n<path fill=\"#8139e5\" stroke=\"#000000\" d=\"M111,-298.5C111,-298.5 12,-298.5 12,-298.5 6,-298.5 0,-292.5 0,-286.5 0,-286.5 0,-242.5 0,-242.5 0,-236.5 6,-230.5 12,-230.5 12,-230.5 111,-230.5 111,-230.5 117,-230.5 123,-236.5 123,-242.5 123,-242.5 123,-286.5 123,-286.5 123,-292.5 117,-298.5 111,-298.5\"/>\n<text text-anchor=\"middle\" x=\"61.5\" y=\"-283.3\" font-family=\"Helvetica,sans-Serif\" font-size=\"14.00\" fill=\"#000000\">entropy = 0.0</text>\n<text text-anchor=\"middle\" x=\"61.5\" y=\"-268.3\" font-family=\"Helvetica,sans-Serif\" font-size=\"14.00\" fill=\"#000000\">samples = 38</text>\n<text text-anchor=\"middle\" x=\"61.5\" y=\"-253.3\" font-family=\"Helvetica,sans-Serif\" font-size=\"14.00\" fill=\"#000000\">value = [0, 0, 38]</text>\n<text text-anchor=\"middle\" x=\"61.5\" y=\"-238.3\" font-family=\"Helvetica,sans-Serif\" font-size=\"14.00\" fill=\"#000000\">class = class_2</text>\n</g>\n<!-- 1&#45;&gt;2 -->\n<g id=\"edge2\" class=\"edge\">\n<title>1&#45;&gt;2</title>\n<path fill=\"none\" stroke=\"#000000\" d=\"M150.584,-341.8796C137.0385,-330.1138 122.3092,-317.3197 108.8002,-305.5855\"/>\n<polygon fill=\"#000000\" stroke=\"#000000\" points=\"110.8503,-302.7303 101.0054,-298.8149 106.2599,-308.015 110.8503,-302.7303\"/>\n</g>\n<!-- 3 -->\n<g id=\"node4\" class=\"node\">\n<title>3</title>\n<path fill=\"#39e581\" stroke=\"#000000\" d=\"M245.5,-298.5C245.5,-298.5 153.5,-298.5 153.5,-298.5 147.5,-298.5 141.5,-292.5 141.5,-286.5 141.5,-286.5 141.5,-242.5 141.5,-242.5 141.5,-236.5 147.5,-230.5 153.5,-230.5 153.5,-230.5 245.5,-230.5 245.5,-230.5 251.5,-230.5 257.5,-236.5 257.5,-242.5 257.5,-242.5 257.5,-286.5 257.5,-286.5 257.5,-292.5 251.5,-298.5 245.5,-298.5\"/>\n<text text-anchor=\"middle\" x=\"199.5\" y=\"-283.3\" font-family=\"Helvetica,sans-Serif\" font-size=\"14.00\" fill=\"#000000\">entropy = 0.0</text>\n<text text-anchor=\"middle\" x=\"199.5\" y=\"-268.3\" font-family=\"Helvetica,sans-Serif\" font-size=\"14.00\" fill=\"#000000\">samples = 7</text>\n<text text-anchor=\"middle\" x=\"199.5\" y=\"-253.3\" font-family=\"Helvetica,sans-Serif\" font-size=\"14.00\" fill=\"#000000\">value = [0, 7, 0]</text>\n<text text-anchor=\"middle\" x=\"199.5\" y=\"-238.3\" font-family=\"Helvetica,sans-Serif\" font-size=\"14.00\" fill=\"#000000\">class = class_1</text>\n</g>\n<!-- 1&#45;&gt;3 -->\n<g id=\"edge3\" class=\"edge\">\n<title>1&#45;&gt;3</title>\n<path fill=\"none\" stroke=\"#000000\" d=\"M198.8498,-341.8796C198.9394,-331.2134 199.0361,-319.7021 199.1269,-308.9015\"/>\n<polygon fill=\"#000000\" stroke=\"#000000\" points=\"202.6274,-308.844 199.2116,-298.8149 195.6276,-308.7851 202.6274,-308.844\"/>\n</g>\n<!-- 5 -->\n<g id=\"node6\" class=\"node\">\n<title>5</title>\n<path fill=\"#3ee684\" stroke=\"#000000\" d=\"M396.5,-306C396.5,-306 288.5,-306 288.5,-306 282.5,-306 276.5,-300 276.5,-294 276.5,-294 276.5,-235 276.5,-235 276.5,-229 282.5,-223 288.5,-223 288.5,-223 396.5,-223 396.5,-223 402.5,-223 408.5,-229 408.5,-235 408.5,-235 408.5,-294 408.5,-294 408.5,-300 402.5,-306 396.5,-306\"/>\n<text text-anchor=\"middle\" x=\"342.5\" y=\"-290.8\" font-family=\"Helvetica,sans-Serif\" font-size=\"14.00\" fill=\"#000000\">alcohol &lt;= 13.175</text>\n<text text-anchor=\"middle\" x=\"342.5\" y=\"-275.8\" font-family=\"Helvetica,sans-Serif\" font-size=\"14.00\" fill=\"#000000\">entropy = 0.165</text>\n<text text-anchor=\"middle\" x=\"342.5\" y=\"-260.8\" font-family=\"Helvetica,sans-Serif\" font-size=\"14.00\" fill=\"#000000\">samples = 41</text>\n<text text-anchor=\"middle\" x=\"342.5\" y=\"-245.8\" font-family=\"Helvetica,sans-Serif\" font-size=\"14.00\" fill=\"#000000\">value = [1, 40, 0]</text>\n<text text-anchor=\"middle\" x=\"342.5\" y=\"-230.8\" font-family=\"Helvetica,sans-Serif\" font-size=\"14.00\" fill=\"#000000\">class = class_1</text>\n</g>\n<!-- 4&#45;&gt;5 -->\n<g id=\"edge5\" class=\"edge\">\n<title>4&#45;&gt;5</title>\n<path fill=\"none\" stroke=\"#000000\" d=\"M343.1502,-341.8796C343.0814,-333.6838 343.0083,-324.9891 342.937,-316.5013\"/>\n<polygon fill=\"#000000\" stroke=\"#000000\" points=\"346.4352,-316.2683 342.8512,-306.2981 339.4355,-316.3272 346.4352,-316.2683\"/>\n</g>\n<!-- 10 -->\n<g id=\"node11\" class=\"node\">\n<title>10</title>\n<path fill=\"#e6843e\" stroke=\"#000000\" d=\"M558,-306C558,-306 439,-306 439,-306 433,-306 427,-300 427,-294 427,-294 427,-235 427,-235 427,-229 433,-223 439,-223 439,-223 558,-223 558,-223 564,-223 570,-229 570,-235 570,-235 570,-294 570,-294 570,-300 564,-306 558,-306\"/>\n<text text-anchor=\"middle\" x=\"498.5\" y=\"-290.8\" font-family=\"Helvetica,sans-Serif\" font-size=\"14.00\" fill=\"#000000\">flavanoids &lt;= 2.235</text>\n<text text-anchor=\"middle\" x=\"498.5\" y=\"-275.8\" font-family=\"Helvetica,sans-Serif\" font-size=\"14.00\" fill=\"#000000\">entropy = 0.176</text>\n<text text-anchor=\"middle\" x=\"498.5\" y=\"-260.8\" font-family=\"Helvetica,sans-Serif\" font-size=\"14.00\" fill=\"#000000\">samples = 38</text>\n<text text-anchor=\"middle\" x=\"498.5\" y=\"-245.8\" font-family=\"Helvetica,sans-Serif\" font-size=\"14.00\" fill=\"#000000\">value = [37, 1, 0]</text>\n<text text-anchor=\"middle\" x=\"498.5\" y=\"-230.8\" font-family=\"Helvetica,sans-Serif\" font-size=\"14.00\" fill=\"#000000\">class = class_0</text>\n</g>\n<!-- 4&#45;&gt;10 -->\n<g id=\"edge10\" class=\"edge\">\n<title>4&#45;&gt;10</title>\n<path fill=\"none\" stroke=\"#000000\" d=\"M397.7115,-341.8796C410.1006,-332.368 423.3649,-322.1843 436.0676,-312.432\"/>\n<polygon fill=\"#000000\" stroke=\"#000000\" points=\"438.5186,-314.9628 444.3191,-306.0969 434.2558,-309.4105 438.5186,-314.9628\"/>\n</g>\n<!-- 6 -->\n<g id=\"node7\" class=\"node\">\n<title>6</title>\n<path fill=\"#39e581\" stroke=\"#000000\" d=\"M257,-179.5C257,-179.5 158,-179.5 158,-179.5 152,-179.5 146,-173.5 146,-167.5 146,-167.5 146,-123.5 146,-123.5 146,-117.5 152,-111.5 158,-111.5 158,-111.5 257,-111.5 257,-111.5 263,-111.5 269,-117.5 269,-123.5 269,-123.5 269,-167.5 269,-167.5 269,-173.5 263,-179.5 257,-179.5\"/>\n<text text-anchor=\"middle\" x=\"207.5\" y=\"-164.3\" font-family=\"Helvetica,sans-Serif\" font-size=\"14.00\" fill=\"#000000\">entropy = 0.0</text>\n<text text-anchor=\"middle\" x=\"207.5\" y=\"-149.3\" font-family=\"Helvetica,sans-Serif\" font-size=\"14.00\" fill=\"#000000\">samples = 38</text>\n<text text-anchor=\"middle\" x=\"207.5\" y=\"-134.3\" font-family=\"Helvetica,sans-Serif\" font-size=\"14.00\" fill=\"#000000\">value = [0, 38, 0]</text>\n<text text-anchor=\"middle\" x=\"207.5\" y=\"-119.3\" font-family=\"Helvetica,sans-Serif\" font-size=\"14.00\" fill=\"#000000\">class = class_1</text>\n</g>\n<!-- 5&#45;&gt;6 -->\n<g id=\"edge6\" class=\"edge\">\n<title>5&#45;&gt;6</title>\n<path fill=\"none\" stroke=\"#000000\" d=\"M295.2836,-222.8796C281.9358,-211.1138 267.4215,-198.3197 254.1096,-186.5855\"/>\n<polygon fill=\"#000000\" stroke=\"#000000\" points=\"256.2448,-183.8019 246.4287,-179.8149 251.616,-189.0531 256.2448,-183.8019\"/>\n</g>\n<!-- 7 -->\n<g id=\"node8\" class=\"node\">\n<title>7</title>\n<path fill=\"#9cf2c0\" stroke=\"#000000\" d=\"M396,-187C396,-187 299,-187 299,-187 293,-187 287,-181 287,-175 287,-175 287,-116 287,-116 287,-110 293,-104 299,-104 299,-104 396,-104 396,-104 402,-104 408,-110 408,-116 408,-116 408,-175 408,-175 408,-181 402,-187 396,-187\"/>\n<text text-anchor=\"middle\" x=\"347.5\" y=\"-171.8\" font-family=\"Helvetica,sans-Serif\" font-size=\"14.00\" fill=\"#000000\">proline &lt;= 576.0</text>\n<text text-anchor=\"middle\" x=\"347.5\" y=\"-156.8\" font-family=\"Helvetica,sans-Serif\" font-size=\"14.00\" fill=\"#000000\">entropy = 0.918</text>\n<text text-anchor=\"middle\" x=\"347.5\" y=\"-141.8\" font-family=\"Helvetica,sans-Serif\" font-size=\"14.00\" fill=\"#000000\">samples = 3</text>\n<text text-anchor=\"middle\" x=\"347.5\" y=\"-126.8\" font-family=\"Helvetica,sans-Serif\" font-size=\"14.00\" fill=\"#000000\">value = [1, 2, 0]</text>\n<text text-anchor=\"middle\" x=\"347.5\" y=\"-111.8\" font-family=\"Helvetica,sans-Serif\" font-size=\"14.00\" fill=\"#000000\">class = class_1</text>\n</g>\n<!-- 5&#45;&gt;7 -->\n<g id=\"edge7\" class=\"edge\">\n<title>5&#45;&gt;7</title>\n<path fill=\"none\" stroke=\"#000000\" d=\"M344.2488,-222.8796C344.5931,-214.6838 344.9584,-205.9891 345.3151,-197.5013\"/>\n<polygon fill=\"#000000\" stroke=\"#000000\" points=\"348.8208,-197.4362 345.7438,-187.2981 341.827,-197.1423 348.8208,-197.4362\"/>\n</g>\n<!-- 8 -->\n<g id=\"node9\" class=\"node\">\n<title>8</title>\n<path fill=\"#39e581\" stroke=\"#000000\" d=\"M326.5,-68C326.5,-68 234.5,-68 234.5,-68 228.5,-68 222.5,-62 222.5,-56 222.5,-56 222.5,-12 222.5,-12 222.5,-6 228.5,0 234.5,0 234.5,0 326.5,0 326.5,0 332.5,0 338.5,-6 338.5,-12 338.5,-12 338.5,-56 338.5,-56 338.5,-62 332.5,-68 326.5,-68\"/>\n<text text-anchor=\"middle\" x=\"280.5\" y=\"-52.8\" font-family=\"Helvetica,sans-Serif\" font-size=\"14.00\" fill=\"#000000\">entropy = 0.0</text>\n<text text-anchor=\"middle\" x=\"280.5\" y=\"-37.8\" font-family=\"Helvetica,sans-Serif\" font-size=\"14.00\" fill=\"#000000\">samples = 2</text>\n<text text-anchor=\"middle\" x=\"280.5\" y=\"-22.8\" font-family=\"Helvetica,sans-Serif\" font-size=\"14.00\" fill=\"#000000\">value = [0, 2, 0]</text>\n<text text-anchor=\"middle\" x=\"280.5\" y=\"-7.8\" font-family=\"Helvetica,sans-Serif\" font-size=\"14.00\" fill=\"#000000\">class = class_1</text>\n</g>\n<!-- 7&#45;&gt;8 -->\n<g id=\"edge8\" class=\"edge\">\n<title>7&#45;&gt;8</title>\n<path fill=\"none\" stroke=\"#000000\" d=\"M322.5517,-103.9815C317.2499,-95.1585 311.6419,-85.8258 306.3089,-76.9506\"/>\n<polygon fill=\"#000000\" stroke=\"#000000\" points=\"309.2396,-75.0325 301.0889,-68.2637 303.2395,-78.638 309.2396,-75.0325\"/>\n</g>\n<!-- 9 -->\n<g id=\"node10\" class=\"node\">\n<title>9</title>\n<path fill=\"#e58139\" stroke=\"#000000\" d=\"M460.5,-68C460.5,-68 368.5,-68 368.5,-68 362.5,-68 356.5,-62 356.5,-56 356.5,-56 356.5,-12 356.5,-12 356.5,-6 362.5,0 368.5,0 368.5,0 460.5,0 460.5,0 466.5,0 472.5,-6 472.5,-12 472.5,-12 472.5,-56 472.5,-56 472.5,-62 466.5,-68 460.5,-68\"/>\n<text text-anchor=\"middle\" x=\"414.5\" y=\"-52.8\" font-family=\"Helvetica,sans-Serif\" font-size=\"14.00\" fill=\"#000000\">entropy = 0.0</text>\n<text text-anchor=\"middle\" x=\"414.5\" y=\"-37.8\" font-family=\"Helvetica,sans-Serif\" font-size=\"14.00\" fill=\"#000000\">samples = 1</text>\n<text text-anchor=\"middle\" x=\"414.5\" y=\"-22.8\" font-family=\"Helvetica,sans-Serif\" font-size=\"14.00\" fill=\"#000000\">value = [1, 0, 0]</text>\n<text text-anchor=\"middle\" x=\"414.5\" y=\"-7.8\" font-family=\"Helvetica,sans-Serif\" font-size=\"14.00\" fill=\"#000000\">class = class_0</text>\n</g>\n<!-- 7&#45;&gt;9 -->\n<g id=\"edge9\" class=\"edge\">\n<title>7&#45;&gt;9</title>\n<path fill=\"none\" stroke=\"#000000\" d=\"M372.4483,-103.9815C377.7501,-95.1585 383.3581,-85.8258 388.6911,-76.9506\"/>\n<polygon fill=\"#000000\" stroke=\"#000000\" points=\"391.7605,-78.638 393.9111,-68.2637 385.7604,-75.0325 391.7605,-78.638\"/>\n</g>\n<!-- 11 -->\n<g id=\"node12\" class=\"node\">\n<title>11</title>\n<path fill=\"#39e581\" stroke=\"#000000\" d=\"M539.5,-179.5C539.5,-179.5 447.5,-179.5 447.5,-179.5 441.5,-179.5 435.5,-173.5 435.5,-167.5 435.5,-167.5 435.5,-123.5 435.5,-123.5 435.5,-117.5 441.5,-111.5 447.5,-111.5 447.5,-111.5 539.5,-111.5 539.5,-111.5 545.5,-111.5 551.5,-117.5 551.5,-123.5 551.5,-123.5 551.5,-167.5 551.5,-167.5 551.5,-173.5 545.5,-179.5 539.5,-179.5\"/>\n<text text-anchor=\"middle\" x=\"493.5\" y=\"-164.3\" font-family=\"Helvetica,sans-Serif\" font-size=\"14.00\" fill=\"#000000\">entropy = 0.0</text>\n<text text-anchor=\"middle\" x=\"493.5\" y=\"-149.3\" font-family=\"Helvetica,sans-Serif\" font-size=\"14.00\" fill=\"#000000\">samples = 1</text>\n<text text-anchor=\"middle\" x=\"493.5\" y=\"-134.3\" font-family=\"Helvetica,sans-Serif\" font-size=\"14.00\" fill=\"#000000\">value = [0, 1, 0]</text>\n<text text-anchor=\"middle\" x=\"493.5\" y=\"-119.3\" font-family=\"Helvetica,sans-Serif\" font-size=\"14.00\" fill=\"#000000\">class = class_1</text>\n</g>\n<!-- 10&#45;&gt;11 -->\n<g id=\"edge11\" class=\"edge\">\n<title>10&#45;&gt;11</title>\n<path fill=\"none\" stroke=\"#000000\" d=\"M496.7512,-222.8796C496.3031,-212.2134 495.8194,-200.7021 495.3656,-189.9015\"/>\n<polygon fill=\"#000000\" stroke=\"#000000\" points=\"498.8586,-189.6592 494.9418,-179.8149 491.8648,-189.9531 498.8586,-189.6592\"/>\n</g>\n<!-- 12 -->\n<g id=\"node13\" class=\"node\">\n<title>12</title>\n<path fill=\"#e58139\" stroke=\"#000000\" d=\"M681,-179.5C681,-179.5 582,-179.5 582,-179.5 576,-179.5 570,-173.5 570,-167.5 570,-167.5 570,-123.5 570,-123.5 570,-117.5 576,-111.5 582,-111.5 582,-111.5 681,-111.5 681,-111.5 687,-111.5 693,-117.5 693,-123.5 693,-123.5 693,-167.5 693,-167.5 693,-173.5 687,-179.5 681,-179.5\"/>\n<text text-anchor=\"middle\" x=\"631.5\" y=\"-164.3\" font-family=\"Helvetica,sans-Serif\" font-size=\"14.00\" fill=\"#000000\">entropy = 0.0</text>\n<text text-anchor=\"middle\" x=\"631.5\" y=\"-149.3\" font-family=\"Helvetica,sans-Serif\" font-size=\"14.00\" fill=\"#000000\">samples = 37</text>\n<text text-anchor=\"middle\" x=\"631.5\" y=\"-134.3\" font-family=\"Helvetica,sans-Serif\" font-size=\"14.00\" fill=\"#000000\">value = [37, 0, 0]</text>\n<text text-anchor=\"middle\" x=\"631.5\" y=\"-119.3\" font-family=\"Helvetica,sans-Serif\" font-size=\"14.00\" fill=\"#000000\">class = class_0</text>\n</g>\n<!-- 10&#45;&gt;12 -->\n<g id=\"edge12\" class=\"edge\">\n<title>10&#45;&gt;12</title>\n<path fill=\"none\" stroke=\"#000000\" d=\"M545.0169,-222.8796C558.167,-211.1138 572.4663,-198.3197 585.5809,-186.5855\"/>\n<polygon fill=\"#000000\" stroke=\"#000000\" points=\"588.0294,-189.0913 593.148,-179.8149 583.3618,-183.8746 588.0294,-189.0913\"/>\n</g>\n</g>\n</svg>\n"
          },
          "metadata": {
            "tags": []
          },
          "execution_count": 113
        }
      ]
    },
    {
      "cell_type": "code",
      "metadata": {
        "colab": {
          "base_uri": "https://localhost:8080/"
        },
        "id": "AxdiWaDONDM3",
        "outputId": "60f6147c-9fcc-4f74-eb94-601d05334ee1"
      },
      "source": [
        "#use entropy as criterion\r\n",
        "clf = tree.DecisionTreeClassifier( criterion='entropy'\r\n",
        "                                  ,random_state=5\r\n",
        "                                  ,splitter='random'\r\n",
        "                                )\r\n",
        "#fit the data\r\n",
        "clf.fit(Xtrain, ytrain)\r\n",
        "#check the accuracy\r\n",
        "score = clf.score(Xtest, ytest)\r\n",
        "print(\"The accuracy is: {0:2.5f}\".format(score))"
      ],
      "execution_count": 114,
      "outputs": [
        {
          "output_type": "stream",
          "text": [
            "The accuracy is: 0.90741\n"
          ],
          "name": "stdout"
        }
      ]
    },
    {
      "cell_type": "markdown",
      "metadata": {
        "id": "gToKaBNENkUN"
      },
      "source": [
        "we can notice that after we use splitter, the tree is deeper and wider than before"
      ]
    },
    {
      "cell_type": "code",
      "metadata": {
        "colab": {
          "base_uri": "https://localhost:8080/",
          "height": 1000
        },
        "id": "-76TbaT9NhF2",
        "outputId": "55e46638-99ed-4d14-fb7d-eda8ea401360"
      },
      "source": [
        "dot_data = tree.export_graphviz( clf\r\n",
        "                                ,out_file=None\r\n",
        "                                ,feature_names=feature_names\r\n",
        "                                ,class_names=class_names\r\n",
        "                                ,filled=True\r\n",
        "                                ,rounded=True\r\n",
        "                               )\r\n",
        "graph = graphviz.Source(dot_data)\r\n",
        "graph"
      ],
      "execution_count": 105,
      "outputs": [
        {
          "output_type": "execute_result",
          "data": {
            "text/plain": [
              "<graphviz.files.Source at 0x7f9893d4f128>"
            ],
            "image/svg+xml": "<?xml version=\"1.0\" encoding=\"UTF-8\" standalone=\"no\"?>\n<!DOCTYPE svg PUBLIC \"-//W3C//DTD SVG 1.1//EN\"\n \"http://www.w3.org/Graphics/SVG/1.1/DTD/svg11.dtd\">\n<!-- Generated by graphviz version 2.40.1 (20161225.0304)\n -->\n<!-- Title: Tree Pages: 1 -->\n<svg width=\"1560pt\" height=\"790pt\"\n viewBox=\"0.00 0.00 1559.50 790.00\" xmlns=\"http://www.w3.org/2000/svg\" xmlns:xlink=\"http://www.w3.org/1999/xlink\">\n<g id=\"graph0\" class=\"graph\" transform=\"scale(1 1) rotate(0) translate(4 786)\">\n<title>Tree</title>\n<polygon fill=\"#ffffff\" stroke=\"transparent\" points=\"-4,4 -4,-786 1555.5,-786 1555.5,4 -4,4\"/>\n<!-- 0 -->\n<g id=\"node1\" class=\"node\">\n<title>0</title>\n<path fill=\"#e8fcf0\" stroke=\"#000000\" d=\"M976.5,-782C976.5,-782 857.5,-782 857.5,-782 851.5,-782 845.5,-776 845.5,-770 845.5,-770 845.5,-711 845.5,-711 845.5,-705 851.5,-699 857.5,-699 857.5,-699 976.5,-699 976.5,-699 982.5,-699 988.5,-705 988.5,-711 988.5,-711 988.5,-770 988.5,-770 988.5,-776 982.5,-782 976.5,-782\"/>\n<text text-anchor=\"middle\" x=\"917\" y=\"-766.8\" font-family=\"Helvetica,sans-Serif\" font-size=\"14.00\" fill=\"#000000\">flavanoids &lt;= 2.415</text>\n<text text-anchor=\"middle\" x=\"917\" y=\"-751.8\" font-family=\"Helvetica,sans-Serif\" font-size=\"14.00\" fill=\"#000000\">entropy = 1.576</text>\n<text text-anchor=\"middle\" x=\"917\" y=\"-736.8\" font-family=\"Helvetica,sans-Serif\" font-size=\"14.00\" fill=\"#000000\">samples = 124</text>\n<text text-anchor=\"middle\" x=\"917\" y=\"-721.8\" font-family=\"Helvetica,sans-Serif\" font-size=\"14.00\" fill=\"#000000\">value = [38, 48, 38]</text>\n<text text-anchor=\"middle\" x=\"917\" y=\"-706.8\" font-family=\"Helvetica,sans-Serif\" font-size=\"14.00\" fill=\"#000000\">class = class_1</text>\n</g>\n<!-- 1 -->\n<g id=\"node2\" class=\"node\">\n<title>1</title>\n<path fill=\"#f2ebfc\" stroke=\"#000000\" d=\"M888.5,-663C888.5,-663 781.5,-663 781.5,-663 775.5,-663 769.5,-657 769.5,-651 769.5,-651 769.5,-592 769.5,-592 769.5,-586 775.5,-580 781.5,-580 781.5,-580 888.5,-580 888.5,-580 894.5,-580 900.5,-586 900.5,-592 900.5,-592 900.5,-651 900.5,-651 900.5,-657 894.5,-663 888.5,-663\"/>\n<text text-anchor=\"middle\" x=\"835\" y=\"-647.8\" font-family=\"Helvetica,sans-Serif\" font-size=\"14.00\" fill=\"#000000\">hue &lt;= 0.747</text>\n<text text-anchor=\"middle\" x=\"835\" y=\"-632.8\" font-family=\"Helvetica,sans-Serif\" font-size=\"14.00\" fill=\"#000000\">entropy = 1.15</text>\n<text text-anchor=\"middle\" x=\"835\" y=\"-617.8\" font-family=\"Helvetica,sans-Serif\" font-size=\"14.00\" fill=\"#000000\">samples = 74</text>\n<text text-anchor=\"middle\" x=\"835\" y=\"-602.8\" font-family=\"Helvetica,sans-Serif\" font-size=\"14.00\" fill=\"#000000\">value = [2, 34, 38]</text>\n<text text-anchor=\"middle\" x=\"835\" y=\"-587.8\" font-family=\"Helvetica,sans-Serif\" font-size=\"14.00\" fill=\"#000000\">class = class_2</text>\n</g>\n<!-- 0&#45;&gt;1 -->\n<g id=\"edge1\" class=\"edge\">\n<title>0&#45;&gt;1</title>\n<path fill=\"none\" stroke=\"#000000\" d=\"M888.3204,-698.8796C882.2385,-690.0534 875.7578,-680.6485 869.4859,-671.5466\"/>\n<polygon fill=\"#000000\" stroke=\"#000000\" points=\"872.3582,-669.5465 863.802,-663.2981 866.5941,-673.5184 872.3582,-669.5465\"/>\n<text text-anchor=\"middle\" x=\"859.2761\" y=\"-684.185\" font-family=\"Helvetica,sans-Serif\" font-size=\"14.00\" fill=\"#000000\">True</text>\n</g>\n<!-- 24 -->\n<g id=\"node25\" class=\"node\">\n<title>24</title>\n<path fill=\"#efb286\" stroke=\"#000000\" d=\"M1077.5,-663C1077.5,-663 940.5,-663 940.5,-663 934.5,-663 928.5,-657 928.5,-651 928.5,-651 928.5,-592 928.5,-592 928.5,-586 934.5,-580 940.5,-580 940.5,-580 1077.5,-580 1077.5,-580 1083.5,-580 1089.5,-586 1089.5,-592 1089.5,-592 1089.5,-651 1089.5,-651 1089.5,-657 1083.5,-663 1077.5,-663\"/>\n<text text-anchor=\"middle\" x=\"1009\" y=\"-647.8\" font-family=\"Helvetica,sans-Serif\" font-size=\"14.00\" fill=\"#000000\">magnesium &lt;= 88.489</text>\n<text text-anchor=\"middle\" x=\"1009\" y=\"-632.8\" font-family=\"Helvetica,sans-Serif\" font-size=\"14.00\" fill=\"#000000\">entropy = 0.855</text>\n<text text-anchor=\"middle\" x=\"1009\" y=\"-617.8\" font-family=\"Helvetica,sans-Serif\" font-size=\"14.00\" fill=\"#000000\">samples = 50</text>\n<text text-anchor=\"middle\" x=\"1009\" y=\"-602.8\" font-family=\"Helvetica,sans-Serif\" font-size=\"14.00\" fill=\"#000000\">value = [36, 14, 0]</text>\n<text text-anchor=\"middle\" x=\"1009\" y=\"-587.8\" font-family=\"Helvetica,sans-Serif\" font-size=\"14.00\" fill=\"#000000\">class = class_0</text>\n</g>\n<!-- 0&#45;&gt;24 -->\n<g id=\"edge24\" class=\"edge\">\n<title>0&#45;&gt;24</title>\n<path fill=\"none\" stroke=\"#000000\" d=\"M949.1771,-698.8796C956.0704,-689.9633 963.4202,-680.4565 970.5239,-671.268\"/>\n<polygon fill=\"#000000\" stroke=\"#000000\" points=\"973.3381,-673.3502 976.6855,-663.2981 967.8001,-669.0687 973.3381,-673.3502\"/>\n<text text-anchor=\"middle\" x=\"979.8587\" y=\"-684.3959\" font-family=\"Helvetica,sans-Serif\" font-size=\"14.00\" fill=\"#000000\">False</text>\n</g>\n<!-- 2 -->\n<g id=\"node3\" class=\"node\">\n<title>2</title>\n<path fill=\"#8139e5\" stroke=\"#000000\" d=\"M731.5,-536.5C731.5,-536.5 632.5,-536.5 632.5,-536.5 626.5,-536.5 620.5,-530.5 620.5,-524.5 620.5,-524.5 620.5,-480.5 620.5,-480.5 620.5,-474.5 626.5,-468.5 632.5,-468.5 632.5,-468.5 731.5,-468.5 731.5,-468.5 737.5,-468.5 743.5,-474.5 743.5,-480.5 743.5,-480.5 743.5,-524.5 743.5,-524.5 743.5,-530.5 737.5,-536.5 731.5,-536.5\"/>\n<text text-anchor=\"middle\" x=\"682\" y=\"-521.3\" font-family=\"Helvetica,sans-Serif\" font-size=\"14.00\" fill=\"#000000\">entropy = 0.0</text>\n<text text-anchor=\"middle\" x=\"682\" y=\"-506.3\" font-family=\"Helvetica,sans-Serif\" font-size=\"14.00\" fill=\"#000000\">samples = 27</text>\n<text text-anchor=\"middle\" x=\"682\" y=\"-491.3\" font-family=\"Helvetica,sans-Serif\" font-size=\"14.00\" fill=\"#000000\">value = [0, 0, 27]</text>\n<text text-anchor=\"middle\" x=\"682\" y=\"-476.3\" font-family=\"Helvetica,sans-Serif\" font-size=\"14.00\" fill=\"#000000\">class = class_2</text>\n</g>\n<!-- 1&#45;&gt;2 -->\n<g id=\"edge2\" class=\"edge\">\n<title>1&#45;&gt;2</title>\n<path fill=\"none\" stroke=\"#000000\" d=\"M781.488,-579.8796C766.2192,-568.0038 749.6034,-555.0804 734.4016,-543.2568\"/>\n<polygon fill=\"#000000\" stroke=\"#000000\" points=\"736.1616,-540.1916 726.1192,-536.8149 731.8639,-545.7171 736.1616,-540.1916\"/>\n</g>\n<!-- 3 -->\n<g id=\"node4\" class=\"node\">\n<title>3</title>\n<path fill=\"#80eeae\" stroke=\"#000000\" d=\"M896,-544C896,-544 774,-544 774,-544 768,-544 762,-538 762,-532 762,-532 762,-473 762,-473 762,-467 768,-461 774,-461 774,-461 896,-461 896,-461 902,-461 908,-467 908,-473 908,-473 908,-532 908,-532 908,-538 902,-544 896,-544\"/>\n<text text-anchor=\"middle\" x=\"835\" y=\"-528.8\" font-family=\"Helvetica,sans-Serif\" font-size=\"14.00\" fill=\"#000000\">malic_acid &lt;= 2.743</text>\n<text text-anchor=\"middle\" x=\"835\" y=\"-513.8\" font-family=\"Helvetica,sans-Serif\" font-size=\"14.00\" fill=\"#000000\">entropy = 1.022</text>\n<text text-anchor=\"middle\" x=\"835\" y=\"-498.8\" font-family=\"Helvetica,sans-Serif\" font-size=\"14.00\" fill=\"#000000\">samples = 47</text>\n<text text-anchor=\"middle\" x=\"835\" y=\"-483.8\" font-family=\"Helvetica,sans-Serif\" font-size=\"14.00\" fill=\"#000000\">value = [2, 34, 11]</text>\n<text text-anchor=\"middle\" x=\"835\" y=\"-468.8\" font-family=\"Helvetica,sans-Serif\" font-size=\"14.00\" fill=\"#000000\">class = class_1</text>\n</g>\n<!-- 1&#45;&gt;3 -->\n<g id=\"edge3\" class=\"edge\">\n<title>1&#45;&gt;3</title>\n<path fill=\"none\" stroke=\"#000000\" d=\"M835,-579.8796C835,-571.6838 835,-562.9891 835,-554.5013\"/>\n<polygon fill=\"#000000\" stroke=\"#000000\" points=\"838.5001,-554.298 835,-544.2981 831.5001,-554.2981 838.5001,-554.298\"/>\n</g>\n<!-- 4 -->\n<g id=\"node5\" class=\"node\">\n<title>4</title>\n<path fill=\"#4de88e\" stroke=\"#000000\" d=\"M579,-425C579,-425 471,-425 471,-425 465,-425 459,-419 459,-413 459,-413 459,-354 459,-354 459,-348 465,-342 471,-342 471,-342 579,-342 579,-342 585,-342 591,-348 591,-354 591,-354 591,-413 591,-413 591,-419 585,-425 579,-425\"/>\n<text text-anchor=\"middle\" x=\"525\" y=\"-409.8\" font-family=\"Helvetica,sans-Serif\" font-size=\"14.00\" fill=\"#000000\">alcohol &lt;= 12.735</text>\n<text text-anchor=\"middle\" x=\"525\" y=\"-394.8\" font-family=\"Helvetica,sans-Serif\" font-size=\"14.00\" fill=\"#000000\">entropy = 0.548</text>\n<text text-anchor=\"middle\" x=\"525\" y=\"-379.8\" font-family=\"Helvetica,sans-Serif\" font-size=\"14.00\" fill=\"#000000\">samples = 31</text>\n<text text-anchor=\"middle\" x=\"525\" y=\"-364.8\" font-family=\"Helvetica,sans-Serif\" font-size=\"14.00\" fill=\"#000000\">value = [1, 28, 2]</text>\n<text text-anchor=\"middle\" x=\"525\" y=\"-349.8\" font-family=\"Helvetica,sans-Serif\" font-size=\"14.00\" fill=\"#000000\">class = class_1</text>\n</g>\n<!-- 3&#45;&gt;4 -->\n<g id=\"edge4\" class=\"edge\">\n<title>3&#45;&gt;4</title>\n<path fill=\"none\" stroke=\"#000000\" d=\"M761.9289,-465.2963C758.5902,-463.8078 755.2696,-462.3682 752,-461 702.6108,-440.3322 645.576,-420.8768 601.0319,-406.6288\"/>\n<polygon fill=\"#000000\" stroke=\"#000000\" points=\"602.0267,-403.2726 591.4362,-403.5782 599.9058,-409.9435 602.0267,-403.2726\"/>\n</g>\n<!-- 15 -->\n<g id=\"node16\" class=\"node\">\n<title>15</title>\n<path fill=\"#d9c4f7\" stroke=\"#000000\" d=\"M894.5,-425C894.5,-425 775.5,-425 775.5,-425 769.5,-425 763.5,-419 763.5,-413 763.5,-413 763.5,-354 763.5,-354 763.5,-348 769.5,-342 775.5,-342 775.5,-342 894.5,-342 894.5,-342 900.5,-342 906.5,-348 906.5,-354 906.5,-354 906.5,-413 906.5,-413 906.5,-419 900.5,-425 894.5,-425\"/>\n<text text-anchor=\"middle\" x=\"835\" y=\"-409.8\" font-family=\"Helvetica,sans-Serif\" font-size=\"14.00\" fill=\"#000000\">flavanoids &lt;= 1.381</text>\n<text text-anchor=\"middle\" x=\"835\" y=\"-394.8\" font-family=\"Helvetica,sans-Serif\" font-size=\"14.00\" fill=\"#000000\">entropy = 1.248</text>\n<text text-anchor=\"middle\" x=\"835\" y=\"-379.8\" font-family=\"Helvetica,sans-Serif\" font-size=\"14.00\" fill=\"#000000\">samples = 16</text>\n<text text-anchor=\"middle\" x=\"835\" y=\"-364.8\" font-family=\"Helvetica,sans-Serif\" font-size=\"14.00\" fill=\"#000000\">value = [1, 6, 9]</text>\n<text text-anchor=\"middle\" x=\"835\" y=\"-349.8\" font-family=\"Helvetica,sans-Serif\" font-size=\"14.00\" fill=\"#000000\">class = class_2</text>\n</g>\n<!-- 3&#45;&gt;15 -->\n<g id=\"edge15\" class=\"edge\">\n<title>3&#45;&gt;15</title>\n<path fill=\"none\" stroke=\"#000000\" d=\"M835,-460.8796C835,-452.6838 835,-443.9891 835,-435.5013\"/>\n<polygon fill=\"#000000\" stroke=\"#000000\" points=\"838.5001,-435.298 835,-425.2981 831.5001,-435.2981 838.5001,-435.298\"/>\n</g>\n<!-- 5 -->\n<g id=\"node6\" class=\"node\">\n<title>5</title>\n<path fill=\"#41e686\" stroke=\"#000000\" d=\"M348.5,-306C348.5,-306 229.5,-306 229.5,-306 223.5,-306 217.5,-300 217.5,-294 217.5,-294 217.5,-235 217.5,-235 217.5,-229 223.5,-223 229.5,-223 229.5,-223 348.5,-223 348.5,-223 354.5,-223 360.5,-229 360.5,-235 360.5,-235 360.5,-294 360.5,-294 360.5,-300 354.5,-306 348.5,-306\"/>\n<text text-anchor=\"middle\" x=\"289\" y=\"-290.8\" font-family=\"Helvetica,sans-Serif\" font-size=\"14.00\" fill=\"#000000\">flavanoids &lt;= 0.942</text>\n<text text-anchor=\"middle\" x=\"289\" y=\"-275.8\" font-family=\"Helvetica,sans-Serif\" font-size=\"14.00\" fill=\"#000000\">entropy = 0.229</text>\n<text text-anchor=\"middle\" x=\"289\" y=\"-260.8\" font-family=\"Helvetica,sans-Serif\" font-size=\"14.00\" fill=\"#000000\">samples = 27</text>\n<text text-anchor=\"middle\" x=\"289\" y=\"-245.8\" font-family=\"Helvetica,sans-Serif\" font-size=\"14.00\" fill=\"#000000\">value = [0, 26, 1]</text>\n<text text-anchor=\"middle\" x=\"289\" y=\"-230.8\" font-family=\"Helvetica,sans-Serif\" font-size=\"14.00\" fill=\"#000000\">class = class_1</text>\n</g>\n<!-- 4&#45;&gt;5 -->\n<g id=\"edge5\" class=\"edge\">\n<title>4&#45;&gt;5</title>\n<path fill=\"none\" stroke=\"#000000\" d=\"M458.947,-350.1936C431.3849,-336.2958 399.0987,-320.0159 370.1137,-305.4006\"/>\n<polygon fill=\"#000000\" stroke=\"#000000\" points=\"371.3341,-302.0962 360.8292,-300.719 368.1824,-308.3466 371.3341,-302.0962\"/>\n</g>\n<!-- 10 -->\n<g id=\"node11\" class=\"node\">\n<title>10</title>\n<path fill=\"#bdf6d5\" stroke=\"#000000\" d=\"M598,-306C598,-306 452,-306 452,-306 446,-306 440,-300 440,-294 440,-294 440,-235 440,-235 440,-229 446,-223 452,-223 452,-223 598,-223 598,-223 604,-223 610,-229 610,-235 610,-235 610,-294 610,-294 610,-300 604,-306 598,-306\"/>\n<text text-anchor=\"middle\" x=\"525\" y=\"-290.8\" font-family=\"Helvetica,sans-Serif\" font-size=\"14.00\" fill=\"#000000\">color_intensity &lt;= 3.788</text>\n<text text-anchor=\"middle\" x=\"525\" y=\"-275.8\" font-family=\"Helvetica,sans-Serif\" font-size=\"14.00\" fill=\"#000000\">entropy = 1.5</text>\n<text text-anchor=\"middle\" x=\"525\" y=\"-260.8\" font-family=\"Helvetica,sans-Serif\" font-size=\"14.00\" fill=\"#000000\">samples = 4</text>\n<text text-anchor=\"middle\" x=\"525\" y=\"-245.8\" font-family=\"Helvetica,sans-Serif\" font-size=\"14.00\" fill=\"#000000\">value = [1, 2, 1]</text>\n<text text-anchor=\"middle\" x=\"525\" y=\"-230.8\" font-family=\"Helvetica,sans-Serif\" font-size=\"14.00\" fill=\"#000000\">class = class_1</text>\n</g>\n<!-- 4&#45;&gt;10 -->\n<g id=\"edge10\" class=\"edge\">\n<title>4&#45;&gt;10</title>\n<path fill=\"none\" stroke=\"#000000\" d=\"M525,-341.8796C525,-333.6838 525,-324.9891 525,-316.5013\"/>\n<polygon fill=\"#000000\" stroke=\"#000000\" points=\"528.5001,-316.298 525,-306.2981 521.5001,-316.2981 528.5001,-316.298\"/>\n</g>\n<!-- 6 -->\n<g id=\"node7\" class=\"node\">\n<title>6</title>\n<path fill=\"#ffffff\" stroke=\"#000000\" d=\"M197.5,-187C197.5,-187 52.5,-187 52.5,-187 46.5,-187 40.5,-181 40.5,-175 40.5,-175 40.5,-116 40.5,-116 40.5,-110 46.5,-104 52.5,-104 52.5,-104 197.5,-104 197.5,-104 203.5,-104 209.5,-110 209.5,-116 209.5,-116 209.5,-175 209.5,-175 209.5,-181 203.5,-187 197.5,-187\"/>\n<text text-anchor=\"middle\" x=\"125\" y=\"-171.8\" font-family=\"Helvetica,sans-Serif\" font-size=\"14.00\" fill=\"#000000\">proanthocyanins &lt;= 1.0</text>\n<text text-anchor=\"middle\" x=\"125\" y=\"-156.8\" font-family=\"Helvetica,sans-Serif\" font-size=\"14.00\" fill=\"#000000\">entropy = 1.0</text>\n<text text-anchor=\"middle\" x=\"125\" y=\"-141.8\" font-family=\"Helvetica,sans-Serif\" font-size=\"14.00\" fill=\"#000000\">samples = 2</text>\n<text text-anchor=\"middle\" x=\"125\" y=\"-126.8\" font-family=\"Helvetica,sans-Serif\" font-size=\"14.00\" fill=\"#000000\">value = [0, 1, 1]</text>\n<text text-anchor=\"middle\" x=\"125\" y=\"-111.8\" font-family=\"Helvetica,sans-Serif\" font-size=\"14.00\" fill=\"#000000\">class = class_1</text>\n</g>\n<!-- 5&#45;&gt;6 -->\n<g id=\"edge6\" class=\"edge\">\n<title>5&#45;&gt;6</title>\n<path fill=\"none\" stroke=\"#000000\" d=\"M231.6408,-222.8796C218.4075,-213.2774 204.2303,-202.9903 190.6736,-193.1534\"/>\n<polygon fill=\"#000000\" stroke=\"#000000\" points=\"192.4762,-190.1371 182.3269,-187.0969 188.3651,-195.8027 192.4762,-190.1371\"/>\n</g>\n<!-- 9 -->\n<g id=\"node10\" class=\"node\">\n<title>9</title>\n<path fill=\"#39e581\" stroke=\"#000000\" d=\"M338.5,-179.5C338.5,-179.5 239.5,-179.5 239.5,-179.5 233.5,-179.5 227.5,-173.5 227.5,-167.5 227.5,-167.5 227.5,-123.5 227.5,-123.5 227.5,-117.5 233.5,-111.5 239.5,-111.5 239.5,-111.5 338.5,-111.5 338.5,-111.5 344.5,-111.5 350.5,-117.5 350.5,-123.5 350.5,-123.5 350.5,-167.5 350.5,-167.5 350.5,-173.5 344.5,-179.5 338.5,-179.5\"/>\n<text text-anchor=\"middle\" x=\"289\" y=\"-164.3\" font-family=\"Helvetica,sans-Serif\" font-size=\"14.00\" fill=\"#000000\">entropy = 0.0</text>\n<text text-anchor=\"middle\" x=\"289\" y=\"-149.3\" font-family=\"Helvetica,sans-Serif\" font-size=\"14.00\" fill=\"#000000\">samples = 25</text>\n<text text-anchor=\"middle\" x=\"289\" y=\"-134.3\" font-family=\"Helvetica,sans-Serif\" font-size=\"14.00\" fill=\"#000000\">value = [0, 25, 0]</text>\n<text text-anchor=\"middle\" x=\"289\" y=\"-119.3\" font-family=\"Helvetica,sans-Serif\" font-size=\"14.00\" fill=\"#000000\">class = class_1</text>\n</g>\n<!-- 5&#45;&gt;9 -->\n<g id=\"edge9\" class=\"edge\">\n<title>5&#45;&gt;9</title>\n<path fill=\"none\" stroke=\"#000000\" d=\"M289,-222.8796C289,-212.2134 289,-200.7021 289,-189.9015\"/>\n<polygon fill=\"#000000\" stroke=\"#000000\" points=\"292.5001,-189.8149 289,-179.8149 285.5001,-189.815 292.5001,-189.8149\"/>\n</g>\n<!-- 7 -->\n<g id=\"node8\" class=\"node\">\n<title>7</title>\n<path fill=\"#39e581\" stroke=\"#000000\" d=\"M104,-68C104,-68 12,-68 12,-68 6,-68 0,-62 0,-56 0,-56 0,-12 0,-12 0,-6 6,0 12,0 12,0 104,0 104,0 110,0 116,-6 116,-12 116,-12 116,-56 116,-56 116,-62 110,-68 104,-68\"/>\n<text text-anchor=\"middle\" x=\"58\" y=\"-52.8\" font-family=\"Helvetica,sans-Serif\" font-size=\"14.00\" fill=\"#000000\">entropy = 0.0</text>\n<text text-anchor=\"middle\" x=\"58\" y=\"-37.8\" font-family=\"Helvetica,sans-Serif\" font-size=\"14.00\" fill=\"#000000\">samples = 1</text>\n<text text-anchor=\"middle\" x=\"58\" y=\"-22.8\" font-family=\"Helvetica,sans-Serif\" font-size=\"14.00\" fill=\"#000000\">value = [0, 1, 0]</text>\n<text text-anchor=\"middle\" x=\"58\" y=\"-7.8\" font-family=\"Helvetica,sans-Serif\" font-size=\"14.00\" fill=\"#000000\">class = class_1</text>\n</g>\n<!-- 6&#45;&gt;7 -->\n<g id=\"edge7\" class=\"edge\">\n<title>6&#45;&gt;7</title>\n<path fill=\"none\" stroke=\"#000000\" d=\"M100.0517,-103.9815C94.7499,-95.1585 89.1419,-85.8258 83.8089,-76.9506\"/>\n<polygon fill=\"#000000\" stroke=\"#000000\" points=\"86.7396,-75.0325 78.5889,-68.2637 80.7395,-78.638 86.7396,-75.0325\"/>\n</g>\n<!-- 8 -->\n<g id=\"node9\" class=\"node\">\n<title>8</title>\n<path fill=\"#8139e5\" stroke=\"#000000\" d=\"M238,-68C238,-68 146,-68 146,-68 140,-68 134,-62 134,-56 134,-56 134,-12 134,-12 134,-6 140,0 146,0 146,0 238,0 238,0 244,0 250,-6 250,-12 250,-12 250,-56 250,-56 250,-62 244,-68 238,-68\"/>\n<text text-anchor=\"middle\" x=\"192\" y=\"-52.8\" font-family=\"Helvetica,sans-Serif\" font-size=\"14.00\" fill=\"#000000\">entropy = 0.0</text>\n<text text-anchor=\"middle\" x=\"192\" y=\"-37.8\" font-family=\"Helvetica,sans-Serif\" font-size=\"14.00\" fill=\"#000000\">samples = 1</text>\n<text text-anchor=\"middle\" x=\"192\" y=\"-22.8\" font-family=\"Helvetica,sans-Serif\" font-size=\"14.00\" fill=\"#000000\">value = [0, 0, 1]</text>\n<text text-anchor=\"middle\" x=\"192\" y=\"-7.8\" font-family=\"Helvetica,sans-Serif\" font-size=\"14.00\" fill=\"#000000\">class = class_2</text>\n</g>\n<!-- 6&#45;&gt;8 -->\n<g id=\"edge8\" class=\"edge\">\n<title>6&#45;&gt;8</title>\n<path fill=\"none\" stroke=\"#000000\" d=\"M149.9483,-103.9815C155.2501,-95.1585 160.8581,-85.8258 166.1911,-76.9506\"/>\n<polygon fill=\"#000000\" stroke=\"#000000\" points=\"169.2605,-78.638 171.4111,-68.2637 163.2604,-75.0325 169.2605,-78.638\"/>\n</g>\n<!-- 11 -->\n<g id=\"node12\" class=\"node\">\n<title>11</title>\n<path fill=\"#39e581\" stroke=\"#000000\" d=\"M473,-179.5C473,-179.5 381,-179.5 381,-179.5 375,-179.5 369,-173.5 369,-167.5 369,-167.5 369,-123.5 369,-123.5 369,-117.5 375,-111.5 381,-111.5 381,-111.5 473,-111.5 473,-111.5 479,-111.5 485,-117.5 485,-123.5 485,-123.5 485,-167.5 485,-167.5 485,-173.5 479,-179.5 473,-179.5\"/>\n<text text-anchor=\"middle\" x=\"427\" y=\"-164.3\" font-family=\"Helvetica,sans-Serif\" font-size=\"14.00\" fill=\"#000000\">entropy = 0.0</text>\n<text text-anchor=\"middle\" x=\"427\" y=\"-149.3\" font-family=\"Helvetica,sans-Serif\" font-size=\"14.00\" fill=\"#000000\">samples = 2</text>\n<text text-anchor=\"middle\" x=\"427\" y=\"-134.3\" font-family=\"Helvetica,sans-Serif\" font-size=\"14.00\" fill=\"#000000\">value = [0, 2, 0]</text>\n<text text-anchor=\"middle\" x=\"427\" y=\"-119.3\" font-family=\"Helvetica,sans-Serif\" font-size=\"14.00\" fill=\"#000000\">class = class_1</text>\n</g>\n<!-- 10&#45;&gt;11 -->\n<g id=\"edge11\" class=\"edge\">\n<title>10&#45;&gt;11</title>\n<path fill=\"none\" stroke=\"#000000\" d=\"M490.7244,-222.8796C481.3065,-211.4436 471.0887,-199.0363 461.65,-187.575\"/>\n<polygon fill=\"#000000\" stroke=\"#000000\" points=\"464.3182,-185.3093 455.2594,-179.8149 458.9147,-189.7592 464.3182,-185.3093\"/>\n</g>\n<!-- 12 -->\n<g id=\"node13\" class=\"node\">\n<title>12</title>\n<path fill=\"#ffffff\" stroke=\"#000000\" d=\"M655,-187C655,-187 515,-187 515,-187 509,-187 503,-181 503,-175 503,-175 503,-116 503,-116 503,-110 509,-104 515,-104 515,-104 655,-104 655,-104 661,-104 667,-110 667,-116 667,-116 667,-175 667,-175 667,-181 661,-187 655,-187\"/>\n<text text-anchor=\"middle\" x=\"585\" y=\"-171.8\" font-family=\"Helvetica,sans-Serif\" font-size=\"14.00\" fill=\"#000000\">total_phenols &lt;= 1.734</text>\n<text text-anchor=\"middle\" x=\"585\" y=\"-156.8\" font-family=\"Helvetica,sans-Serif\" font-size=\"14.00\" fill=\"#000000\">entropy = 1.0</text>\n<text text-anchor=\"middle\" x=\"585\" y=\"-141.8\" font-family=\"Helvetica,sans-Serif\" font-size=\"14.00\" fill=\"#000000\">samples = 2</text>\n<text text-anchor=\"middle\" x=\"585\" y=\"-126.8\" font-family=\"Helvetica,sans-Serif\" font-size=\"14.00\" fill=\"#000000\">value = [1, 0, 1]</text>\n<text text-anchor=\"middle\" x=\"585\" y=\"-111.8\" font-family=\"Helvetica,sans-Serif\" font-size=\"14.00\" fill=\"#000000\">class = class_0</text>\n</g>\n<!-- 10&#45;&gt;12 -->\n<g id=\"edge12\" class=\"edge\">\n<title>10&#45;&gt;12</title>\n<path fill=\"none\" stroke=\"#000000\" d=\"M545.9851,-222.8796C550.299,-214.3236 554.8872,-205.2238 559.3446,-196.3833\"/>\n<polygon fill=\"#000000\" stroke=\"#000000\" points=\"562.5484,-197.8031 563.9253,-187.2981 556.2979,-194.6515 562.5484,-197.8031\"/>\n</g>\n<!-- 13 -->\n<g id=\"node14\" class=\"node\">\n<title>13</title>\n<path fill=\"#8139e5\" stroke=\"#000000\" d=\"M564,-68C564,-68 472,-68 472,-68 466,-68 460,-62 460,-56 460,-56 460,-12 460,-12 460,-6 466,0 472,0 472,0 564,0 564,0 570,0 576,-6 576,-12 576,-12 576,-56 576,-56 576,-62 570,-68 564,-68\"/>\n<text text-anchor=\"middle\" x=\"518\" y=\"-52.8\" font-family=\"Helvetica,sans-Serif\" font-size=\"14.00\" fill=\"#000000\">entropy = 0.0</text>\n<text text-anchor=\"middle\" x=\"518\" y=\"-37.8\" font-family=\"Helvetica,sans-Serif\" font-size=\"14.00\" fill=\"#000000\">samples = 1</text>\n<text text-anchor=\"middle\" x=\"518\" y=\"-22.8\" font-family=\"Helvetica,sans-Serif\" font-size=\"14.00\" fill=\"#000000\">value = [0, 0, 1]</text>\n<text text-anchor=\"middle\" x=\"518\" y=\"-7.8\" font-family=\"Helvetica,sans-Serif\" font-size=\"14.00\" fill=\"#000000\">class = class_2</text>\n</g>\n<!-- 12&#45;&gt;13 -->\n<g id=\"edge13\" class=\"edge\">\n<title>12&#45;&gt;13</title>\n<path fill=\"none\" stroke=\"#000000\" d=\"M560.0517,-103.9815C554.7499,-95.1585 549.1419,-85.8258 543.8089,-76.9506\"/>\n<polygon fill=\"#000000\" stroke=\"#000000\" points=\"546.7396,-75.0325 538.5889,-68.2637 540.7395,-78.638 546.7396,-75.0325\"/>\n</g>\n<!-- 14 -->\n<g id=\"node15\" class=\"node\">\n<title>14</title>\n<path fill=\"#e58139\" stroke=\"#000000\" d=\"M698,-68C698,-68 606,-68 606,-68 600,-68 594,-62 594,-56 594,-56 594,-12 594,-12 594,-6 600,0 606,0 606,0 698,0 698,0 704,0 710,-6 710,-12 710,-12 710,-56 710,-56 710,-62 704,-68 698,-68\"/>\n<text text-anchor=\"middle\" x=\"652\" y=\"-52.8\" font-family=\"Helvetica,sans-Serif\" font-size=\"14.00\" fill=\"#000000\">entropy = 0.0</text>\n<text text-anchor=\"middle\" x=\"652\" y=\"-37.8\" font-family=\"Helvetica,sans-Serif\" font-size=\"14.00\" fill=\"#000000\">samples = 1</text>\n<text text-anchor=\"middle\" x=\"652\" y=\"-22.8\" font-family=\"Helvetica,sans-Serif\" font-size=\"14.00\" fill=\"#000000\">value = [1, 0, 0]</text>\n<text text-anchor=\"middle\" x=\"652\" y=\"-7.8\" font-family=\"Helvetica,sans-Serif\" font-size=\"14.00\" fill=\"#000000\">class = class_0</text>\n</g>\n<!-- 12&#45;&gt;14 -->\n<g id=\"edge14\" class=\"edge\">\n<title>12&#45;&gt;14</title>\n<path fill=\"none\" stroke=\"#000000\" d=\"M609.9483,-103.9815C615.2501,-95.1585 620.8581,-85.8258 626.1911,-76.9506\"/>\n<polygon fill=\"#000000\" stroke=\"#000000\" points=\"629.2605,-78.638 631.4111,-68.2637 623.2604,-75.0325 629.2605,-78.638\"/>\n</g>\n<!-- 16 -->\n<g id=\"node17\" class=\"node\">\n<title>16</title>\n<path fill=\"#8f4fe8\" stroke=\"#000000\" d=\"M903,-306C903,-306 757,-306 757,-306 751,-306 745,-300 745,-294 745,-294 745,-235 745,-235 745,-229 751,-223 757,-223 757,-223 903,-223 903,-223 909,-223 915,-229 915,-235 915,-235 915,-294 915,-294 915,-300 909,-306 903,-306\"/>\n<text text-anchor=\"middle\" x=\"830\" y=\"-290.8\" font-family=\"Helvetica,sans-Serif\" font-size=\"14.00\" fill=\"#000000\">color_intensity &lt;= 3.544</text>\n<text text-anchor=\"middle\" x=\"830\" y=\"-275.8\" font-family=\"Helvetica,sans-Serif\" font-size=\"14.00\" fill=\"#000000\">entropy = 0.469</text>\n<text text-anchor=\"middle\" x=\"830\" y=\"-260.8\" font-family=\"Helvetica,sans-Serif\" font-size=\"14.00\" fill=\"#000000\">samples = 10</text>\n<text text-anchor=\"middle\" x=\"830\" y=\"-245.8\" font-family=\"Helvetica,sans-Serif\" font-size=\"14.00\" fill=\"#000000\">value = [0, 1, 9]</text>\n<text text-anchor=\"middle\" x=\"830\" y=\"-230.8\" font-family=\"Helvetica,sans-Serif\" font-size=\"14.00\" fill=\"#000000\">class = class_2</text>\n</g>\n<!-- 15&#45;&gt;16 -->\n<g id=\"edge16\" class=\"edge\">\n<title>15&#45;&gt;16</title>\n<path fill=\"none\" stroke=\"#000000\" d=\"M833.2512,-341.8796C832.9069,-333.6838 832.5416,-324.9891 832.1849,-316.5013\"/>\n<polygon fill=\"#000000\" stroke=\"#000000\" points=\"835.673,-316.1423 831.7562,-306.2981 828.6792,-316.4362 835.673,-316.1423\"/>\n</g>\n<!-- 19 -->\n<g id=\"node20\" class=\"node\">\n<title>19</title>\n<path fill=\"#61ea9a\" stroke=\"#000000\" d=\"M1082.5,-306C1082.5,-306 945.5,-306 945.5,-306 939.5,-306 933.5,-300 933.5,-294 933.5,-294 933.5,-235 933.5,-235 933.5,-229 939.5,-223 945.5,-223 945.5,-223 1082.5,-223 1082.5,-223 1088.5,-223 1094.5,-229 1094.5,-235 1094.5,-235 1094.5,-294 1094.5,-294 1094.5,-300 1088.5,-306 1082.5,-306\"/>\n<text text-anchor=\"middle\" x=\"1014\" y=\"-290.8\" font-family=\"Helvetica,sans-Serif\" font-size=\"14.00\" fill=\"#000000\">magnesium &lt;= 97.454</text>\n<text text-anchor=\"middle\" x=\"1014\" y=\"-275.8\" font-family=\"Helvetica,sans-Serif\" font-size=\"14.00\" fill=\"#000000\">entropy = 0.65</text>\n<text text-anchor=\"middle\" x=\"1014\" y=\"-260.8\" font-family=\"Helvetica,sans-Serif\" font-size=\"14.00\" fill=\"#000000\">samples = 6</text>\n<text text-anchor=\"middle\" x=\"1014\" y=\"-245.8\" font-family=\"Helvetica,sans-Serif\" font-size=\"14.00\" fill=\"#000000\">value = [1, 5, 0]</text>\n<text text-anchor=\"middle\" x=\"1014\" y=\"-230.8\" font-family=\"Helvetica,sans-Serif\" font-size=\"14.00\" fill=\"#000000\">class = class_1</text>\n</g>\n<!-- 15&#45;&gt;19 -->\n<g id=\"edge19\" class=\"edge\">\n<title>15&#45;&gt;19</title>\n<path fill=\"none\" stroke=\"#000000\" d=\"M897.6055,-341.8796C912.1854,-332.1868 927.8151,-321.7961 942.7382,-311.8752\"/>\n<polygon fill=\"#000000\" stroke=\"#000000\" points=\"945.0399,-314.5479 951.4298,-306.0969 941.1645,-308.7185 945.0399,-314.5479\"/>\n</g>\n<!-- 17 -->\n<g id=\"node18\" class=\"node\">\n<title>17</title>\n<path fill=\"#39e581\" stroke=\"#000000\" d=\"M789,-179.5C789,-179.5 697,-179.5 697,-179.5 691,-179.5 685,-173.5 685,-167.5 685,-167.5 685,-123.5 685,-123.5 685,-117.5 691,-111.5 697,-111.5 697,-111.5 789,-111.5 789,-111.5 795,-111.5 801,-117.5 801,-123.5 801,-123.5 801,-167.5 801,-167.5 801,-173.5 795,-179.5 789,-179.5\"/>\n<text text-anchor=\"middle\" x=\"743\" y=\"-164.3\" font-family=\"Helvetica,sans-Serif\" font-size=\"14.00\" fill=\"#000000\">entropy = 0.0</text>\n<text text-anchor=\"middle\" x=\"743\" y=\"-149.3\" font-family=\"Helvetica,sans-Serif\" font-size=\"14.00\" fill=\"#000000\">samples = 1</text>\n<text text-anchor=\"middle\" x=\"743\" y=\"-134.3\" font-family=\"Helvetica,sans-Serif\" font-size=\"14.00\" fill=\"#000000\">value = [0, 1, 0]</text>\n<text text-anchor=\"middle\" x=\"743\" y=\"-119.3\" font-family=\"Helvetica,sans-Serif\" font-size=\"14.00\" fill=\"#000000\">class = class_1</text>\n</g>\n<!-- 16&#45;&gt;17 -->\n<g id=\"edge17\" class=\"edge\">\n<title>16&#45;&gt;17</title>\n<path fill=\"none\" stroke=\"#000000\" d=\"M799.5716,-222.8796C791.2913,-211.5536 782.3143,-199.2748 774.0026,-187.9058\"/>\n<polygon fill=\"#000000\" stroke=\"#000000\" points=\"776.8147,-185.822 768.0874,-179.8149 771.1639,-189.9533 776.8147,-185.822\"/>\n</g>\n<!-- 18 -->\n<g id=\"node19\" class=\"node\">\n<title>18</title>\n<path fill=\"#8139e5\" stroke=\"#000000\" d=\"M923,-179.5C923,-179.5 831,-179.5 831,-179.5 825,-179.5 819,-173.5 819,-167.5 819,-167.5 819,-123.5 819,-123.5 819,-117.5 825,-111.5 831,-111.5 831,-111.5 923,-111.5 923,-111.5 929,-111.5 935,-117.5 935,-123.5 935,-123.5 935,-167.5 935,-167.5 935,-173.5 929,-179.5 923,-179.5\"/>\n<text text-anchor=\"middle\" x=\"877\" y=\"-164.3\" font-family=\"Helvetica,sans-Serif\" font-size=\"14.00\" fill=\"#000000\">entropy = 0.0</text>\n<text text-anchor=\"middle\" x=\"877\" y=\"-149.3\" font-family=\"Helvetica,sans-Serif\" font-size=\"14.00\" fill=\"#000000\">samples = 9</text>\n<text text-anchor=\"middle\" x=\"877\" y=\"-134.3\" font-family=\"Helvetica,sans-Serif\" font-size=\"14.00\" fill=\"#000000\">value = [0, 0, 9]</text>\n<text text-anchor=\"middle\" x=\"877\" y=\"-119.3\" font-family=\"Helvetica,sans-Serif\" font-size=\"14.00\" fill=\"#000000\">class = class_2</text>\n</g>\n<!-- 16&#45;&gt;18 -->\n<g id=\"edge18\" class=\"edge\">\n<title>16&#45;&gt;18</title>\n<path fill=\"none\" stroke=\"#000000\" d=\"M846.4383,-222.8796C850.7379,-211.9935 855.3851,-200.227 859.7268,-189.2344\"/>\n<polygon fill=\"#000000\" stroke=\"#000000\" points=\"863.0288,-190.4015 863.447,-179.8149 856.5182,-187.8301 863.0288,-190.4015\"/>\n</g>\n<!-- 20 -->\n<g id=\"node21\" class=\"node\">\n<title>20</title>\n<path fill=\"#39e581\" stroke=\"#000000\" d=\"M1057,-179.5C1057,-179.5 965,-179.5 965,-179.5 959,-179.5 953,-173.5 953,-167.5 953,-167.5 953,-123.5 953,-123.5 953,-117.5 959,-111.5 965,-111.5 965,-111.5 1057,-111.5 1057,-111.5 1063,-111.5 1069,-117.5 1069,-123.5 1069,-123.5 1069,-167.5 1069,-167.5 1069,-173.5 1063,-179.5 1057,-179.5\"/>\n<text text-anchor=\"middle\" x=\"1011\" y=\"-164.3\" font-family=\"Helvetica,sans-Serif\" font-size=\"14.00\" fill=\"#000000\">entropy = 0.0</text>\n<text text-anchor=\"middle\" x=\"1011\" y=\"-149.3\" font-family=\"Helvetica,sans-Serif\" font-size=\"14.00\" fill=\"#000000\">samples = 4</text>\n<text text-anchor=\"middle\" x=\"1011\" y=\"-134.3\" font-family=\"Helvetica,sans-Serif\" font-size=\"14.00\" fill=\"#000000\">value = [0, 4, 0]</text>\n<text text-anchor=\"middle\" x=\"1011\" y=\"-119.3\" font-family=\"Helvetica,sans-Serif\" font-size=\"14.00\" fill=\"#000000\">class = class_1</text>\n</g>\n<!-- 19&#45;&gt;20 -->\n<g id=\"edge20\" class=\"edge\">\n<title>19&#45;&gt;20</title>\n<path fill=\"none\" stroke=\"#000000\" d=\"M1012.9507,-222.8796C1012.6818,-212.2134 1012.3916,-200.7021 1012.1194,-189.9015\"/>\n<polygon fill=\"#000000\" stroke=\"#000000\" points=\"1015.6161,-189.7235 1011.8651,-179.8149 1008.6183,-189.9 1015.6161,-189.7235\"/>\n</g>\n<!-- 21 -->\n<g id=\"node22\" class=\"node\">\n<title>21</title>\n<path fill=\"#ffffff\" stroke=\"#000000\" d=\"M1237,-187C1237,-187 1099,-187 1099,-187 1093,-187 1087,-181 1087,-175 1087,-175 1087,-116 1087,-116 1087,-110 1093,-104 1099,-104 1099,-104 1237,-104 1237,-104 1243,-104 1249,-110 1249,-116 1249,-116 1249,-175 1249,-175 1249,-181 1243,-187 1237,-187\"/>\n<text text-anchor=\"middle\" x=\"1168\" y=\"-171.8\" font-family=\"Helvetica,sans-Serif\" font-size=\"14.00\" fill=\"#000000\">color_intensity &lt;= 4.21</text>\n<text text-anchor=\"middle\" x=\"1168\" y=\"-156.8\" font-family=\"Helvetica,sans-Serif\" font-size=\"14.00\" fill=\"#000000\">entropy = 1.0</text>\n<text text-anchor=\"middle\" x=\"1168\" y=\"-141.8\" font-family=\"Helvetica,sans-Serif\" font-size=\"14.00\" fill=\"#000000\">samples = 2</text>\n<text text-anchor=\"middle\" x=\"1168\" y=\"-126.8\" font-family=\"Helvetica,sans-Serif\" font-size=\"14.00\" fill=\"#000000\">value = [1, 1, 0]</text>\n<text text-anchor=\"middle\" x=\"1168\" y=\"-111.8\" font-family=\"Helvetica,sans-Serif\" font-size=\"14.00\" fill=\"#000000\">class = class_0</text>\n</g>\n<!-- 19&#45;&gt;21 -->\n<g id=\"edge21\" class=\"edge\">\n<title>19&#45;&gt;21</title>\n<path fill=\"none\" stroke=\"#000000\" d=\"M1067.8617,-222.8796C1080.1709,-213.368 1093.3497,-203.1843 1105.9704,-193.432\"/>\n<polygon fill=\"#000000\" stroke=\"#000000\" points=\"1108.3959,-195.9809 1114.1687,-187.0969 1104.1157,-190.4419 1108.3959,-195.9809\"/>\n</g>\n<!-- 22 -->\n<g id=\"node23\" class=\"node\">\n<title>22</title>\n<path fill=\"#39e581\" stroke=\"#000000\" d=\"M1147,-68C1147,-68 1055,-68 1055,-68 1049,-68 1043,-62 1043,-56 1043,-56 1043,-12 1043,-12 1043,-6 1049,0 1055,0 1055,0 1147,0 1147,0 1153,0 1159,-6 1159,-12 1159,-12 1159,-56 1159,-56 1159,-62 1153,-68 1147,-68\"/>\n<text text-anchor=\"middle\" x=\"1101\" y=\"-52.8\" font-family=\"Helvetica,sans-Serif\" font-size=\"14.00\" fill=\"#000000\">entropy = 0.0</text>\n<text text-anchor=\"middle\" x=\"1101\" y=\"-37.8\" font-family=\"Helvetica,sans-Serif\" font-size=\"14.00\" fill=\"#000000\">samples = 1</text>\n<text text-anchor=\"middle\" x=\"1101\" y=\"-22.8\" font-family=\"Helvetica,sans-Serif\" font-size=\"14.00\" fill=\"#000000\">value = [0, 1, 0]</text>\n<text text-anchor=\"middle\" x=\"1101\" y=\"-7.8\" font-family=\"Helvetica,sans-Serif\" font-size=\"14.00\" fill=\"#000000\">class = class_1</text>\n</g>\n<!-- 21&#45;&gt;22 -->\n<g id=\"edge22\" class=\"edge\">\n<title>21&#45;&gt;22</title>\n<path fill=\"none\" stroke=\"#000000\" d=\"M1143.0517,-103.9815C1137.7499,-95.1585 1132.1419,-85.8258 1126.8089,-76.9506\"/>\n<polygon fill=\"#000000\" stroke=\"#000000\" points=\"1129.7396,-75.0325 1121.5889,-68.2637 1123.7395,-78.638 1129.7396,-75.0325\"/>\n</g>\n<!-- 23 -->\n<g id=\"node24\" class=\"node\">\n<title>23</title>\n<path fill=\"#e58139\" stroke=\"#000000\" d=\"M1281,-68C1281,-68 1189,-68 1189,-68 1183,-68 1177,-62 1177,-56 1177,-56 1177,-12 1177,-12 1177,-6 1183,0 1189,0 1189,0 1281,0 1281,0 1287,0 1293,-6 1293,-12 1293,-12 1293,-56 1293,-56 1293,-62 1287,-68 1281,-68\"/>\n<text text-anchor=\"middle\" x=\"1235\" y=\"-52.8\" font-family=\"Helvetica,sans-Serif\" font-size=\"14.00\" fill=\"#000000\">entropy = 0.0</text>\n<text text-anchor=\"middle\" x=\"1235\" y=\"-37.8\" font-family=\"Helvetica,sans-Serif\" font-size=\"14.00\" fill=\"#000000\">samples = 1</text>\n<text text-anchor=\"middle\" x=\"1235\" y=\"-22.8\" font-family=\"Helvetica,sans-Serif\" font-size=\"14.00\" fill=\"#000000\">value = [1, 0, 0]</text>\n<text text-anchor=\"middle\" x=\"1235\" y=\"-7.8\" font-family=\"Helvetica,sans-Serif\" font-size=\"14.00\" fill=\"#000000\">class = class_0</text>\n</g>\n<!-- 21&#45;&gt;23 -->\n<g id=\"edge23\" class=\"edge\">\n<title>21&#45;&gt;23</title>\n<path fill=\"none\" stroke=\"#000000\" d=\"M1192.9483,-103.9815C1198.2501,-95.1585 1203.8581,-85.8258 1209.1911,-76.9506\"/>\n<polygon fill=\"#000000\" stroke=\"#000000\" points=\"1212.2605,-78.638 1214.4111,-68.2637 1206.2604,-75.0325 1212.2605,-78.638\"/>\n</g>\n<!-- 25 -->\n<g id=\"node26\" class=\"node\">\n<title>25</title>\n<path fill=\"#39e581\" stroke=\"#000000\" d=\"M1058.5,-536.5C1058.5,-536.5 959.5,-536.5 959.5,-536.5 953.5,-536.5 947.5,-530.5 947.5,-524.5 947.5,-524.5 947.5,-480.5 947.5,-480.5 947.5,-474.5 953.5,-468.5 959.5,-468.5 959.5,-468.5 1058.5,-468.5 1058.5,-468.5 1064.5,-468.5 1070.5,-474.5 1070.5,-480.5 1070.5,-480.5 1070.5,-524.5 1070.5,-524.5 1070.5,-530.5 1064.5,-536.5 1058.5,-536.5\"/>\n<text text-anchor=\"middle\" x=\"1009\" y=\"-521.3\" font-family=\"Helvetica,sans-Serif\" font-size=\"14.00\" fill=\"#000000\">entropy = 0.0</text>\n<text text-anchor=\"middle\" x=\"1009\" y=\"-506.3\" font-family=\"Helvetica,sans-Serif\" font-size=\"14.00\" fill=\"#000000\">samples = 11</text>\n<text text-anchor=\"middle\" x=\"1009\" y=\"-491.3\" font-family=\"Helvetica,sans-Serif\" font-size=\"14.00\" fill=\"#000000\">value = [0, 11, 0]</text>\n<text text-anchor=\"middle\" x=\"1009\" y=\"-476.3\" font-family=\"Helvetica,sans-Serif\" font-size=\"14.00\" fill=\"#000000\">class = class_1</text>\n</g>\n<!-- 24&#45;&gt;25 -->\n<g id=\"edge25\" class=\"edge\">\n<title>24&#45;&gt;25</title>\n<path fill=\"none\" stroke=\"#000000\" d=\"M1009,-579.8796C1009,-569.2134 1009,-557.7021 1009,-546.9015\"/>\n<polygon fill=\"#000000\" stroke=\"#000000\" points=\"1012.5001,-546.8149 1009,-536.8149 1005.5001,-546.815 1012.5001,-546.8149\"/>\n</g>\n<!-- 26 -->\n<g id=\"node27\" class=\"node\">\n<title>26</title>\n<path fill=\"#e78c49\" stroke=\"#000000\" d=\"M1233.5,-544C1233.5,-544 1120.5,-544 1120.5,-544 1114.5,-544 1108.5,-538 1108.5,-532 1108.5,-532 1108.5,-473 1108.5,-473 1108.5,-467 1114.5,-461 1120.5,-461 1120.5,-461 1233.5,-461 1233.5,-461 1239.5,-461 1245.5,-467 1245.5,-473 1245.5,-473 1245.5,-532 1245.5,-532 1245.5,-538 1239.5,-544 1233.5,-544\"/>\n<text text-anchor=\"middle\" x=\"1177\" y=\"-528.8\" font-family=\"Helvetica,sans-Serif\" font-size=\"14.00\" fill=\"#000000\">proline &lt;= 538.677</text>\n<text text-anchor=\"middle\" x=\"1177\" y=\"-513.8\" font-family=\"Helvetica,sans-Serif\" font-size=\"14.00\" fill=\"#000000\">entropy = 0.391</text>\n<text text-anchor=\"middle\" x=\"1177\" y=\"-498.8\" font-family=\"Helvetica,sans-Serif\" font-size=\"14.00\" fill=\"#000000\">samples = 39</text>\n<text text-anchor=\"middle\" x=\"1177\" y=\"-483.8\" font-family=\"Helvetica,sans-Serif\" font-size=\"14.00\" fill=\"#000000\">value = [36, 3, 0]</text>\n<text text-anchor=\"middle\" x=\"1177\" y=\"-468.8\" font-family=\"Helvetica,sans-Serif\" font-size=\"14.00\" fill=\"#000000\">class = class_0</text>\n</g>\n<!-- 24&#45;&gt;26 -->\n<g id=\"edge26\" class=\"edge\">\n<title>24&#45;&gt;26</title>\n<path fill=\"none\" stroke=\"#000000\" d=\"M1067.7582,-579.8796C1081.3143,-570.2774 1095.8372,-559.9903 1109.7246,-550.1534\"/>\n<polygon fill=\"#000000\" stroke=\"#000000\" points=\"1112.1377,-552.7332 1118.2749,-544.0969 1108.0916,-547.021 1112.1377,-552.7332\"/>\n</g>\n<!-- 27 -->\n<g id=\"node28\" class=\"node\">\n<title>27</title>\n<path fill=\"#39e581\" stroke=\"#000000\" d=\"M1223,-417.5C1223,-417.5 1131,-417.5 1131,-417.5 1125,-417.5 1119,-411.5 1119,-405.5 1119,-405.5 1119,-361.5 1119,-361.5 1119,-355.5 1125,-349.5 1131,-349.5 1131,-349.5 1223,-349.5 1223,-349.5 1229,-349.5 1235,-355.5 1235,-361.5 1235,-361.5 1235,-405.5 1235,-405.5 1235,-411.5 1229,-417.5 1223,-417.5\"/>\n<text text-anchor=\"middle\" x=\"1177\" y=\"-402.3\" font-family=\"Helvetica,sans-Serif\" font-size=\"14.00\" fill=\"#000000\">entropy = 0.0</text>\n<text text-anchor=\"middle\" x=\"1177\" y=\"-387.3\" font-family=\"Helvetica,sans-Serif\" font-size=\"14.00\" fill=\"#000000\">samples = 1</text>\n<text text-anchor=\"middle\" x=\"1177\" y=\"-372.3\" font-family=\"Helvetica,sans-Serif\" font-size=\"14.00\" fill=\"#000000\">value = [0, 1, 0]</text>\n<text text-anchor=\"middle\" x=\"1177\" y=\"-357.3\" font-family=\"Helvetica,sans-Serif\" font-size=\"14.00\" fill=\"#000000\">class = class_1</text>\n</g>\n<!-- 26&#45;&gt;27 -->\n<g id=\"edge27\" class=\"edge\">\n<title>26&#45;&gt;27</title>\n<path fill=\"none\" stroke=\"#000000\" d=\"M1177,-460.8796C1177,-450.2134 1177,-438.7021 1177,-427.9015\"/>\n<polygon fill=\"#000000\" stroke=\"#000000\" points=\"1180.5001,-427.8149 1177,-417.8149 1173.5001,-427.815 1180.5001,-427.8149\"/>\n</g>\n<!-- 28 -->\n<g id=\"node29\" class=\"node\">\n<title>28</title>\n<path fill=\"#e68844\" stroke=\"#000000\" d=\"M1381.5,-425C1381.5,-425 1268.5,-425 1268.5,-425 1262.5,-425 1256.5,-419 1256.5,-413 1256.5,-413 1256.5,-354 1256.5,-354 1256.5,-348 1262.5,-342 1268.5,-342 1268.5,-342 1381.5,-342 1381.5,-342 1387.5,-342 1393.5,-348 1393.5,-354 1393.5,-354 1393.5,-413 1393.5,-413 1393.5,-419 1387.5,-425 1381.5,-425\"/>\n<text text-anchor=\"middle\" x=\"1325\" y=\"-409.8\" font-family=\"Helvetica,sans-Serif\" font-size=\"14.00\" fill=\"#000000\">proline &lt;= 771.209</text>\n<text text-anchor=\"middle\" x=\"1325\" y=\"-394.8\" font-family=\"Helvetica,sans-Serif\" font-size=\"14.00\" fill=\"#000000\">entropy = 0.297</text>\n<text text-anchor=\"middle\" x=\"1325\" y=\"-379.8\" font-family=\"Helvetica,sans-Serif\" font-size=\"14.00\" fill=\"#000000\">samples = 38</text>\n<text text-anchor=\"middle\" x=\"1325\" y=\"-364.8\" font-family=\"Helvetica,sans-Serif\" font-size=\"14.00\" fill=\"#000000\">value = [36, 2, 0]</text>\n<text text-anchor=\"middle\" x=\"1325\" y=\"-349.8\" font-family=\"Helvetica,sans-Serif\" font-size=\"14.00\" fill=\"#000000\">class = class_0</text>\n</g>\n<!-- 26&#45;&gt;28 -->\n<g id=\"edge28\" class=\"edge\">\n<title>26&#45;&gt;28</title>\n<path fill=\"none\" stroke=\"#000000\" d=\"M1228.7632,-460.8796C1240.5928,-451.368 1253.2581,-441.1843 1265.3871,-431.432\"/>\n<polygon fill=\"#000000\" stroke=\"#000000\" points=\"1267.6659,-434.0908 1273.266,-425.0969 1263.2796,-428.6355 1267.6659,-434.0908\"/>\n</g>\n<!-- 29 -->\n<g id=\"node30\" class=\"node\">\n<title>29</title>\n<path fill=\"#ffffff\" stroke=\"#000000\" d=\"M1398,-306C1398,-306 1252,-306 1252,-306 1246,-306 1240,-300 1240,-294 1240,-294 1240,-235 1240,-235 1240,-229 1246,-223 1252,-223 1252,-223 1398,-223 1398,-223 1404,-223 1410,-229 1410,-235 1410,-235 1410,-294 1410,-294 1410,-300 1404,-306 1398,-306\"/>\n<text text-anchor=\"middle\" x=\"1325\" y=\"-290.8\" font-family=\"Helvetica,sans-Serif\" font-size=\"14.00\" fill=\"#000000\">color_intensity &lt;= 3.798</text>\n<text text-anchor=\"middle\" x=\"1325\" y=\"-275.8\" font-family=\"Helvetica,sans-Serif\" font-size=\"14.00\" fill=\"#000000\">entropy = 1.0</text>\n<text text-anchor=\"middle\" x=\"1325\" y=\"-260.8\" font-family=\"Helvetica,sans-Serif\" font-size=\"14.00\" fill=\"#000000\">samples = 4</text>\n<text text-anchor=\"middle\" x=\"1325\" y=\"-245.8\" font-family=\"Helvetica,sans-Serif\" font-size=\"14.00\" fill=\"#000000\">value = [2, 2, 0]</text>\n<text text-anchor=\"middle\" x=\"1325\" y=\"-230.8\" font-family=\"Helvetica,sans-Serif\" font-size=\"14.00\" fill=\"#000000\">class = class_0</text>\n</g>\n<!-- 28&#45;&gt;29 -->\n<g id=\"edge29\" class=\"edge\">\n<title>28&#45;&gt;29</title>\n<path fill=\"none\" stroke=\"#000000\" d=\"M1325,-341.8796C1325,-333.6838 1325,-324.9891 1325,-316.5013\"/>\n<polygon fill=\"#000000\" stroke=\"#000000\" points=\"1328.5001,-316.298 1325,-306.2981 1321.5001,-316.2981 1328.5001,-316.298\"/>\n</g>\n<!-- 32 -->\n<g id=\"node33\" class=\"node\">\n<title>32</title>\n<path fill=\"#e58139\" stroke=\"#000000\" d=\"M1539.5,-298.5C1539.5,-298.5 1440.5,-298.5 1440.5,-298.5 1434.5,-298.5 1428.5,-292.5 1428.5,-286.5 1428.5,-286.5 1428.5,-242.5 1428.5,-242.5 1428.5,-236.5 1434.5,-230.5 1440.5,-230.5 1440.5,-230.5 1539.5,-230.5 1539.5,-230.5 1545.5,-230.5 1551.5,-236.5 1551.5,-242.5 1551.5,-242.5 1551.5,-286.5 1551.5,-286.5 1551.5,-292.5 1545.5,-298.5 1539.5,-298.5\"/>\n<text text-anchor=\"middle\" x=\"1490\" y=\"-283.3\" font-family=\"Helvetica,sans-Serif\" font-size=\"14.00\" fill=\"#000000\">entropy = 0.0</text>\n<text text-anchor=\"middle\" x=\"1490\" y=\"-268.3\" font-family=\"Helvetica,sans-Serif\" font-size=\"14.00\" fill=\"#000000\">samples = 34</text>\n<text text-anchor=\"middle\" x=\"1490\" y=\"-253.3\" font-family=\"Helvetica,sans-Serif\" font-size=\"14.00\" fill=\"#000000\">value = [34, 0, 0]</text>\n<text text-anchor=\"middle\" x=\"1490\" y=\"-238.3\" font-family=\"Helvetica,sans-Serif\" font-size=\"14.00\" fill=\"#000000\">class = class_0</text>\n</g>\n<!-- 28&#45;&gt;32 -->\n<g id=\"edge32\" class=\"edge\">\n<title>28&#45;&gt;32</title>\n<path fill=\"none\" stroke=\"#000000\" d=\"M1382.709,-341.8796C1399.407,-329.8368 1417.5987,-316.7167 1434.1793,-304.7586\"/>\n<polygon fill=\"#000000\" stroke=\"#000000\" points=\"1436.6232,-307.3113 1442.6865,-298.623 1432.5285,-301.6339 1436.6232,-307.3113\"/>\n</g>\n<!-- 30 -->\n<g id=\"node31\" class=\"node\">\n<title>30</title>\n<path fill=\"#39e581\" stroke=\"#000000\" d=\"M1371,-179.5C1371,-179.5 1279,-179.5 1279,-179.5 1273,-179.5 1267,-173.5 1267,-167.5 1267,-167.5 1267,-123.5 1267,-123.5 1267,-117.5 1273,-111.5 1279,-111.5 1279,-111.5 1371,-111.5 1371,-111.5 1377,-111.5 1383,-117.5 1383,-123.5 1383,-123.5 1383,-167.5 1383,-167.5 1383,-173.5 1377,-179.5 1371,-179.5\"/>\n<text text-anchor=\"middle\" x=\"1325\" y=\"-164.3\" font-family=\"Helvetica,sans-Serif\" font-size=\"14.00\" fill=\"#000000\">entropy = 0.0</text>\n<text text-anchor=\"middle\" x=\"1325\" y=\"-149.3\" font-family=\"Helvetica,sans-Serif\" font-size=\"14.00\" fill=\"#000000\">samples = 2</text>\n<text text-anchor=\"middle\" x=\"1325\" y=\"-134.3\" font-family=\"Helvetica,sans-Serif\" font-size=\"14.00\" fill=\"#000000\">value = [0, 2, 0]</text>\n<text text-anchor=\"middle\" x=\"1325\" y=\"-119.3\" font-family=\"Helvetica,sans-Serif\" font-size=\"14.00\" fill=\"#000000\">class = class_1</text>\n</g>\n<!-- 29&#45;&gt;30 -->\n<g id=\"edge30\" class=\"edge\">\n<title>29&#45;&gt;30</title>\n<path fill=\"none\" stroke=\"#000000\" d=\"M1325,-222.8796C1325,-212.2134 1325,-200.7021 1325,-189.9015\"/>\n<polygon fill=\"#000000\" stroke=\"#000000\" points=\"1328.5001,-189.8149 1325,-179.8149 1321.5001,-189.815 1328.5001,-189.8149\"/>\n</g>\n<!-- 31 -->\n<g id=\"node32\" class=\"node\">\n<title>31</title>\n<path fill=\"#e58139\" stroke=\"#000000\" d=\"M1505,-179.5C1505,-179.5 1413,-179.5 1413,-179.5 1407,-179.5 1401,-173.5 1401,-167.5 1401,-167.5 1401,-123.5 1401,-123.5 1401,-117.5 1407,-111.5 1413,-111.5 1413,-111.5 1505,-111.5 1505,-111.5 1511,-111.5 1517,-117.5 1517,-123.5 1517,-123.5 1517,-167.5 1517,-167.5 1517,-173.5 1511,-179.5 1505,-179.5\"/>\n<text text-anchor=\"middle\" x=\"1459\" y=\"-164.3\" font-family=\"Helvetica,sans-Serif\" font-size=\"14.00\" fill=\"#000000\">entropy = 0.0</text>\n<text text-anchor=\"middle\" x=\"1459\" y=\"-149.3\" font-family=\"Helvetica,sans-Serif\" font-size=\"14.00\" fill=\"#000000\">samples = 2</text>\n<text text-anchor=\"middle\" x=\"1459\" y=\"-134.3\" font-family=\"Helvetica,sans-Serif\" font-size=\"14.00\" fill=\"#000000\">value = [2, 0, 0]</text>\n<text text-anchor=\"middle\" x=\"1459\" y=\"-119.3\" font-family=\"Helvetica,sans-Serif\" font-size=\"14.00\" fill=\"#000000\">class = class_0</text>\n</g>\n<!-- 29&#45;&gt;31 -->\n<g id=\"edge31\" class=\"edge\">\n<title>29&#45;&gt;31</title>\n<path fill=\"none\" stroke=\"#000000\" d=\"M1371.8667,-222.8796C1385.1156,-211.1138 1399.5224,-198.3197 1412.7356,-186.5855\"/>\n<polygon fill=\"#000000\" stroke=\"#000000\" points=\"1415.2065,-189.0722 1420.3597,-179.8149 1410.5584,-183.8381 1415.2065,-189.0722\"/>\n</g>\n</g>\n</svg>\n"
          },
          "metadata": {
            "tags": []
          },
          "execution_count": 105
        }
      ]
    },
    {
      "cell_type": "markdown",
      "metadata": {
        "id": "eiKuikGXPl-s"
      },
      "source": [
        "we can see how the training data fit in the model. If the score of test data and score of training data have a big difference, it means it overfits."
      ]
    },
    {
      "cell_type": "code",
      "metadata": {
        "colab": {
          "base_uri": "https://localhost:8080/"
        },
        "id": "C3-os0_mNib9",
        "outputId": "a54f1837-8e08-4fca-d815-0adcddb4c32a"
      },
      "source": [
        "train_score = clf.score(Xtrain, ytrain)\r\n",
        "train_score"
      ],
      "execution_count": 115,
      "outputs": [
        {
          "output_type": "execute_result",
          "data": {
            "text/plain": [
              "1.0"
            ]
          },
          "metadata": {
            "tags": []
          },
          "execution_count": 115
        }
      ]
    },
    {
      "cell_type": "markdown",
      "metadata": {
        "id": "3mPyySHVaeYG"
      },
      "source": [
        "##understand the prim parameters\r\n",
        "min_samples_leaf,\r\n",
        "\r\n",
        "min_samples_split,\r\n",
        "\r\n",
        "max_depth\r\n"
      ]
    },
    {
      "cell_type": "code",
      "metadata": {
        "colab": {
          "base_uri": "https://localhost:8080/"
        },
        "id": "7MWoxMxxOknO",
        "outputId": "f926a38a-5e53-47b5-bb24-10bc5945fead"
      },
      "source": [
        "#use entropy as criterion\r\n",
        "clf = tree.DecisionTreeClassifier( criterion='entropy'\r\n",
        "                                  ,random_state=5\r\n",
        "                                  ,splitter='random'\r\n",
        "                                  ,max_depth = 10\r\n",
        "                                  ,min_samples_leaf = 2\r\n",
        "                                  ,min_samples_split = 2\r\n",
        "                                )\r\n",
        "#fit the data\r\n",
        "clf.fit(Xtrain, ytrain)\r\n",
        "#check the accuracy\r\n",
        "score = clf.score(Xtest, ytest)\r\n",
        "print(\"The accuracy is: {0:2.5f}\".format(score))"
      ],
      "execution_count": 126,
      "outputs": [
        {
          "output_type": "stream",
          "text": [
            "The accuracy is: 0.94444\n"
          ],
          "name": "stdout"
        }
      ]
    },
    {
      "cell_type": "code",
      "metadata": {
        "colab": {
          "base_uri": "https://localhost:8080/",
          "height": 916
        },
        "id": "YDqYA1aVa3aL",
        "outputId": "66f5ec87-8302-457c-a55d-e01cb916ef77"
      },
      "source": [
        "dot_data = tree.export_graphviz( clf\r\n",
        "                                ,out_file=None\r\n",
        "                                ,feature_names=feature_names\r\n",
        "                                ,class_names=class_names\r\n",
        "                                ,filled=True\r\n",
        "                                ,rounded=True\r\n",
        "                               )\r\n",
        "graph = graphviz.Source(dot_data)\r\n",
        "graph"
      ],
      "execution_count": 127,
      "outputs": [
        {
          "output_type": "execute_result",
          "data": {
            "text/plain": [
              "<graphviz.files.Source at 0x7f9893cd3a58>"
            ],
            "image/svg+xml": "<?xml version=\"1.0\" encoding=\"UTF-8\" standalone=\"no\"?>\n<!DOCTYPE svg PUBLIC \"-//W3C//DTD SVG 1.1//EN\"\n \"http://www.w3.org/Graphics/SVG/1.1/DTD/svg11.dtd\">\n<!-- Generated by graphviz version 2.40.1 (20161225.0304)\n -->\n<!-- Title: Tree Pages: 1 -->\n<svg width=\"1029pt\" height=\"671pt\"\n viewBox=\"0.00 0.00 1028.50 671.00\" xmlns=\"http://www.w3.org/2000/svg\" xmlns:xlink=\"http://www.w3.org/1999/xlink\">\n<g id=\"graph0\" class=\"graph\" transform=\"scale(1 1) rotate(0) translate(4 667)\">\n<title>Tree</title>\n<polygon fill=\"#ffffff\" stroke=\"transparent\" points=\"-4,4 -4,-667 1024.5,-667 1024.5,4 -4,4\"/>\n<!-- 0 -->\n<g id=\"node1\" class=\"node\">\n<title>0</title>\n<path fill=\"#e8fcf0\" stroke=\"#000000\" d=\"M649.5,-663C649.5,-663 530.5,-663 530.5,-663 524.5,-663 518.5,-657 518.5,-651 518.5,-651 518.5,-592 518.5,-592 518.5,-586 524.5,-580 530.5,-580 530.5,-580 649.5,-580 649.5,-580 655.5,-580 661.5,-586 661.5,-592 661.5,-592 661.5,-651 661.5,-651 661.5,-657 655.5,-663 649.5,-663\"/>\n<text text-anchor=\"middle\" x=\"590\" y=\"-647.8\" font-family=\"Helvetica,sans-Serif\" font-size=\"14.00\" fill=\"#000000\">flavanoids &lt;= 2.415</text>\n<text text-anchor=\"middle\" x=\"590\" y=\"-632.8\" font-family=\"Helvetica,sans-Serif\" font-size=\"14.00\" fill=\"#000000\">entropy = 1.576</text>\n<text text-anchor=\"middle\" x=\"590\" y=\"-617.8\" font-family=\"Helvetica,sans-Serif\" font-size=\"14.00\" fill=\"#000000\">samples = 124</text>\n<text text-anchor=\"middle\" x=\"590\" y=\"-602.8\" font-family=\"Helvetica,sans-Serif\" font-size=\"14.00\" fill=\"#000000\">value = [38, 48, 38]</text>\n<text text-anchor=\"middle\" x=\"590\" y=\"-587.8\" font-family=\"Helvetica,sans-Serif\" font-size=\"14.00\" fill=\"#000000\">class = class_1</text>\n</g>\n<!-- 1 -->\n<g id=\"node2\" class=\"node\">\n<title>1</title>\n<path fill=\"#f2ebfc\" stroke=\"#000000\" d=\"M567.5,-544C567.5,-544 460.5,-544 460.5,-544 454.5,-544 448.5,-538 448.5,-532 448.5,-532 448.5,-473 448.5,-473 448.5,-467 454.5,-461 460.5,-461 460.5,-461 567.5,-461 567.5,-461 573.5,-461 579.5,-467 579.5,-473 579.5,-473 579.5,-532 579.5,-532 579.5,-538 573.5,-544 567.5,-544\"/>\n<text text-anchor=\"middle\" x=\"514\" y=\"-528.8\" font-family=\"Helvetica,sans-Serif\" font-size=\"14.00\" fill=\"#000000\">hue &lt;= 0.747</text>\n<text text-anchor=\"middle\" x=\"514\" y=\"-513.8\" font-family=\"Helvetica,sans-Serif\" font-size=\"14.00\" fill=\"#000000\">entropy = 1.15</text>\n<text text-anchor=\"middle\" x=\"514\" y=\"-498.8\" font-family=\"Helvetica,sans-Serif\" font-size=\"14.00\" fill=\"#000000\">samples = 74</text>\n<text text-anchor=\"middle\" x=\"514\" y=\"-483.8\" font-family=\"Helvetica,sans-Serif\" font-size=\"14.00\" fill=\"#000000\">value = [2, 34, 38]</text>\n<text text-anchor=\"middle\" x=\"514\" y=\"-468.8\" font-family=\"Helvetica,sans-Serif\" font-size=\"14.00\" fill=\"#000000\">class = class_2</text>\n</g>\n<!-- 0&#45;&gt;1 -->\n<g id=\"edge1\" class=\"edge\">\n<title>0&#45;&gt;1</title>\n<path fill=\"none\" stroke=\"#000000\" d=\"M563.4189,-579.8796C557.8395,-571.1434 551.8981,-561.8404 546.1405,-552.8253\"/>\n<polygon fill=\"#000000\" stroke=\"#000000\" points=\"549.0269,-550.8421 540.6946,-544.2981 543.1274,-554.6098 549.0269,-550.8421\"/>\n<text text-anchor=\"middle\" x=\"535.3111\" y=\"-565.0116\" font-family=\"Helvetica,sans-Serif\" font-size=\"14.00\" fill=\"#000000\">True</text>\n</g>\n<!-- 16 -->\n<g id=\"node17\" class=\"node\">\n<title>16</title>\n<path fill=\"#efb286\" stroke=\"#000000\" d=\"M721,-544C721,-544 613,-544 613,-544 607,-544 601,-538 601,-532 601,-532 601,-473 601,-473 601,-467 607,-461 613,-461 613,-461 721,-461 721,-461 727,-461 733,-467 733,-473 733,-473 733,-532 733,-532 733,-538 727,-544 721,-544\"/>\n<text text-anchor=\"middle\" x=\"667\" y=\"-528.8\" font-family=\"Helvetica,sans-Serif\" font-size=\"14.00\" fill=\"#000000\">alcohol &lt;= 13.025</text>\n<text text-anchor=\"middle\" x=\"667\" y=\"-513.8\" font-family=\"Helvetica,sans-Serif\" font-size=\"14.00\" fill=\"#000000\">entropy = 0.855</text>\n<text text-anchor=\"middle\" x=\"667\" y=\"-498.8\" font-family=\"Helvetica,sans-Serif\" font-size=\"14.00\" fill=\"#000000\">samples = 50</text>\n<text text-anchor=\"middle\" x=\"667\" y=\"-483.8\" font-family=\"Helvetica,sans-Serif\" font-size=\"14.00\" fill=\"#000000\">value = [36, 14, 0]</text>\n<text text-anchor=\"middle\" x=\"667\" y=\"-468.8\" font-family=\"Helvetica,sans-Serif\" font-size=\"14.00\" fill=\"#000000\">class = class_0</text>\n</g>\n<!-- 0&#45;&gt;16 -->\n<g id=\"edge16\" class=\"edge\">\n<title>0&#45;&gt;16</title>\n<path fill=\"none\" stroke=\"#000000\" d=\"M616.9309,-579.8796C622.5837,-571.1434 628.6033,-561.8404 634.4366,-552.8253\"/>\n<polygon fill=\"#000000\" stroke=\"#000000\" points=\"637.4601,-554.5952 639.9542,-544.2981 631.5831,-550.7924 637.4601,-554.5952\"/>\n<text text-anchor=\"middle\" x=\"645.1924\" y=\"-565.0431\" font-family=\"Helvetica,sans-Serif\" font-size=\"14.00\" fill=\"#000000\">False</text>\n</g>\n<!-- 2 -->\n<g id=\"node3\" class=\"node\">\n<title>2</title>\n<path fill=\"#8139e5\" stroke=\"#000000\" d=\"M410.5,-417.5C410.5,-417.5 311.5,-417.5 311.5,-417.5 305.5,-417.5 299.5,-411.5 299.5,-405.5 299.5,-405.5 299.5,-361.5 299.5,-361.5 299.5,-355.5 305.5,-349.5 311.5,-349.5 311.5,-349.5 410.5,-349.5 410.5,-349.5 416.5,-349.5 422.5,-355.5 422.5,-361.5 422.5,-361.5 422.5,-405.5 422.5,-405.5 422.5,-411.5 416.5,-417.5 410.5,-417.5\"/>\n<text text-anchor=\"middle\" x=\"361\" y=\"-402.3\" font-family=\"Helvetica,sans-Serif\" font-size=\"14.00\" fill=\"#000000\">entropy = 0.0</text>\n<text text-anchor=\"middle\" x=\"361\" y=\"-387.3\" font-family=\"Helvetica,sans-Serif\" font-size=\"14.00\" fill=\"#000000\">samples = 27</text>\n<text text-anchor=\"middle\" x=\"361\" y=\"-372.3\" font-family=\"Helvetica,sans-Serif\" font-size=\"14.00\" fill=\"#000000\">value = [0, 0, 27]</text>\n<text text-anchor=\"middle\" x=\"361\" y=\"-357.3\" font-family=\"Helvetica,sans-Serif\" font-size=\"14.00\" fill=\"#000000\">class = class_2</text>\n</g>\n<!-- 1&#45;&gt;2 -->\n<g id=\"edge2\" class=\"edge\">\n<title>1&#45;&gt;2</title>\n<path fill=\"none\" stroke=\"#000000\" d=\"M460.488,-460.8796C445.2192,-449.0038 428.6034,-436.0804 413.4016,-424.2568\"/>\n<polygon fill=\"#000000\" stroke=\"#000000\" points=\"415.1616,-421.1916 405.1192,-417.8149 410.8639,-426.7171 415.1616,-421.1916\"/>\n</g>\n<!-- 3 -->\n<g id=\"node4\" class=\"node\">\n<title>3</title>\n<path fill=\"#80eeae\" stroke=\"#000000\" d=\"M575,-425C575,-425 453,-425 453,-425 447,-425 441,-419 441,-413 441,-413 441,-354 441,-354 441,-348 447,-342 453,-342 453,-342 575,-342 575,-342 581,-342 587,-348 587,-354 587,-354 587,-413 587,-413 587,-419 581,-425 575,-425\"/>\n<text text-anchor=\"middle\" x=\"514\" y=\"-409.8\" font-family=\"Helvetica,sans-Serif\" font-size=\"14.00\" fill=\"#000000\">malic_acid &lt;= 2.743</text>\n<text text-anchor=\"middle\" x=\"514\" y=\"-394.8\" font-family=\"Helvetica,sans-Serif\" font-size=\"14.00\" fill=\"#000000\">entropy = 1.022</text>\n<text text-anchor=\"middle\" x=\"514\" y=\"-379.8\" font-family=\"Helvetica,sans-Serif\" font-size=\"14.00\" fill=\"#000000\">samples = 47</text>\n<text text-anchor=\"middle\" x=\"514\" y=\"-364.8\" font-family=\"Helvetica,sans-Serif\" font-size=\"14.00\" fill=\"#000000\">value = [2, 34, 11]</text>\n<text text-anchor=\"middle\" x=\"514\" y=\"-349.8\" font-family=\"Helvetica,sans-Serif\" font-size=\"14.00\" fill=\"#000000\">class = class_1</text>\n</g>\n<!-- 1&#45;&gt;3 -->\n<g id=\"edge3\" class=\"edge\">\n<title>1&#45;&gt;3</title>\n<path fill=\"none\" stroke=\"#000000\" d=\"M514,-460.8796C514,-452.6838 514,-443.9891 514,-435.5013\"/>\n<polygon fill=\"#000000\" stroke=\"#000000\" points=\"517.5001,-435.298 514,-425.2981 510.5001,-435.2981 517.5001,-435.298\"/>\n</g>\n<!-- 4 -->\n<g id=\"node5\" class=\"node\">\n<title>4</title>\n<path fill=\"#4de88e\" stroke=\"#000000\" d=\"M413,-306C413,-306 305,-306 305,-306 299,-306 293,-300 293,-294 293,-294 293,-235 293,-235 293,-229 299,-223 305,-223 305,-223 413,-223 413,-223 419,-223 425,-229 425,-235 425,-235 425,-294 425,-294 425,-300 419,-306 413,-306\"/>\n<text text-anchor=\"middle\" x=\"359\" y=\"-290.8\" font-family=\"Helvetica,sans-Serif\" font-size=\"14.00\" fill=\"#000000\">alcohol &lt;= 12.735</text>\n<text text-anchor=\"middle\" x=\"359\" y=\"-275.8\" font-family=\"Helvetica,sans-Serif\" font-size=\"14.00\" fill=\"#000000\">entropy = 0.548</text>\n<text text-anchor=\"middle\" x=\"359\" y=\"-260.8\" font-family=\"Helvetica,sans-Serif\" font-size=\"14.00\" fill=\"#000000\">samples = 31</text>\n<text text-anchor=\"middle\" x=\"359\" y=\"-245.8\" font-family=\"Helvetica,sans-Serif\" font-size=\"14.00\" fill=\"#000000\">value = [1, 28, 2]</text>\n<text text-anchor=\"middle\" x=\"359\" y=\"-230.8\" font-family=\"Helvetica,sans-Serif\" font-size=\"14.00\" fill=\"#000000\">class = class_1</text>\n</g>\n<!-- 3&#45;&gt;4 -->\n<g id=\"edge4\" class=\"edge\">\n<title>3&#45;&gt;4</title>\n<path fill=\"none\" stroke=\"#000000\" d=\"M459.7885,-341.8796C447.3994,-332.368 434.1351,-322.1843 421.4324,-312.432\"/>\n<polygon fill=\"#000000\" stroke=\"#000000\" points=\"423.2442,-309.4105 413.1809,-306.0969 418.9814,-314.9628 423.2442,-309.4105\"/>\n</g>\n<!-- 11 -->\n<g id=\"node12\" class=\"node\">\n<title>11</title>\n<path fill=\"#d9c4f7\" stroke=\"#000000\" d=\"M576.5,-306C576.5,-306 457.5,-306 457.5,-306 451.5,-306 445.5,-300 445.5,-294 445.5,-294 445.5,-235 445.5,-235 445.5,-229 451.5,-223 457.5,-223 457.5,-223 576.5,-223 576.5,-223 582.5,-223 588.5,-229 588.5,-235 588.5,-235 588.5,-294 588.5,-294 588.5,-300 582.5,-306 576.5,-306\"/>\n<text text-anchor=\"middle\" x=\"517\" y=\"-290.8\" font-family=\"Helvetica,sans-Serif\" font-size=\"14.00\" fill=\"#000000\">flavanoids &lt;= 0.996</text>\n<text text-anchor=\"middle\" x=\"517\" y=\"-275.8\" font-family=\"Helvetica,sans-Serif\" font-size=\"14.00\" fill=\"#000000\">entropy = 1.248</text>\n<text text-anchor=\"middle\" x=\"517\" y=\"-260.8\" font-family=\"Helvetica,sans-Serif\" font-size=\"14.00\" fill=\"#000000\">samples = 16</text>\n<text text-anchor=\"middle\" x=\"517\" y=\"-245.8\" font-family=\"Helvetica,sans-Serif\" font-size=\"14.00\" fill=\"#000000\">value = [1, 6, 9]</text>\n<text text-anchor=\"middle\" x=\"517\" y=\"-230.8\" font-family=\"Helvetica,sans-Serif\" font-size=\"14.00\" fill=\"#000000\">class = class_2</text>\n</g>\n<!-- 3&#45;&gt;11 -->\n<g id=\"edge11\" class=\"edge\">\n<title>3&#45;&gt;11</title>\n<path fill=\"none\" stroke=\"#000000\" d=\"M515.0493,-341.8796C515.2559,-333.6838 515.4751,-324.9891 515.689,-316.5013\"/>\n<polygon fill=\"#000000\" stroke=\"#000000\" points=\"519.193,-316.3831 515.9463,-306.2981 512.1953,-316.2067 519.193,-316.3831\"/>\n</g>\n<!-- 5 -->\n<g id=\"node6\" class=\"node\">\n<title>5</title>\n<path fill=\"#41e686\" stroke=\"#000000\" d=\"M246.5,-187C246.5,-187 127.5,-187 127.5,-187 121.5,-187 115.5,-181 115.5,-175 115.5,-175 115.5,-116 115.5,-116 115.5,-110 121.5,-104 127.5,-104 127.5,-104 246.5,-104 246.5,-104 252.5,-104 258.5,-110 258.5,-116 258.5,-116 258.5,-175 258.5,-175 258.5,-181 252.5,-187 246.5,-187\"/>\n<text text-anchor=\"middle\" x=\"187\" y=\"-171.8\" font-family=\"Helvetica,sans-Serif\" font-size=\"14.00\" fill=\"#000000\">flavanoids &lt;= 0.942</text>\n<text text-anchor=\"middle\" x=\"187\" y=\"-156.8\" font-family=\"Helvetica,sans-Serif\" font-size=\"14.00\" fill=\"#000000\">entropy = 0.229</text>\n<text text-anchor=\"middle\" x=\"187\" y=\"-141.8\" font-family=\"Helvetica,sans-Serif\" font-size=\"14.00\" fill=\"#000000\">samples = 27</text>\n<text text-anchor=\"middle\" x=\"187\" y=\"-126.8\" font-family=\"Helvetica,sans-Serif\" font-size=\"14.00\" fill=\"#000000\">value = [0, 26, 1]</text>\n<text text-anchor=\"middle\" x=\"187\" y=\"-111.8\" font-family=\"Helvetica,sans-Serif\" font-size=\"14.00\" fill=\"#000000\">class = class_1</text>\n</g>\n<!-- 4&#45;&gt;5 -->\n<g id=\"edge5\" class=\"edge\">\n<title>4&#45;&gt;5</title>\n<path fill=\"none\" stroke=\"#000000\" d=\"M298.8427,-222.8796C284.833,-213.1868 269.8146,-202.7961 255.475,-192.8752\"/>\n<polygon fill=\"#000000\" stroke=\"#000000\" points=\"257.3383,-189.9083 247.1233,-187.0969 253.3556,-195.6649 257.3383,-189.9083\"/>\n</g>\n<!-- 8 -->\n<g id=\"node9\" class=\"node\">\n<title>8</title>\n<path fill=\"#bdf6d5\" stroke=\"#000000\" d=\"M429,-187C429,-187 289,-187 289,-187 283,-187 277,-181 277,-175 277,-175 277,-116 277,-116 277,-110 283,-104 289,-104 289,-104 429,-104 429,-104 435,-104 441,-110 441,-116 441,-116 441,-175 441,-175 441,-181 435,-187 429,-187\"/>\n<text text-anchor=\"middle\" x=\"359\" y=\"-171.8\" font-family=\"Helvetica,sans-Serif\" font-size=\"14.00\" fill=\"#000000\">total_phenols &lt;= 2.516</text>\n<text text-anchor=\"middle\" x=\"359\" y=\"-156.8\" font-family=\"Helvetica,sans-Serif\" font-size=\"14.00\" fill=\"#000000\">entropy = 1.5</text>\n<text text-anchor=\"middle\" x=\"359\" y=\"-141.8\" font-family=\"Helvetica,sans-Serif\" font-size=\"14.00\" fill=\"#000000\">samples = 4</text>\n<text text-anchor=\"middle\" x=\"359\" y=\"-126.8\" font-family=\"Helvetica,sans-Serif\" font-size=\"14.00\" fill=\"#000000\">value = [1, 2, 1]</text>\n<text text-anchor=\"middle\" x=\"359\" y=\"-111.8\" font-family=\"Helvetica,sans-Serif\" font-size=\"14.00\" fill=\"#000000\">class = class_1</text>\n</g>\n<!-- 4&#45;&gt;8 -->\n<g id=\"edge8\" class=\"edge\">\n<title>4&#45;&gt;8</title>\n<path fill=\"none\" stroke=\"#000000\" d=\"M359,-222.8796C359,-214.6838 359,-205.9891 359,-197.5013\"/>\n<polygon fill=\"#000000\" stroke=\"#000000\" points=\"362.5001,-197.298 359,-187.2981 355.5001,-197.2981 362.5001,-197.298\"/>\n</g>\n<!-- 6 -->\n<g id=\"node7\" class=\"node\">\n<title>6</title>\n<path fill=\"#ffffff\" stroke=\"#000000\" d=\"M104,-68C104,-68 12,-68 12,-68 6,-68 0,-62 0,-56 0,-56 0,-12 0,-12 0,-6 6,0 12,0 12,0 104,0 104,0 110,0 116,-6 116,-12 116,-12 116,-56 116,-56 116,-62 110,-68 104,-68\"/>\n<text text-anchor=\"middle\" x=\"58\" y=\"-52.8\" font-family=\"Helvetica,sans-Serif\" font-size=\"14.00\" fill=\"#000000\">entropy = 1.0</text>\n<text text-anchor=\"middle\" x=\"58\" y=\"-37.8\" font-family=\"Helvetica,sans-Serif\" font-size=\"14.00\" fill=\"#000000\">samples = 2</text>\n<text text-anchor=\"middle\" x=\"58\" y=\"-22.8\" font-family=\"Helvetica,sans-Serif\" font-size=\"14.00\" fill=\"#000000\">value = [0, 1, 1]</text>\n<text text-anchor=\"middle\" x=\"58\" y=\"-7.8\" font-family=\"Helvetica,sans-Serif\" font-size=\"14.00\" fill=\"#000000\">class = class_1</text>\n</g>\n<!-- 5&#45;&gt;6 -->\n<g id=\"edge6\" class=\"edge\">\n<title>5&#45;&gt;6</title>\n<path fill=\"none\" stroke=\"#000000\" d=\"M138.9652,-103.9815C128.013,-94.5151 116.3821,-84.462 105.4544,-75.0168\"/>\n<polygon fill=\"#000000\" stroke=\"#000000\" points=\"107.4957,-72.155 97.6414,-68.2637 102.9182,-77.4509 107.4957,-72.155\"/>\n</g>\n<!-- 7 -->\n<g id=\"node8\" class=\"node\">\n<title>7</title>\n<path fill=\"#39e581\" stroke=\"#000000\" d=\"M245.5,-68C245.5,-68 146.5,-68 146.5,-68 140.5,-68 134.5,-62 134.5,-56 134.5,-56 134.5,-12 134.5,-12 134.5,-6 140.5,0 146.5,0 146.5,0 245.5,0 245.5,0 251.5,0 257.5,-6 257.5,-12 257.5,-12 257.5,-56 257.5,-56 257.5,-62 251.5,-68 245.5,-68\"/>\n<text text-anchor=\"middle\" x=\"196\" y=\"-52.8\" font-family=\"Helvetica,sans-Serif\" font-size=\"14.00\" fill=\"#000000\">entropy = 0.0</text>\n<text text-anchor=\"middle\" x=\"196\" y=\"-37.8\" font-family=\"Helvetica,sans-Serif\" font-size=\"14.00\" fill=\"#000000\">samples = 25</text>\n<text text-anchor=\"middle\" x=\"196\" y=\"-22.8\" font-family=\"Helvetica,sans-Serif\" font-size=\"14.00\" fill=\"#000000\">value = [0, 25, 0]</text>\n<text text-anchor=\"middle\" x=\"196\" y=\"-7.8\" font-family=\"Helvetica,sans-Serif\" font-size=\"14.00\" fill=\"#000000\">class = class_1</text>\n</g>\n<!-- 5&#45;&gt;7 -->\n<g id=\"edge7\" class=\"edge\">\n<title>5&#45;&gt;7</title>\n<path fill=\"none\" stroke=\"#000000\" d=\"M190.3513,-103.9815C191.0263,-95.618 191.7384,-86.7965 192.4209,-78.3409\"/>\n<polygon fill=\"#000000\" stroke=\"#000000\" points=\"195.9183,-78.5129 193.2343,-68.2637 188.941,-77.9496 195.9183,-78.5129\"/>\n</g>\n<!-- 9 -->\n<g id=\"node10\" class=\"node\">\n<title>9</title>\n<path fill=\"#ffffff\" stroke=\"#000000\" d=\"M397,-68C397,-68 305,-68 305,-68 299,-68 293,-62 293,-56 293,-56 293,-12 293,-12 293,-6 299,0 305,0 305,0 397,0 397,0 403,0 409,-6 409,-12 409,-12 409,-56 409,-56 409,-62 403,-68 397,-68\"/>\n<text text-anchor=\"middle\" x=\"351\" y=\"-52.8\" font-family=\"Helvetica,sans-Serif\" font-size=\"14.00\" fill=\"#000000\">entropy = 1.0</text>\n<text text-anchor=\"middle\" x=\"351\" y=\"-37.8\" font-family=\"Helvetica,sans-Serif\" font-size=\"14.00\" fill=\"#000000\">samples = 2</text>\n<text text-anchor=\"middle\" x=\"351\" y=\"-22.8\" font-family=\"Helvetica,sans-Serif\" font-size=\"14.00\" fill=\"#000000\">value = [0, 1, 1]</text>\n<text text-anchor=\"middle\" x=\"351\" y=\"-7.8\" font-family=\"Helvetica,sans-Serif\" font-size=\"14.00\" fill=\"#000000\">class = class_1</text>\n</g>\n<!-- 8&#45;&gt;9 -->\n<g id=\"edge9\" class=\"edge\">\n<title>8&#45;&gt;9</title>\n<path fill=\"none\" stroke=\"#000000\" d=\"M356.0211,-103.9815C355.421,-95.618 354.7881,-86.7965 354.1814,-78.3409\"/>\n<polygon fill=\"#000000\" stroke=\"#000000\" points=\"357.6651,-77.9875 353.4584,-68.2637 350.6831,-78.4885 357.6651,-77.9875\"/>\n</g>\n<!-- 10 -->\n<g id=\"node11\" class=\"node\">\n<title>10</title>\n<path fill=\"#ffffff\" stroke=\"#000000\" d=\"M531,-68C531,-68 439,-68 439,-68 433,-68 427,-62 427,-56 427,-56 427,-12 427,-12 427,-6 433,0 439,0 439,0 531,0 531,0 537,0 543,-6 543,-12 543,-12 543,-56 543,-56 543,-62 537,-68 531,-68\"/>\n<text text-anchor=\"middle\" x=\"485\" y=\"-52.8\" font-family=\"Helvetica,sans-Serif\" font-size=\"14.00\" fill=\"#000000\">entropy = 1.0</text>\n<text text-anchor=\"middle\" x=\"485\" y=\"-37.8\" font-family=\"Helvetica,sans-Serif\" font-size=\"14.00\" fill=\"#000000\">samples = 2</text>\n<text text-anchor=\"middle\" x=\"485\" y=\"-22.8\" font-family=\"Helvetica,sans-Serif\" font-size=\"14.00\" fill=\"#000000\">value = [1, 1, 0]</text>\n<text text-anchor=\"middle\" x=\"485\" y=\"-7.8\" font-family=\"Helvetica,sans-Serif\" font-size=\"14.00\" fill=\"#000000\">class = class_0</text>\n</g>\n<!-- 8&#45;&gt;10 -->\n<g id=\"edge10\" class=\"edge\">\n<title>8&#45;&gt;10</title>\n<path fill=\"none\" stroke=\"#000000\" d=\"M405.9177,-103.9815C416.6152,-94.5151 427.9756,-84.462 438.6492,-75.0168\"/>\n<polygon fill=\"#000000\" stroke=\"#000000\" points=\"441.1111,-77.5118 446.2805,-68.2637 436.4722,-72.2696 441.1111,-77.5118\"/>\n</g>\n<!-- 12 -->\n<g id=\"node13\" class=\"node\">\n<title>12</title>\n<path fill=\"#8139e5\" stroke=\"#000000\" d=\"M563,-179.5C563,-179.5 471,-179.5 471,-179.5 465,-179.5 459,-173.5 459,-167.5 459,-167.5 459,-123.5 459,-123.5 459,-117.5 465,-111.5 471,-111.5 471,-111.5 563,-111.5 563,-111.5 569,-111.5 575,-117.5 575,-123.5 575,-123.5 575,-167.5 575,-167.5 575,-173.5 569,-179.5 563,-179.5\"/>\n<text text-anchor=\"middle\" x=\"517\" y=\"-164.3\" font-family=\"Helvetica,sans-Serif\" font-size=\"14.00\" fill=\"#000000\">entropy = 0.0</text>\n<text text-anchor=\"middle\" x=\"517\" y=\"-149.3\" font-family=\"Helvetica,sans-Serif\" font-size=\"14.00\" fill=\"#000000\">samples = 8</text>\n<text text-anchor=\"middle\" x=\"517\" y=\"-134.3\" font-family=\"Helvetica,sans-Serif\" font-size=\"14.00\" fill=\"#000000\">value = [0, 0, 8]</text>\n<text text-anchor=\"middle\" x=\"517\" y=\"-119.3\" font-family=\"Helvetica,sans-Serif\" font-size=\"14.00\" fill=\"#000000\">class = class_2</text>\n</g>\n<!-- 11&#45;&gt;12 -->\n<g id=\"edge12\" class=\"edge\">\n<title>11&#45;&gt;12</title>\n<path fill=\"none\" stroke=\"#000000\" d=\"M517,-222.8796C517,-212.2134 517,-200.7021 517,-189.9015\"/>\n<polygon fill=\"#000000\" stroke=\"#000000\" points=\"520.5001,-189.8149 517,-179.8149 513.5001,-189.815 520.5001,-189.8149\"/>\n</g>\n<!-- 13 -->\n<g id=\"node14\" class=\"node\">\n<title>13</title>\n<path fill=\"#72eca5\" stroke=\"#000000\" d=\"M713,-187C713,-187 605,-187 605,-187 599,-187 593,-181 593,-175 593,-175 593,-116 593,-116 593,-110 599,-104 605,-104 605,-104 713,-104 713,-104 719,-104 725,-110 725,-116 725,-116 725,-175 725,-175 725,-181 719,-187 713,-187\"/>\n<text text-anchor=\"middle\" x=\"659\" y=\"-171.8\" font-family=\"Helvetica,sans-Serif\" font-size=\"14.00\" fill=\"#000000\">alcohol &lt;= 12.648</text>\n<text text-anchor=\"middle\" x=\"659\" y=\"-156.8\" font-family=\"Helvetica,sans-Serif\" font-size=\"14.00\" fill=\"#000000\">entropy = 1.061</text>\n<text text-anchor=\"middle\" x=\"659\" y=\"-141.8\" font-family=\"Helvetica,sans-Serif\" font-size=\"14.00\" fill=\"#000000\">samples = 8</text>\n<text text-anchor=\"middle\" x=\"659\" y=\"-126.8\" font-family=\"Helvetica,sans-Serif\" font-size=\"14.00\" fill=\"#000000\">value = [1, 6, 1]</text>\n<text text-anchor=\"middle\" x=\"659\" y=\"-111.8\" font-family=\"Helvetica,sans-Serif\" font-size=\"14.00\" fill=\"#000000\">class = class_1</text>\n</g>\n<!-- 11&#45;&gt;13 -->\n<g id=\"edge13\" class=\"edge\">\n<title>11&#45;&gt;13</title>\n<path fill=\"none\" stroke=\"#000000\" d=\"M566.6647,-222.8796C577.8416,-213.513 589.7962,-203.4948 601.2712,-193.8784\"/>\n<polygon fill=\"#000000\" stroke=\"#000000\" points=\"603.7069,-196.4037 609.1233,-187.2981 599.2107,-191.0386 603.7069,-196.4037\"/>\n</g>\n<!-- 14 -->\n<g id=\"node15\" class=\"node\">\n<title>14</title>\n<path fill=\"#39e581\" stroke=\"#000000\" d=\"M685,-68C685,-68 593,-68 593,-68 587,-68 581,-62 581,-56 581,-56 581,-12 581,-12 581,-6 587,0 593,0 593,0 685,0 685,0 691,0 697,-6 697,-12 697,-12 697,-56 697,-56 697,-62 691,-68 685,-68\"/>\n<text text-anchor=\"middle\" x=\"639\" y=\"-52.8\" font-family=\"Helvetica,sans-Serif\" font-size=\"14.00\" fill=\"#000000\">entropy = 0.0</text>\n<text text-anchor=\"middle\" x=\"639\" y=\"-37.8\" font-family=\"Helvetica,sans-Serif\" font-size=\"14.00\" fill=\"#000000\">samples = 5</text>\n<text text-anchor=\"middle\" x=\"639\" y=\"-22.8\" font-family=\"Helvetica,sans-Serif\" font-size=\"14.00\" fill=\"#000000\">value = [0, 5, 0]</text>\n<text text-anchor=\"middle\" x=\"639\" y=\"-7.8\" font-family=\"Helvetica,sans-Serif\" font-size=\"14.00\" fill=\"#000000\">class = class_1</text>\n</g>\n<!-- 13&#45;&gt;14 -->\n<g id=\"edge14\" class=\"edge\">\n<title>13&#45;&gt;14</title>\n<path fill=\"none\" stroke=\"#000000\" d=\"M651.5527,-103.9815C650.0526,-95.618 648.4702,-86.7965 646.9535,-78.3409\"/>\n<polygon fill=\"#000000\" stroke=\"#000000\" points=\"650.3566,-77.4886 645.146,-68.2637 643.4666,-78.7246 650.3566,-77.4886\"/>\n</g>\n<!-- 15 -->\n<g id=\"node16\" class=\"node\">\n<title>15</title>\n<path fill=\"#ffffff\" stroke=\"#000000\" d=\"M821,-68C821,-68 727,-68 727,-68 721,-68 715,-62 715,-56 715,-56 715,-12 715,-12 715,-6 721,0 727,0 727,0 821,0 821,0 827,0 833,-6 833,-12 833,-12 833,-56 833,-56 833,-62 827,-68 821,-68\"/>\n<text text-anchor=\"middle\" x=\"774\" y=\"-52.8\" font-family=\"Helvetica,sans-Serif\" font-size=\"14.00\" fill=\"#000000\">entropy = 1.585</text>\n<text text-anchor=\"middle\" x=\"774\" y=\"-37.8\" font-family=\"Helvetica,sans-Serif\" font-size=\"14.00\" fill=\"#000000\">samples = 3</text>\n<text text-anchor=\"middle\" x=\"774\" y=\"-22.8\" font-family=\"Helvetica,sans-Serif\" font-size=\"14.00\" fill=\"#000000\">value = [1, 1, 1]</text>\n<text text-anchor=\"middle\" x=\"774\" y=\"-7.8\" font-family=\"Helvetica,sans-Serif\" font-size=\"14.00\" fill=\"#000000\">class = class_0</text>\n</g>\n<!-- 13&#45;&gt;15 -->\n<g id=\"edge15\" class=\"edge\">\n<title>13&#45;&gt;15</title>\n<path fill=\"none\" stroke=\"#000000\" d=\"M701.8218,-103.9815C711.4905,-94.607 721.7527,-84.6572 731.4118,-75.2921\"/>\n<polygon fill=\"#000000\" stroke=\"#000000\" points=\"733.9176,-77.7375 738.6608,-68.2637 729.0449,-72.7118 733.9176,-77.7375\"/>\n</g>\n<!-- 17 -->\n<g id=\"node18\" class=\"node\">\n<title>17</title>\n<path fill=\"#39e581\" stroke=\"#000000\" d=\"M716.5,-417.5C716.5,-417.5 617.5,-417.5 617.5,-417.5 611.5,-417.5 605.5,-411.5 605.5,-405.5 605.5,-405.5 605.5,-361.5 605.5,-361.5 605.5,-355.5 611.5,-349.5 617.5,-349.5 617.5,-349.5 716.5,-349.5 716.5,-349.5 722.5,-349.5 728.5,-355.5 728.5,-361.5 728.5,-361.5 728.5,-405.5 728.5,-405.5 728.5,-411.5 722.5,-417.5 716.5,-417.5\"/>\n<text text-anchor=\"middle\" x=\"667\" y=\"-402.3\" font-family=\"Helvetica,sans-Serif\" font-size=\"14.00\" fill=\"#000000\">entropy = 0.0</text>\n<text text-anchor=\"middle\" x=\"667\" y=\"-387.3\" font-family=\"Helvetica,sans-Serif\" font-size=\"14.00\" fill=\"#000000\">samples = 11</text>\n<text text-anchor=\"middle\" x=\"667\" y=\"-372.3\" font-family=\"Helvetica,sans-Serif\" font-size=\"14.00\" fill=\"#000000\">value = [0, 11, 0]</text>\n<text text-anchor=\"middle\" x=\"667\" y=\"-357.3\" font-family=\"Helvetica,sans-Serif\" font-size=\"14.00\" fill=\"#000000\">class = class_1</text>\n</g>\n<!-- 16&#45;&gt;17 -->\n<g id=\"edge17\" class=\"edge\">\n<title>16&#45;&gt;17</title>\n<path fill=\"none\" stroke=\"#000000\" d=\"M667,-460.8796C667,-450.2134 667,-438.7021 667,-427.9015\"/>\n<polygon fill=\"#000000\" stroke=\"#000000\" points=\"670.5001,-427.8149 667,-417.8149 663.5001,-427.815 670.5001,-427.8149\"/>\n</g>\n<!-- 18 -->\n<g id=\"node19\" class=\"node\">\n<title>18</title>\n<path fill=\"#e78c49\" stroke=\"#000000\" d=\"M871.5,-425C871.5,-425 758.5,-425 758.5,-425 752.5,-425 746.5,-419 746.5,-413 746.5,-413 746.5,-354 746.5,-354 746.5,-348 752.5,-342 758.5,-342 758.5,-342 871.5,-342 871.5,-342 877.5,-342 883.5,-348 883.5,-354 883.5,-354 883.5,-413 883.5,-413 883.5,-419 877.5,-425 871.5,-425\"/>\n<text text-anchor=\"middle\" x=\"815\" y=\"-409.8\" font-family=\"Helvetica,sans-Serif\" font-size=\"14.00\" fill=\"#000000\">proline &lt;= 918.435</text>\n<text text-anchor=\"middle\" x=\"815\" y=\"-394.8\" font-family=\"Helvetica,sans-Serif\" font-size=\"14.00\" fill=\"#000000\">entropy = 0.391</text>\n<text text-anchor=\"middle\" x=\"815\" y=\"-379.8\" font-family=\"Helvetica,sans-Serif\" font-size=\"14.00\" fill=\"#000000\">samples = 39</text>\n<text text-anchor=\"middle\" x=\"815\" y=\"-364.8\" font-family=\"Helvetica,sans-Serif\" font-size=\"14.00\" fill=\"#000000\">value = [36, 3, 0]</text>\n<text text-anchor=\"middle\" x=\"815\" y=\"-349.8\" font-family=\"Helvetica,sans-Serif\" font-size=\"14.00\" fill=\"#000000\">class = class_0</text>\n</g>\n<!-- 16&#45;&gt;18 -->\n<g id=\"edge18\" class=\"edge\">\n<title>16&#45;&gt;18</title>\n<path fill=\"none\" stroke=\"#000000\" d=\"M718.7632,-460.8796C730.5928,-451.368 743.2581,-441.1843 755.3871,-431.432\"/>\n<polygon fill=\"#000000\" stroke=\"#000000\" points=\"757.6659,-434.0908 763.266,-425.0969 753.2796,-428.6355 757.6659,-434.0908\"/>\n</g>\n<!-- 19 -->\n<g id=\"node20\" class=\"node\">\n<title>19</title>\n<path fill=\"#f5cdb0\" stroke=\"#000000\" d=\"M867.5,-306C867.5,-306 754.5,-306 754.5,-306 748.5,-306 742.5,-300 742.5,-294 742.5,-294 742.5,-235 742.5,-235 742.5,-229 748.5,-223 754.5,-223 754.5,-223 867.5,-223 867.5,-223 873.5,-223 879.5,-229 879.5,-235 879.5,-235 879.5,-294 879.5,-294 879.5,-300 873.5,-306 867.5,-306\"/>\n<text text-anchor=\"middle\" x=\"811\" y=\"-290.8\" font-family=\"Helvetica,sans-Serif\" font-size=\"14.00\" fill=\"#000000\">proline &lt;= 557.617</text>\n<text text-anchor=\"middle\" x=\"811\" y=\"-275.8\" font-family=\"Helvetica,sans-Serif\" font-size=\"14.00\" fill=\"#000000\">entropy = 0.954</text>\n<text text-anchor=\"middle\" x=\"811\" y=\"-260.8\" font-family=\"Helvetica,sans-Serif\" font-size=\"14.00\" fill=\"#000000\">samples = 8</text>\n<text text-anchor=\"middle\" x=\"811\" y=\"-245.8\" font-family=\"Helvetica,sans-Serif\" font-size=\"14.00\" fill=\"#000000\">value = [5, 3, 0]</text>\n<text text-anchor=\"middle\" x=\"811\" y=\"-230.8\" font-family=\"Helvetica,sans-Serif\" font-size=\"14.00\" fill=\"#000000\">class = class_0</text>\n</g>\n<!-- 18&#45;&gt;19 -->\n<g id=\"edge19\" class=\"edge\">\n<title>18&#45;&gt;19</title>\n<path fill=\"none\" stroke=\"#000000\" d=\"M813.601,-341.8796C813.3255,-333.6838 813.0332,-324.9891 812.7479,-316.5013\"/>\n<polygon fill=\"#000000\" stroke=\"#000000\" points=\"816.239,-316.1748 812.405,-306.2981 809.243,-316.41 816.239,-316.1748\"/>\n</g>\n<!-- 22 -->\n<g id=\"node23\" class=\"node\">\n<title>22</title>\n<path fill=\"#e58139\" stroke=\"#000000\" d=\"M1008.5,-298.5C1008.5,-298.5 909.5,-298.5 909.5,-298.5 903.5,-298.5 897.5,-292.5 897.5,-286.5 897.5,-286.5 897.5,-242.5 897.5,-242.5 897.5,-236.5 903.5,-230.5 909.5,-230.5 909.5,-230.5 1008.5,-230.5 1008.5,-230.5 1014.5,-230.5 1020.5,-236.5 1020.5,-242.5 1020.5,-242.5 1020.5,-286.5 1020.5,-286.5 1020.5,-292.5 1014.5,-298.5 1008.5,-298.5\"/>\n<text text-anchor=\"middle\" x=\"959\" y=\"-283.3\" font-family=\"Helvetica,sans-Serif\" font-size=\"14.00\" fill=\"#000000\">entropy = 0.0</text>\n<text text-anchor=\"middle\" x=\"959\" y=\"-268.3\" font-family=\"Helvetica,sans-Serif\" font-size=\"14.00\" fill=\"#000000\">samples = 31</text>\n<text text-anchor=\"middle\" x=\"959\" y=\"-253.3\" font-family=\"Helvetica,sans-Serif\" font-size=\"14.00\" fill=\"#000000\">value = [31, 0, 0]</text>\n<text text-anchor=\"middle\" x=\"959\" y=\"-238.3\" font-family=\"Helvetica,sans-Serif\" font-size=\"14.00\" fill=\"#000000\">class = class_0</text>\n</g>\n<!-- 18&#45;&gt;22 -->\n<g id=\"edge22\" class=\"edge\">\n<title>18&#45;&gt;22</title>\n<path fill=\"none\" stroke=\"#000000\" d=\"M865.3642,-341.8796C879.7349,-330.0038 895.3733,-317.0804 909.6808,-305.2568\"/>\n<polygon fill=\"#000000\" stroke=\"#000000\" points=\"911.9971,-307.8831 917.476,-298.8149 907.538,-302.4872 911.9971,-307.8831\"/>\n</g>\n<!-- 20 -->\n<g id=\"node21\" class=\"node\">\n<title>20</title>\n<path fill=\"#39e581\" stroke=\"#000000\" d=\"M855,-179.5C855,-179.5 763,-179.5 763,-179.5 757,-179.5 751,-173.5 751,-167.5 751,-167.5 751,-123.5 751,-123.5 751,-117.5 757,-111.5 763,-111.5 763,-111.5 855,-111.5 855,-111.5 861,-111.5 867,-117.5 867,-123.5 867,-123.5 867,-167.5 867,-167.5 867,-173.5 861,-179.5 855,-179.5\"/>\n<text text-anchor=\"middle\" x=\"809\" y=\"-164.3\" font-family=\"Helvetica,sans-Serif\" font-size=\"14.00\" fill=\"#000000\">entropy = 0.0</text>\n<text text-anchor=\"middle\" x=\"809\" y=\"-149.3\" font-family=\"Helvetica,sans-Serif\" font-size=\"14.00\" fill=\"#000000\">samples = 3</text>\n<text text-anchor=\"middle\" x=\"809\" y=\"-134.3\" font-family=\"Helvetica,sans-Serif\" font-size=\"14.00\" fill=\"#000000\">value = [0, 3, 0]</text>\n<text text-anchor=\"middle\" x=\"809\" y=\"-119.3\" font-family=\"Helvetica,sans-Serif\" font-size=\"14.00\" fill=\"#000000\">class = class_1</text>\n</g>\n<!-- 19&#45;&gt;20 -->\n<g id=\"edge20\" class=\"edge\">\n<title>19&#45;&gt;20</title>\n<path fill=\"none\" stroke=\"#000000\" d=\"M810.3005,-222.8796C810.1212,-212.2134 809.9278,-200.7021 809.7462,-189.9015\"/>\n<polygon fill=\"#000000\" stroke=\"#000000\" points=\"813.2444,-189.7547 809.5767,-179.8149 806.2454,-189.8724 813.2444,-189.7547\"/>\n</g>\n<!-- 21 -->\n<g id=\"node22\" class=\"node\">\n<title>21</title>\n<path fill=\"#e58139\" stroke=\"#000000\" d=\"M989,-179.5C989,-179.5 897,-179.5 897,-179.5 891,-179.5 885,-173.5 885,-167.5 885,-167.5 885,-123.5 885,-123.5 885,-117.5 891,-111.5 897,-111.5 897,-111.5 989,-111.5 989,-111.5 995,-111.5 1001,-117.5 1001,-123.5 1001,-123.5 1001,-167.5 1001,-167.5 1001,-173.5 995,-179.5 989,-179.5\"/>\n<text text-anchor=\"middle\" x=\"943\" y=\"-164.3\" font-family=\"Helvetica,sans-Serif\" font-size=\"14.00\" fill=\"#000000\">entropy = 0.0</text>\n<text text-anchor=\"middle\" x=\"943\" y=\"-149.3\" font-family=\"Helvetica,sans-Serif\" font-size=\"14.00\" fill=\"#000000\">samples = 5</text>\n<text text-anchor=\"middle\" x=\"943\" y=\"-134.3\" font-family=\"Helvetica,sans-Serif\" font-size=\"14.00\" fill=\"#000000\">value = [5, 0, 0]</text>\n<text text-anchor=\"middle\" x=\"943\" y=\"-119.3\" font-family=\"Helvetica,sans-Serif\" font-size=\"14.00\" fill=\"#000000\">class = class_0</text>\n</g>\n<!-- 19&#45;&gt;21 -->\n<g id=\"edge21\" class=\"edge\">\n<title>19&#45;&gt;21</title>\n<path fill=\"none\" stroke=\"#000000\" d=\"M857.1672,-222.8796C870.2183,-211.1138 884.4101,-198.3197 897.4261,-186.5855\"/>\n<polygon fill=\"#000000\" stroke=\"#000000\" points=\"899.8526,-189.1104 904.9364,-179.8149 895.1654,-183.9113 899.8526,-189.1104\"/>\n</g>\n</g>\n</svg>\n"
          },
          "metadata": {
            "tags": []
          },
          "execution_count": 127
        }
      ]
    },
    {
      "cell_type": "code",
      "metadata": {
        "id": "O8zeF493a6ho"
      },
      "source": [
        ""
      ],
      "execution_count": null,
      "outputs": []
    }
  ]
}
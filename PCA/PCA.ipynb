{
  "nbformat": 4,
  "nbformat_minor": 0,
  "metadata": {
    "colab": {
      "name": "PCA",
      "provenance": [],
      "authorship_tag": "ABX9TyOPNSqs6J62l3ZK7deAvvrQ",
      "include_colab_link": true
    },
    "kernelspec": {
      "name": "python3",
      "display_name": "Python 3"
    }
  },
  "cells": [
    {
      "cell_type": "markdown",
      "metadata": {
        "id": "view-in-github",
        "colab_type": "text"
      },
      "source": [
        "<a href=\"https://colab.research.google.com/github/yeb2Binfang/sklearn_learning/blob/main/PCA/PCA.ipynb\" target=\"_parent\"><img src=\"https://colab.research.google.com/assets/colab-badge.svg\" alt=\"Open In Colab\"/></a>"
      ]
    },
    {
      "cell_type": "markdown",
      "metadata": {
        "id": "zY1OMH4VJu5r"
      },
      "source": [
        "## 调库"
      ]
    },
    {
      "cell_type": "code",
      "metadata": {
        "id": "A-d7L2peJaWP"
      },
      "source": [
        "import matplotlib.pyplot as plt\r\n",
        "from sklearn.datasets import load_iris\r\n",
        "from sklearn.decomposition import PCA"
      ],
      "execution_count": 1,
      "outputs": []
    },
    {
      "cell_type": "markdown",
      "metadata": {
        "id": "edJaWXUNJ0tq"
      },
      "source": [
        "## 提取数据集"
      ]
    },
    {
      "cell_type": "code",
      "metadata": {
        "colab": {
          "base_uri": "https://localhost:8080/",
          "height": 402
        },
        "id": "6MDfrevQJzK-",
        "outputId": "a34e4850-bae4-4189-910a-f87b51286f33"
      },
      "source": [
        "iris = load_iris()\r\n",
        "y = iris.target\r\n",
        "X = iris.data\r\n",
        "#作为数组，X是几维？\r\n",
        "X.shape\r\n",
        "#作为数据表或特征矩阵，X是几维？\r\n",
        "import pandas as pd\r\n",
        "pd.DataFrame(X)\r\n"
      ],
      "execution_count": 2,
      "outputs": [
        {
          "output_type": "execute_result",
          "data": {
            "text/html": [
              "<div>\n",
              "<style scoped>\n",
              "    .dataframe tbody tr th:only-of-type {\n",
              "        vertical-align: middle;\n",
              "    }\n",
              "\n",
              "    .dataframe tbody tr th {\n",
              "        vertical-align: top;\n",
              "    }\n",
              "\n",
              "    .dataframe thead th {\n",
              "        text-align: right;\n",
              "    }\n",
              "</style>\n",
              "<table border=\"1\" class=\"dataframe\">\n",
              "  <thead>\n",
              "    <tr style=\"text-align: right;\">\n",
              "      <th></th>\n",
              "      <th>0</th>\n",
              "      <th>1</th>\n",
              "      <th>2</th>\n",
              "      <th>3</th>\n",
              "    </tr>\n",
              "  </thead>\n",
              "  <tbody>\n",
              "    <tr>\n",
              "      <th>0</th>\n",
              "      <td>5.1</td>\n",
              "      <td>3.5</td>\n",
              "      <td>1.4</td>\n",
              "      <td>0.2</td>\n",
              "    </tr>\n",
              "    <tr>\n",
              "      <th>1</th>\n",
              "      <td>4.9</td>\n",
              "      <td>3.0</td>\n",
              "      <td>1.4</td>\n",
              "      <td>0.2</td>\n",
              "    </tr>\n",
              "    <tr>\n",
              "      <th>2</th>\n",
              "      <td>4.7</td>\n",
              "      <td>3.2</td>\n",
              "      <td>1.3</td>\n",
              "      <td>0.2</td>\n",
              "    </tr>\n",
              "    <tr>\n",
              "      <th>3</th>\n",
              "      <td>4.6</td>\n",
              "      <td>3.1</td>\n",
              "      <td>1.5</td>\n",
              "      <td>0.2</td>\n",
              "    </tr>\n",
              "    <tr>\n",
              "      <th>4</th>\n",
              "      <td>5.0</td>\n",
              "      <td>3.6</td>\n",
              "      <td>1.4</td>\n",
              "      <td>0.2</td>\n",
              "    </tr>\n",
              "    <tr>\n",
              "      <th>...</th>\n",
              "      <td>...</td>\n",
              "      <td>...</td>\n",
              "      <td>...</td>\n",
              "      <td>...</td>\n",
              "    </tr>\n",
              "    <tr>\n",
              "      <th>145</th>\n",
              "      <td>6.7</td>\n",
              "      <td>3.0</td>\n",
              "      <td>5.2</td>\n",
              "      <td>2.3</td>\n",
              "    </tr>\n",
              "    <tr>\n",
              "      <th>146</th>\n",
              "      <td>6.3</td>\n",
              "      <td>2.5</td>\n",
              "      <td>5.0</td>\n",
              "      <td>1.9</td>\n",
              "    </tr>\n",
              "    <tr>\n",
              "      <th>147</th>\n",
              "      <td>6.5</td>\n",
              "      <td>3.0</td>\n",
              "      <td>5.2</td>\n",
              "      <td>2.0</td>\n",
              "    </tr>\n",
              "    <tr>\n",
              "      <th>148</th>\n",
              "      <td>6.2</td>\n",
              "      <td>3.4</td>\n",
              "      <td>5.4</td>\n",
              "      <td>2.3</td>\n",
              "    </tr>\n",
              "    <tr>\n",
              "      <th>149</th>\n",
              "      <td>5.9</td>\n",
              "      <td>3.0</td>\n",
              "      <td>5.1</td>\n",
              "      <td>1.8</td>\n",
              "    </tr>\n",
              "  </tbody>\n",
              "</table>\n",
              "<p>150 rows × 4 columns</p>\n",
              "</div>"
            ],
            "text/plain": [
              "       0    1    2    3\n",
              "0    5.1  3.5  1.4  0.2\n",
              "1    4.9  3.0  1.4  0.2\n",
              "2    4.7  3.2  1.3  0.2\n",
              "3    4.6  3.1  1.5  0.2\n",
              "4    5.0  3.6  1.4  0.2\n",
              "..   ...  ...  ...  ...\n",
              "145  6.7  3.0  5.2  2.3\n",
              "146  6.3  2.5  5.0  1.9\n",
              "147  6.5  3.0  5.2  2.0\n",
              "148  6.2  3.4  5.4  2.3\n",
              "149  5.9  3.0  5.1  1.8\n",
              "\n",
              "[150 rows x 4 columns]"
            ]
          },
          "metadata": {
            "tags": []
          },
          "execution_count": 2
        }
      ]
    },
    {
      "cell_type": "markdown",
      "metadata": {
        "id": "c8hm72JuJ-mm"
      },
      "source": [
        "## 建模"
      ]
    },
    {
      "cell_type": "code",
      "metadata": {
        "colab": {
          "base_uri": "https://localhost:8080/"
        },
        "id": "L2SXcUvTJ4ZC",
        "outputId": "3ddf1bc7-e778-4105-9d05-bafa33da92df"
      },
      "source": [
        "#调用PCA\r\n",
        "pca = PCA(n_components=2) #实例化\r\n",
        "pca = pca.fit(X) #拟合模型\r\n",
        "X_dr = pca.transform(X) #获取新矩阵\r\n",
        "X_dr\r\n",
        "#也可以fit_transform一步到位\r\n",
        "#X_dr = PCA(2).fit_transform(X)\r\n"
      ],
      "execution_count": 3,
      "outputs": [
        {
          "output_type": "execute_result",
          "data": {
            "text/plain": [
              "array([[-2.68412563,  0.31939725],\n",
              "       [-2.71414169, -0.17700123],\n",
              "       [-2.88899057, -0.14494943],\n",
              "       [-2.74534286, -0.31829898],\n",
              "       [-2.72871654,  0.32675451],\n",
              "       [-2.28085963,  0.74133045],\n",
              "       [-2.82053775, -0.08946138],\n",
              "       [-2.62614497,  0.16338496],\n",
              "       [-2.88638273, -0.57831175],\n",
              "       [-2.6727558 , -0.11377425],\n",
              "       [-2.50694709,  0.6450689 ],\n",
              "       [-2.61275523,  0.01472994],\n",
              "       [-2.78610927, -0.235112  ],\n",
              "       [-3.22380374, -0.51139459],\n",
              "       [-2.64475039,  1.17876464],\n",
              "       [-2.38603903,  1.33806233],\n",
              "       [-2.62352788,  0.81067951],\n",
              "       [-2.64829671,  0.31184914],\n",
              "       [-2.19982032,  0.87283904],\n",
              "       [-2.5879864 ,  0.51356031],\n",
              "       [-2.31025622,  0.39134594],\n",
              "       [-2.54370523,  0.43299606],\n",
              "       [-3.21593942,  0.13346807],\n",
              "       [-2.30273318,  0.09870885],\n",
              "       [-2.35575405, -0.03728186],\n",
              "       [-2.50666891, -0.14601688],\n",
              "       [-2.46882007,  0.13095149],\n",
              "       [-2.56231991,  0.36771886],\n",
              "       [-2.63953472,  0.31203998],\n",
              "       [-2.63198939, -0.19696122],\n",
              "       [-2.58739848, -0.20431849],\n",
              "       [-2.4099325 ,  0.41092426],\n",
              "       [-2.64886233,  0.81336382],\n",
              "       [-2.59873675,  1.09314576],\n",
              "       [-2.63692688, -0.12132235],\n",
              "       [-2.86624165,  0.06936447],\n",
              "       [-2.62523805,  0.59937002],\n",
              "       [-2.80068412,  0.26864374],\n",
              "       [-2.98050204, -0.48795834],\n",
              "       [-2.59000631,  0.22904384],\n",
              "       [-2.77010243,  0.26352753],\n",
              "       [-2.84936871, -0.94096057],\n",
              "       [-2.99740655, -0.34192606],\n",
              "       [-2.40561449,  0.18887143],\n",
              "       [-2.20948924,  0.43666314],\n",
              "       [-2.71445143, -0.2502082 ],\n",
              "       [-2.53814826,  0.50377114],\n",
              "       [-2.83946217, -0.22794557],\n",
              "       [-2.54308575,  0.57941002],\n",
              "       [-2.70335978,  0.10770608],\n",
              "       [ 1.28482569,  0.68516047],\n",
              "       [ 0.93248853,  0.31833364],\n",
              "       [ 1.46430232,  0.50426282],\n",
              "       [ 0.18331772, -0.82795901],\n",
              "       [ 1.08810326,  0.07459068],\n",
              "       [ 0.64166908, -0.41824687],\n",
              "       [ 1.09506066,  0.28346827],\n",
              "       [-0.74912267, -1.00489096],\n",
              "       [ 1.04413183,  0.2283619 ],\n",
              "       [-0.0087454 , -0.72308191],\n",
              "       [-0.50784088, -1.26597119],\n",
              "       [ 0.51169856, -0.10398124],\n",
              "       [ 0.26497651, -0.55003646],\n",
              "       [ 0.98493451, -0.12481785],\n",
              "       [-0.17392537, -0.25485421],\n",
              "       [ 0.92786078,  0.46717949],\n",
              "       [ 0.66028376, -0.35296967],\n",
              "       [ 0.23610499, -0.33361077],\n",
              "       [ 0.94473373, -0.54314555],\n",
              "       [ 0.04522698, -0.58383438],\n",
              "       [ 1.11628318, -0.08461685],\n",
              "       [ 0.35788842, -0.06892503],\n",
              "       [ 1.29818388, -0.32778731],\n",
              "       [ 0.92172892, -0.18273779],\n",
              "       [ 0.71485333,  0.14905594],\n",
              "       [ 0.90017437,  0.32850447],\n",
              "       [ 1.33202444,  0.24444088],\n",
              "       [ 1.55780216,  0.26749545],\n",
              "       [ 0.81329065, -0.1633503 ],\n",
              "       [-0.30558378, -0.36826219],\n",
              "       [-0.06812649, -0.70517213],\n",
              "       [-0.18962247, -0.68028676],\n",
              "       [ 0.13642871, -0.31403244],\n",
              "       [ 1.38002644, -0.42095429],\n",
              "       [ 0.58800644, -0.48428742],\n",
              "       [ 0.80685831,  0.19418231],\n",
              "       [ 1.22069088,  0.40761959],\n",
              "       [ 0.81509524, -0.37203706],\n",
              "       [ 0.24595768, -0.2685244 ],\n",
              "       [ 0.16641322, -0.68192672],\n",
              "       [ 0.46480029, -0.67071154],\n",
              "       [ 0.8908152 , -0.03446444],\n",
              "       [ 0.23054802, -0.40438585],\n",
              "       [-0.70453176, -1.01224823],\n",
              "       [ 0.35698149, -0.50491009],\n",
              "       [ 0.33193448, -0.21265468],\n",
              "       [ 0.37621565, -0.29321893],\n",
              "       [ 0.64257601,  0.01773819],\n",
              "       [-0.90646986, -0.75609337],\n",
              "       [ 0.29900084, -0.34889781],\n",
              "       [ 2.53119273, -0.00984911],\n",
              "       [ 1.41523588, -0.57491635],\n",
              "       [ 2.61667602,  0.34390315],\n",
              "       [ 1.97153105, -0.1797279 ],\n",
              "       [ 2.35000592, -0.04026095],\n",
              "       [ 3.39703874,  0.55083667],\n",
              "       [ 0.52123224, -1.19275873],\n",
              "       [ 2.93258707,  0.3555    ],\n",
              "       [ 2.32122882, -0.2438315 ],\n",
              "       [ 2.91675097,  0.78279195],\n",
              "       [ 1.66177415,  0.24222841],\n",
              "       [ 1.80340195, -0.21563762],\n",
              "       [ 2.1655918 ,  0.21627559],\n",
              "       [ 1.34616358, -0.77681835],\n",
              "       [ 1.58592822, -0.53964071],\n",
              "       [ 1.90445637,  0.11925069],\n",
              "       [ 1.94968906,  0.04194326],\n",
              "       [ 3.48705536,  1.17573933],\n",
              "       [ 3.79564542,  0.25732297],\n",
              "       [ 1.30079171, -0.76114964],\n",
              "       [ 2.42781791,  0.37819601],\n",
              "       [ 1.19900111, -0.60609153],\n",
              "       [ 3.49992004,  0.4606741 ],\n",
              "       [ 1.38876613, -0.20439933],\n",
              "       [ 2.2754305 ,  0.33499061],\n",
              "       [ 2.61409047,  0.56090136],\n",
              "       [ 1.25850816, -0.17970479],\n",
              "       [ 1.29113206, -0.11666865],\n",
              "       [ 2.12360872, -0.20972948],\n",
              "       [ 2.38800302,  0.4646398 ],\n",
              "       [ 2.84167278,  0.37526917],\n",
              "       [ 3.23067366,  1.37416509],\n",
              "       [ 2.15943764, -0.21727758],\n",
              "       [ 1.44416124, -0.14341341],\n",
              "       [ 1.78129481, -0.49990168],\n",
              "       [ 3.07649993,  0.68808568],\n",
              "       [ 2.14424331,  0.1400642 ],\n",
              "       [ 1.90509815,  0.04930053],\n",
              "       [ 1.16932634, -0.16499026],\n",
              "       [ 2.10761114,  0.37228787],\n",
              "       [ 2.31415471,  0.18365128],\n",
              "       [ 1.9222678 ,  0.40920347],\n",
              "       [ 1.41523588, -0.57491635],\n",
              "       [ 2.56301338,  0.2778626 ],\n",
              "       [ 2.41874618,  0.3047982 ],\n",
              "       [ 1.94410979,  0.1875323 ],\n",
              "       [ 1.52716661, -0.37531698],\n",
              "       [ 1.76434572,  0.07885885],\n",
              "       [ 1.90094161,  0.11662796],\n",
              "       [ 1.39018886, -0.28266094]])"
            ]
          },
          "metadata": {
            "tags": []
          },
          "execution_count": 3
        }
      ]
    },
    {
      "cell_type": "markdown",
      "metadata": {
        "id": "ILgZnJNRKQ4H"
      },
      "source": [
        "## 可视化"
      ]
    },
    {
      "cell_type": "code",
      "metadata": {
        "colab": {
          "base_uri": "https://localhost:8080/",
          "height": 281
        },
        "id": "nrPDcY5GKFB1",
        "outputId": "a33caddb-50ab-4349-be54-2711f9c349c7"
      },
      "source": [
        "colors = ['red', 'black', 'orange']\r\n",
        "iris.target_names\r\n",
        "plt.figure()\r\n",
        "for i in [0, 1, 2]:\r\n",
        "    plt.scatter(X_dr[y == i, 0] # 这个是取数据，标签y==i的第0列的数据\r\n",
        "               ,X_dr[y == i, 1] # 这个是取数据，标签y==i的第1列的数据\r\n",
        "               ,alpha=.7\r\n",
        "               ,c=colors[i]\r\n",
        "               ,label=iris.target_names[i]\r\n",
        "               )\r\n",
        "plt.legend()\r\n",
        "plt.title('PCA of IRIS dataset')\r\n",
        "plt.show()\r\n"
      ],
      "execution_count": 4,
      "outputs": [
        {
          "output_type": "display_data",
          "data": {
            "image/png": "[encoded data removed]",
            "text/plain": [
              "<Figure size 432x288 with 1 Axes>"
            ]
          },
          "metadata": {
            "tags": [],
            "needs_background": "light"
          }
        }
      ]
    },
    {
      "cell_type": "markdown",
      "metadata": {
        "id": "09YWA8CgK4me"
      },
      "source": [
        "## 探索降维后的数据"
      ]
    },
    {
      "cell_type": "code",
      "metadata": {
        "colab": {
          "base_uri": "https://localhost:8080/"
        },
        "id": "nMkcfnqiLnJv",
        "outputId": "0a36583c-1bd8-4cdb-f2e3-7a6f8d0f8f94"
      },
      "source": [
        "#属性explained_variance_，查看降维后每个新特征向量上所带的信息量大小（可解释性方差的大小）第一个往往方差是最大的，因为要包含最多的信息，在这之后就会越来越小\r\n",
        "pca.explained_variance_"
      ],
      "execution_count": 6,
      "outputs": [
        {
          "output_type": "execute_result",
          "data": {
            "text/plain": [
              "array([4.22824171, 0.24267075])"
            ]
          },
          "metadata": {
            "tags": []
          },
          "execution_count": 6
        }
      ]
    },
    {
      "cell_type": "code",
      "metadata": {
        "colab": {
          "base_uri": "https://localhost:8080/"
        },
        "id": "u6HhQucPLpfZ",
        "outputId": "8bf535e4-ffeb-4b59-f65b-738dc52f36de"
      },
      "source": [
        "#属性explained_variance_ratio，查看降维后每个新特征向量所占的信息量占原始数据总信息量的百分比\r\n",
        "#又叫做可解释方差贡献率\r\n",
        "pca.explained_variance_ratio_"
      ],
      "execution_count": 7,
      "outputs": [
        {
          "output_type": "execute_result",
          "data": {
            "text/plain": [
              "array([0.92461872, 0.05306648])"
            ]
          },
          "metadata": {
            "tags": []
          },
          "execution_count": 7
        }
      ]
    },
    {
      "cell_type": "code",
      "metadata": {
        "colab": {
          "base_uri": "https://localhost:8080/"
        },
        "id": "9Jm2dC4dKPfC",
        "outputId": "81284396-f72d-460a-b7c0-61f4a5a48142"
      },
      "source": [
        "#大部分信息都被有效地集中在了第一个特征上\r\n",
        "pca.explained_variance_ratio_.sum()"
      ],
      "execution_count": 5,
      "outputs": [
        {
          "output_type": "execute_result",
          "data": {
            "text/plain": [
              "0.977685206318795"
            ]
          },
          "metadata": {
            "tags": []
          },
          "execution_count": 5
        }
      ]
    },
    {
      "cell_type": "markdown",
      "metadata": {
        "id": "c0wrqFJLNReF"
      },
      "source": [
        "## 选择最好的n_components: 累积可解释方差贡献率曲线\r\n",
        "\r\n",
        "当参数n_components中不填写任何值，则默认返回min(X.shape)个特征，一般来说，样本量都会大于特征数目，所以什么都不填就相当于转换了新特征空间，但没有减少特征的个数。一般来说，不会使用这种输入方式。但我们却可以使用这种输入方式来画出累计可解释方差贡献率曲线，以此选择最好的n_components的整数取值。累积可解释方差贡献率曲线是一条以降维后保留的特征个数为横坐标，降维后新特征矩阵捕捉到的可解释方差贡献率为纵坐标的曲线，能够帮助我们决定n_components最好的取值。"
      ]
    },
    {
      "cell_type": "code",
      "metadata": {
        "colab": {
          "base_uri": "https://localhost:8080/",
          "height": 279
        },
        "id": "HF9tMmHVLA9F",
        "outputId": "2a2d5822-a387-4ab8-c741-92dee6153ba3"
      },
      "source": [
        "import numpy as np\r\n",
        "pca_line = PCA().fit(X)\r\n",
        "plt.plot([1,2,3,4],np.cumsum(pca_line.explained_variance_ratio_))\r\n",
        "plt.xticks([1,2,3,4]) #这是为了限制坐标轴显示为整数\r\n",
        "plt.xlabel(\"number of components after dimension reduction\")\r\n",
        "plt.ylabel(\"cumulative explained variance ratio\")\r\n",
        "plt.show()\r\n"
      ],
      "execution_count": 8,
      "outputs": [
        {
          "output_type": "display_data",
          "data": {
            "image/png": "[encoded data removed]",
            "text/plain": [
              "<Figure size 432x288 with 1 Axes>"
            ]
          },
          "metadata": {
            "tags": [],
            "needs_background": "light"
          }
        }
      ]
    },
    {
      "cell_type": "markdown",
      "metadata": {
        "id": "JZy0dc_oNc13"
      },
      "source": [
        "从上面这张图我们看到当我们选components 2 or 3时，我们包含的信息就已经接近99%了，所以我们可以选n_components = 2 or 3"
      ]
    },
    {
      "cell_type": "markdown",
      "metadata": {
        "id": "5fSsDFt5N3F0"
      },
      "source": [
        "## 最大似然估计自选超参数\r\n",
        "\r\n",
        "除了输入整数，n_components还有哪些选择呢？之前我们提到过，矩阵分解的理论发展在业界独树一帜，勤奋智慧的数学大神Minka, T.P.在麻省理工学院媒体实验室做研究时找出了让PCA用最大似然估计(maximum likelihood estimation)自选超参数的方法，输入“mle”作为n_components的参数输入，就可以调用这种方法。"
      ]
    },
    {
      "cell_type": "code",
      "metadata": {
        "colab": {
          "base_uri": "https://localhost:8080/"
        },
        "id": "Wz2eUsRWNZVb",
        "outputId": "6cd026b4-c627-4a32-e6ce-e38ee0f84634"
      },
      "source": [
        "pca_mle = PCA(n_components=\"mle\")\r\n",
        "pca_mle = pca_mle.fit(X)\r\n",
        "X_mle = pca_mle.transform(X)\r\n",
        "X_mle\r\n",
        "#可以发现，mle为我们自动选择了3个特征\r\n",
        "pca_mle.explained_variance_ratio_.sum()\r\n",
        "#得到了比设定2个特征时更高的信息含量，对于鸢尾花这个很小的数据集来说，3个特征对应这么高的信息含量，并不\r\n",
        "#需要去纠结于只保留2个特征，毕竟三个特征也可以可视化\r\n"
      ],
      "execution_count": 9,
      "outputs": [
        {
          "output_type": "execute_result",
          "data": {
            "text/plain": [
              "0.9947878161267247"
            ]
          },
          "metadata": {
            "tags": []
          },
          "execution_count": 9
        }
      ]
    },
    {
      "cell_type": "code",
      "metadata": {
        "colab": {
          "base_uri": "https://localhost:8080/"
        },
        "id": "zyRqQyz8N-7l",
        "outputId": "a541f825-c676-4ce1-af15-0ca055a34b34"
      },
      "source": [
        "print(X_mle)"
      ],
      "execution_count": 10,
      "outputs": [
        {
          "output_type": "stream",
          "text": [
            "[[-2.68412563  0.31939725 -0.02791483]\n",
            " [-2.71414169 -0.17700123 -0.21046427]\n",
            " [-2.88899057 -0.14494943  0.01790026]\n",
            " [-2.74534286 -0.31829898  0.03155937]\n",
            " [-2.72871654  0.32675451  0.09007924]\n",
            " [-2.28085963  0.74133045  0.16867766]\n",
            " [-2.82053775 -0.08946138  0.25789216]\n",
            " [-2.62614497  0.16338496 -0.02187932]\n",
            " [-2.88638273 -0.57831175  0.02075957]\n",
            " [-2.6727558  -0.11377425 -0.19763272]\n",
            " [-2.50694709  0.6450689  -0.07531801]\n",
            " [-2.61275523  0.01472994  0.10215026]\n",
            " [-2.78610927 -0.235112   -0.20684443]\n",
            " [-3.22380374 -0.51139459  0.06129967]\n",
            " [-2.64475039  1.17876464 -0.15162752]\n",
            " [-2.38603903  1.33806233  0.2777769 ]\n",
            " [-2.62352788  0.81067951  0.13818323]\n",
            " [-2.64829671  0.31184914  0.02666832]\n",
            " [-2.19982032  0.87283904 -0.12030552]\n",
            " [-2.5879864   0.51356031  0.21366517]\n",
            " [-2.31025622  0.39134594 -0.23944404]\n",
            " [-2.54370523  0.43299606  0.20845723]\n",
            " [-3.21593942  0.13346807  0.29239675]\n",
            " [-2.30273318  0.09870885  0.03912326]\n",
            " [-2.35575405 -0.03728186  0.12502108]\n",
            " [-2.50666891 -0.14601688 -0.25342004]\n",
            " [-2.46882007  0.13095149  0.09491058]\n",
            " [-2.56231991  0.36771886 -0.07849421]\n",
            " [-2.63953472  0.31203998 -0.1459089 ]\n",
            " [-2.63198939 -0.19696122  0.04077108]\n",
            " [-2.58739848 -0.20431849 -0.07722299]\n",
            " [-2.4099325   0.41092426 -0.14552497]\n",
            " [-2.64886233  0.81336382  0.22566915]\n",
            " [-2.59873675  1.09314576  0.15781081]\n",
            " [-2.63692688 -0.12132235 -0.14304958]\n",
            " [-2.86624165  0.06936447 -0.16433231]\n",
            " [-2.62523805  0.59937002 -0.26835038]\n",
            " [-2.80068412  0.26864374  0.09369908]\n",
            " [-2.98050204 -0.48795834  0.07292705]\n",
            " [-2.59000631  0.22904384 -0.0800823 ]\n",
            " [-2.77010243  0.26352753  0.07724769]\n",
            " [-2.84936871 -0.94096057 -0.34923038]\n",
            " [-2.99740655 -0.34192606  0.19250921]\n",
            " [-2.40561449  0.18887143  0.26386795]\n",
            " [-2.20948924  0.43666314  0.29874275]\n",
            " [-2.71445143 -0.2502082  -0.09767814]\n",
            " [-2.53814826  0.50377114  0.16670564]\n",
            " [-2.83946217 -0.22794557  0.08372685]\n",
            " [-2.54308575  0.57941002 -0.01711502]\n",
            " [-2.70335978  0.10770608 -0.08929401]\n",
            " [ 1.28482569  0.68516047 -0.40656803]\n",
            " [ 0.93248853  0.31833364 -0.01801419]\n",
            " [ 1.46430232  0.50426282 -0.33832576]\n",
            " [ 0.18331772 -0.82795901 -0.17959139]\n",
            " [ 1.08810326  0.07459068 -0.3077579 ]\n",
            " [ 0.64166908 -0.41824687  0.04107609]\n",
            " [ 1.09506066  0.28346827  0.16981024]\n",
            " [-0.74912267 -1.00489096  0.01230292]\n",
            " [ 1.04413183  0.2283619  -0.41533608]\n",
            " [-0.0087454  -0.72308191  0.28114143]\n",
            " [-0.50784088 -1.26597119 -0.26981718]\n",
            " [ 0.51169856 -0.10398124  0.13054775]\n",
            " [ 0.26497651 -0.55003646 -0.69414683]\n",
            " [ 0.98493451 -0.12481785 -0.06211441]\n",
            " [-0.17392537 -0.25485421  0.09045769]\n",
            " [ 0.92786078  0.46717949 -0.31462098]\n",
            " [ 0.66028376 -0.35296967  0.32802753]\n",
            " [ 0.23610499 -0.33361077 -0.27116184]\n",
            " [ 0.94473373 -0.54314555 -0.49951905]\n",
            " [ 0.04522698 -0.58383438 -0.2350021 ]\n",
            " [ 1.11628318 -0.08461685  0.45962099]\n",
            " [ 0.35788842 -0.06892503 -0.22985389]\n",
            " [ 1.29818388 -0.32778731 -0.34785435]\n",
            " [ 0.92172892 -0.18273779 -0.23107178]\n",
            " [ 0.71485333  0.14905594 -0.32180094]\n",
            " [ 0.90017437  0.32850447 -0.31620907]\n",
            " [ 1.33202444  0.24444088 -0.52170278]\n",
            " [ 1.55780216  0.26749545 -0.16492098]\n",
            " [ 0.81329065 -0.1633503   0.0354245 ]\n",
            " [-0.30558378 -0.36826219 -0.31849158]\n",
            " [-0.06812649 -0.70517213 -0.24421381]\n",
            " [-0.18962247 -0.68028676 -0.30642056]\n",
            " [ 0.13642871 -0.31403244 -0.17724277]\n",
            " [ 1.38002644 -0.42095429  0.01616713]\n",
            " [ 0.58800644 -0.48428742  0.4444335 ]\n",
            " [ 0.80685831  0.19418231  0.38896306]\n",
            " [ 1.22069088  0.40761959 -0.23716701]\n",
            " [ 0.81509524 -0.37203706 -0.61472084]\n",
            " [ 0.24595768 -0.2685244   0.18836681]\n",
            " [ 0.16641322 -0.68192672 -0.06000923]\n",
            " [ 0.46480029 -0.67071154 -0.02430686]\n",
            " [ 0.8908152  -0.03446444 -0.00994693]\n",
            " [ 0.23054802 -0.40438585 -0.22941024]\n",
            " [-0.70453176 -1.01224823 -0.10569115]\n",
            " [ 0.35698149 -0.50491009  0.01661717]\n",
            " [ 0.33193448 -0.21265468  0.08320429]\n",
            " [ 0.37621565 -0.29321893  0.07799635]\n",
            " [ 0.64257601  0.01773819 -0.20539497]\n",
            " [-0.90646986 -0.75609337 -0.01259965]\n",
            " [ 0.29900084 -0.34889781  0.01058166]\n",
            " [ 2.53119273 -0.00984911  0.76016543]\n",
            " [ 1.41523588 -0.57491635  0.29632253]\n",
            " [ 2.61667602  0.34390315 -0.11078788]\n",
            " [ 1.97153105 -0.1797279   0.10842466]\n",
            " [ 2.35000592 -0.04026095  0.28538956]\n",
            " [ 3.39703874  0.55083667 -0.34843756]\n",
            " [ 0.52123224 -1.19275873  0.5456593 ]\n",
            " [ 2.93258707  0.3555     -0.42023994]\n",
            " [ 2.32122882 -0.2438315  -0.34830439]\n",
            " [ 2.91675097  0.78279195  0.42333542]\n",
            " [ 1.66177415  0.24222841  0.24244019]\n",
            " [ 1.80340195 -0.21563762 -0.03764817]\n",
            " [ 2.1655918   0.21627559  0.03332664]\n",
            " [ 1.34616358 -0.77681835  0.28190288]\n",
            " [ 1.58592822 -0.53964071  0.62902933]\n",
            " [ 1.90445637  0.11925069  0.47963982]\n",
            " [ 1.94968906  0.04194326  0.04418617]\n",
            " [ 3.48705536  1.17573933  0.13389487]\n",
            " [ 3.79564542  0.25732297 -0.51376776]\n",
            " [ 1.30079171 -0.76114964 -0.34499504]\n",
            " [ 2.42781791  0.37819601  0.21911932]\n",
            " [ 1.19900111 -0.60609153  0.51185551]\n",
            " [ 3.49992004  0.4606741  -0.57318224]\n",
            " [ 1.38876613 -0.20439933 -0.06452276]\n",
            " [ 2.2754305   0.33499061  0.28615009]\n",
            " [ 2.61409047  0.56090136 -0.20553452]\n",
            " [ 1.25850816 -0.17970479  0.0458477 ]\n",
            " [ 1.29113206 -0.11666865  0.23125646]\n",
            " [ 2.12360872 -0.20972948  0.15418002]\n",
            " [ 2.38800302  0.4646398  -0.44953019]\n",
            " [ 2.84167278  0.37526917 -0.49889808]\n",
            " [ 3.23067366  1.37416509 -0.11454821]\n",
            " [ 2.15943764 -0.21727758  0.20876317]\n",
            " [ 1.44416124 -0.14341341 -0.15323389]\n",
            " [ 1.78129481 -0.49990168 -0.17287519]\n",
            " [ 3.07649993  0.68808568 -0.33559229]\n",
            " [ 2.14424331  0.1400642   0.73487894]\n",
            " [ 1.90509815  0.04930053  0.16218024]\n",
            " [ 1.16932634 -0.16499026  0.28183584]\n",
            " [ 2.10761114  0.37228787  0.02729113]\n",
            " [ 2.31415471  0.18365128  0.32269375]\n",
            " [ 1.9222678   0.40920347  0.1135866 ]\n",
            " [ 1.41523588 -0.57491635  0.29632253]\n",
            " [ 2.56301338  0.2778626   0.29256952]\n",
            " [ 2.41874618  0.3047982   0.50448266]\n",
            " [ 1.94410979  0.1875323   0.17782509]\n",
            " [ 1.52716661 -0.37531698 -0.12189817]\n",
            " [ 1.76434572  0.07885885  0.13048163]\n",
            " [ 1.90094161  0.11662796  0.72325156]\n",
            " [ 1.39018886 -0.28266094  0.36290965]]\n"
          ],
          "name": "stdout"
        }
      ]
    },
    {
      "cell_type": "markdown",
      "metadata": {
        "id": "3JFbaOMNOI6-"
      },
      "source": [
        "## 按信息量占比来选超参数\r\n",
        "\r\n",
        "输入[0,1]之间的浮点数，并且让参数svd_solver =='full'，表示希望降维后的总解释性方差占比大于n_components 指定的百分比，即是说，希望保留百分之多少的信息量。比如说，如果我们希望保留97%的信息量，就可以输入 n_components = 0.97，PCA会自动选出能够让保留的信息量超过97%的特征数量。\r\n"
      ]
    },
    {
      "cell_type": "code",
      "metadata": {
        "colab": {
          "base_uri": "https://localhost:8080/"
        },
        "id": "SjguGxr-OBRj",
        "outputId": "bcd1cbb2-0d1a-4e0a-bbb4-9ff0d129744d"
      },
      "source": [
        "pca_f = PCA(n_components=0.97,svd_solver=\"full\")\r\n",
        "pca_f = pca_f.fit(X)\r\n",
        "X_f = pca_f.transform(X)\r\n",
        "pca_f.explained_variance_ratio_\r\n"
      ],
      "execution_count": 11,
      "outputs": [
        {
          "output_type": "execute_result",
          "data": {
            "text/plain": [
              "array([0.92461872, 0.05306648])"
            ]
          },
          "metadata": {
            "tags": []
          },
          "execution_count": 11
        }
      ]
    },
    {
      "cell_type": "code",
      "metadata": {
        "id": "qhIm-NNmOk0_"
      },
      "source": [
        ""
      ],
      "execution_count": null,
      "outputs": []
    }
  ]
}